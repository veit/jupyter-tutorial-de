{
 "cells": [
  {
   "cell_type": "markdown",
   "metadata": {},
   "source": [
    "# Widget-Liste"
   ]
  },
  {
   "cell_type": "code",
   "execution_count": 1,
   "metadata": {},
   "outputs": [],
   "source": [
    "import ipywidgets as widgets"
   ]
  },
  {
   "cell_type": "markdown",
   "metadata": {
    "slideshow": {
     "slide_type": "slide"
    }
   },
   "source": [
    "## Numerische Widgets"
   ]
  },
  {
   "cell_type": "markdown",
   "metadata": {},
   "source": [
    "Es gibt eine Vielzahl von IPython-Widgets, die numerische Werte anzeigen sollen. Dabei haben die Ganzzahl-Widgets ein ähnliches Benennungsschema wie ihre Gegenstücke mit Gleitkommazahlen. Durch Ersetzen von `Float` durch `Int` im Widget-Namen könnt ihr das jeweilige Integer-Äquivalent finden."
   ]
  },
  {
   "cell_type": "markdown",
   "metadata": {},
   "source": [
    "### IntSlider"
   ]
  },
  {
   "cell_type": "code",
   "execution_count": 2,
   "metadata": {},
   "outputs": [
    {
     "data": {
      "application/vnd.jupyter.widget-view+json": {
       "model_id": "61f3dad6576a409a8f39d112c0a138b5",
       "version_major": 2,
       "version_minor": 0
      },
      "text/plain": [
       "IntSlider(value=7, continuous_update=False, description='Test:', max=10)"
      ]
     },
     "metadata": {},
     "output_type": "display_data"
    }
   ],
   "source": [
    "widgets.IntSlider(\n",
    "    value=7,\n",
    "    min=0,\n",
    "    max=10,\n",
    "    step=1,\n",
    "    description=\"Test:\",\n",
    "    disabled=False,\n",
    "    continuous_update=False,\n",
    "    orientation=\"horizontal\",\n",
    "    readout=True,\n",
    "    readout_format=\"d\",\n",
    ")"
   ]
  },
  {
   "cell_type": "markdown",
   "metadata": {
    "slideshow": {
     "slide_type": "slide"
    }
   },
   "source": [
    "### FloatSlider"
   ]
  },
  {
   "cell_type": "code",
   "execution_count": 3,
   "metadata": {},
   "outputs": [
    {
     "data": {
      "application/vnd.jupyter.widget-view+json": {
       "model_id": "41bffbcae1df42449e4d727a92c06c47",
       "version_major": 2,
       "version_minor": 0
      },
      "text/plain": [
       "FloatSlider(value=7.5, continuous_update=False, description='Test:', max=10.0, readout_format='.1f')"
      ]
     },
     "metadata": {},
     "output_type": "display_data"
    }
   ],
   "source": [
    "widgets.FloatSlider(\n",
    "    value=7.5,\n",
    "    min=0,\n",
    "    max=10.0,\n",
    "    step=0.1,\n",
    "    description=\"Test:\",\n",
    "    disabled=False,\n",
    "    continuous_update=False,\n",
    "    orientation=\"horizontal\",\n",
    "    readout=True,\n",
    "    readout_format=\".1f\",\n",
    ")"
   ]
  },
  {
   "cell_type": "markdown",
   "metadata": {},
   "source": [
    "Sliders can also be **displayed vertically**."
   ]
  },
  {
   "cell_type": "code",
   "execution_count": 4,
   "metadata": {},
   "outputs": [
    {
     "data": {
      "application/vnd.jupyter.widget-view+json": {
       "model_id": "519aa10ce5994a8687d333630136728b",
       "version_major": 2,
       "version_minor": 0
      },
      "text/plain": [
       "FloatSlider(value=7.5, continuous_update=False, description='Test:', max=10.0, orientation='vertical', readout…"
      ]
     },
     "metadata": {},
     "output_type": "display_data"
    }
   ],
   "source": [
    "widgets.FloatSlider(\n",
    "    value=7.5,\n",
    "    min=0,\n",
    "    max=10.0,\n",
    "    step=0.1,\n",
    "    description=\"Test:\",\n",
    "    disabled=False,\n",
    "    continuous_update=False,\n",
    "    orientation=\"vertical\",\n",
    "    readout=True,\n",
    "    readout_format=\".1f\",\n",
    ")"
   ]
  },
  {
   "cell_type": "markdown",
   "metadata": {},
   "source": [
    "### FloatLogSlider"
   ]
  },
  {
   "cell_type": "markdown",
   "metadata": {},
   "source": [
    "Der `FloatLogSlider` verfügt über eine Skala, die es einfach macht, einen Schieberegler für einen großen Bereich positiver Zahlen zu verwenden. `min` und `max` beziehen sich auf die minimalen und maximalen Exponenten der Basis und der `value` bezieht sich auf den tatsächlichen Wert des Schiebereglers."
   ]
  },
  {
   "cell_type": "code",
   "execution_count": 5,
   "metadata": {},
   "outputs": [
    {
     "data": {
      "application/vnd.jupyter.widget-view+json": {
       "model_id": "9315e4d5143648938a1445035da6568b",
       "version_major": 2,
       "version_minor": 0
      },
      "text/plain": [
       "FloatLogSlider(value=10.0, description='Log Slider', max=10.0, min=-10.0, step=0.2)"
      ]
     },
     "metadata": {},
     "output_type": "display_data"
    }
   ],
   "source": [
    "widgets.FloatLogSlider(\n",
    "    value=10,\n",
    "    base=10,\n",
    "    min=-10,  # max exponent of base\n",
    "    max=10,  # min exponent of base\n",
    "    step=0.2,  # exponent step\n",
    "    description=\"Log Slider\",\n",
    ")"
   ]
  },
  {
   "cell_type": "markdown",
   "metadata": {},
   "source": [
    "### IntRangeSlider"
   ]
  },
  {
   "cell_type": "code",
   "execution_count": 6,
   "metadata": {},
   "outputs": [
    {
     "data": {
      "application/vnd.jupyter.widget-view+json": {
       "model_id": "f3d81fb4e178492bad97378f945a8472",
       "version_major": 2,
       "version_minor": 0
      },
      "text/plain": [
       "IntRangeSlider(value=(5, 7), continuous_update=False, description='Test:', max=10)"
      ]
     },
     "metadata": {},
     "output_type": "display_data"
    }
   ],
   "source": [
    "widgets.IntRangeSlider(\n",
    "    value=[5, 7],\n",
    "    min=0,\n",
    "    max=10,\n",
    "    step=1,\n",
    "    description=\"Test:\",\n",
    "    disabled=False,\n",
    "    continuous_update=False,\n",
    "    orientation=\"horizontal\",\n",
    "    readout=True,\n",
    "    readout_format=\"d\",\n",
    ")"
   ]
  },
  {
   "cell_type": "markdown",
   "metadata": {},
   "source": [
    "### FloatRangeSlider"
   ]
  },
  {
   "cell_type": "code",
   "execution_count": 7,
   "metadata": {},
   "outputs": [
    {
     "data": {
      "application/vnd.jupyter.widget-view+json": {
       "model_id": "3d1a257c69e941e8871927b69c06e23f",
       "version_major": 2,
       "version_minor": 0
      },
      "text/plain": [
       "FloatRangeSlider(value=(5.0, 7.5), continuous_update=False, description='Test:', max=10.0, readout_format='.1f…"
      ]
     },
     "metadata": {},
     "output_type": "display_data"
    }
   ],
   "source": [
    "widgets.FloatRangeSlider(\n",
    "    value=[5, 7.5],\n",
    "    min=0,\n",
    "    max=10.0,\n",
    "    step=0.1,\n",
    "    description=\"Test:\",\n",
    "    disabled=False,\n",
    "    continuous_update=False,\n",
    "    orientation=\"horizontal\",\n",
    "    readout=True,\n",
    "    readout_format=\".1f\",\n",
    ")"
   ]
  },
  {
   "cell_type": "markdown",
   "metadata": {},
   "source": [
    "### IntProgress"
   ]
  },
  {
   "cell_type": "code",
   "execution_count": 8,
   "metadata": {},
   "outputs": [
    {
     "data": {
      "application/vnd.jupyter.widget-view+json": {
       "model_id": "fbd88ff8cdbe46e2821d43a669746e5b",
       "version_major": 2,
       "version_minor": 0
      },
      "text/plain": [
       "IntProgress(value=7, description='Loading:', max=10)"
      ]
     },
     "metadata": {},
     "output_type": "display_data"
    }
   ],
   "source": [
    "widgets.IntProgress(\n",
    "    value=7,\n",
    "    min=0,\n",
    "    max=10,\n",
    "    step=1,\n",
    "    description=\"Loading:\",\n",
    "    bar_style=\"\",  # 'success', 'info', 'warning', 'danger' or ''\n",
    "    orientation=\"horizontal\",\n",
    ")"
   ]
  },
  {
   "cell_type": "markdown",
   "metadata": {
    "slideshow": {
     "slide_type": "slide"
    }
   },
   "source": [
    "### FloatProgress"
   ]
  },
  {
   "cell_type": "code",
   "execution_count": 9,
   "metadata": {},
   "outputs": [
    {
     "data": {
      "application/vnd.jupyter.widget-view+json": {
       "model_id": "7f92274ad5434cfd94290e7e8e775a67",
       "version_major": 2,
       "version_minor": 0
      },
      "text/plain": [
       "FloatProgress(value=7.5, bar_style='info', description='Loading:', max=10.0)"
      ]
     },
     "metadata": {},
     "output_type": "display_data"
    }
   ],
   "source": [
    "widgets.FloatProgress(\n",
    "    value=7.5,\n",
    "    min=0,\n",
    "    max=10.0,\n",
    "    step=0.1,\n",
    "    description=\"Loading:\",\n",
    "    bar_style=\"info\",\n",
    "    orientation=\"horizontal\",\n",
    ")"
   ]
  },
  {
   "cell_type": "markdown",
   "metadata": {},
   "source": [
    "The numerical text boxes that impose some limit on the data (range, integer-only) impose that restriction when the user presses enter.\n",
    "\n",
    "### BoundedIntText"
   ]
  },
  {
   "cell_type": "code",
   "execution_count": 10,
   "metadata": {},
   "outputs": [
    {
     "data": {
      "application/vnd.jupyter.widget-view+json": {
       "model_id": "9b411e1d46254c76a79b617b0cf0d09c",
       "version_major": 2,
       "version_minor": 0
      },
      "text/plain": [
       "BoundedIntText(value=7, description='Text:', max=10)"
      ]
     },
     "metadata": {},
     "output_type": "display_data"
    }
   ],
   "source": [
    "widgets.BoundedIntText(\n",
    "    value=7,\n",
    "    min=0,\n",
    "    max=10,\n",
    "    step=1,\n",
    "    description=\"Text:\",\n",
    "    disabled=False\n",
    ")"
   ]
  },
  {
   "cell_type": "markdown",
   "metadata": {
    "slideshow": {
     "slide_type": "slide"
    }
   },
   "source": [
    "### BoundedFloatText"
   ]
  },
  {
   "cell_type": "code",
   "execution_count": 11,
   "metadata": {},
   "outputs": [
    {
     "data": {
      "application/vnd.jupyter.widget-view+json": {
       "model_id": "e4404715eaca4cd680c58c8d9c697bd7",
       "version_major": 2,
       "version_minor": 0
      },
      "text/plain": [
       "BoundedFloatText(value=7.5, description='Text:', max=10.0, step=0.1)"
      ]
     },
     "metadata": {},
     "output_type": "display_data"
    }
   ],
   "source": [
    "widgets.BoundedFloatText(\n",
    "    value=7.5,\n",
    "    min=0,\n",
    "    max=10.0,\n",
    "    step=0.1,\n",
    "    description=\"Text:\",\n",
    "    disabled=False\n",
    ")"
   ]
  },
  {
   "cell_type": "markdown",
   "metadata": {},
   "source": [
    "### IntText"
   ]
  },
  {
   "cell_type": "code",
   "execution_count": 12,
   "metadata": {},
   "outputs": [
    {
     "data": {
      "application/vnd.jupyter.widget-view+json": {
       "model_id": "88335698f78f40fdaf69f7f72c78499a",
       "version_major": 2,
       "version_minor": 0
      },
      "text/plain": [
       "IntText(value=7, description='Any:')"
      ]
     },
     "metadata": {},
     "output_type": "display_data"
    }
   ],
   "source": [
    "widgets.IntText(\n",
    "    value=7,\n",
    "    description=\"Any:\",\n",
    "    disabled=False\n",
    ")"
   ]
  },
  {
   "cell_type": "markdown",
   "metadata": {
    "slideshow": {
     "slide_type": "slide"
    }
   },
   "source": [
    "### FloatText"
   ]
  },
  {
   "cell_type": "code",
   "execution_count": 13,
   "metadata": {},
   "outputs": [
    {
     "data": {
      "application/vnd.jupyter.widget-view+json": {
       "model_id": "2259620774dd44cc84aed69e3bc60fef",
       "version_major": 2,
       "version_minor": 0
      },
      "text/plain": [
       "FloatText(value=7.5, description='Any:')"
      ]
     },
     "metadata": {},
     "output_type": "display_data"
    }
   ],
   "source": [
    "widgets.FloatText(\n",
    "    value=7.5,\n",
    "    description=\"Any:\",\n",
    "    disabled=False\n",
    ")"
   ]
  },
  {
   "cell_type": "markdown",
   "metadata": {
    "slideshow": {
     "slide_type": "slide"
    }
   },
   "source": [
    "## Boolesche Widgets"
   ]
  },
  {
   "cell_type": "markdown",
   "metadata": {},
   "source": [
    "Es gibt drei Widgets, die boolesche Wert anzeigen sollen."
   ]
  },
  {
   "cell_type": "markdown",
   "metadata": {},
   "source": [
    "### ToggleButton"
   ]
  },
  {
   "cell_type": "code",
   "execution_count": 14,
   "metadata": {},
   "outputs": [
    {
     "data": {
      "application/vnd.jupyter.widget-view+json": {
       "model_id": "21c69c9f5d424fe5a476272cba22e8df",
       "version_major": 2,
       "version_minor": 0
      },
      "text/plain": [
       "ToggleButton(value=False, description='Click me', icon='check', tooltip='Description')"
      ]
     },
     "metadata": {},
     "output_type": "display_data"
    }
   ],
   "source": [
    "widgets.ToggleButton(\n",
    "    value=False,\n",
    "    description=\"Click me\",\n",
    "    disabled=False,\n",
    "    button_style=\"\",  # \"success\", \"info\", \"warning\", \"danger\" or \"\"\n",
    "    tooltip=\"Description\",\n",
    "    icon=\"check\",\n",
    ")"
   ]
  },
  {
   "cell_type": "markdown",
   "metadata": {
    "slideshow": {
     "slide_type": "slide"
    }
   },
   "source": [
    "### Checkbox"
   ]
  },
  {
   "cell_type": "code",
   "execution_count": 15,
   "metadata": {},
   "outputs": [
    {
     "data": {
      "application/vnd.jupyter.widget-view+json": {
       "model_id": "bc767806bc3f4d9a88d5a1c5d1d813d6",
       "version_major": 2,
       "version_minor": 0
      },
      "text/plain": [
       "Checkbox(value=False, description='Check me')"
      ]
     },
     "metadata": {},
     "output_type": "display_data"
    }
   ],
   "source": [
    "widgets.Checkbox(\n",
    "    value=False,\n",
    "    description=\"Check me\",\n",
    "    disabled=False\n",
    ")"
   ]
  },
  {
   "cell_type": "markdown",
   "metadata": {},
   "source": [
    "### Valid\n",
    "\n",
    "Das `Valid`-Widget bietet eine read-only-Anzeige."
   ]
  },
  {
   "cell_type": "code",
   "execution_count": 16,
   "metadata": {},
   "outputs": [
    {
     "data": {
      "application/vnd.jupyter.widget-view+json": {
       "model_id": "89de20ed8d10494b9b223e2148bb5a9d",
       "version_major": 2,
       "version_minor": 0
      },
      "text/plain": [
       "Valid(value=False, description='Valid!')"
      ]
     },
     "metadata": {},
     "output_type": "display_data"
    }
   ],
   "source": [
    "widgets.Valid(\n",
    "    value=False,\n",
    "    description=\"Valid!\",\n",
    ")"
   ]
  },
  {
   "cell_type": "markdown",
   "metadata": {
    "slideshow": {
     "slide_type": "slide"
    }
   },
   "source": [
    "## Auswahl-Widgets"
   ]
  },
  {
   "cell_type": "markdown",
   "metadata": {},
   "source": [
    "Es gibt mehrere Widgets zum Auswählen einzelner Werte und zwei für mehrere Werte. Alle erben von derselben Basisklasse."
   ]
  },
  {
   "cell_type": "markdown",
   "metadata": {
    "slideshow": {
     "slide_type": "slide"
    }
   },
   "source": [
    "### Dropdown"
   ]
  },
  {
   "cell_type": "code",
   "execution_count": 17,
   "metadata": {},
   "outputs": [
    {
     "data": {
      "application/vnd.jupyter.widget-view+json": {
       "model_id": "1e0989fd4a084a3ebaf54679cb9ce1a8",
       "version_major": 2,
       "version_minor": 0
      },
      "text/plain": [
       "Dropdown(description='Number:', index=1, options=('1', '2', '3'), value='2')"
      ]
     },
     "metadata": {},
     "output_type": "display_data"
    }
   ],
   "source": [
    "widgets.Dropdown(\n",
    "    options=[\"1\", \"2\", \"3\"],\n",
    "    value=\"2\",\n",
    "    description=\"Number:\",\n",
    "    disabled=False,\n",
    ")"
   ]
  },
  {
   "cell_type": "markdown",
   "metadata": {
    "slideshow": {
     "slide_type": "slide"
    }
   },
   "source": [
    "### RadioButtons"
   ]
  },
  {
   "cell_type": "code",
   "execution_count": 18,
   "metadata": {},
   "outputs": [
    {
     "data": {
      "application/vnd.jupyter.widget-view+json": {
       "model_id": "d0100f40516c4d6c8366260d645823db",
       "version_major": 2,
       "version_minor": 0
      },
      "text/plain": [
       "RadioButtons(description='Pizza topping:', index=1, options=('pepperoni', 'pineapple', 'anchovies'), value='pi…"
      ]
     },
     "metadata": {},
     "output_type": "display_data"
    }
   ],
   "source": [
    "widgets.RadioButtons(\n",
    "    options=[\"pepperoni\", \"pineapple\", \"anchovies\"],\n",
    "    value='pineapple',\n",
    "    description=\"Pizza topping:\",\n",
    "    disabled=False,\n",
    ")"
   ]
  },
  {
   "cell_type": "markdown",
   "metadata": {
    "slideshow": {
     "slide_type": "slide"
    }
   },
   "source": [
    "### Select"
   ]
  },
  {
   "cell_type": "code",
   "execution_count": 19,
   "metadata": {},
   "outputs": [
    {
     "data": {
      "application/vnd.jupyter.widget-view+json": {
       "model_id": "d890c8807c47408f865eb092e260c1c2",
       "version_major": 2,
       "version_minor": 0
      },
      "text/plain": [
       "Select(description='OS:', index=2, options=('Linux', 'Windows', 'OSX'), rows=3, value='OSX')"
      ]
     },
     "metadata": {},
     "output_type": "display_data"
    }
   ],
   "source": [
    "widgets.Select(\n",
    "    options=[\"Linux\", \"Windows\", \"OSX\"],\n",
    "    value=\"OSX\",\n",
    "    rows=3,\n",
    "    description=\"OS:\",\n",
    "    disabled=False,\n",
    ")"
   ]
  },
  {
   "cell_type": "markdown",
   "metadata": {},
   "source": [
    "### SelectionSlider"
   ]
  },
  {
   "cell_type": "code",
   "execution_count": 20,
   "metadata": {},
   "outputs": [
    {
     "data": {
      "application/vnd.jupyter.widget-view+json": {
       "model_id": "9913807b0e624d71b0200aaa5624e83a",
       "version_major": 2,
       "version_minor": 0
      },
      "text/plain": [
       "SelectionSlider(continuous_update=False, description='I like my eggs …', index=1, options=('scrambled', 'sunny…"
      ]
     },
     "metadata": {},
     "output_type": "display_data"
    }
   ],
   "source": [
    "widgets.SelectionSlider(\n",
    "    options=[\"scrambled\", \"sunny side up\", \"poached\", \"over easy\"],\n",
    "    value=\"sunny side up\",\n",
    "    description=\"I like my eggs …\",\n",
    "    disabled=False,\n",
    "    continuous_update=False,\n",
    "    orientation=\"horizontal\",\n",
    "    readout=True,\n",
    ")"
   ]
  },
  {
   "cell_type": "markdown",
   "metadata": {},
   "source": [
    "### SelectionRangeSlider\n",
    "\n",
    "`index` ist ein Tupel der Mindest- und Höchstwerte."
   ]
  },
  {
   "cell_type": "code",
   "execution_count": 21,
   "metadata": {},
   "outputs": [
    {
     "data": {
      "application/vnd.jupyter.widget-view+json": {
       "model_id": "b3c5d9dc446e4fea864d26631b89f152",
       "version_major": 2,
       "version_minor": 0
      },
      "text/plain": [
       "SelectionRangeSlider(description='Months (2015)', index=(0, 11), options=(('Jan', datetime.date(2015, 1, 1)), …"
      ]
     },
     "metadata": {},
     "output_type": "display_data"
    }
   ],
   "source": [
    "import datetime\n",
    "\n",
    "\n",
    "dates = [datetime.date(2015, i, 1) for i in range(1, 13)]\n",
    "options = [(i.strftime(\"%b\"), i) for i in dates]\n",
    "widgets.SelectionRangeSlider(\n",
    "    options=options, index=(0, 11),\n",
    "    description=\"Months (2015)\",\n",
    "    disabled=False\n",
    ")"
   ]
  },
  {
   "cell_type": "markdown",
   "metadata": {
    "slideshow": {
     "slide_type": "slide"
    }
   },
   "source": [
    "### ToggleButtons"
   ]
  },
  {
   "cell_type": "code",
   "execution_count": 22,
   "metadata": {},
   "outputs": [
    {
     "data": {
      "application/vnd.jupyter.widget-view+json": {
       "model_id": "ec206651e80548bc93697994f0b548af",
       "version_major": 2,
       "version_minor": 0
      },
      "text/plain": [
       "ToggleButtons(description='Speed:', options=('Slow', 'Regular', 'Fast'), tooltips=('Description of slow', 'Des…"
      ]
     },
     "metadata": {},
     "output_type": "display_data"
    }
   ],
   "source": [
    "widgets.ToggleButtons(\n",
    "    options=[\"Slow\", \"Regular\", \"Fast\"],\n",
    "    description=\"Speed:\",\n",
    "    disabled=False,\n",
    "    button_style=\"\",  # \"success\", \"info\", \"warning\", \"danger\" or \"\"\n",
    "    tooltips=[\n",
    "        \"Description of slow\",\n",
    "        \"Description of regular\",\n",
    "        \"Description of fast\",\n",
    "    ],\n",
    "    # icons=['check'] * 2\n",
    ")"
   ]
  },
  {
   "cell_type": "markdown",
   "metadata": {},
   "source": [
    "### SelectMultiple\n",
    "Mehrere Werte können ausgewählt werden bei den gedrückten Tasten <kbd>shift</kbd> und/oder <kbd>ctrl</kbd> (oder <kbd>command</kbd>) und Mausklicks oder Pfeiltasten."
   ]
  },
  {
   "cell_type": "code",
   "execution_count": 23,
   "metadata": {},
   "outputs": [
    {
     "data": {
      "application/vnd.jupyter.widget-view+json": {
       "model_id": "8d21c4ca295340f5b2da3d67758fb17a",
       "version_major": 2,
       "version_minor": 0
      },
      "text/plain": [
       "SelectMultiple(description='Fruits', index=(1,), options=('Apples', 'Oranges', 'Pears'), rows=3, value=('Orang…"
      ]
     },
     "metadata": {},
     "output_type": "display_data"
    }
   ],
   "source": [
    "widgets.SelectMultiple(\n",
    "    options=[\"Apples\", \"Oranges\", \"Pears\"],\n",
    "    value=[\"Oranges\"],\n",
    "    rows=3,\n",
    "    description=\"Fruits\",\n",
    "    disabled=False,\n",
    ")"
   ]
  },
  {
   "cell_type": "markdown",
   "metadata": {
    "slideshow": {
     "slide_type": "slide"
    }
   },
   "source": [
    "## String-Widgets"
   ]
  },
  {
   "cell_type": "markdown",
   "metadata": {},
   "source": [
    "Es gibt mehrere Widgets, die zum Anzeigen von Strings verwendet werden können. Die Widgets `Text` und `Textarea` akzeptieren Eingaben; die Widgets `HTML` und `HTMLMath` zeigen einen String als HTML an (`HTMLMath` rendert auch mathematische Formeln)."
   ]
  },
  {
   "cell_type": "markdown",
   "metadata": {
    "slideshow": {
     "slide_type": "slide"
    }
   },
   "source": [
    "### Text"
   ]
  },
  {
   "cell_type": "code",
   "execution_count": 24,
   "metadata": {},
   "outputs": [
    {
     "data": {
      "application/vnd.jupyter.widget-view+json": {
       "model_id": "b00851f6d6084664afd3945146ede5a1",
       "version_major": 2,
       "version_minor": 0
      },
      "text/plain": [
       "Text(value='Hello World', description='String:', placeholder='Type something')"
      ]
     },
     "metadata": {},
     "output_type": "display_data"
    }
   ],
   "source": [
    "widgets.Text(\n",
    "    value=\"Hello World\",\n",
    "    placeholder=\"Type something\",\n",
    "    description=\"String:\",\n",
    "    disabled=False,\n",
    ")"
   ]
  },
  {
   "cell_type": "markdown",
   "metadata": {},
   "source": [
    "### Textarea"
   ]
  },
  {
   "cell_type": "code",
   "execution_count": 25,
   "metadata": {},
   "outputs": [
    {
     "data": {
      "application/vnd.jupyter.widget-view+json": {
       "model_id": "3c3c9e86a505465bb48e3846ca70f397",
       "version_major": 2,
       "version_minor": 0
      },
      "text/plain": [
       "Textarea(value='Hello World', description='String:', placeholder='Type something')"
      ]
     },
     "metadata": {},
     "output_type": "display_data"
    }
   ],
   "source": [
    "widgets.Textarea(\n",
    "    value=\"Hello World\",\n",
    "    placeholder=\"Type something\",\n",
    "    description=\"String:\",\n",
    "    disabled=False,\n",
    ")"
   ]
  },
  {
   "cell_type": "markdown",
   "metadata": {
    "slideshow": {
     "slide_type": "slide"
    }
   },
   "source": [
    "### Label\n",
    "\n",
    "Das `Label`-Widget ist nützlich für benutzerdefinierte Beschreibungen, die einen ähnlichen Stil wie die integrierten Beschreibungen haben."
   ]
  },
  {
   "cell_type": "code",
   "execution_count": 26,
   "metadata": {},
   "outputs": [
    {
     "data": {
      "application/vnd.jupyter.widget-view+json": {
       "model_id": "3eab2361a17b483796de8f36d64faeee",
       "version_major": 2,
       "version_minor": 0
      },
      "text/plain": [
       "HBox(children=(Label(value='The $m$ in $E=mc^2$:'), FloatSlider(value=0.0)))"
      ]
     },
     "metadata": {},
     "output_type": "display_data"
    }
   ],
   "source": [
    "widgets.HBox(\n",
    "    [widgets.Label(value=\"The $m$ in $E=mc^2$:\"), widgets.FloatSlider()]\n",
    ")"
   ]
  },
  {
   "cell_type": "markdown",
   "metadata": {},
   "source": [
    "### HTML"
   ]
  },
  {
   "cell_type": "code",
   "execution_count": 27,
   "metadata": {},
   "outputs": [
    {
     "data": {
      "application/vnd.jupyter.widget-view+json": {
       "model_id": "509eeb657b77427c8c5a183eda898cc5",
       "version_major": 2,
       "version_minor": 0
      },
      "text/plain": [
       "HTML(value='Hello <b>World</b>', description='Some HTML', placeholder='Some HTML')"
      ]
     },
     "metadata": {},
     "output_type": "display_data"
    }
   ],
   "source": [
    "widgets.HTML(\n",
    "    value=\"Hello <b>World</b>\",\n",
    "    placeholder=\"Some HTML\",\n",
    "    description=\"Some HTML\",\n",
    ")"
   ]
  },
  {
   "cell_type": "markdown",
   "metadata": {},
   "source": [
    "### HTML Math"
   ]
  },
  {
   "cell_type": "code",
   "execution_count": 28,
   "metadata": {},
   "outputs": [
    {
     "data": {
      "application/vnd.jupyter.widget-view+json": {
       "model_id": "cb8da21ed6784ef7b5c33093380ea7fe",
       "version_major": 2,
       "version_minor": 0
      },
      "text/plain": [
       "HTMLMath(value='Some math and <i>HTML</i>: \\\\(x^2\\\\) and $$\\\\frac{x+1}{x-1}$$', description='Some HTML', place…"
      ]
     },
     "metadata": {},
     "output_type": "display_data"
    }
   ],
   "source": [
    "widgets.HTMLMath(\n",
    "    value=r\"Some math and <i>HTML</i>: \\(x^2\\) and $$\\frac{x+1}{x-1}$$\",\n",
    "    placeholder=\"Some HTML\",\n",
    "    description=\"Some HTML\",\n",
    ")"
   ]
  },
  {
   "cell_type": "markdown",
   "metadata": {},
   "source": [
    "## Image"
   ]
  },
  {
   "cell_type": "code",
   "execution_count": 29,
   "metadata": {
    "scrolled": true
   },
   "outputs": [
    {
     "data": {
      "application/vnd.jupyter.widget-view+json": {
       "model_id": "50d2aed73ade4f7ca359b061bcf6662d",
       "version_major": 2,
       "version_minor": 0
      },
      "text/plain": [
       "Image(value=b'GIF89a\\x1e\\x01\\x1e\\x01\\xc4\\x1f\\x00c\\x8d\\xff\\xea\\xea\\xea\\xc7\\xc7\\xc7\\x00\\x00\\x00\\xa0H\\x00\\xa6\\xa6…"
      ]
     },
     "metadata": {},
     "output_type": "display_data"
    }
   ],
   "source": [
    "file = open(\"smiley.gif\", \"rb\")\n",
    "image = file.read()\n",
    "widgets.Image(\n",
    "    value=image,\n",
    "    format=\"gif\",\n",
    "    width=128,\n",
    "    height=128,\n",
    ")"
   ]
  },
  {
   "cell_type": "markdown",
   "metadata": {
    "slideshow": {
     "slide_type": "slide"
    }
   },
   "source": [
    "## Button"
   ]
  },
  {
   "cell_type": "code",
   "execution_count": 30,
   "metadata": {},
   "outputs": [
    {
     "data": {
      "application/vnd.jupyter.widget-view+json": {
       "model_id": "27512cc5afcb42918e28a8ec83058541",
       "version_major": 2,
       "version_minor": 0
      },
      "text/plain": [
       "Button(description='Click me', icon='check', style=ButtonStyle(), tooltip='Click me')"
      ]
     },
     "metadata": {},
     "output_type": "display_data"
    }
   ],
   "source": [
    "widgets.Button(\n",
    "    description=\"Click me\",\n",
    "    disabled=False,\n",
    "    button_style=\"\",  # \"success\", \"info\", \"warning\", \"danger\" or \"\"\n",
    "    tooltip=\"Click me\",\n",
    "    icon=\"check\",\n",
    ")"
   ]
  },
  {
   "cell_type": "markdown",
   "metadata": {},
   "source": [
    "## Output\n",
    "\n",
    "Das `Output`-Widget kann `stdout`, `stderr` und [IPython.display](https://ipython.readthedocs.io/en/stable/api/generated/IPython.display.html#module-IPython.display) erfassen und anzeigen. \n",
    "\n",
    "Ihr könnt die Ausgabe sowohl an ein Output-Widget anhängen oder programmatisch löschen."
   ]
  },
  {
   "cell_type": "code",
   "execution_count": 31,
   "metadata": {},
   "outputs": [],
   "source": [
    "out = widgets.Output(layout={\"border\": \"1px solid black\"})"
   ]
  },
  {
   "cell_type": "code",
   "execution_count": 32,
   "metadata": {},
   "outputs": [],
   "source": [
    "with out:\n",
    "    for i in range(5):\n",
    "        print(i, \"Hello world!\")"
   ]
  },
  {
   "cell_type": "code",
   "execution_count": 33,
   "metadata": {},
   "outputs": [],
   "source": [
    "from IPython.display import YouTubeVideo\n",
    "\n",
    "\n",
    "with out:\n",
    "    display(YouTubeVideo(\"eWzY2nGfkXk\"))"
   ]
  },
  {
   "cell_type": "code",
   "execution_count": 34,
   "metadata": {},
   "outputs": [
    {
     "data": {
      "application/vnd.jupyter.widget-view+json": {
       "model_id": "0cbb8d005728427aa96368043c8f23c6",
       "version_major": 2,
       "version_minor": 0
      },
      "text/plain": [
       "Output(layout=Layout(border='1px solid black'))"
      ]
     },
     "metadata": {},
     "output_type": "display_data"
    }
   ],
   "source": [
    "out"
   ]
  },
  {
   "cell_type": "code",
   "execution_count": 35,
   "metadata": {},
   "outputs": [],
   "source": [
    "out.clear_output()"
   ]
  },
  {
   "cell_type": "markdown",
   "metadata": {},
   "source": [
    "Wir können Ausgaben auch direkt anhängen mit den Methoden `append_stdout`, `append_stderr` oder `append_display_data`."
   ]
  },
  {
   "cell_type": "code",
   "execution_count": 36,
   "metadata": {},
   "outputs": [
    {
     "data": {
      "application/vnd.jupyter.widget-view+json": {
       "model_id": "49e28534b1564741ae53a43c94d1759a",
       "version_major": 2,
       "version_minor": 0
      },
      "text/plain": [
       "Output(layout=Layout(border='1px solid black'), outputs=({'output_type': 'stream', 'name': 'stdout', 'text': '…"
      ]
     },
     "metadata": {},
     "output_type": "display_data"
    }
   ],
   "source": [
    "out = widgets.Output(layout={\"border\": \"1px solid black\"})\n",
    "out.append_stdout(\"Output appended with append_stdout\")\n",
    "out.append_display_data(YouTubeVideo(\"eWzY2nGfkXk\"))\n",
    "out"
   ]
  },
  {
   "cell_type": "markdown",
   "metadata": {},
   "source": [
    "Eine ausführliche Dokumentation findet ihr in [Output widgets](https://ipywidgets.readthedocs.io/en/stable/examples/Output%20Widget.html)."
   ]
  },
  {
   "cell_type": "markdown",
   "metadata": {},
   "source": [
    "## Play/Animation-Widget"
   ]
  },
  {
   "cell_type": "markdown",
   "metadata": {},
   "source": [
    "Das `Play`-Widget ist nützlich, um Animationen auszuführen, die in einer bestimmten Geschwindigkeit durchlaufen werden sollen. Im folgenden Beispiel ist ein Slider mit dem Player verknüpft."
   ]
  },
  {
   "cell_type": "code",
   "execution_count": 37,
   "metadata": {},
   "outputs": [
    {
     "data": {
      "application/vnd.jupyter.widget-view+json": {
       "model_id": "ab537e747bba491a94939c5b86029b5d",
       "version_major": 2,
       "version_minor": 0
      },
      "text/plain": [
       "HBox(children=(Play(value=50, description='Press play', interval=10), IntSlider(value=0)))"
      ]
     },
     "metadata": {},
     "output_type": "display_data"
    }
   ],
   "source": [
    "play = widgets.Play(\n",
    "    interval=10,\n",
    "    value=50,\n",
    "    min=0,\n",
    "    max=100,\n",
    "    step=1,\n",
    "    description=\"Press play\",\n",
    "    disabled=False,\n",
    ")\n",
    "slider = widgets.IntSlider()\n",
    "widgets.jslink((play, \"value\"), (slider, \"value\"))\n",
    "widgets.HBox([play, slider])"
   ]
  },
  {
   "cell_type": "markdown",
   "metadata": {},
   "source": [
    "## DatePicker\n",
    "\n",
    "Das Datumsauswahl-Widget funktioniert in Chrome, Firefox und IE Edge, derzeit jedoch nicht in Safari, da dieser `input type=\"date\"` nicht unterstützt."
   ]
  },
  {
   "cell_type": "code",
   "execution_count": 38,
   "metadata": {},
   "outputs": [
    {
     "data": {
      "application/vnd.jupyter.widget-view+json": {
       "model_id": "69290bb5ddae4522b4cc01308f863716",
       "version_major": 2,
       "version_minor": 0
      },
      "text/plain": [
       "DatePicker(value=None, description='Pick a Date')"
      ]
     },
     "metadata": {},
     "output_type": "display_data"
    }
   ],
   "source": [
    "widgets.DatePicker(\n",
    "    description=\"Pick a Date\",\n",
    "    disabled=False\n",
    ")"
   ]
  },
  {
   "cell_type": "markdown",
   "metadata": {},
   "source": [
    "## Color picker"
   ]
  },
  {
   "cell_type": "code",
   "execution_count": 39,
   "metadata": {},
   "outputs": [
    {
     "data": {
      "application/vnd.jupyter.widget-view+json": {
       "model_id": "787945c1a3004285b736eae0d86aef56",
       "version_major": 2,
       "version_minor": 0
      },
      "text/plain": [
       "ColorPicker(value='blue', description='Pick a color')"
      ]
     },
     "metadata": {},
     "output_type": "display_data"
    }
   ],
   "source": [
    "widgets.ColorPicker(\n",
    "    concise=False,\n",
    "    description=\"Pick a color\",\n",
    "    value=\"blue\",\n",
    "    disabled=False\n",
    ")"
   ]
  },
  {
   "cell_type": "markdown",
   "metadata": {},
   "source": [
    "## Controller\n",
    "\n",
    "`Controller` ermöglicht die Verwendung eines Game-Controller als Eingabegerät."
   ]
  },
  {
   "cell_type": "code",
   "execution_count": 40,
   "metadata": {},
   "outputs": [
    {
     "data": {
      "application/vnd.jupyter.widget-view+json": {
       "model_id": "7184245c5b6a4297804b0825d6d8c458",
       "version_major": 2,
       "version_minor": 0
      },
      "text/plain": [
       "Controller()"
      ]
     },
     "metadata": {},
     "output_type": "display_data"
    }
   ],
   "source": [
    "widgets.Controller(\n",
    "    index=0,\n",
    ")"
   ]
  },
  {
   "cell_type": "markdown",
   "metadata": {},
   "source": [
    "## Container/Layout-Widgets\n",
    "\n",
    "Diese Widgets werden zum Speichern anderer Widgets verwendet, die als `children` bezeichnet werden."
   ]
  },
  {
   "cell_type": "markdown",
   "metadata": {},
   "source": [
    "### Box"
   ]
  },
  {
   "cell_type": "code",
   "execution_count": 41,
   "metadata": {},
   "outputs": [
    {
     "data": {
      "application/vnd.jupyter.widget-view+json": {
       "model_id": "dbc4bceee3524adba9542a72fd9c016b",
       "version_major": 2,
       "version_minor": 0
      },
      "text/plain": [
       "Box(children=(Label(value='0'), Label(value='1'), Label(value='2'), Label(value='3')))"
      ]
     },
     "metadata": {},
     "output_type": "display_data"
    }
   ],
   "source": [
    "items = [widgets.Label(str(i)) for i in range(4)]\n",
    "widgets.Box(items)"
   ]
  },
  {
   "cell_type": "markdown",
   "metadata": {},
   "source": [
    "### HBox"
   ]
  },
  {
   "cell_type": "code",
   "execution_count": 42,
   "metadata": {},
   "outputs": [
    {
     "data": {
      "application/vnd.jupyter.widget-view+json": {
       "model_id": "224e66aeb6754bc1a02663f5d20d0490",
       "version_major": 2,
       "version_minor": 0
      },
      "text/plain": [
       "HBox(children=(Label(value='0'), Label(value='1'), Label(value='2'), Label(value='3')))"
      ]
     },
     "metadata": {},
     "output_type": "display_data"
    }
   ],
   "source": [
    "items = [widgets.Label(str(i)) for i in range(4)]\n",
    "widgets.HBox(items)"
   ]
  },
  {
   "cell_type": "markdown",
   "metadata": {},
   "source": [
    "### VBox"
   ]
  },
  {
   "cell_type": "code",
   "execution_count": 43,
   "metadata": {},
   "outputs": [
    {
     "data": {
      "application/vnd.jupyter.widget-view+json": {
       "model_id": "2e3a3294d1514da9bc06ce14fef6ee87",
       "version_major": 2,
       "version_minor": 0
      },
      "text/plain": [
       "HBox(children=(VBox(children=(Label(value='0'), Label(value='1'))), VBox(children=(Label(value='2'), Label(val…"
      ]
     },
     "metadata": {},
     "output_type": "display_data"
    }
   ],
   "source": [
    "items = [widgets.Label(str(i)) for i in range(4)]\n",
    "left_box = widgets.VBox([items[0], items[1]])\n",
    "right_box = widgets.VBox([items[2], items[3]])\n",
    "widgets.HBox([left_box, right_box])"
   ]
  },
  {
   "cell_type": "markdown",
   "metadata": {},
   "source": [
    "### Accordion"
   ]
  },
  {
   "cell_type": "code",
   "execution_count": 44,
   "metadata": {},
   "outputs": [
    {
     "data": {
      "application/vnd.jupyter.widget-view+json": {
       "model_id": "4de2999b565842708f1f9ed1c5fb302d",
       "version_major": 2,
       "version_minor": 0
      },
      "text/plain": [
       "Accordion(children=(IntSlider(value=0), Text(value='')), _titles={'0': 'Slider', '1': 'Text'})"
      ]
     },
     "metadata": {},
     "output_type": "display_data"
    }
   ],
   "source": [
    "accordion = widgets.Accordion(children=[widgets.IntSlider(), widgets.Text()])\n",
    "accordion.set_title(0, \"Slider\")\n",
    "accordion.set_title(1, \"Text\")\n",
    "accordion"
   ]
  },
  {
   "cell_type": "markdown",
   "metadata": {},
   "source": [
    "### Tabs\n",
    "\n",
    "In this example the children are set after the tab is created. Titles for the tabes are set in the same way they are for `Accordion`."
   ]
  },
  {
   "cell_type": "code",
   "execution_count": 45,
   "metadata": {},
   "outputs": [
    {
     "data": {
      "application/vnd.jupyter.widget-view+json": {
       "model_id": "d7af359c655e4d0b82b28ae65002eb0f",
       "version_major": 2,
       "version_minor": 0
      },
      "text/plain": [
       "Tab(children=(Text(value='', description='P0'), Text(value='', description='P1'), Text(value='', description='…"
      ]
     },
     "metadata": {},
     "output_type": "display_data"
    }
   ],
   "source": [
    "tab_contents = [\"P0\", \"P1\", \"P2\", \"P3\", \"P4\"]\n",
    "children = [widgets.Text(description=name) for name in tab_contents]\n",
    "tab = widgets.Tab()\n",
    "tab.children = children\n",
    "for i in range(len(children)):\n",
    "    tab.set_title(i, str(i))\n",
    "tab"
   ]
  },
  {
   "cell_type": "markdown",
   "metadata": {},
   "source": [
    "### `Accordion` und `Tab`\n",
    "\n",
    "Im Gegensatz zu den anderen Widgets, die zuvor beschrieben wurden, aktualisieren die Container-Widgets `Accordion` und `Tab` ihr Attribut `selected_index`, wenn der Benutzer das Akkordeon oder den Tab ändert; neben der Nutzereingabe kann der `selected_index`  auch programmatisch festgelegt werden.\n",
    "\n",
    "Wenn `selected_index = None` gewählt wird, werden alle Akkordeons geschlossen oder die Auswahl aller Tabs aufgehoben."
   ]
  },
  {
   "cell_type": "markdown",
   "metadata": {},
   "source": [
    "In den folgenden *Notebook Cells* wird der Wert von `selected_index\" des Tab und/oder Akkordeon angezeigt."
   ]
  },
  {
   "cell_type": "code",
   "execution_count": 46,
   "metadata": {},
   "outputs": [],
   "source": [
    "tab.selected_index = 3"
   ]
  },
  {
   "cell_type": "code",
   "execution_count": 47,
   "metadata": {},
   "outputs": [],
   "source": [
    "accordion.selected_index = None"
   ]
  },
  {
   "cell_type": "markdown",
   "metadata": {},
   "source": [
    "### Verschachtelung von Tabs und Akkordeons\n",
    "\n",
    "Tabs und Akkordeons können so tief verschachtelt werden, wie ihr möchtet. Das folgende Beispiel zeigt einige Tabs mit einem Akkordeon als `children`."
   ]
  },
  {
   "cell_type": "code",
   "execution_count": 48,
   "metadata": {},
   "outputs": [
    {
     "data": {
      "application/vnd.jupyter.widget-view+json": {
       "model_id": "7dcadfa8b0a14aef916d08c3c041a080",
       "version_major": 2,
       "version_minor": 0
      },
      "text/plain": [
       "Tab(children=(Accordion(children=(IntSlider(value=0), Text(value='')), selected_index=None, _titles={'0': 'Sli…"
      ]
     },
     "metadata": {},
     "output_type": "display_data"
    }
   ],
   "source": [
    "tab_nest = widgets.Tab()\n",
    "tab_nest.children = [accordion, accordion]\n",
    "tab_nest.set_title(0, \"An accordion\")\n",
    "tab_nest.set_title(1, \"Copy of the accordion\")\n",
    "tab_nest"
   ]
  }
 ],
 "metadata": {
  "kernelspec": {
   "display_name": "Python 3.11 Kernel",
   "language": "python",
   "name": "python311"
  },
  "language_info": {
   "codemirror_mode": {
    "name": "ipython",
    "version": 3
   },
   "file_extension": ".py",
   "mimetype": "text/x-python",
   "name": "python",
   "nbconvert_exporter": "python",
   "pygments_lexer": "ipython3",
   "version": "3.11.4"
  },
  "latex_envs": {
   "LaTeX_envs_menu_present": true,
   "autoclose": false,
   "autocomplete": true,
   "bibliofile": "biblio.bib",
   "cite_by": "apalike",
   "current_citInitial": 1,
   "eqLabelWithNumbers": true,
   "eqNumInitial": 1,
   "hotkeys": {
    "equation": "Ctrl-E",
    "itemize": "Ctrl-I"
   },
   "labels_anchors": false,
   "latex_user_defs": false,
   "report_style_numbering": false,
   "user_envs_cfg": false
  },
  "varInspector": {
   "cols": {
    "lenName": 16,
    "lenType": 16,
    "lenVar": 40
   },
   "kernels_config": {
    "python": {
     "delete_cmd_postfix": "",
     "delete_cmd_prefix": "del ",
     "library": "var_list.py",
     "varRefreshCmd": "print(var_dic_list())"
    },
    "r": {
     "delete_cmd_postfix": ") ",
     "delete_cmd_prefix": "rm(",
     "library": "var_list.r",
     "varRefreshCmd": "cat(var_dic_list()) "
    }
   },
   "types_to_exclude": [
    "module",
    "function",
    "builtin_function_or_method",
    "instance",
    "_Feature"
   ],
   "window_display": false
  },
  "widgets": {
   "application/vnd.jupyter.widget-state+json": {
    "state": {
     "0077d0156df248d0bf2fe12676307d56": {
      "model_module": "@jupyter-widgets/controls",
      "model_module_version": "1.5.0",
      "model_name": "DescriptionStyleModel",
      "state": {
       "description_width": ""
      }
     },
     "00a2a225ab24407ab131429e07e461f1": {
      "model_module": "@jupyter-widgets/controls",
      "model_module_version": "1.5.0",
      "model_name": "LabelModel",
      "state": {
       "layout": "IPY_MODEL_c8bb322d5f7846b9bf52a31ee865a421",
       "style": "IPY_MODEL_97984c60db55452fa77e975ec190ced3",
       "value": "3"
      }
     },
     "00b407d924be4b3d8caf84605caf278d": {
      "model_module": "@jupyter-widgets/base",
      "model_module_version": "1.2.0",
      "model_name": "LayoutModel",
      "state": {}
     },
     "00c0e514228446bd88f40d2460932331": {
      "model_module": "@jupyter-widgets/controls",
      "model_module_version": "1.5.0",
      "model_name": "ButtonModel",
      "state": {
       "description": "Click me",
       "icon": "check",
       "layout": "IPY_MODEL_55904d19a1d149f6a6d41c973b8ed28b",
       "style": "IPY_MODEL_8165cef524794487a2490a73ac920e64",
       "tooltip": "Click me"
      }
     },
     "00cd6fa0f60b4c6eb1957f031139478f": {
      "model_module": "@jupyter-widgets/base",
      "model_module_version": "1.2.0",
      "model_name": "LayoutModel",
      "state": {}
     },
     "0100f4dfe568460d9e11455748eac768": {
      "model_module": "@jupyter-widgets/base",
      "model_module_version": "1.2.0",
      "model_name": "LayoutModel",
      "state": {}
     },
     "010cc28806d0474b8a0605e060747827": {
      "model_module": "@jupyter-widgets/controls",
      "model_module_version": "1.5.0",
      "model_name": "IntRangeSliderModel",
      "state": {
       "_model_name": "IntRangeSliderModel",
       "_view_name": "IntRangeSliderView",
       "continuous_update": false,
       "description": "Test:",
       "layout": "IPY_MODEL_dfefefe32f2c4c13a94b14768b79adaa",
       "max": 10,
       "style": "IPY_MODEL_b8d34acac38f4753b5f6a961bcace13b",
       "value": [
        5,
        7
       ]
      }
     },
     "01209ec3fcb64f39beb9a2fc63d37d7d": {
      "model_module": "@jupyter-widgets/controls",
      "model_module_version": "1.5.0",
      "model_name": "IntSliderModel",
      "state": {
       "layout": "IPY_MODEL_908903d126434ef0b0e772156f7d31cd",
       "style": "IPY_MODEL_57a064f5bf724e758e5b04e7e277e799",
       "value": 50
      }
     },
     "01214ec570fe45aaaa9d1217318ca329": {
      "model_module": "@jupyter-widgets/controls",
      "model_module_version": "1.5.0",
      "model_name": "SelectionSliderModel",
      "state": {
       "_options_labels": [
        "scrambled",
        "sunny side up",
        "poached",
        "over easy"
       ],
       "continuous_update": false,
       "description": "I like my eggs …",
       "index": 1,
       "layout": "IPY_MODEL_441881c537114413a9f881bb2cede54d",
       "style": "IPY_MODEL_2a45afb6230542e591f3b1f46982bdb6"
      }
     },
     "012e465a2e3e4103b1a196017261304a": {
      "model_module": "@jupyter-widgets/base",
      "model_module_version": "1.2.0",
      "model_name": "LayoutModel",
      "state": {}
     },
     "0149117c84e44ce9a6a19a91b4416bcc": {
      "model_module": "@jupyter-widgets/base",
      "model_module_version": "1.2.0",
      "model_name": "LayoutModel",
      "state": {}
     },
     "01532fcb144647858d62a02d83e9005c": {
      "model_module": "@jupyter-widgets/base",
      "model_module_version": "1.2.0",
      "model_name": "LayoutModel",
      "state": {}
     },
     "0164c1db3bc14e14a831fb5fa33502d4": {
      "model_module": "@jupyter-widgets/base",
      "model_module_version": "1.2.0",
      "model_name": "LayoutModel",
      "state": {}
     },
     "0180b717e38d4040aa7955e37d29c252": {
      "model_module": "@jupyter-widgets/controls",
      "model_module_version": "1.5.0",
      "model_name": "DescriptionStyleModel",
      "state": {
       "description_width": ""
      }
     },
     "01c8cacc909b4934bd56fd8ebb937ab2": {
      "model_module": "@jupyter-widgets/base",
      "model_module_version": "1.2.0",
      "model_name": "LayoutModel",
      "state": {
       "border": "1px solid black"
      }
     },
     "0275dd5c67884d92b2ad6ebfc1b839de": {
      "model_module": "@jupyter-widgets/controls",
      "model_module_version": "1.5.0",
      "model_name": "LinkModel",
      "state": {
       "source": [
        "IPY_MODEL_9072253300a14180b6d8ab6bbb1d3bc3",
        "value"
       ],
       "target": [
        "IPY_MODEL_e7bfc33b2ad2440b8dbe7da1cb73825b",
        "value"
       ]
      }
     },
     "02760b3333034c0eaf1f65de063f77a9": {
      "model_module": "@jupyter-widgets/controls",
      "model_module_version": "1.5.0",
      "model_name": "DescriptionStyleModel",
      "state": {
       "description_width": ""
      }
     },
     "02bf9c9559d84beaa4a98cbaff30919f": {
      "model_module": "@jupyter-widgets/base",
      "model_module_version": "1.2.0",
      "model_name": "LayoutModel",
      "state": {}
     },
     "02e2202b16f1416c92c61af3074b2fc3": {
      "model_module": "@jupyter-widgets/base",
      "model_module_version": "1.2.0",
      "model_name": "LayoutModel",
      "state": {}
     },
     "03335ff5a45642eda0b97beaf5e1747d": {
      "model_module": "@jupyter-widgets/controls",
      "model_module_version": "1.5.0",
      "model_name": "DescriptionStyleModel",
      "state": {
       "description_width": ""
      }
     },
     "03873a931cc14af0bb4044193bcc299f": {
      "model_module": "@jupyter-widgets/controls",
      "model_module_version": "1.5.0",
      "model_name": "DescriptionStyleModel",
      "state": {
       "description_width": ""
      }
     },
     "038d03f9eb32434fba0c45fdedea6f2f": {
      "model_module": "@jupyter-widgets/base",
      "model_module_version": "1.2.0",
      "model_name": "LayoutModel",
      "state": {}
     },
     "03faf4fd835f44f4a98e34651162e716": {
      "model_module": "@jupyter-widgets/controls",
      "model_module_version": "1.5.0",
      "model_name": "SliderStyleModel",
      "state": {
       "description_width": ""
      }
     },
     "04062bdf7b474ab99f738ffc22f7dd5e": {
      "model_module": "@jupyter-widgets/controls",
      "model_module_version": "1.5.0",
      "model_name": "FloatSliderModel",
      "state": {
       "continuous_update": false,
       "description": "Test:",
       "layout": "IPY_MODEL_5419d4e9133e43feb3023fc15fb4157c",
       "max": 10,
       "orientation": "vertical",
       "readout_format": ".1f",
       "step": 0.1,
       "style": "IPY_MODEL_fa0479dfa5294f8d94d927aa270c07b7",
       "value": 7.5
      }
     },
     "042198b8cb8544e9a5e4653e50bf1d82": {
      "model_module": "@jupyter-widgets/controls",
      "model_module_version": "1.5.0",
      "model_name": "SliderStyleModel",
      "state": {
       "description_width": ""
      }
     },
     "0480c24d9f144075aeb1b7edfb97ea7f": {
      "model_module": "@jupyter-widgets/controls",
      "model_module_version": "1.5.0",
      "model_name": "LabelModel",
      "state": {
       "layout": "IPY_MODEL_8ae890b255d44ac2a63366d73a6f6c3f",
       "style": "IPY_MODEL_79159686068242138e5f083df28f2987",
       "value": "2"
      }
     },
     "04b03f832fba462eac4cf92de00e2a22": {
      "model_module": "@jupyter-widgets/controls",
      "model_module_version": "1.5.0",
      "model_name": "SliderStyleModel",
      "state": {
       "description_width": ""
      }
     },
     "04cdb1ba17794522a346a152b2e4ba56": {
      "model_module": "@jupyter-widgets/base",
      "model_module_version": "1.2.0",
      "model_name": "LayoutModel",
      "state": {}
     },
     "054bb72301cf4b58b4877a9a0bddd7ae": {
      "model_module": "@jupyter-widgets/controls",
      "model_module_version": "1.5.0",
      "model_name": "TextModel",
      "state": {
       "description": "P3",
       "layout": "IPY_MODEL_02e2202b16f1416c92c61af3074b2fc3",
       "style": "IPY_MODEL_1056dfecf65c40b2bc43476166e3a335"
      }
     },
     "05ed2fb5197546cf8122ed792b5c9b93": {
      "model_module": "@jupyter-widgets/controls",
      "model_module_version": "1.5.0",
      "model_name": "ProgressStyleModel",
      "state": {
       "description_width": ""
      }
     },
     "060f3a5a72fc4ee384b678f2278bbf91": {
      "model_module": "@jupyter-widgets/controls",
      "model_module_version": "1.5.0",
      "model_name": "DescriptionStyleModel",
      "state": {
       "description_width": ""
      }
     },
     "062a0aa3764f4d8f991d27977265718a": {
      "model_module": "@jupyter-widgets/base",
      "model_module_version": "1.2.0",
      "model_name": "LayoutModel",
      "state": {}
     },
     "062ad4024b9a424e8e346693088f9e3d": {
      "model_module": "@jupyter-widgets/controls",
      "model_module_version": "1.5.0",
      "model_name": "LabelModel",
      "state": {
       "layout": "IPY_MODEL_bcd26d3851104fe2a573d54212198ac5",
       "style": "IPY_MODEL_ffa0084fd7b944fdac1d0f5ffedec14a",
       "value": "1"
      }
     },
     "063cae45a4ae43fb9a9c144ac96ab19d": {
      "model_module": "@jupyter-widgets/controls",
      "model_module_version": "1.5.0",
      "model_name": "FloatLogSliderModel",
      "state": {
       "description": "Log Slider",
       "layout": "IPY_MODEL_3bc76eb862e54b1e9012565075243346",
       "max": 10,
       "min": -10,
       "step": 0.2,
       "style": "IPY_MODEL_7e7410fae5224775857530b8617870df",
       "value": 10
      }
     },
     "06bbd57ab9744d9db23ca392470c2d58": {
      "model_module": "@jupyter-widgets/base",
      "model_module_version": "1.2.0",
      "model_name": "LayoutModel",
      "state": {}
     },
     "06bded6ac12c407b951b2c5f608213c4": {
      "model_module": "@jupyter-widgets/controls",
      "model_module_version": "1.5.0",
      "model_name": "SelectModel",
      "state": {
       "_options_labels": [
        "Linux",
        "Windows",
        "OSX"
       ],
       "description": "OS:",
       "index": 2,
       "layout": "IPY_MODEL_c4f0ff9d302c4a22ac913affd0cd458d",
       "rows": 10,
       "style": "IPY_MODEL_f40d592c4256429e8c5c1ba4f0df2541"
      }
     },
     "06ec53bea2a146208eea8054a4d847c3": {
      "model_module": "@jupyter-widgets/base",
      "model_module_version": "1.2.0",
      "model_name": "LayoutModel",
      "state": {}
     },
     "0723aa09e91d41659991dc25c91407cb": {
      "model_module": "@jupyter-widgets/base",
      "model_module_version": "1.2.0",
      "model_name": "LayoutModel",
      "state": {}
     },
     "074ac7706c574bf3921cd3c272091882": {
      "model_module": "@jupyter-widgets/base",
      "model_module_version": "1.2.0",
      "model_name": "LayoutModel",
      "state": {}
     },
     "0755f415a2d642ca8abadb8133e75db6": {
      "model_module": "@jupyter-widgets/base",
      "model_module_version": "1.2.0",
      "model_name": "LayoutModel",
      "state": {}
     },
     "07633fe12250448980f6d6e7e07c0d65": {
      "model_module": "@jupyter-widgets/controls",
      "model_module_version": "1.5.0",
      "model_name": "DescriptionStyleModel",
      "state": {
       "description_width": ""
      }
     },
     "079357e4b4324b3493a90102574bec9e": {
      "model_module": "@jupyter-widgets/base",
      "model_module_version": "1.2.0",
      "model_name": "LayoutModel",
      "state": {}
     },
     "07962ae2a54b498d97be185df0a91eea": {
      "model_module": "@jupyter-widgets/controls",
      "model_module_version": "1.5.0",
      "model_name": "DescriptionStyleModel",
      "state": {
       "description_width": ""
      }
     },
     "07c24ec0e99b453ba242d6d02885bdac": {
      "model_module": "@jupyter-widgets/controls",
      "model_module_version": "1.5.0",
      "model_name": "DescriptionStyleModel",
      "state": {
       "description_width": ""
      }
     },
     "07d7cb73bb7b4d0dba486c656c91ec78": {
      "model_module": "@jupyter-widgets/base",
      "model_module_version": "1.2.0",
      "model_name": "LayoutModel",
      "state": {}
     },
     "08038d2c0bbf4b05be11e07971649c7a": {
      "model_module": "@jupyter-widgets/controls",
      "model_module_version": "1.5.0",
      "model_name": "SliderStyleModel",
      "state": {
       "description_width": ""
      }
     },
     "08753f463654451c9c4be8bf1dddd8b0": {
      "model_module": "@jupyter-widgets/controls",
      "model_module_version": "1.5.0",
      "model_name": "ControllerModel",
      "state": {
       "layout": "IPY_MODEL_4c4bc1e53b284d6ea5d2b38fa579ebaa"
      }
     },
     "088cc24009094ec28d7238552eda44c8": {
      "model_module": "@jupyter-widgets/base",
      "model_module_version": "1.2.0",
      "model_name": "LayoutModel",
      "state": {}
     },
     "089f76e8d7354a2996a426ca56eae907": {
      "model_module": "@jupyter-widgets/controls",
      "model_module_version": "1.5.0",
      "model_name": "DropdownModel",
      "state": {
       "_options_labels": [
        "1",
        "2",
        "3"
       ],
       "description": "Number:",
       "index": 1,
       "layout": "IPY_MODEL_f26079628fa44a639dd478550759baef",
       "style": "IPY_MODEL_e21d8da0d529453dace8341e266cbfeb"
      }
     },
     "08b3b176d0e7440389cb1a82d9c1ba94": {
      "model_module": "@jupyter-widgets/controls",
      "model_module_version": "1.5.0",
      "model_name": "HBoxModel",
      "state": {
       "children": [
        "IPY_MODEL_98000a12a1aa4213860b1b2469d46bd5",
        "IPY_MODEL_5c3ccf49d5614628929c6890be197c60"
       ],
       "layout": "IPY_MODEL_7673e110a7ec4dd6b56af01d3a50ba12"
      }
     },
     "0935b6d2628e414d9abc9b646521c759": {
      "model_module": "@jupyter-widgets/base",
      "model_module_version": "1.2.0",
      "model_name": "LayoutModel",
      "state": {}
     },
     "09419070fa9d47bdbc1c4bb14f8b7f62": {
      "model_module": "@jupyter-widgets/controls",
      "model_module_version": "1.5.0",
      "model_name": "DescriptionStyleModel",
      "state": {
       "description_width": ""
      }
     },
     "098db764767c4369abaed3266cc5077b": {
      "model_module": "@jupyter-widgets/base",
      "model_module_version": "1.2.0",
      "model_name": "LayoutModel",
      "state": {}
     },
     "09cf17b7a5084da59c1858e009021d68": {
      "model_module": "@jupyter-widgets/base",
      "model_module_version": "1.2.0",
      "model_name": "LayoutModel",
      "state": {}
     },
     "0a18d3f3d1004181b2e6cc853161b7bc": {
      "model_module": "@jupyter-widgets/controls",
      "model_module_version": "1.5.0",
      "model_name": "RadioButtonsModel",
      "state": {
       "_options_labels": [
        "pepperoni",
        "pineapple",
        "anchovies"
       ],
       "description": "Pizza topping:",
       "index": 0,
       "layout": "IPY_MODEL_32c34f77042b4b34ba697a8536650478",
       "style": "IPY_MODEL_71071844670041cbb013b1a6454bd659"
      }
     },
     "0a9749a20f0b4a5fad4503d2d1ff1768": {
      "model_module": "@jupyter-widgets/controls",
      "model_module_version": "1.5.0",
      "model_name": "DescriptionStyleModel",
      "state": {
       "description_width": ""
      }
     },
     "0aaca9a8e3c5410f92d0bdd44eb0f6b1": {
      "model_module": "@jupyter-widgets/controls",
      "model_module_version": "1.5.0",
      "model_name": "DescriptionStyleModel",
      "state": {
       "description_width": ""
      }
     },
     "0ad92a0bfaf44b818963d7cc15214c95": {
      "model_module": "@jupyter-widgets/base",
      "model_module_version": "1.2.0",
      "model_name": "LayoutModel",
      "state": {}
     },
     "0adc51b2de1b47ed93bb124b6b3fde79": {
      "model_module": "@jupyter-widgets/base",
      "model_module_version": "1.2.0",
      "model_name": "LayoutModel",
      "state": {}
     },
     "0afda8c4b1574156893e3619cc325384": {
      "model_module": "@jupyter-widgets/controls",
      "model_module_version": "1.5.0",
      "model_name": "SliderStyleModel",
      "state": {
       "description_width": ""
      }
     },
     "0bc4fbef4eff49ad97d7ca5e1ce40721": {
      "model_module": "@jupyter-widgets/controls",
      "model_module_version": "1.5.0",
      "model_name": "DescriptionStyleModel",
      "state": {
       "description_width": ""
      }
     },
     "0bcc76f4a6eb4e9fa0a9eec2e5933f94": {
      "model_module": "@jupyter-widgets/base",
      "model_module_version": "1.2.0",
      "model_name": "LayoutModel",
      "state": {}
     },
     "0bd8dfafba0d4f7c94ba172ce49545f7": {
      "model_module": "@jupyter-widgets/controls",
      "model_module_version": "1.5.0",
      "model_name": "SliderStyleModel",
      "state": {
       "description_width": ""
      }
     },
     "0c3924cb17d14690a52ac8f479401e67": {
      "model_module": "@jupyter-widgets/base",
      "model_module_version": "1.2.0",
      "model_name": "LayoutModel",
      "state": {}
     },
     "0c5ab31b2c8145e7b7fee5e64ce505fd": {
      "model_module": "@jupyter-widgets/base",
      "model_module_version": "1.2.0",
      "model_name": "LayoutModel",
      "state": {}
     },
     "0cb0df78c39f4c91b6f189c6d8472f49": {
      "model_module": "@jupyter-widgets/controls",
      "model_module_version": "1.5.0",
      "model_name": "SelectionRangeSliderModel",
      "state": {
       "_model_name": "SelectionRangeSliderModel",
       "_options_labels": [
        "Jan",
        "Feb",
        "Mar",
        "Apr",
        "May",
        "Jun",
        "Jul",
        "Aug",
        "Sep",
        "Oct",
        "Nov",
        "Dec"
       ],
       "_view_name": "SelectionRangeSliderView",
       "description": "Months (2015)",
       "index": [
        0,
        11
       ],
       "layout": "IPY_MODEL_a7d1e417edf44df39d035064d23a2563",
       "style": "IPY_MODEL_56fd08e6ce614a22bc2ffa6ea605ac3e"
      }
     },
     "0cbb8d005728427aa96368043c8f23c6": {
      "model_module": "@jupyter-widgets/output",
      "model_module_version": "1.0.0",
      "model_name": "OutputModel",
      "state": {
       "layout": "IPY_MODEL_28f1e22ec0d3487484f3cdafb78c8f0e"
      }
     },
     "0d12b28326a1467bbee504790c2d53bf": {
      "model_module": "@jupyter-widgets/controls",
      "model_module_version": "1.5.0",
      "model_name": "IntSliderModel",
      "state": {
       "layout": "IPY_MODEL_bc873696089a4f45815f65926c332b59",
       "style": "IPY_MODEL_b9712408a6fc4957959f81f705f9addb",
       "value": 50
      }
     },
     "0d1e5ec016874ad19d6a8c7e9d038278": {
      "model_module": "@jupyter-widgets/controls",
      "model_module_version": "1.5.0",
      "model_name": "LabelModel",
      "state": {
       "layout": "IPY_MODEL_b666f987862744b397b603cba390330d",
       "style": "IPY_MODEL_24dc6042454c42e6a40c25c6f4cc08c5",
       "value": "0"
      }
     },
     "0d26167f199b4625a2fd5cc066c29ed1": {
      "model_module": "@jupyter-widgets/controls",
      "model_module_version": "1.5.0",
      "model_name": "FloatProgressModel",
      "state": {
       "bar_style": "info",
       "description": "Loading:",
       "layout": "IPY_MODEL_c98491343fd34bc99c178616dc17db16",
       "max": 10,
       "style": "IPY_MODEL_4dbf1ae9679b4ed89cf84fee99352a26",
       "value": 7.5
      }
     },
     "0d54cfd206f242759d7b195edd43a1f8": {
      "model_module": "@jupyter-widgets/controls",
      "model_module_version": "1.5.0",
      "model_name": "HTMLModel",
      "state": {
       "description": "Some HTML",
       "layout": "IPY_MODEL_6b7b27c1edd6448e9afbe1ed508a9c24",
       "placeholder": "Some HTML",
       "style": "IPY_MODEL_aeb5c3f668434382ae291f8c92eee291",
       "value": "Hello <b>World</b>"
      }
     },
     "0d5fad160b1c4ed08ab3effda1ad28f9": {
      "model_module": "@jupyter-widgets/controls",
      "model_module_version": "1.5.0",
      "model_name": "DescriptionStyleModel",
      "state": {
       "description_width": ""
      }
     },
     "0d7f1f97be304bc4a1007df572d32071": {
      "model_module": "@jupyter-widgets/controls",
      "model_module_version": "1.5.0",
      "model_name": "DescriptionStyleModel",
      "state": {
       "description_width": ""
      }
     },
     "0d8e2fa7c09a44779b5297ad4d7c737d": {
      "model_module": "@jupyter-widgets/base",
      "model_module_version": "1.2.0",
      "model_name": "LayoutModel",
      "state": {}
     },
     "0d9a57d4a40440029119c69196195b2d": {
      "model_module": "@jupyter-widgets/controls",
      "model_module_version": "1.5.0",
      "model_name": "ValidModel",
      "state": {
       "description": "Valid!",
       "layout": "IPY_MODEL_831a22e4bf4844a3b22b54176356d8d9",
       "style": "IPY_MODEL_94652b651da74512b1324d69e011e3d0"
      }
     },
     "0da2f37c70914c8fb4c0372268e7a757": {
      "model_module": "@jupyter-widgets/controls",
      "model_module_version": "1.5.0",
      "model_name": "DescriptionStyleModel",
      "state": {
       "description_width": ""
      }
     },
     "0da81167f67d44ef9ff342d42e39ef0c": {
      "model_module": "@jupyter-widgets/base",
      "model_module_version": "1.2.0",
      "model_name": "LayoutModel",
      "state": {}
     },
     "0dcea77902414e24af489301df5d1760": {
      "model_module": "@jupyter-widgets/controls",
      "model_module_version": "1.5.0",
      "model_name": "LabelModel",
      "state": {
       "layout": "IPY_MODEL_c4a26de8b4c94621817834339942f611",
       "style": "IPY_MODEL_ee4aaf371a7c46eea77eabf0a819ee49",
       "value": "2"
      }
     },
     "0dcf7529abce4b75b2a2fce3f34f7817": {
      "model_module": "@jupyter-widgets/controls",
      "model_module_version": "1.5.0",
      "model_name": "AccordionModel",
      "state": {
       "_titles": {
        "0": "Slider",
        "1": "Text"
       },
       "children": [
        "IPY_MODEL_841bbfeb63ef4d68be3f0533a52bc572",
        "IPY_MODEL_e33dad72a9ec485fa6650b3cb8e715ae"
       ],
       "layout": "IPY_MODEL_ff251a4634074fc885bf747408e19c81",
       "selected_index": null
      }
     },
     "0dd912899f6e4b3f9db52242eff43401": {
      "model_module": "@jupyter-widgets/base",
      "model_module_version": "1.2.0",
      "model_name": "LayoutModel",
      "state": {}
     },
     "0e118c1ebbaf4a92bade9ed38ef16998": {
      "model_module": "@jupyter-widgets/base",
      "model_module_version": "1.2.0",
      "model_name": "LayoutModel",
      "state": {}
     },
     "0e29ffb790f94186ae32533480ec13de": {
      "model_module": "@jupyter-widgets/controls",
      "model_module_version": "1.5.0",
      "model_name": "DescriptionStyleModel",
      "state": {
       "description_width": ""
      }
     },
     "0e398dde6e6b45abb656e5c4e737aae9": {
      "model_module": "@jupyter-widgets/controls",
      "model_module_version": "1.5.0",
      "model_name": "FloatSliderModel",
      "state": {
       "continuous_update": false,
       "description": "Test:",
       "layout": "IPY_MODEL_d96e41b68c89477b83db8d61992a26f2",
       "max": 10,
       "readout_format": ".1f",
       "step": 0.1,
       "style": "IPY_MODEL_d451d3ad4abb49409a681c71a30c76c7",
       "value": 7.5
      }
     },
     "0e3f06e54e374db394375e5fd47e1ce0": {
      "model_module": "@jupyter-widgets/base",
      "model_module_version": "1.2.0",
      "model_name": "LayoutModel",
      "state": {}
     },
     "0e45d24ce48347f68dbb6912fb2bba4f": {
      "model_module": "@jupyter-widgets/controls",
      "model_module_version": "1.5.0",
      "model_name": "LabelModel",
      "state": {
       "layout": "IPY_MODEL_97074dc656104f65a8a4bb1264f90156",
       "style": "IPY_MODEL_0fa83812e0d6412d829c45095a304eea",
       "value": "The $m$ in $E=mc^2$:"
      }
     },
     "0e866bbfae4048ec872ad50be1128d33": {
      "model_module": "@jupyter-widgets/controls",
      "model_module_version": "1.5.0",
      "model_name": "DescriptionStyleModel",
      "state": {
       "description_width": ""
      }
     },
     "0edf7b828fb64c2b8f79d2c4a4d46cf6": {
      "model_module": "@jupyter-widgets/base",
      "model_module_version": "1.2.0",
      "model_name": "LayoutModel",
      "state": {}
     },
     "0ee6f281c5ee49b6be83c967035f7e24": {
      "model_module": "@jupyter-widgets/controls",
      "model_module_version": "1.5.0",
      "model_name": "BoxModel",
      "state": {
       "children": [
        "IPY_MODEL_4de031698a46489ea9b0d06dc6d56b88",
        "IPY_MODEL_67c21cea3e384446bca8f9ce73e6dc62",
        "IPY_MODEL_9b08dbb3cf3c482ab709e00e035abfb5",
        "IPY_MODEL_3539cfb7042f48509841d15e1c30fefd"
       ],
       "layout": "IPY_MODEL_9d8e4617067746e9a3c715fca1e7dea6"
      }
     },
     "0eff6e7dc8ed4ba9bf1e33cccf2f8a9d": {
      "model_module": "@jupyter-widgets/controls",
      "model_module_version": "1.5.0",
      "model_name": "DescriptionStyleModel",
      "state": {
       "description_width": ""
      }
     },
     "0f379533910247138c3203912636cd9b": {
      "model_module": "@jupyter-widgets/controls",
      "model_module_version": "1.5.0",
      "model_name": "TextModel",
      "state": {
       "layout": "IPY_MODEL_e411f6d8190b4718a7646647439e3060",
       "style": "IPY_MODEL_07633fe12250448980f6d6e7e07c0d65"
      }
     },
     "0fa83812e0d6412d829c45095a304eea": {
      "model_module": "@jupyter-widgets/controls",
      "model_module_version": "1.5.0",
      "model_name": "DescriptionStyleModel",
      "state": {
       "description_width": ""
      }
     },
     "0fb25db8b20e419fb9391ed01180670a": {
      "model_module": "@jupyter-widgets/controls",
      "model_module_version": "1.5.0",
      "model_name": "TextModel",
      "state": {
       "description": "P2",
       "layout": "IPY_MODEL_28df4a87bc7a44fa82df17c52c978e7e",
       "style": "IPY_MODEL_3db12febc66a4613ba5737d3a83429ae"
      }
     },
     "0fc1d2d18f3f4f66bcdbd2cc8a6da05e": {
      "model_module": "@jupyter-widgets/controls",
      "model_module_version": "1.5.0",
      "model_name": "FloatSliderModel",
      "state": {
       "continuous_update": false,
       "description": "Test:",
       "layout": "IPY_MODEL_3e3e4ac20789453d8c35e63f9c3c83dc",
       "max": 10,
       "orientation": "vertical",
       "readout_format": ".1f",
       "step": 0.1,
       "style": "IPY_MODEL_44052d4eecb240e78c303a6d65ce540e",
       "value": 7.5
      }
     },
     "0fd6c51777a54d0cad3bdc017b7ca4b1": {
      "model_module": "@jupyter-widgets/base",
      "model_module_version": "1.2.0",
      "model_name": "LayoutModel",
      "state": {}
     },
     "0fd7940b26474890ab0899219991e3a4": {
      "model_module": "@jupyter-widgets/controls",
      "model_module_version": "1.5.0",
      "model_name": "ButtonStyleModel",
      "state": {}
     },
     "0ffddb8d581742ef8c32d4d0981e9b7e": {
      "model_module": "@jupyter-widgets/controls",
      "model_module_version": "1.5.0",
      "model_name": "DescriptionStyleModel",
      "state": {
       "description_width": ""
      }
     },
     "100992258d5b4c858b3ddfeb0c2219f4": {
      "model_module": "@jupyter-widgets/controls",
      "model_module_version": "1.5.0",
      "model_name": "DescriptionStyleModel",
      "state": {
       "description_width": ""
      }
     },
     "1029ecf75af0492eb32adf6ea4079d7d": {
      "model_module": "@jupyter-widgets/base",
      "model_module_version": "1.2.0",
      "model_name": "LayoutModel",
      "state": {}
     },
     "1056dfecf65c40b2bc43476166e3a335": {
      "model_module": "@jupyter-widgets/controls",
      "model_module_version": "1.5.0",
      "model_name": "DescriptionStyleModel",
      "state": {
       "description_width": ""
      }
     },
     "105d57bfb7a04f5c881aa29be7562a56": {
      "model_module": "@jupyter-widgets/base",
      "model_module_version": "1.2.0",
      "model_name": "LayoutModel",
      "state": {}
     },
     "10aca0d670d3431289b902db8612f9e8": {
      "model_module": "@jupyter-widgets/controls",
      "model_module_version": "1.5.0",
      "model_name": "LabelModel",
      "state": {
       "layout": "IPY_MODEL_4d1a842e18344fd4af85569f84e23c65",
       "style": "IPY_MODEL_0e29ffb790f94186ae32533480ec13de",
       "value": "3"
      }
     },
     "110e7d0f217245c993403f9de7dd4b0e": {
      "model_module": "@jupyter-widgets/controls",
      "model_module_version": "1.5.0",
      "model_name": "ButtonStyleModel",
      "state": {}
     },
     "1145d60b5a3a4ddd8d710deb409f2430": {
      "model_module": "@jupyter-widgets/controls",
      "model_module_version": "1.5.0",
      "model_name": "TabModel",
      "state": {
       "_titles": {
        "0": "0",
        "1": "1",
        "2": "2",
        "3": "3",
        "4": "4"
       },
       "children": [
        "IPY_MODEL_736254731cc448f79523b477542ea5b3",
        "IPY_MODEL_a89791c42c5f460b91417b12f2ac9b89",
        "IPY_MODEL_0fb25db8b20e419fb9391ed01180670a",
        "IPY_MODEL_c46e37c25c324527afdef32c2e38d668",
        "IPY_MODEL_c310a5b2dc4b45f2bbb74f2ce25eadf1"
       ],
       "layout": "IPY_MODEL_75ea312a507f4688b8ae36d4a821baec",
       "selected_index": 3
      }
     },
     "11731741e8a747d6985fd095bbd334eb": {
      "model_module": "@jupyter-widgets/base",
      "model_module_version": "1.2.0",
      "model_name": "LayoutModel",
      "state": {}
     },
     "11878d55ba3640c5a6dabe79b1c8b81c": {
      "model_module": "@jupyter-widgets/base",
      "model_module_version": "1.2.0",
      "model_name": "LayoutModel",
      "state": {}
     },
     "118e1569ccbf481aa7cb4738affbeaea": {
      "model_module": "@jupyter-widgets/controls",
      "model_module_version": "1.5.0",
      "model_name": "SelectionRangeSliderModel",
      "state": {
       "_model_name": "SelectionRangeSliderModel",
       "_options_labels": [
        "Jan",
        "Feb",
        "Mar",
        "Apr",
        "May",
        "Jun",
        "Jul",
        "Aug",
        "Sep",
        "Oct",
        "Nov",
        "Dec"
       ],
       "_view_name": "SelectionRangeSliderView",
       "description": "Months (2015)",
       "index": [
        0,
        11
       ],
       "layout": "IPY_MODEL_e9573092a3b148ea9de0b297917c4826",
       "style": "IPY_MODEL_aa2028feca5045a2a9497a3f56abf933"
      }
     },
     "11916ad6c7ad47aa8cd5db7ac2061052": {
      "model_module": "@jupyter-widgets/base",
      "model_module_version": "1.2.0",
      "model_name": "LayoutModel",
      "state": {}
     },
     "119b98d20a8b43549621d8301058d5fb": {
      "model_module": "@jupyter-widgets/controls",
      "model_module_version": "1.5.0",
      "model_name": "AccordionModel",
      "state": {
       "_titles": {
        "0": "Slider",
        "1": "Text"
       },
       "children": [
        "IPY_MODEL_d94cdaa75e584dda9b6643b3e8400524",
        "IPY_MODEL_9a60006fadc2415f95a76cf6aa520300"
       ],
       "layout": "IPY_MODEL_0da81167f67d44ef9ff342d42e39ef0c",
       "selected_index": null
      }
     },
     "11ab11b3b6114a06a39377b182b9569a": {
      "model_module": "@jupyter-widgets/base",
      "model_module_version": "1.2.0",
      "model_name": "LayoutModel",
      "state": {
       "border": "1px solid black"
      }
     },
     "11ad3ade944d485c9b5ab990ca6c0659": {
      "model_module": "@jupyter-widgets/controls",
      "model_module_version": "1.5.0",
      "model_name": "HBoxModel",
      "state": {
       "children": [
        "IPY_MODEL_b856f97ac3bf42ae98fbc356ff1cee3c",
        "IPY_MODEL_9f9fee0272f2460e9d233b0ab1a9a6e0"
       ],
       "layout": "IPY_MODEL_9f95b44eaeb44422a4ec473c4bb95d99"
      }
     },
     "11d589e75af34b6081b584ab43cc94f6": {
      "model_module": "@jupyter-widgets/base",
      "model_module_version": "1.2.0",
      "model_name": "LayoutModel",
      "state": {}
     },
     "123d014cb6f5428e9620973f6d636db5": {
      "model_module": "@jupyter-widgets/controls",
      "model_module_version": "1.5.0",
      "model_name": "FloatLogSliderModel",
      "state": {
       "description": "Log Slider",
       "layout": "IPY_MODEL_2423be6f4ff64f5ba013f09db28de34c",
       "max": 10,
       "min": -10,
       "step": 0.2,
       "style": "IPY_MODEL_83c08cd8b8cc427daa066f6b0f201c6a",
       "value": 10
      }
     },
     "12671d7db2d34c76b36d0c75bf3fe48f": {
      "model_module": "@jupyter-widgets/controls",
      "model_module_version": "1.5.0",
      "model_name": "PlayModel",
      "state": {
       "description": "Press play",
       "layout": "IPY_MODEL_63d77e3e193e42d7a4de02e12737f7db",
       "style": "IPY_MODEL_f9ca545f09ce4ecc80a7dfcda5ec0f82",
       "value": 50
      }
     },
     "12ab54ec9f9540d3958b4aac92bb18b2": {
      "model_module": "@jupyter-widgets/base",
      "model_module_version": "1.2.0",
      "model_name": "LayoutModel",
      "state": {}
     },
     "12d8b6a73ff74073996a4be3dfd1ad24": {
      "model_module": "@jupyter-widgets/base",
      "model_module_version": "1.2.0",
      "model_name": "LayoutModel",
      "state": {}
     },
     "13186495611c4936b30b4df022459638": {
      "model_module": "@jupyter-widgets/controls",
      "model_module_version": "1.5.0",
      "model_name": "DescriptionStyleModel",
      "state": {
       "description_width": ""
      }
     },
     "1330ff30be76422885e09af0760acb84": {
      "model_module": "@jupyter-widgets/controls",
      "model_module_version": "1.5.0",
      "model_name": "IntRangeSliderModel",
      "state": {
       "_model_name": "IntRangeSliderModel",
       "_view_name": "IntRangeSliderView",
       "continuous_update": false,
       "description": "Test:",
       "layout": "IPY_MODEL_269bb7c513e84af092ad6722c9e45a0e",
       "max": 10,
       "style": "IPY_MODEL_0afda8c4b1574156893e3619cc325384",
       "value": [
        5,
        7
       ]
      }
     },
     "135ff4aaffad41329199836a0e01cbbf": {
      "model_module": "@jupyter-widgets/controls",
      "model_module_version": "1.5.0",
      "model_name": "DescriptionStyleModel",
      "state": {
       "description_width": ""
      }
     },
     "13a0b61c942a45a9aa4d532e624a95f9": {
      "model_module": "@jupyter-widgets/controls",
      "model_module_version": "1.5.0",
      "model_name": "LabelModel",
      "state": {
       "layout": "IPY_MODEL_1bda3b9567874905bd82585df8293e4d",
       "style": "IPY_MODEL_07962ae2a54b498d97be185df0a91eea",
       "value": "The $m$ in $E=mc^2$:"
      }
     },
     "144d962297d8424988ee1db188d4f9fe": {
      "model_module": "@jupyter-widgets/controls",
      "model_module_version": "1.5.0",
      "model_name": "FloatSliderModel",
      "state": {
       "continuous_update": false,
       "description": "Test:",
       "layout": "IPY_MODEL_e08531bfdf8742dba369ddff382c4fba",
       "max": 10,
       "orientation": "vertical",
       "readout_format": ".1f",
       "step": 0.1,
       "style": "IPY_MODEL_2bbc6d3093c346c9b0bb453b51c56c75",
       "value": 7.5
      }
     },
     "146278c129f34fa1b132a02c1907826d": {
      "model_module": "@jupyter-widgets/controls",
      "model_module_version": "1.5.0",
      "model_name": "DescriptionStyleModel",
      "state": {
       "description_width": ""
      }
     },
     "14c538f1536e4af594678fcbed91d3e2": {
      "model_module": "@jupyter-widgets/controls",
      "model_module_version": "1.5.0",
      "model_name": "DescriptionStyleModel",
      "state": {
       "description_width": ""
      }
     },
     "14fd9928d070428f97a91acd9bc5fc27": {
      "model_module": "@jupyter-widgets/controls",
      "model_module_version": "1.5.0",
      "model_name": "ValidModel",
      "state": {
       "description": "Valid!",
       "layout": "IPY_MODEL_11878d55ba3640c5a6dabe79b1c8b81c",
       "style": "IPY_MODEL_213074bb1bbf42dabdb259c85b0aa918"
      }
     },
     "1509e0871df24b35b27907730430b54f": {
      "model_module": "@jupyter-widgets/controls",
      "model_module_version": "1.5.0",
      "model_name": "DescriptionStyleModel",
      "state": {
       "description_width": ""
      }
     },
     "157415e82a70489c9cd7f180d7038751": {
      "model_module": "@jupyter-widgets/base",
      "model_module_version": "1.2.0",
      "model_name": "LayoutModel",
      "state": {}
     },
     "15c2ebae318548a3940ef7db11953682": {
      "model_module": "@jupyter-widgets/controls",
      "model_module_version": "1.5.0",
      "model_name": "FloatProgressModel",
      "state": {
       "bar_style": "info",
       "description": "Loading:",
       "layout": "IPY_MODEL_40ba1eea57e6404499c18840ae06c514",
       "max": 10,
       "style": "IPY_MODEL_52729538ba554571a7b9aebcd43e17c3",
       "value": 7.5
      }
     },
     "160aa9425e7749588c6ddd53b3c3c0ff": {
      "model_module": "@jupyter-widgets/controls",
      "model_module_version": "1.5.0",
      "model_name": "LinkModel",
      "state": {
       "source": [
        "IPY_MODEL_8c5f8c6b397946abb48b7e57b0bc068e",
        "value"
       ],
       "target": [
        "IPY_MODEL_68621a3951514817a6ed66df711795b3",
        "value"
       ]
      }
     },
     "169357b773294f42b8ca1dad96bbf7cb": {
      "model_module": "@jupyter-widgets/controls",
      "model_module_version": "1.5.0",
      "model_name": "IntSliderModel",
      "state": {
       "layout": "IPY_MODEL_f1aa771c1f044fea8b5b0826e3582b0d",
       "style": "IPY_MODEL_75113b3fff9341c0a9e27551df4ede03"
      }
     },
     "16eb9def2b764daaa06b550425612ed0": {
      "model_module": "@jupyter-widgets/controls",
      "model_module_version": "1.5.0",
      "model_name": "DescriptionStyleModel",
      "state": {
       "description_width": ""
      }
     },
     "177851017b264393b3fbcc91f2be87b9": {
      "model_module": "@jupyter-widgets/controls",
      "model_module_version": "1.5.0",
      "model_name": "DescriptionStyleModel",
      "state": {
       "description_width": ""
      }
     },
     "17cf2072ec6549738aaf8e6bbcdb9a68": {
      "model_module": "@jupyter-widgets/base",
      "model_module_version": "1.2.0",
      "model_name": "LayoutModel",
      "state": {}
     },
     "185373fb0ab244b8926050906eb850e1": {
      "model_module": "@jupyter-widgets/controls",
      "model_module_version": "1.5.0",
      "model_name": "DescriptionStyleModel",
      "state": {
       "description_width": ""
      }
     },
     "185ab061923143e1b58188037fec0ecb": {
      "model_module": "@jupyter-widgets/controls",
      "model_module_version": "1.5.0",
      "model_name": "HTMLMathModel",
      "state": {
       "description": "Some HTML",
       "layout": "IPY_MODEL_e1debd1cfbfb48258ecfd3cd32d583c6",
       "placeholder": "Some HTML",
       "style": "IPY_MODEL_cff420500dd4469cbefe5d69091f1dbf",
       "value": "Some math and <i>HTML</i>: \\(x^2\\) and $$\\frac{x+1}{x-1}$$"
      }
     },
     "18877fe73ba144d6998d6a1a77b79877": {
      "model_module": "@jupyter-widgets/controls",
      "model_module_version": "1.5.0",
      "model_name": "ButtonModel",
      "state": {
       "description": "Click me",
       "icon": "check",
       "layout": "IPY_MODEL_e5a415fe4815448fb226cdd9ca7e767a",
       "style": "IPY_MODEL_110e7d0f217245c993403f9de7dd4b0e",
       "tooltip": "Click me"
      }
     },
     "18c46794ef0342b886b561348f559ccf": {
      "model_module": "@jupyter-widgets/controls",
      "model_module_version": "1.5.0",
      "model_name": "DescriptionStyleModel",
      "state": {
       "description_width": ""
      }
     },
     "1951373a89a24a5e824ba5fb752381ed": {
      "model_module": "@jupyter-widgets/base",
      "model_module_version": "1.2.0",
      "model_name": "LayoutModel",
      "state": {}
     },
     "1993131bb90a4064a10af9f1a03e4f1f": {
      "model_module": "@jupyter-widgets/controls",
      "model_module_version": "1.5.0",
      "model_name": "DatePickerModel",
      "state": {
       "description": "Pick a Date",
       "disabled": false,
       "layout": "IPY_MODEL_68e69f47d6cd46adbc215562a0191616",
       "style": "IPY_MODEL_2407bf8720324bb9a2996df5ef75e106"
      }
     },
     "19b5b20d07b049bda98b342ed3ddf7da": {
      "model_module": "@jupyter-widgets/controls",
      "model_module_version": "1.5.0",
      "model_name": "DescriptionStyleModel",
      "state": {
       "description_width": ""
      }
     },
     "19ffbc0f1786456587ceda2793d2780c": {
      "model_module": "@jupyter-widgets/controls",
      "model_module_version": "1.5.0",
      "model_name": "FloatTextModel",
      "state": {
       "description": "Any:",
       "layout": "IPY_MODEL_490ca963f63e4477bba84e398a846194",
       "step": null,
       "style": "IPY_MODEL_13186495611c4936b30b4df022459638",
       "value": 7.5
      }
     },
     "1a05fc672a2845a8a5b1362a893a4cba": {
      "model_module": "@jupyter-widgets/base",
      "model_module_version": "1.2.0",
      "model_name": "LayoutModel",
      "state": {
       "border": "1px solid black"
      }
     },
     "1a3c9d6317c14c1998541bb65f66da02": {
      "model_module": "@jupyter-widgets/controls",
      "model_module_version": "1.5.0",
      "model_name": "DescriptionStyleModel",
      "state": {
       "description_width": ""
      }
     },
     "1a6c6dad47304ea3b7b26137172c94ba": {
      "model_module": "@jupyter-widgets/controls",
      "model_module_version": "1.5.0",
      "model_name": "DescriptionStyleModel",
      "state": {
       "description_width": ""
      }
     },
     "1a6d284d470c43e289f71ff932ab68ec": {
      "model_module": "@jupyter-widgets/base",
      "model_module_version": "1.2.0",
      "model_name": "LayoutModel",
      "state": {}
     },
     "1a7ef0e2a65a4ac19f4dcf5d48fd363b": {
      "model_module": "@jupyter-widgets/controls",
      "model_module_version": "1.5.0",
      "model_name": "DescriptionStyleModel",
      "state": {
       "description_width": ""
      }
     },
     "1aa0797348e54a1089c2c7178c90270a": {
      "model_module": "@jupyter-widgets/base",
      "model_module_version": "1.2.0",
      "model_name": "LayoutModel",
      "state": {}
     },
     "1bda3b9567874905bd82585df8293e4d": {
      "model_module": "@jupyter-widgets/base",
      "model_module_version": "1.2.0",
      "model_name": "LayoutModel",
      "state": {}
     },
     "1bf7b762a56c4b00a486c273dfda4f7e": {
      "model_module": "@jupyter-widgets/controls",
      "model_module_version": "1.5.0",
      "model_name": "SliderStyleModel",
      "state": {
       "description_width": ""
      }
     },
     "1c19b40f81104aeb83cf1982be8cd277": {
      "model_module": "@jupyter-widgets/controls",
      "model_module_version": "1.5.0",
      "model_name": "SelectMultipleModel",
      "state": {
       "_options_labels": [
        "Apples",
        "Oranges",
        "Pears"
       ],
       "description": "Fruits",
       "index": [
        1
       ],
       "layout": "IPY_MODEL_af2d97b277194e0cbc0b1a7c418fd877",
       "rows": 5,
       "style": "IPY_MODEL_d4026bf70a7f4430bd0164c6a12801ee"
      }
     },
     "1c76ec50133840aa83eac922558c7dd5": {
      "model_module": "@jupyter-widgets/controls",
      "model_module_version": "1.5.0",
      "model_name": "DescriptionStyleModel",
      "state": {
       "description_width": ""
      }
     },
     "1cebc9535943440a81de470a846e1a61": {
      "model_module": "@jupyter-widgets/base",
      "model_module_version": "1.2.0",
      "model_name": "LayoutModel",
      "state": {}
     },
     "1d31c01b218a4ae19bd89bd2ca751211": {
      "model_module": "@jupyter-widgets/controls",
      "model_module_version": "1.5.0",
      "model_name": "IntSliderModel",
      "state": {
       "continuous_update": false,
       "description": "Test:",
       "layout": "IPY_MODEL_17cf2072ec6549738aaf8e6bbcdb9a68",
       "max": 10,
       "style": "IPY_MODEL_b18921573f5e4d269a1f9cc210baaf35",
       "value": 7
      }
     },
     "1d4ae2e0a52b46598c2bfcb92a7e9ca6": {
      "model_module": "@jupyter-widgets/controls",
      "model_module_version": "1.5.0",
      "model_name": "DescriptionStyleModel",
      "state": {
       "description_width": ""
      }
     },
     "1dbf19e4c3b14067a86492645e64b889": {
      "model_module": "@jupyter-widgets/base",
      "model_module_version": "1.2.0",
      "model_name": "LayoutModel",
      "state": {}
     },
     "1df77f684e3b4964917dab4cd9cd64a8": {
      "model_module": "@jupyter-widgets/controls",
      "model_module_version": "1.5.0",
      "model_name": "SliderStyleModel",
      "state": {
       "description_width": ""
      }
     },
     "1e0989fd4a084a3ebaf54679cb9ce1a8": {
      "model_module": "@jupyter-widgets/controls",
      "model_module_version": "1.5.0",
      "model_name": "DropdownModel",
      "state": {
       "_options_labels": [
        "1",
        "2",
        "3"
       ],
       "description": "Number:",
       "index": 1,
       "layout": "IPY_MODEL_537ca2412377458c8bab43f541405c42",
       "style": "IPY_MODEL_8e81710e2191478dab9d8d8645c95930"
      }
     },
     "1e0c369744bc420e8735c7f047e19ee9": {
      "model_module": "@jupyter-widgets/controls",
      "model_module_version": "1.5.0",
      "model_name": "DescriptionStyleModel",
      "state": {
       "description_width": ""
      }
     },
     "1e21b62ce3e74610bbb0ab7a3da1707d": {
      "model_module": "@jupyter-widgets/controls",
      "model_module_version": "1.5.0",
      "model_name": "DescriptionStyleModel",
      "state": {
       "description_width": ""
      }
     },
     "1e67cf8c27c641fda9698f859b290a5b": {
      "model_module": "@jupyter-widgets/controls",
      "model_module_version": "1.5.0",
      "model_name": "IntTextModel",
      "state": {
       "description": "Any:",
       "layout": "IPY_MODEL_2612ee62a80f466ab95e45b057785cab",
       "step": 1,
       "style": "IPY_MODEL_73cbbc3cf0554b3e99f3b922e2c780d9",
       "value": 7
      }
     },
     "1e7cefc3e618459a99cdf9ffa435783f": {
      "model_module": "@jupyter-widgets/controls",
      "model_module_version": "1.5.0",
      "model_name": "TabModel",
      "state": {
       "_titles": {
        "0": "0",
        "1": "1",
        "2": "2",
        "3": "3",
        "4": "4"
       },
       "children": [
        "IPY_MODEL_e72c16eac0814572a1ed61fa598c1e1f",
        "IPY_MODEL_c84b4bc55b3f44efb1683cf00701ee21",
        "IPY_MODEL_cd7caa30b72e4a10a6eeac02ad548a2a",
        "IPY_MODEL_84ec52af8c484529b8876aa91805854d",
        "IPY_MODEL_cfc06d0134d74df9bca64a0d1c1d317a"
       ],
       "layout": "IPY_MODEL_012e465a2e3e4103b1a196017261304a",
       "selected_index": 3
      }
     },
     "1ecae4d61e7d4cf486f721fce70c2586": {
      "model_module": "@jupyter-widgets/base",
      "model_module_version": "1.2.0",
      "model_name": "LayoutModel",
      "state": {}
     },
     "1ede66d783b348959b89c8548715ac70": {
      "model_module": "@jupyter-widgets/controls",
      "model_module_version": "1.5.0",
      "model_name": "SliderStyleModel",
      "state": {
       "description_width": ""
      }
     },
     "1eecd9abe6144183b27b3f42d3d7d60d": {
      "model_module": "@jupyter-widgets/base",
      "model_module_version": "1.2.0",
      "model_name": "LayoutModel",
      "state": {}
     },
     "1ef7a20f36fd47e98e0b2c1553215825": {
      "model_module": "@jupyter-widgets/controls",
      "model_module_version": "1.5.0",
      "model_name": "LabelModel",
      "state": {
       "layout": "IPY_MODEL_44e7c085adee447eaf1a85847d5a61fc",
       "style": "IPY_MODEL_e38c336c5def402498c44adfb4c76b21",
       "value": "1"
      }
     },
     "1f2242f0713c4714aad3e2cff66a5e07": {
      "model_module": "@jupyter-widgets/controls",
      "model_module_version": "1.5.0",
      "model_name": "DescriptionStyleModel",
      "state": {
       "description_width": ""
      }
     },
     "1f4e9f67a9b347e38ed0aabfc7e76264": {
      "model_module": "@jupyter-widgets/base",
      "model_module_version": "1.2.0",
      "model_name": "LayoutModel",
      "state": {}
     },
     "1f9777abbe5d44ada0f757a56bb9a653": {
      "model_module": "@jupyter-widgets/controls",
      "model_module_version": "1.5.0",
      "model_name": "FloatTextModel",
      "state": {
       "description": "Any:",
       "layout": "IPY_MODEL_d6ab36cf11db44de92ff35d121413b9e",
       "step": null,
       "style": "IPY_MODEL_0d5fad160b1c4ed08ab3effda1ad28f9",
       "value": 7.5
      }
     },
     "1f9aa012338e409685bafde50909d712": {
      "model_module": "@jupyter-widgets/controls",
      "model_module_version": "1.5.0",
      "model_name": "DescriptionStyleModel",
      "state": {
       "description_width": ""
      }
     },
     "203c347cee804daeb7ada0792a504476": {
      "model_module": "@jupyter-widgets/controls",
      "model_module_version": "1.5.0",
      "model_name": "BoxModel",
      "state": {
       "children": [
        "IPY_MODEL_77a561e258964e39aa0bc468b777790e",
        "IPY_MODEL_eaa57a83d6784654a40598a4eab16a07",
        "IPY_MODEL_ae0ce4a5052f4e119c55804de987098c",
        "IPY_MODEL_ebca891d27a843d6adc363df31a734c3"
       ],
       "layout": "IPY_MODEL_baa01178bb384cf69ad6ef53c079152b"
      }
     },
     "2061fde8fe2542b7a4aa54ecdd6ab2fa": {
      "model_module": "@jupyter-widgets/base",
      "model_module_version": "1.2.0",
      "model_name": "LayoutModel",
      "state": {}
     },
     "20660712ea484e55b56d322e24de2518": {
      "model_module": "@jupyter-widgets/controls",
      "model_module_version": "1.5.0",
      "model_name": "ProgressStyleModel",
      "state": {
       "description_width": ""
      }
     },
     "208c4ee4bb4e4c22bbef1791d1f51462": {
      "model_module": "@jupyter-widgets/controls",
      "model_module_version": "1.5.0",
      "model_name": "DropdownModel",
      "state": {
       "_options_labels": [
        "1",
        "2",
        "3"
       ],
       "description": "Number:",
       "index": 1,
       "layout": "IPY_MODEL_e069e1c4d84e44b59cf51a1fa364cac7",
       "style": "IPY_MODEL_bde115de358d449896e19ab9bf174a8a"
      }
     },
     "208fca5eb38e46649d6ad1d973aacd44": {
      "model_module": "@jupyter-widgets/base",
      "model_module_version": "1.2.0",
      "model_name": "LayoutModel",
      "state": {}
     },
     "20a47ebf2ee44fe69ee4aac46a58a541": {
      "model_module": "@jupyter-widgets/controls",
      "model_module_version": "1.5.0",
      "model_name": "DescriptionStyleModel",
      "state": {
       "description_width": ""
      }
     },
     "20b72423612049fd9157bc70ce0f4ad8": {
      "model_module": "@jupyter-widgets/controls",
      "model_module_version": "1.5.0",
      "model_name": "SliderStyleModel",
      "state": {
       "description_width": ""
      }
     },
     "20bd55ab72254665a0cbc5796977657a": {
      "model_module": "@jupyter-widgets/controls",
      "model_module_version": "1.5.0",
      "model_name": "FloatSliderModel",
      "state": {
       "continuous_update": false,
       "description": "Test:",
       "layout": "IPY_MODEL_b4fcde747bf14601bcedb661510e5295",
       "max": 10,
       "orientation": "vertical",
       "readout_format": ".1f",
       "step": 0.1,
       "style": "IPY_MODEL_da4bdd0cdb8b4107a1635e461d8caec6",
       "value": 7.5
      }
     },
     "2112a8fd490c445e9eac2986b97ddf7d": {
      "buffers": [
       {
        "data": "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",
        "encoding": "base64",
        "path": [
         "value"
        ]
       }
      ],
      "model_module": "@jupyter-widgets/controls",
      "model_module_version": "1.5.0",
      "model_name": "ImageModel",
      "state": {
       "format": "gif",
       "height": "128",
       "layout": "IPY_MODEL_cb58ff0e28074bd8b342cf4904fb9d65",
       "width": "128"
      }
     },
     "213074bb1bbf42dabdb259c85b0aa918": {
      "model_module": "@jupyter-widgets/controls",
      "model_module_version": "1.5.0",
      "model_name": "DescriptionStyleModel",
      "state": {
       "description_width": ""
      }
     },
     "2168ea44d9e94a4a889403d6c798ee78": {
      "model_module": "@jupyter-widgets/controls",
      "model_module_version": "1.5.0",
      "model_name": "HBoxModel",
      "state": {
       "children": [
        "IPY_MODEL_7e14d563ddc04232a57c214c04e74478",
        "IPY_MODEL_b8c9638d85cc46a8afba53bea0303cd1"
       ],
       "layout": "IPY_MODEL_d96f9fe8f40e493490d77d79b926c2ae"
      }
     },
     "2178a37d66a1451ba268fe9dc8499610": {
      "model_module": "@jupyter-widgets/controls",
      "model_module_version": "1.5.0",
      "model_name": "DescriptionStyleModel",
      "state": {
       "description_width": ""
      }
     },
     "21918b05632344088a675d533bf88297": {
      "model_module": "@jupyter-widgets/base",
      "model_module_version": "1.2.0",
      "model_name": "LayoutModel",
      "state": {}
     },
     "219e66449ce44efcad98cbea38591811": {
      "model_module": "@jupyter-widgets/controls",
      "model_module_version": "1.5.0",
      "model_name": "SliderStyleModel",
      "state": {
       "description_width": ""
      }
     },
     "21b1b7b587554b138462bcd3cad68455": {
      "model_module": "@jupyter-widgets/base",
      "model_module_version": "1.2.0",
      "model_name": "LayoutModel",
      "state": {}
     },
     "21bad7923fe640df8745ab1eb60d1ef1": {
      "model_module": "@jupyter-widgets/controls",
      "model_module_version": "1.5.0",
      "model_name": "LabelModel",
      "state": {
       "layout": "IPY_MODEL_79722b88b73f44cd918ff046d30f8811",
       "style": "IPY_MODEL_b434f78a477b4334becbf35975bc0d51",
       "value": "0"
      }
     },
     "21be78a134e643ae839178de79dec501": {
      "model_module": "@jupyter-widgets/base",
      "model_module_version": "1.2.0",
      "model_name": "LayoutModel",
      "state": {}
     },
     "21c69c9f5d424fe5a476272cba22e8df": {
      "model_module": "@jupyter-widgets/controls",
      "model_module_version": "1.5.0",
      "model_name": "ToggleButtonModel",
      "state": {
       "description": "Click me",
       "icon": "check",
       "layout": "IPY_MODEL_1a6d284d470c43e289f71ff932ab68ec",
       "style": "IPY_MODEL_9a2da05e71e748798d527b5da6cf68c7",
       "tooltip": "Description"
      }
     },
     "21f84dd60cff431bb4ff96c8e74dc634": {
      "model_module": "@jupyter-widgets/controls",
      "model_module_version": "1.5.0",
      "model_name": "IntProgressModel",
      "state": {
       "description": "Loading:",
       "layout": "IPY_MODEL_6740b8543ff747358d31078407f842f2",
       "max": 10,
       "style": "IPY_MODEL_fbd6e30e8f3a4d05b3db0265a9923955",
       "value": 7
      }
     },
     "221d8d4f40f440a786d28befeea11883": {
      "model_module": "@jupyter-widgets/controls",
      "model_module_version": "1.5.0",
      "model_name": "DescriptionStyleModel",
      "state": {
       "description_width": ""
      }
     },
     "224e66aeb6754bc1a02663f5d20d0490": {
      "model_module": "@jupyter-widgets/controls",
      "model_module_version": "1.5.0",
      "model_name": "HBoxModel",
      "state": {
       "children": [
        "IPY_MODEL_bc21f0a1d3f04ec8b46fd9330132af3e",
        "IPY_MODEL_777223ee24f14956816e3bdd7290693a",
        "IPY_MODEL_9b865bc4559345549b21ced4f3d191f6",
        "IPY_MODEL_b4206fc1a125488886bc5dbd027bc5b9"
       ],
       "layout": "IPY_MODEL_b8d815d665d44c55a2fd4f8177cbc6dd"
      }
     },
     "2259620774dd44cc84aed69e3bc60fef": {
      "model_module": "@jupyter-widgets/controls",
      "model_module_version": "1.5.0",
      "model_name": "FloatTextModel",
      "state": {
       "description": "Any:",
       "layout": "IPY_MODEL_82d227e7ff434175bc4437f818ba20f9",
       "step": null,
       "style": "IPY_MODEL_36b79d0fed724c8f94b9bb8e033dec1a",
       "value": 7.5
      }
     },
     "22801ee4b1604f728f83dd6131d68311": {
      "model_module": "@jupyter-widgets/output",
      "model_module_version": "1.0.0",
      "model_name": "OutputModel",
      "state": {
       "layout": "IPY_MODEL_b9de4987354f4792b4536719e73760b5"
      }
     },
     "22fca1185e9d4dc19165fd05484a5962": {
      "model_module": "@jupyter-widgets/base",
      "model_module_version": "1.2.0",
      "model_name": "LayoutModel",
      "state": {}
     },
     "230de36d35aa482fbceb2eac6c98aee2": {
      "model_module": "@jupyter-widgets/base",
      "model_module_version": "1.2.0",
      "model_name": "LayoutModel",
      "state": {}
     },
     "23524b6392ae4a91911acad666eb6009": {
      "model_module": "@jupyter-widgets/base",
      "model_module_version": "1.2.0",
      "model_name": "LayoutModel",
      "state": {}
     },
     "2357d552f726458c97a48667db8e5cf1": {
      "model_module": "@jupyter-widgets/base",
      "model_module_version": "1.2.0",
      "model_name": "LayoutModel",
      "state": {}
     },
     "23c5733b8dba4a5ba5166aab9dcc6e56": {
      "model_module": "@jupyter-widgets/base",
      "model_module_version": "1.2.0",
      "model_name": "LayoutModel",
      "state": {}
     },
     "23dd4f2e7f084f668c00d2c4407811e0": {
      "model_module": "@jupyter-widgets/controls",
      "model_module_version": "1.5.0",
      "model_name": "LabelModel",
      "state": {
       "layout": "IPY_MODEL_cdcd0ed79e7e44bcbac518bd7d6caeeb",
       "style": "IPY_MODEL_e9c1dcae82e948a19b036e0b4046bf60",
       "value": "3"
      }
     },
     "23e7196bd511416b94516ddab4fb2ab6": {
      "model_module": "@jupyter-widgets/controls",
      "model_module_version": "1.5.0",
      "model_name": "DescriptionStyleModel",
      "state": {
       "description_width": ""
      }
     },
     "2407bf8720324bb9a2996df5ef75e106": {
      "model_module": "@jupyter-widgets/controls",
      "model_module_version": "1.5.0",
      "model_name": "DescriptionStyleModel",
      "state": {
       "description_width": ""
      }
     },
     "2423be6f4ff64f5ba013f09db28de34c": {
      "model_module": "@jupyter-widgets/base",
      "model_module_version": "1.2.0",
      "model_name": "LayoutModel",
      "state": {}
     },
     "244402e253a04607a0d6d01ea8c84418": {
      "model_module": "@jupyter-widgets/base",
      "model_module_version": "1.2.0",
      "model_name": "LayoutModel",
      "state": {}
     },
     "245a9074ee9140a9b383937f1179c12e": {
      "model_module": "@jupyter-widgets/controls",
      "model_module_version": "1.5.0",
      "model_name": "ButtonModel",
      "state": {
       "description": "Click me",
       "icon": "check",
       "layout": "IPY_MODEL_37558a7f682a4122bed6950b25cc1b49",
       "style": "IPY_MODEL_81bb56244731402ea6ce6464af66e05f",
       "tooltip": "Click me"
      }
     },
     "24753765ec82456a94239ec09f955299": {
      "model_module": "@jupyter-widgets/base",
      "model_module_version": "1.2.0",
      "model_name": "LayoutModel",
      "state": {}
     },
     "24c6beb531ad453c8289b92f25bfa8d7": {
      "model_module": "@jupyter-widgets/base",
      "model_module_version": "1.2.0",
      "model_name": "LayoutModel",
      "state": {}
     },
     "24cfeb63c11f4842af69dee09122f96e": {
      "model_module": "@jupyter-widgets/base",
      "model_module_version": "1.2.0",
      "model_name": "LayoutModel",
      "state": {}
     },
     "24dc6042454c42e6a40c25c6f4cc08c5": {
      "model_module": "@jupyter-widgets/controls",
      "model_module_version": "1.5.0",
      "model_name": "DescriptionStyleModel",
      "state": {
       "description_width": ""
      }
     },
     "2501f97be42a447b8feb6d7dfa38bf1e": {
      "model_module": "@jupyter-widgets/controls",
      "model_module_version": "1.5.0",
      "model_name": "IntProgressModel",
      "state": {
       "description": "Loading:",
       "layout": "IPY_MODEL_7cafd6fb335e4a218b91623c4dbfefac",
       "max": 10,
       "style": "IPY_MODEL_52ac4aec6dd94ad7b7b4444b88a68948",
       "value": 7
      }
     },
     "25762b4240174b9997848755db7d2fc7": {
      "model_module": "@jupyter-widgets/base",
      "model_module_version": "1.2.0",
      "model_name": "LayoutModel",
      "state": {}
     },
     "25c02361ec45474980b61d811f1fd576": {
      "model_module": "@jupyter-widgets/base",
      "model_module_version": "1.2.0",
      "model_name": "LayoutModel",
      "state": {}
     },
     "25d682e286b540408bf7e745029b281c": {
      "model_module": "@jupyter-widgets/controls",
      "model_module_version": "1.5.0",
      "model_name": "CheckboxModel",
      "state": {
       "description": "Check me",
       "disabled": false,
       "layout": "IPY_MODEL_25762b4240174b9997848755db7d2fc7",
       "style": "IPY_MODEL_a00fa875024349e6bef46e9328083eaa",
       "value": false
      }
     },
     "2612ee62a80f466ab95e45b057785cab": {
      "model_module": "@jupyter-widgets/base",
      "model_module_version": "1.2.0",
      "model_name": "LayoutModel",
      "state": {}
     },
     "2666d3d21a1b47aebd1cf6007a4f03df": {
      "model_module": "@jupyter-widgets/controls",
      "model_module_version": "1.5.0",
      "model_name": "IntTextModel",
      "state": {
       "description": "Any:",
       "layout": "IPY_MODEL_de47aa88ae3b4710960cef6500b11781",
       "step": 1,
       "style": "IPY_MODEL_7fa66c024a754a6397c03debee6fecf4",
       "value": 7
      }
     },
     "26916302aed04931b90832ad6f9ed155": {
      "model_module": "@jupyter-widgets/base",
      "model_module_version": "1.2.0",
      "model_name": "LayoutModel",
      "state": {}
     },
     "269bb7c513e84af092ad6722c9e45a0e": {
      "model_module": "@jupyter-widgets/base",
      "model_module_version": "1.2.0",
      "model_name": "LayoutModel",
      "state": {}
     },
     "26bc5b4f574e4d73a9cb9ea29d118721": {
      "model_module": "@jupyter-widgets/controls",
      "model_module_version": "1.5.0",
      "model_name": "DescriptionStyleModel",
      "state": {
       "description_width": ""
      }
     },
     "26c0dadc47e249a193a6b861265ac170": {
      "model_module": "@jupyter-widgets/controls",
      "model_module_version": "1.5.0",
      "model_name": "DescriptionStyleModel",
      "state": {
       "description_width": ""
      }
     },
     "27512cc5afcb42918e28a8ec83058541": {
      "model_module": "@jupyter-widgets/controls",
      "model_module_version": "1.5.0",
      "model_name": "ButtonModel",
      "state": {
       "description": "Click me",
       "icon": "check",
       "layout": "IPY_MODEL_9f02a5bf323742508db6c90b622cacb7",
       "style": "IPY_MODEL_b8c2570d3f234c9ba389eb67bc15fcfd",
       "tooltip": "Click me"
      }
     },
     "2798e89236dc4e4d93d5c9e2a1ce5367": {
      "model_module": "@jupyter-widgets/base",
      "model_module_version": "1.2.0",
      "model_name": "LayoutModel",
      "state": {}
     },
     "2801faae23cc449985e36e42269cfd87": {
      "model_module": "@jupyter-widgets/controls",
      "model_module_version": "1.5.0",
      "model_name": "DescriptionStyleModel",
      "state": {
       "description_width": ""
      }
     },
     "2840399b188c4acaa04066b3e97d571a": {
      "model_module": "@jupyter-widgets/base",
      "model_module_version": "1.2.0",
      "model_name": "LayoutModel",
      "state": {}
     },
     "289f62a26fa6437d832509e6e3c90807": {
      "model_module": "@jupyter-widgets/controls",
      "model_module_version": "1.5.0",
      "model_name": "ProgressStyleModel",
      "state": {
       "description_width": ""
      }
     },
     "28df4a87bc7a44fa82df17c52c978e7e": {
      "model_module": "@jupyter-widgets/base",
      "model_module_version": "1.2.0",
      "model_name": "LayoutModel",
      "state": {}
     },
     "28f1e22ec0d3487484f3cdafb78c8f0e": {
      "model_module": "@jupyter-widgets/base",
      "model_module_version": "1.2.0",
      "model_name": "LayoutModel",
      "state": {
       "border": "1px solid black"
      }
     },
     "291bab8893db4274af44b4955e6d08ca": {
      "model_module": "@jupyter-widgets/base",
      "model_module_version": "1.2.0",
      "model_name": "LayoutModel",
      "state": {}
     },
     "29485eb7bdc04eceb4e74b9935b46a05": {
      "model_module": "@jupyter-widgets/base",
      "model_module_version": "1.2.0",
      "model_name": "LayoutModel",
      "state": {}
     },
     "29e35989ad3e43a7a6599d1be0e28627": {
      "model_module": "@jupyter-widgets/controls",
      "model_module_version": "1.5.0",
      "model_name": "RadioButtonsModel",
      "state": {
       "_options_labels": [
        "pepperoni",
        "pineapple",
        "anchovies"
       ],
       "description": "Pizza topping:",
       "index": 1,
       "layout": "IPY_MODEL_804bfdbcb60742a6918bc30209948c41",
       "style": "IPY_MODEL_6655e7089a934d6bb67b73ca1c001f9a"
      }
     },
     "29f23c638d624604b0f23f6ad650ce1c": {
      "model_module": "@jupyter-widgets/base",
      "model_module_version": "1.2.0",
      "model_name": "LayoutModel",
      "state": {}
     },
     "29f56f3a254e41faa3ea012cbfa38bcf": {
      "model_module": "@jupyter-widgets/controls",
      "model_module_version": "1.5.0",
      "model_name": "DescriptionStyleModel",
      "state": {
       "description_width": ""
      }
     },
     "2a45afb6230542e591f3b1f46982bdb6": {
      "model_module": "@jupyter-widgets/controls",
      "model_module_version": "1.5.0",
      "model_name": "DescriptionStyleModel",
      "state": {
       "description_width": ""
      }
     },
     "2a709cdf1d6145a99a71e246c2f882d2": {
      "model_module": "@jupyter-widgets/controls",
      "model_module_version": "1.5.0",
      "model_name": "RadioButtonsModel",
      "state": {
       "_options_labels": [
        "pepperoni",
        "pineapple",
        "anchovies"
       ],
       "description": "Pizza topping:",
       "index": 1,
       "layout": "IPY_MODEL_1cebc9535943440a81de470a846e1a61",
       "style": "IPY_MODEL_1c76ec50133840aa83eac922558c7dd5"
      }
     },
     "2aa114373ab14f8caa56f15542793800": {
      "model_module": "@jupyter-widgets/base",
      "model_module_version": "1.2.0",
      "model_name": "LayoutModel",
      "state": {}
     },
     "2b0e4f7cb5ef4209acfb65e3237d609b": {
      "model_module": "@jupyter-widgets/controls",
      "model_module_version": "1.5.0",
      "model_name": "DescriptionStyleModel",
      "state": {
       "description_width": ""
      }
     },
     "2b25adb981f943d19be7665a8e7b7157": {
      "model_module": "@jupyter-widgets/controls",
      "model_module_version": "1.5.0",
      "model_name": "DescriptionStyleModel",
      "state": {
       "description_width": ""
      }
     },
     "2b53aaf6b28448bcaf7f723e22369dd4": {
      "model_module": "@jupyter-widgets/controls",
      "model_module_version": "1.5.0",
      "model_name": "AccordionModel",
      "state": {
       "_titles": {
        "0": "Slider",
        "1": "Text"
       },
       "children": [
        "IPY_MODEL_e0bd89507f664f128d4c87181af4a05e",
        "IPY_MODEL_f2acb17e4d77405aa646fd3dfa1868df"
       ],
       "layout": "IPY_MODEL_e18503c349464d4f80043c14aa61d3cd",
       "selected_index": null
      }
     },
     "2b6e923fb5944311b5dbf53c51497793": {
      "model_module": "@jupyter-widgets/controls",
      "model_module_version": "1.5.0",
      "model_name": "SliderStyleModel",
      "state": {
       "description_width": ""
      }
     },
     "2b9da79c6fcf48cebd0b005380634d7c": {
      "model_module": "@jupyter-widgets/controls",
      "model_module_version": "1.5.0",
      "model_name": "DescriptionStyleModel",
      "state": {
       "description_width": ""
      }
     },
     "2bbc6d3093c346c9b0bb453b51c56c75": {
      "model_module": "@jupyter-widgets/controls",
      "model_module_version": "1.5.0",
      "model_name": "SliderStyleModel",
      "state": {
       "description_width": ""
      }
     },
     "2c5d5171a1b54523b3bf511c2c461631": {
      "model_module": "@jupyter-widgets/controls",
      "model_module_version": "1.5.0",
      "model_name": "FloatRangeSliderModel",
      "state": {
       "_model_name": "FloatRangeSliderModel",
       "_view_name": "FloatRangeSliderView",
       "continuous_update": false,
       "description": "Test:",
       "layout": "IPY_MODEL_7a88f44b47e444c696fc7db749c81290",
       "max": 10,
       "readout_format": ".1f",
       "step": 0.1,
       "style": "IPY_MODEL_32096cdf52894264bd66abccdfb7276b",
       "value": [
        5,
        7.5
       ]
      }
     },
     "2c8105db469d4c88851d4427e9558028": {
      "model_module": "@jupyter-widgets/controls",
      "model_module_version": "1.5.0",
      "model_name": "SelectionRangeSliderModel",
      "state": {
       "_model_name": "SelectionRangeSliderModel",
       "_options_labels": [
        "Jan",
        "Feb",
        "Mar",
        "Apr",
        "May",
        "Jun",
        "Jul",
        "Aug",
        "Sep",
        "Oct",
        "Nov",
        "Dec"
       ],
       "_view_name": "SelectionRangeSliderView",
       "description": "Months (2015)",
       "index": [
        0,
        11
       ],
       "layout": "IPY_MODEL_b14e578a5b9f4b29b44709466d3ec873",
       "style": "IPY_MODEL_b19f14bcadf241608956fa06e1f6081a"
      }
     },
     "2c99a19326424d2885bdec2583a7194e": {
      "model_module": "@jupyter-widgets/base",
      "model_module_version": "1.2.0",
      "model_name": "LayoutModel",
      "state": {}
     },
     "2cecc06b99f64422aeae9c6ab004c1ab": {
      "model_module": "@jupyter-widgets/controls",
      "model_module_version": "1.5.0",
      "model_name": "DropdownModel",
      "state": {
       "_options_labels": [
        "1",
        "2",
        "3"
       ],
       "description": "Number:",
       "index": 1,
       "layout": "IPY_MODEL_01532fcb144647858d62a02d83e9005c",
       "style": "IPY_MODEL_72772f43be9d46109eba8c163316ab11"
      }
     },
     "2d363a34926145bda1ac555886143627": {
      "model_module": "@jupyter-widgets/controls",
      "model_module_version": "1.5.0",
      "model_name": "DescriptionStyleModel",
      "state": {
       "description_width": ""
      }
     },
     "2d95f83f083e4a9baad255e79baf77d4": {
      "model_module": "@jupyter-widgets/base",
      "model_module_version": "1.2.0",
      "model_name": "LayoutModel",
      "state": {}
     },
     "2dad55143c3c4a599367659aec103cd2": {
      "model_module": "@jupyter-widgets/controls",
      "model_module_version": "1.5.0",
      "model_name": "LinkModel",
      "state": {
       "source": [
        "IPY_MODEL_f9357d456f2948218f0b414c5ad8bd5e",
        "value"
       ],
       "target": [
        "IPY_MODEL_4a121039ea5344e0a63b2d8cc2c3cb59",
        "value"
       ]
      }
     },
     "2e1b7a8790f34c06a49dcf26e1fa965f": {
      "model_module": "@jupyter-widgets/controls",
      "model_module_version": "1.5.0",
      "model_name": "SliderStyleModel",
      "state": {
       "description_width": ""
      }
     },
     "2e3a3294d1514da9bc06ce14fef6ee87": {
      "model_module": "@jupyter-widgets/controls",
      "model_module_version": "1.5.0",
      "model_name": "HBoxModel",
      "state": {
       "children": [
        "IPY_MODEL_9ad8c3b071db4f9aa48b55eb659f9d3f",
        "IPY_MODEL_d81bc3b295284e709632ad1a3e97276e"
       ],
       "layout": "IPY_MODEL_ad8a50d8088a4c7ca5903638f02b8c87"
      }
     },
     "2e527b7474ea466a9c5ad97ef9ccd6eb": {
      "model_module": "@jupyter-widgets/controls",
      "model_module_version": "1.5.0",
      "model_name": "FloatSliderModel",
      "state": {
       "continuous_update": false,
       "description": "Test:",
       "layout": "IPY_MODEL_9edd9c0048474360b0b2694f934cb6e1",
       "max": 10,
       "orientation": "vertical",
       "readout_format": ".1f",
       "step": 0.1,
       "style": "IPY_MODEL_0bd8dfafba0d4f7c94ba172ce49545f7",
       "value": 7.5
      }
     },
     "2eb65c5469554cd59ead6cb1454d8762": {
      "model_module": "@jupyter-widgets/output",
      "model_module_version": "1.0.0",
      "model_name": "OutputModel",
      "state": {
       "layout": "IPY_MODEL_3e5be519011f46afa149ecd7647fe289",
       "outputs": [
        {
         "name": "stdout",
         "output_type": "stream",
         "text": "Output appended with append_stdout"
        },
        {
         "data": {
          "text/html": "\n        <iframe\n            width=\"400\"\n            height=\"300\"\n            src=\"https://www.youtube.com/embed/eWzY2nGfkXk\"\n            frameborder=\"0\"\n            allowfullscreen\n        ></iframe>\n        ",
          "text/plain": "<IPython.lib.display.YouTubeVideo at 0x7fb4f420e358>"
         },
         "metadata": {},
         "output_type": "display_data"
        }
       ]
      }
     },
     "2eeedeffa80a41109023176b86a32b3f": {
      "model_module": "@jupyter-widgets/base",
      "model_module_version": "1.2.0",
      "model_name": "LayoutModel",
      "state": {}
     },
     "2efd56f50f484a109ff8103273f332d2": {
      "model_module": "@jupyter-widgets/base",
      "model_module_version": "1.2.0",
      "model_name": "LayoutModel",
      "state": {}
     },
     "2f059bd7b3a44edc98073f5f8b275ca1": {
      "model_module": "@jupyter-widgets/controls",
      "model_module_version": "1.5.0",
      "model_name": "DescriptionStyleModel",
      "state": {
       "description_width": ""
      }
     },
     "2f2bb6f9eb344f888f39367f0b672141": {
      "model_module": "@jupyter-widgets/base",
      "model_module_version": "1.2.0",
      "model_name": "LayoutModel",
      "state": {}
     },
     "2f3a69d0416d4b5aa83f285d1cf6ffbb": {
      "model_module": "@jupyter-widgets/controls",
      "model_module_version": "1.5.0",
      "model_name": "LabelModel",
      "state": {
       "layout": "IPY_MODEL_a216aa92e4a44012bdb1040fa26e59f2",
       "style": "IPY_MODEL_a0680bfbb616419c9234f6418033866b",
       "value": "1"
      }
     },
     "2f60677e8bc748598feca1027aebc0a5": {
      "model_module": "@jupyter-widgets/controls",
      "model_module_version": "1.5.0",
      "model_name": "SliderStyleModel",
      "state": {
       "description_width": ""
      }
     },
     "302323bcc1b3441b8691b16d2b1dc4c3": {
      "model_module": "@jupyter-widgets/controls",
      "model_module_version": "1.5.0",
      "model_name": "DescriptionStyleModel",
      "state": {
       "description_width": ""
      }
     },
     "3071b672026f494e88f9fccf97917835": {
      "model_module": "@jupyter-widgets/controls",
      "model_module_version": "1.5.0",
      "model_name": "DescriptionStyleModel",
      "state": {
       "description_width": ""
      }
     },
     "3078ff8e8fdb49b4bf3a0ee38ca558bb": {
      "model_module": "@jupyter-widgets/controls",
      "model_module_version": "1.5.0",
      "model_name": "IntSliderModel",
      "state": {
       "continuous_update": false,
       "description": "Test:",
       "layout": "IPY_MODEL_524b248d98a44e0a877200386a91cd96",
       "max": 10,
       "style": "IPY_MODEL_4fc37ea53cf641f99ffe27e3ff956e50",
       "value": 7
      }
     },
     "3079e008f6b944c7b3956d5b8baae579": {
      "model_module": "@jupyter-widgets/controls",
      "model_module_version": "1.5.0",
      "model_name": "LabelModel",
      "state": {
       "layout": "IPY_MODEL_5ff8305b89ee42eb9650fbac872ada46",
       "style": "IPY_MODEL_0aaca9a8e3c5410f92d0bdd44eb0f6b1",
       "value": "3"
      }
     },
     "30923b99d3dd4b8a88a56fb7f1df16bd": {
      "model_module": "@jupyter-widgets/controls",
      "model_module_version": "1.5.0",
      "model_name": "DescriptionStyleModel",
      "state": {
       "description_width": ""
      }
     },
     "3157ece976a647d3aa9f8d4cd8fde6bc": {
      "model_module": "@jupyter-widgets/controls",
      "model_module_version": "1.5.0",
      "model_name": "DescriptionStyleModel",
      "state": {
       "description_width": ""
      }
     },
     "318023cc3ace4b65b7895fc2cd1a4e66": {
      "model_module": "@jupyter-widgets/controls",
      "model_module_version": "1.5.0",
      "model_name": "ToggleButtonsModel",
      "state": {
       "_options_labels": [
        "Slow",
        "Regular",
        "Fast"
       ],
       "button_style": "",
       "description": "Speed:",
       "icons": [],
       "index": 0,
       "layout": "IPY_MODEL_2840399b188c4acaa04066b3e97d571a",
       "style": "IPY_MODEL_e96bc0bee4274dfe8dd57907c56d94b4",
       "tooltips": [
        "Description of slow",
        "Description of regular",
        "Description of fast"
       ]
      }
     },
     "318811d1979945dba762a8c2e2e01829": {
      "model_module": "@jupyter-widgets/base",
      "model_module_version": "1.2.0",
      "model_name": "LayoutModel",
      "state": {}
     },
     "31aee2286865466289e6d21377fb8b78": {
      "model_module": "@jupyter-widgets/controls",
      "model_module_version": "1.5.0",
      "model_name": "SliderStyleModel",
      "state": {
       "description_width": ""
      }
     },
     "31c29582d5d64955a2093a33b54b247a": {
      "model_module": "@jupyter-widgets/controls",
      "model_module_version": "1.5.0",
      "model_name": "LabelModel",
      "state": {
       "layout": "IPY_MODEL_230de36d35aa482fbceb2eac6c98aee2",
       "style": "IPY_MODEL_be37b421d1874809be4d829e6ed2b00e",
       "value": "2"
      }
     },
     "32096cdf52894264bd66abccdfb7276b": {
      "model_module": "@jupyter-widgets/controls",
      "model_module_version": "1.5.0",
      "model_name": "SliderStyleModel",
      "state": {
       "description_width": ""
      }
     },
     "32100633b94b438b83c1165ef598cfb9": {
      "model_module": "@jupyter-widgets/base",
      "model_module_version": "1.2.0",
      "model_name": "LayoutModel",
      "state": {}
     },
     "32383b87c2444ca2b481fa6fcce1fc1b": {
      "model_module": "@jupyter-widgets/base",
      "model_module_version": "1.2.0",
      "model_name": "LayoutModel",
      "state": {}
     },
     "3238b200bd6c4d9ebffbb51ee794b972": {
      "model_module": "@jupyter-widgets/base",
      "model_module_version": "1.2.0",
      "model_name": "LayoutModel",
      "state": {
       "border": "1px solid black"
      }
     },
     "3248d257a137479ab02d38ae70d9954f": {
      "model_module": "@jupyter-widgets/controls",
      "model_module_version": "1.5.0",
      "model_name": "SliderStyleModel",
      "state": {
       "description_width": ""
      }
     },
     "329073a8a7f1433390d80f202dbc6245": {
      "model_module": "@jupyter-widgets/base",
      "model_module_version": "1.2.0",
      "model_name": "LayoutModel",
      "state": {}
     },
     "32a8452aa4e24f19b4d2e488e72206de": {
      "model_module": "@jupyter-widgets/controls",
      "model_module_version": "1.5.0",
      "model_name": "TextModel",
      "state": {
       "description": "P4",
       "layout": "IPY_MODEL_00cd6fa0f60b4c6eb1957f031139478f",
       "style": "IPY_MODEL_a3265a391e9e4ff3bfb8f719490e7ea6"
      }
     },
     "32c34f77042b4b34ba697a8536650478": {
      "model_module": "@jupyter-widgets/base",
      "model_module_version": "1.2.0",
      "model_name": "LayoutModel",
      "state": {}
     },
     "32c89ac9c9f440c4b013e227b8bfb40c": {
      "model_module": "@jupyter-widgets/controls",
      "model_module_version": "1.5.0",
      "model_name": "SliderStyleModel",
      "state": {
       "description_width": ""
      }
     },
     "32d286cb80c44b18b002426582387efc": {
      "model_module": "@jupyter-widgets/base",
      "model_module_version": "1.2.0",
      "model_name": "LayoutModel",
      "state": {}
     },
     "3337008968544b4ca543a5cf391d3f07": {
      "model_module": "@jupyter-widgets/base",
      "model_module_version": "1.2.0",
      "model_name": "LayoutModel",
      "state": {}
     },
     "341e580e5eaa4dc18967abfbbe74fa7e": {
      "model_module": "@jupyter-widgets/controls",
      "model_module_version": "1.5.0",
      "model_name": "DescriptionStyleModel",
      "state": {
       "description_width": ""
      }
     },
     "3450717a613d4852a8b6a78d6c0355d0": {
      "model_module": "@jupyter-widgets/controls",
      "model_module_version": "1.5.0",
      "model_name": "DescriptionStyleModel",
      "state": {
       "description_width": ""
      }
     },
     "34538292565b45808cbb6b8a6332da5d": {
      "model_module": "@jupyter-widgets/controls",
      "model_module_version": "1.5.0",
      "model_name": "SelectModel",
      "state": {
       "_options_labels": [
        "Linux",
        "Windows",
        "OSX"
       ],
       "description": "OS:",
       "index": 2,
       "layout": "IPY_MODEL_ac4971205b7149b9b220aba134ce929f",
       "style": "IPY_MODEL_41150d1e3be4442d95872ec9bffa852c"
      }
     },
     "3539cfb7042f48509841d15e1c30fefd": {
      "model_module": "@jupyter-widgets/controls",
      "model_module_version": "1.5.0",
      "model_name": "LabelModel",
      "state": {
       "layout": "IPY_MODEL_0164c1db3bc14e14a831fb5fa33502d4",
       "style": "IPY_MODEL_0180b717e38d4040aa7955e37d29c252",
       "value": "3"
      }
     },
     "3544ee5f608845ddb1d8eac77aa01449": {
      "model_module": "@jupyter-widgets/controls",
      "model_module_version": "1.5.0",
      "model_name": "LabelModel",
      "state": {
       "layout": "IPY_MODEL_c3240771c5c9450c97e1160e31169e86",
       "style": "IPY_MODEL_1509e0871df24b35b27907730430b54f",
       "value": "The $m$ in $E=mc^2$:"
      }
     },
     "356c35b2492e41cfbca75520a59c0d31": {
      "model_module": "@jupyter-widgets/controls",
      "model_module_version": "1.5.0",
      "model_name": "IntRangeSliderModel",
      "state": {
       "_model_name": "IntRangeSliderModel",
       "_view_name": "IntRangeSliderView",
       "continuous_update": false,
       "description": "Test:",
       "layout": "IPY_MODEL_3a6c25e5e3dd42d88a6dfe66e3327e4d",
       "max": 10,
       "style": "IPY_MODEL_760883488da749b5a4085ac6ff0b34b9",
       "value": [
        5,
        7
       ]
      }
     },
     "3575ccc1bd0e4bca8627336ec946bd77": {
      "model_module": "@jupyter-widgets/controls",
      "model_module_version": "1.5.0",
      "model_name": "BoundedFloatTextModel",
      "state": {
       "description": "Text:",
       "layout": "IPY_MODEL_6847f4ee91834150ba3ce36cf7b54390",
       "max": 10,
       "style": "IPY_MODEL_5c933e7c059c403f9f4fe27ec8270cfd",
       "value": 7.5
      }
     },
     "3580412c684e4004a59dd102c026fab9": {
      "model_module": "@jupyter-widgets/controls",
      "model_module_version": "1.5.0",
      "model_name": "DescriptionStyleModel",
      "state": {
       "description_width": ""
      }
     },
     "35a6ffe8f1e54f92a40bdc65bf7210b0": {
      "model_module": "@jupyter-widgets/controls",
      "model_module_version": "1.5.0",
      "model_name": "DescriptionStyleModel",
      "state": {
       "description_width": ""
      }
     },
     "3616d287067a4d258bf835a025444743": {
      "model_module": "@jupyter-widgets/controls",
      "model_module_version": "1.5.0",
      "model_name": "LabelModel",
      "state": {
       "layout": "IPY_MODEL_2f2bb6f9eb344f888f39367f0b672141",
       "style": "IPY_MODEL_64606e122a6e4ce790f2255babc32943",
       "value": "3"
      }
     },
     "364e58d0cb534b4d8bad72ee42031c01": {
      "model_module": "@jupyter-widgets/controls",
      "model_module_version": "1.5.0",
      "model_name": "DescriptionStyleModel",
      "state": {
       "description_width": ""
      }
     },
     "3666bde02bb84495b84cddb4af04ab3c": {
      "model_module": "@jupyter-widgets/controls",
      "model_module_version": "1.5.0",
      "model_name": "LabelModel",
      "state": {
       "layout": "IPY_MODEL_7bc916bc45b7472c98e883333686234e",
       "style": "IPY_MODEL_dcefb51532d7460eb484f4924eedf70f",
       "value": "3"
      }
     },
     "36b79d0fed724c8f94b9bb8e033dec1a": {
      "model_module": "@jupyter-widgets/controls",
      "model_module_version": "1.5.0",
      "model_name": "DescriptionStyleModel",
      "state": {
       "description_width": ""
      }
     },
     "372d521bff3246fe9ba087e5af806d0c": {
      "model_module": "@jupyter-widgets/base",
      "model_module_version": "1.2.0",
      "model_name": "LayoutModel",
      "state": {}
     },
     "37558a7f682a4122bed6950b25cc1b49": {
      "model_module": "@jupyter-widgets/base",
      "model_module_version": "1.2.0",
      "model_name": "LayoutModel",
      "state": {}
     },
     "378a4cb6fe3d4cf78a86669f4a1438ad": {
      "model_module": "@jupyter-widgets/controls",
      "model_module_version": "1.5.0",
      "model_name": "CheckboxModel",
      "state": {
       "description": "Check me",
       "disabled": false,
       "layout": "IPY_MODEL_1dbf19e4c3b14067a86492645e64b889",
       "style": "IPY_MODEL_9babd111bf6f452ca737160131fca7c2",
       "value": false
      }
     },
     "37db4389272a4fefabbf32d2ecd5ae12": {
      "model_module": "@jupyter-widgets/controls",
      "model_module_version": "1.5.0",
      "model_name": "SliderStyleModel",
      "state": {
       "description_width": ""
      }
     },
     "3868629228d64a9b8ce673d8973a3183": {
      "model_module": "@jupyter-widgets/base",
      "model_module_version": "1.2.0",
      "model_name": "LayoutModel",
      "state": {}
     },
     "388f29f55ed94020a407d72f6ace0302": {
      "model_module": "@jupyter-widgets/controls",
      "model_module_version": "1.5.0",
      "model_name": "FloatLogSliderModel",
      "state": {
       "description": "Log Slider",
       "layout": "IPY_MODEL_67b28a62f2624dcf8bf514d8a318415e",
       "max": 10,
       "min": -10,
       "step": 0.2,
       "style": "IPY_MODEL_469a8ccd0ae74a66b44853814f509e23",
       "value": 10
      }
     },
     "38f6c8e891bc455eb419e6293c0c3dab": {
      "model_module": "@jupyter-widgets/base",
      "model_module_version": "1.2.0",
      "model_name": "LayoutModel",
      "state": {}
     },
     "3910c862e58047848745852b439f41c6": {
      "model_module": "@jupyter-widgets/controls",
      "model_module_version": "1.5.0",
      "model_name": "LabelModel",
      "state": {
       "layout": "IPY_MODEL_ea2823d28d064009b3231a4d787f7a94",
       "style": "IPY_MODEL_060f3a5a72fc4ee384b678f2278bbf91",
       "value": "3"
      }
     },
     "3915eef972ee46eaad657931fe35fea9": {
      "model_module": "@jupyter-widgets/controls",
      "model_module_version": "1.5.0",
      "model_name": "SliderStyleModel",
      "state": {
       "description_width": ""
      }
     },
     "392ade698d474fcfb82a22efbccd77cc": {
      "model_module": "@jupyter-widgets/controls",
      "model_module_version": "1.5.0",
      "model_name": "DatePickerModel",
      "state": {
       "description": "Pick a Date",
       "disabled": false,
       "layout": "IPY_MODEL_6572fe6ad11343308e5f8449d34cfe0b",
       "style": "IPY_MODEL_d91e8d3bb7984f529a8a57e08c0884b9"
      }
     },
     "39caec00136c4f948a1e234ed3d71144": {
      "model_module": "@jupyter-widgets/base",
      "model_module_version": "1.2.0",
      "model_name": "LayoutModel",
      "state": {}
     },
     "3a2d0f4de868409c988337a852942dc7": {
      "model_module": "@jupyter-widgets/base",
      "model_module_version": "1.2.0",
      "model_name": "LayoutModel",
      "state": {}
     },
     "3a3db81e763b485097956babe8834802": {
      "model_module": "@jupyter-widgets/controls",
      "model_module_version": "1.5.0",
      "model_name": "IntSliderModel",
      "state": {
       "continuous_update": false,
       "description": "Test:",
       "layout": "IPY_MODEL_f93e8cb731d44f0e96b2bd1582b64bc6",
       "max": 10,
       "style": "IPY_MODEL_37db4389272a4fefabbf32d2ecd5ae12",
       "value": 7
      }
     },
     "3a6c25e5e3dd42d88a6dfe66e3327e4d": {
      "model_module": "@jupyter-widgets/base",
      "model_module_version": "1.2.0",
      "model_name": "LayoutModel",
      "state": {}
     },
     "3a9abffe89bd464c8de094fbb7932dbd": {
      "model_module": "@jupyter-widgets/base",
      "model_module_version": "1.2.0",
      "model_name": "LayoutModel",
      "state": {}
     },
     "3af25f3434c7472499f87d1831e1de19": {
      "model_module": "@jupyter-widgets/controls",
      "model_module_version": "1.5.0",
      "model_name": "DescriptionStyleModel",
      "state": {
       "description_width": ""
      }
     },
     "3b36b76cbab144b082cdcc51622f2312": {
      "model_module": "@jupyter-widgets/controls",
      "model_module_version": "1.5.0",
      "model_name": "DescriptionStyleModel",
      "state": {
       "description_width": ""
      }
     },
     "3b618e56426a4ff38f636b204b68b04e": {
      "model_module": "@jupyter-widgets/controls",
      "model_module_version": "1.5.0",
      "model_name": "LabelModel",
      "state": {
       "layout": "IPY_MODEL_971d2aef52264f5a9a306e9fb4d465e4",
       "style": "IPY_MODEL_467f29f20c60455c965b0255cf73f64e",
       "value": "The $m$ in $E=mc^2$:"
      }
     },
     "3b83d9b1c6bc4d49a69bb9ce0d0c29ff": {
      "model_module": "@jupyter-widgets/controls",
      "model_module_version": "1.5.0",
      "model_name": "DropdownModel",
      "state": {
       "_options_labels": [
        "1",
        "2",
        "3"
       ],
       "description": "Number:",
       "index": 1,
       "layout": "IPY_MODEL_9dd61a4469ff49f69c8cd6cc9c7e7a90",
       "style": "IPY_MODEL_cea2f01371f84d4e9e7262b9cb56a46f"
      }
     },
     "3ba30c4d5af144138b1a3728d84b0b75": {
      "model_module": "@jupyter-widgets/controls",
      "model_module_version": "1.5.0",
      "model_name": "HBoxModel",
      "state": {
       "children": [
        "IPY_MODEL_8c5f8c6b397946abb48b7e57b0bc068e",
        "IPY_MODEL_68621a3951514817a6ed66df711795b3"
       ],
       "layout": "IPY_MODEL_78103ba0b3134c5b8b56fd367293672b"
      }
     },
     "3bc76eb862e54b1e9012565075243346": {
      "model_module": "@jupyter-widgets/base",
      "model_module_version": "1.2.0",
      "model_name": "LayoutModel",
      "state": {}
     },
     "3c09dad6ce67432c8d7136bfe04ff939": {
      "model_module": "@jupyter-widgets/controls",
      "model_module_version": "1.5.0",
      "model_name": "ToggleButtonsStyleModel",
      "state": {
       "button_width": "",
       "description_width": ""
      }
     },
     "3c3c9e86a505465bb48e3846ca70f397": {
      "model_module": "@jupyter-widgets/controls",
      "model_module_version": "1.5.0",
      "model_name": "TextareaModel",
      "state": {
       "description": "String:",
       "layout": "IPY_MODEL_532e630e4de1485b8df63c22a4d94947",
       "placeholder": "Type something",
       "style": "IPY_MODEL_781c970d3d9344e594f5d9b5f2521f8d",
       "value": "Hello World"
      }
     },
     "3c4bc1fbc2ae4e60840bc57afb95c36f": {
      "model_module": "@jupyter-widgets/controls",
      "model_module_version": "1.5.0",
      "model_name": "DescriptionStyleModel",
      "state": {
       "description_width": ""
      }
     },
     "3c92790c4724476fb7d6d298621b1f35": {
      "model_module": "@jupyter-widgets/base",
      "model_module_version": "1.2.0",
      "model_name": "LayoutModel",
      "state": {}
     },
     "3d0e10d4fc034bb2abecb63e5a8b1ff0": {
      "model_module": "@jupyter-widgets/controls",
      "model_module_version": "1.5.0",
      "model_name": "ControllerModel",
      "state": {
       "layout": "IPY_MODEL_244402e253a04607a0d6d01ea8c84418"
      }
     },
     "3d1a257c69e941e8871927b69c06e23f": {
      "model_module": "@jupyter-widgets/controls",
      "model_module_version": "1.5.0",
      "model_name": "FloatRangeSliderModel",
      "state": {
       "_model_name": "FloatRangeSliderModel",
       "_view_name": "FloatRangeSliderView",
       "continuous_update": false,
       "description": "Test:",
       "layout": "IPY_MODEL_4184498df316452d924e7fe7a5848106",
       "max": 10,
       "readout_format": ".1f",
       "step": 0.1,
       "style": "IPY_MODEL_1ede66d783b348959b89c8548715ac70",
       "value": [
        5,
        7.5
       ]
      }
     },
     "3db12febc66a4613ba5737d3a83429ae": {
      "model_module": "@jupyter-widgets/controls",
      "model_module_version": "1.5.0",
      "model_name": "DescriptionStyleModel",
      "state": {
       "description_width": ""
      }
     },
     "3dcb35c0745c499ab764ad6c083f9c2e": {
      "model_module": "@jupyter-widgets/controls",
      "model_module_version": "1.5.0",
      "model_name": "DescriptionStyleModel",
      "state": {
       "description_width": ""
      }
     },
     "3e3e4ac20789453d8c35e63f9c3c83dc": {
      "model_module": "@jupyter-widgets/base",
      "model_module_version": "1.2.0",
      "model_name": "LayoutModel",
      "state": {}
     },
     "3e512e614afc49b6a49e9aacd4c116b7": {
      "model_module": "@jupyter-widgets/base",
      "model_module_version": "1.2.0",
      "model_name": "LayoutModel",
      "state": {}
     },
     "3e5be519011f46afa149ecd7647fe289": {
      "model_module": "@jupyter-widgets/base",
      "model_module_version": "1.2.0",
      "model_name": "LayoutModel",
      "state": {
       "border": "1px solid black"
      }
     },
     "3eab2361a17b483796de8f36d64faeee": {
      "model_module": "@jupyter-widgets/controls",
      "model_module_version": "1.5.0",
      "model_name": "HBoxModel",
      "state": {
       "children": [
        "IPY_MODEL_3544ee5f608845ddb1d8eac77aa01449",
        "IPY_MODEL_90edcb335a3349189d9c444e027bd598"
       ],
       "layout": "IPY_MODEL_bb84f79ef0a64983aa75ac4986df3ee0"
      }
     },
     "3f1792e0781640bbbdac2ad5c2bf9d39": {
      "model_module": "@jupyter-widgets/base",
      "model_module_version": "1.2.0",
      "model_name": "LayoutModel",
      "state": {}
     },
     "3f304a0e9c224b4f8c574aabe02b586d": {
      "model_module": "@jupyter-widgets/base",
      "model_module_version": "1.2.0",
      "model_name": "LayoutModel",
      "state": {}
     },
     "3f7788f2796d4038997b93302f6d27cd": {
      "model_module": "@jupyter-widgets/base",
      "model_module_version": "1.2.0",
      "model_name": "LayoutModel",
      "state": {}
     },
     "3fb24792c88444ada176750d49cda76c": {
      "model_module": "@jupyter-widgets/controls",
      "model_module_version": "1.5.0",
      "model_name": "LabelModel",
      "state": {
       "layout": "IPY_MODEL_b3108513b62d4b8990b097e1b8f43146",
       "style": "IPY_MODEL_b41a8cfb69c0482aae1aa0e346802922",
       "value": "The $m$ in $E=mc^2$:"
      }
     },
     "40008b376c1a43f6ab53ddec4dfb6adb": {
      "model_module": "@jupyter-widgets/controls",
      "model_module_version": "1.5.0",
      "model_name": "DropdownModel",
      "state": {
       "_options_labels": [
        "1",
        "2",
        "3"
       ],
       "description": "Number:",
       "index": 1,
       "layout": "IPY_MODEL_83833b1c51674e7583eb527d529c35ac",
       "style": "IPY_MODEL_f61c2151a573457a8875eb65ec693c98"
      }
     },
     "4008c11faf9a4728b1a47cbb1e04ac8a": {
      "model_module": "@jupyter-widgets/controls",
      "model_module_version": "1.5.0",
      "model_name": "DescriptionStyleModel",
      "state": {
       "description_width": ""
      }
     },
     "40628c4962ac49b6a3df9ede10028e4b": {
      "model_module": "@jupyter-widgets/controls",
      "model_module_version": "1.5.0",
      "model_name": "TextModel",
      "state": {
       "description": "P3",
       "layout": "IPY_MODEL_b9657dead20a44e69ad1db3a10c5f974",
       "style": "IPY_MODEL_6464384d93214c6683d92e2b18b70a24"
      }
     },
     "40698fd64f0f4baab4531f23a5f118b4": {
      "model_module": "@jupyter-widgets/controls",
      "model_module_version": "1.5.0",
      "model_name": "DescriptionStyleModel",
      "state": {
       "description_width": ""
      }
     },
     "4080ef1650554e7dba465de2b2ed33e5": {
      "model_module": "@jupyter-widgets/base",
      "model_module_version": "1.2.0",
      "model_name": "LayoutModel",
      "state": {
       "border": "1px solid black"
      }
     },
     "40a59dd46b0c4d32ba9185942a0914c9": {
      "model_module": "@jupyter-widgets/controls",
      "model_module_version": "1.5.0",
      "model_name": "TextareaModel",
      "state": {
       "description": "String:",
       "layout": "IPY_MODEL_e8499f80e745416ab7d5212d3458a9ab",
       "placeholder": "Type something",
       "style": "IPY_MODEL_d57144f7a98c4e54b174920ab2c45ed9",
       "value": "Hello World"
      }
     },
     "40b40b1c8071424997f7d03761f873be": {
      "model_module": "@jupyter-widgets/base",
      "model_module_version": "1.2.0",
      "model_name": "LayoutModel",
      "state": {}
     },
     "40ba1eea57e6404499c18840ae06c514": {
      "model_module": "@jupyter-widgets/base",
      "model_module_version": "1.2.0",
      "model_name": "LayoutModel",
      "state": {}
     },
     "40d670da45dd4726bed716dac233e8c9": {
      "model_module": "@jupyter-widgets/controls",
      "model_module_version": "1.5.0",
      "model_name": "DescriptionStyleModel",
      "state": {
       "description_width": ""
      }
     },
     "40d8819ef44f4ce5b649570206a9dcf8": {
      "model_module": "@jupyter-widgets/controls",
      "model_module_version": "1.5.0",
      "model_name": "SliderStyleModel",
      "state": {
       "description_width": ""
      }
     },
     "41150d1e3be4442d95872ec9bffa852c": {
      "model_module": "@jupyter-widgets/controls",
      "model_module_version": "1.5.0",
      "model_name": "DescriptionStyleModel",
      "state": {
       "description_width": ""
      }
     },
     "411c11edd19841c382a9f5c9b8cb3bcc": {
      "model_module": "@jupyter-widgets/base",
      "model_module_version": "1.2.0",
      "model_name": "LayoutModel",
      "state": {}
     },
     "413b6fc97079450694a6bdcdd28458aa": {
      "model_module": "@jupyter-widgets/controls",
      "model_module_version": "1.5.0",
      "model_name": "LabelModel",
      "state": {
       "layout": "IPY_MODEL_fde3367e63d74762829beba8176f2882",
       "style": "IPY_MODEL_96148630873b466fb406720933b53c62",
       "value": "1"
      }
     },
     "41532ee89d374d2886e665a441496efa": {
      "model_module": "@jupyter-widgets/controls",
      "model_module_version": "1.5.0",
      "model_name": "LabelModel",
      "state": {
       "layout": "IPY_MODEL_de911c619d924589b8f5b8596b8671ba",
       "style": "IPY_MODEL_8896b60c8ee749409382adbe92330671",
       "value": "0"
      }
     },
     "4184498df316452d924e7fe7a5848106": {
      "model_module": "@jupyter-widgets/base",
      "model_module_version": "1.2.0",
      "model_name": "LayoutModel",
      "state": {}
     },
     "41bffbcae1df42449e4d727a92c06c47": {
      "model_module": "@jupyter-widgets/controls",
      "model_module_version": "1.5.0",
      "model_name": "FloatSliderModel",
      "state": {
       "continuous_update": false,
       "description": "Test:",
       "layout": "IPY_MODEL_f45fc933a37c4f4d9d6dfab66b424e7d",
       "max": 10,
       "readout_format": ".1f",
       "step": 0.1,
       "style": "IPY_MODEL_03faf4fd835f44f4a98e34651162e716",
       "value": 7.5
      }
     },
     "421c9a2d5a244ebdbb8b3b2df01030ed": {
      "model_module": "@jupyter-widgets/controls",
      "model_module_version": "1.5.0",
      "model_name": "RadioButtonsModel",
      "state": {
       "_options_labels": [
        "pepperoni",
        "pineapple",
        "anchovies"
       ],
       "description": "Pizza topping:",
       "index": 0,
       "layout": "IPY_MODEL_d2a3bcee611445c395d5c17aceec501e",
       "style": "IPY_MODEL_3157ece976a647d3aa9f8d4cd8fde6bc"
      }
     },
     "424a5952246e45c5a70395131af43655": {
      "model_module": "@jupyter-widgets/base",
      "model_module_version": "1.2.0",
      "model_name": "LayoutModel",
      "state": {}
     },
     "42f30b9fddc04b308f546ddc9a73806f": {
      "model_module": "@jupyter-widgets/controls",
      "model_module_version": "1.5.0",
      "model_name": "SliderStyleModel",
      "state": {
       "description_width": ""
      }
     },
     "43335775d9174d11876c51e724a06a1d": {
      "model_module": "@jupyter-widgets/controls",
      "model_module_version": "1.5.0",
      "model_name": "DatePickerModel",
      "state": {
       "description": "Pick a Date",
       "disabled": false,
       "layout": "IPY_MODEL_65f86b7d7758479eb7616ef401c566b4",
       "style": "IPY_MODEL_9b5b5a598788479c98741ec5036e254f"
      }
     },
     "43424b366aad444ea52136ed08920961": {
      "model_module": "@jupyter-widgets/output",
      "model_module_version": "1.0.0",
      "model_name": "OutputModel",
      "state": {
       "layout": "IPY_MODEL_8cb9b7f8cd9a46cf86fb468a13fbefa6"
      }
     },
     "4359836e31b94b7cb920ddb637a7e3e1": {
      "model_module": "@jupyter-widgets/controls",
      "model_module_version": "1.5.0",
      "model_name": "DescriptionStyleModel",
      "state": {
       "description_width": ""
      }
     },
     "4363630bd39540e7bb20aee2c0b6cfcb": {
      "buffers": [
       {
        "data": "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",
        "encoding": "base64",
        "path": [
         "value"
        ]
       }
      ],
      "model_module": "@jupyter-widgets/controls",
      "model_module_version": "1.5.0",
      "model_name": "ImageModel",
      "state": {
       "format": "gif",
       "height": "128",
       "layout": "IPY_MODEL_c8203133b371443d999a2bd1bd59f3cb",
       "width": "128"
      }
     },
     "44052d4eecb240e78c303a6d65ce540e": {
      "model_module": "@jupyter-widgets/controls",
      "model_module_version": "1.5.0",
      "model_name": "SliderStyleModel",
      "state": {
       "description_width": ""
      }
     },
     "441881c537114413a9f881bb2cede54d": {
      "model_module": "@jupyter-widgets/base",
      "model_module_version": "1.2.0",
      "model_name": "LayoutModel",
      "state": {}
     },
     "4453f66c3b164209a82986ff052174fe": {
      "model_module": "@jupyter-widgets/base",
      "model_module_version": "1.2.0",
      "model_name": "LayoutModel",
      "state": {}
     },
     "446dd7dcec0d4d88a21aa6d1cabbab67": {
      "model_module": "@jupyter-widgets/controls",
      "model_module_version": "1.5.0",
      "model_name": "DescriptionStyleModel",
      "state": {
       "description_width": ""
      }
     },
     "447606e896884490906672681ce91706": {
      "model_module": "@jupyter-widgets/base",
      "model_module_version": "1.2.0",
      "model_name": "LayoutModel",
      "state": {}
     },
     "44a6721e9bc0496cbac08602f48d1829": {
      "model_module": "@jupyter-widgets/controls",
      "model_module_version": "1.5.0",
      "model_name": "DescriptionStyleModel",
      "state": {
       "description_width": ""
      }
     },
     "44acfc1dfb404758a08ff1681c91e741": {
      "model_module": "@jupyter-widgets/controls",
      "model_module_version": "1.5.0",
      "model_name": "LabelModel",
      "state": {
       "layout": "IPY_MODEL_6c0666e2469b42949bface9fd9de99d4",
       "style": "IPY_MODEL_a73be4a8c3284560aa0bf6d5549cfd37",
       "value": "2"
      }
     },
     "44b603d2ed2e476fa36e20edb650334f": {
      "model_module": "@jupyter-widgets/controls",
      "model_module_version": "1.5.0",
      "model_name": "ColorPickerModel",
      "state": {
       "description": "Pick a color",
       "disabled": false,
       "layout": "IPY_MODEL_f9df0150e2364c7da5bd1daf6a0a2fa9",
       "style": "IPY_MODEL_09419070fa9d47bdbc1c4bb14f8b7f62",
       "value": "blue"
      }
     },
     "44e7c085adee447eaf1a85847d5a61fc": {
      "model_module": "@jupyter-widgets/base",
      "model_module_version": "1.2.0",
      "model_name": "LayoutModel",
      "state": {}
     },
     "4593602f3b2b433c8524e37f111a59dc": {
      "model_module": "@jupyter-widgets/base",
      "model_module_version": "1.2.0",
      "model_name": "LayoutModel",
      "state": {}
     },
     "45d0e0187d2644ab9abb903441b20294": {
      "model_module": "@jupyter-widgets/controls",
      "model_module_version": "1.5.0",
      "model_name": "SliderStyleModel",
      "state": {
       "description_width": ""
      }
     },
     "45e90b14198c43ecae347d459f8c730e": {
      "model_module": "@jupyter-widgets/controls",
      "model_module_version": "1.5.0",
      "model_name": "ValidModel",
      "state": {
       "description": "Valid!",
       "layout": "IPY_MODEL_5f30f3cf849b4856aab2c1b32c4ae6a8",
       "style": "IPY_MODEL_799f8b87d71649d08736db86a165b98a"
      }
     },
     "4625f17a98e840d88ab8b5feb7d576a7": {
      "model_module": "@jupyter-widgets/controls",
      "model_module_version": "1.5.0",
      "model_name": "SliderStyleModel",
      "state": {
       "description_width": ""
      }
     },
     "467f29f20c60455c965b0255cf73f64e": {
      "model_module": "@jupyter-widgets/controls",
      "model_module_version": "1.5.0",
      "model_name": "DescriptionStyleModel",
      "state": {
       "description_width": ""
      }
     },
     "469a8ccd0ae74a66b44853814f509e23": {
      "model_module": "@jupyter-widgets/controls",
      "model_module_version": "1.5.0",
      "model_name": "SliderStyleModel",
      "state": {
       "description_width": ""
      }
     },
     "46a14a98eb4644cbb4829df689eefc17": {
      "model_module": "@jupyter-widgets/controls",
      "model_module_version": "1.5.0",
      "model_name": "TabModel",
      "state": {
       "_titles": {
        "0": "0",
        "1": "1",
        "2": "2",
        "3": "3",
        "4": "4"
       },
       "children": [
        "IPY_MODEL_b61fc6885c174e6996003f81e615a703",
        "IPY_MODEL_9960e770d05b4843b0d38fc192359ad3",
        "IPY_MODEL_e659c966136f480595a7bd84cf805597",
        "IPY_MODEL_054bb72301cf4b58b4877a9a0bddd7ae",
        "IPY_MODEL_d21026a277534e80bf974166019d57cb"
       ],
       "layout": "IPY_MODEL_610f43d7bc334663af4b9132315d1bd3",
       "selected_index": 3
      }
     },
     "46d868654fe545708f42c5fe5093ccbf": {
      "model_module": "@jupyter-widgets/controls",
      "model_module_version": "1.5.0",
      "model_name": "DropdownModel",
      "state": {
       "_options_labels": [
        "1",
        "2",
        "3"
       ],
       "description": "Number:",
       "index": 1,
       "layout": "IPY_MODEL_e276aa6618be479b89ef2f2933b8b459",
       "style": "IPY_MODEL_9de7fe90c6f04b358531f41f9cf206e8"
      }
     },
     "46eea56ffabe4d7bb26edb170568a2bc": {
      "model_module": "@jupyter-widgets/base",
      "model_module_version": "1.2.0",
      "model_name": "LayoutModel",
      "state": {}
     },
     "470c60634fff42c18c52f3c4633d7bf1": {
      "model_module": "@jupyter-widgets/controls",
      "model_module_version": "1.5.0",
      "model_name": "AccordionModel",
      "state": {
       "_titles": {
        "0": "Slider",
        "1": "Text"
       },
       "children": [
        "IPY_MODEL_169357b773294f42b8ca1dad96bbf7cb",
        "IPY_MODEL_0f379533910247138c3203912636cd9b"
       ],
       "layout": "IPY_MODEL_372d521bff3246fe9ba087e5af806d0c",
       "selected_index": null
      }
     },
     "473583d5974344afbd91e2a102821994": {
      "model_module": "@jupyter-widgets/base",
      "model_module_version": "1.2.0",
      "model_name": "LayoutModel",
      "state": {}
     },
     "4784b84c8b08446891245b6227d565ca": {
      "model_module": "@jupyter-widgets/controls",
      "model_module_version": "1.5.0",
      "model_name": "ControllerModel",
      "state": {
       "layout": "IPY_MODEL_67cd44e292f04ab1a60fa7e4c3ae51f1"
      }
     },
     "489d91339ff040a4ac031dd89c6742c5": {
      "model_module": "@jupyter-widgets/controls",
      "model_module_version": "1.5.0",
      "model_name": "LinkModel",
      "state": {
       "source": [
        "IPY_MODEL_12671d7db2d34c76b36d0c75bf3fe48f",
        "value"
       ],
       "target": [
        "IPY_MODEL_01209ec3fcb64f39beb9a2fc63d37d7d",
        "value"
       ]
      }
     },
     "48d403d6b9dd4e43a4ba527e74808726": {
      "model_module": "@jupyter-widgets/base",
      "model_module_version": "1.2.0",
      "model_name": "LayoutModel",
      "state": {}
     },
     "48d82b05b6ad4aec818c47b184470028": {
      "model_module": "@jupyter-widgets/controls",
      "model_module_version": "1.5.0",
      "model_name": "SelectModel",
      "state": {
       "_options_labels": [
        "Linux",
        "Windows",
        "OSX"
       ],
       "description": "OS:",
       "index": 2,
       "layout": "IPY_MODEL_d679eb96a9e849278fa433e22eb98994",
       "rows": 3,
       "style": "IPY_MODEL_177851017b264393b3fbcc91f2be87b9"
      }
     },
     "48e8600a35c74ecba133a84bf90f5c1f": {
      "model_module": "@jupyter-widgets/output",
      "model_module_version": "1.0.0",
      "model_name": "OutputModel",
      "state": {
       "layout": "IPY_MODEL_78df5a4fc9e545478baed814e2908b5d",
       "outputs": [
        {
         "name": "stdout",
         "output_type": "stream",
         "text": "Output appended with append_stdout"
        },
        {
         "data": {
          "text/html": "\n        <iframe\n            width=\"400\"\n            height=\"300\"\n            src=\"https://www.youtube.com/embed/eWzY2nGfkXk\"\n            frameborder=\"0\"\n            allowfullscreen\n        ></iframe>\n        ",
          "text/plain": "<IPython.lib.display.YouTubeVideo at 0x7f7294169ba8>"
         },
         "metadata": {},
         "output_type": "display_data"
        },
        {
         "name": "stdout",
         "output_type": "stream",
         "text": "0 Hello world!\n1 Hello world!\n2 Hello world!\n3 Hello world!\n4 Hello world!\n5 Hello world!\n6 Hello world!\n7 Hello world!\n8 Hello world!\n9 Hello world!\n0 Hello world!\n1 Hello world!\n2 Hello world!\n3 Hello world!\n4 Hello world!\n5 Hello world!\n6 Hello world!\n7 Hello world!\n8 Hello world!\n9 Hello world!\n0 Hello world!\n1 Hello world!\n2 Hello world!\n3 Hello world!\n4 Hello world!\n5 Hello world!\n6 Hello world!\n7 Hello world!\n8 Hello world!\n9 Hello world!\n"
        }
       ]
      }
     },
     "490ca963f63e4477bba84e398a846194": {
      "model_module": "@jupyter-widgets/base",
      "model_module_version": "1.2.0",
      "model_name": "LayoutModel",
      "state": {}
     },
     "49603029fdb94604bfb0d94601a09b35": {
      "model_module": "@jupyter-widgets/controls",
      "model_module_version": "1.5.0",
      "model_name": "DescriptionStyleModel",
      "state": {
       "description_width": ""
      }
     },
     "49e28534b1564741ae53a43c94d1759a": {
      "buffers": [
       {
        "data": "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",
        "encoding": "base64",
        "path": [
         "outputs",
         1,
         "data",
         "image/jpeg"
        ]
       }
      ],
      "model_module": "@jupyter-widgets/output",
      "model_module_version": "1.0.0",
      "model_name": "OutputModel",
      "state": {
       "layout": "IPY_MODEL_aa447c17a50048b0b3352d67cfd4e486",
       "outputs": [
        {
         "name": "stdout",
         "output_type": "stream",
         "text": "Output appended with append_stdout"
        },
        {
         "data": {
          "text/html": "\n        <iframe\n            width=\"400\"\n            height=\"300\"\n            src=\"https://www.youtube.com/embed/eWzY2nGfkXk\"\n            frameborder=\"0\"\n            allowfullscreen\n            \n        ></iframe>\n        ",
          "text/plain": "<IPython.lib.display.YouTubeVideo at 0x1088059d0>"
         },
         "metadata": {},
         "output_type": "display_data"
        }
       ]
      }
     },
     "4a121039ea5344e0a63b2d8cc2c3cb59": {
      "model_module": "@jupyter-widgets/controls",
      "model_module_version": "1.5.0",
      "model_name": "IntSliderModel",
      "state": {
       "layout": "IPY_MODEL_411c11edd19841c382a9f5c9b8cb3bcc",
       "style": "IPY_MODEL_a57c8136656e4675ba4220d041041f73",
       "value": 5
      }
     },
     "4a4f129793d5461f9d5d9d1805c3eb78": {
      "model_module": "@jupyter-widgets/controls",
      "model_module_version": "1.5.0",
      "model_name": "ToggleButtonsModel",
      "state": {
       "_options_labels": [
        "Slow",
        "Regular",
        "Fast"
       ],
       "button_style": "",
       "description": "Speed:",
       "icons": [],
       "index": 0,
       "layout": "IPY_MODEL_ea6d935be51349ef92416124e8ab17d4",
       "style": "IPY_MODEL_c25816f061514d1da409a01623d24023",
       "tooltips": [
        "Description of slow",
        "Description of regular",
        "Description of fast"
       ]
      }
     },
     "4a5832b41079482d874c6092872f638a": {
      "model_module": "@jupyter-widgets/controls",
      "model_module_version": "1.5.0",
      "model_name": "SliderStyleModel",
      "state": {
       "description_width": ""
      }
     },
     "4a7d8e7b576a403987a4832a40e2381f": {
      "model_module": "@jupyter-widgets/controls",
      "model_module_version": "1.5.0",
      "model_name": "IntRangeSliderModel",
      "state": {
       "_model_name": "IntRangeSliderModel",
       "_view_name": "IntRangeSliderView",
       "continuous_update": false,
       "description": "Test:",
       "layout": "IPY_MODEL_098db764767c4369abaed3266cc5077b",
       "max": 10,
       "style": "IPY_MODEL_9bc5a565c2a644bf9d4cf24f4b65d228",
       "value": [
        5,
        7
       ]
      }
     },
     "4b174d2cdde8412a8590caea938b8b78": {
      "model_module": "@jupyter-widgets/controls",
      "model_module_version": "1.5.0",
      "model_name": "ToggleButtonsStyleModel",
      "state": {
       "button_width": "",
       "description_width": ""
      }
     },
     "4b35fd78523845a4bbcff0f90dfff9d4": {
      "model_module": "@jupyter-widgets/controls",
      "model_module_version": "1.5.0",
      "model_name": "ValidModel",
      "state": {
       "description": "Valid!",
       "layout": "IPY_MODEL_acbcb4d6dfa74b7fbcaa3fc17810c425",
       "style": "IPY_MODEL_f625fcfcce5c4ccc976b5d8b6c0f5410"
      }
     },
     "4b3b6f4109554948b5b14fdc7f72d526": {
      "model_module": "@jupyter-widgets/base",
      "model_module_version": "1.2.0",
      "model_name": "LayoutModel",
      "state": {}
     },
     "4b7aa86ab2c2433b92c6ea6415e3366e": {
      "model_module": "@jupyter-widgets/base",
      "model_module_version": "1.2.0",
      "model_name": "LayoutModel",
      "state": {}
     },
     "4be650ddaf8f438d9bafffba3acf69cd": {
      "model_module": "@jupyter-widgets/controls",
      "model_module_version": "1.5.0",
      "model_name": "ToggleButtonModel",
      "state": {
       "description": "Click me",
       "icon": "check",
       "layout": "IPY_MODEL_0100f4dfe568460d9e11455748eac768",
       "style": "IPY_MODEL_6b9ef07c27e342d7966e18e73269d4c7",
       "tooltip": "Description"
      }
     },
     "4c024e2239174058b89ed417c8b9b5dc": {
      "model_module": "@jupyter-widgets/controls",
      "model_module_version": "1.5.0",
      "model_name": "IntProgressModel",
      "state": {
       "description": "Loading:",
       "layout": "IPY_MODEL_32383b87c2444ca2b481fa6fcce1fc1b",
       "max": 10,
       "style": "IPY_MODEL_5ff3a791981649f6a84a3b36e06c9247",
       "value": 7
      }
     },
     "4c141ee17e364ed68f7e0594e0d7984c": {
      "model_module": "@jupyter-widgets/controls",
      "model_module_version": "1.5.0",
      "model_name": "LabelModel",
      "state": {
       "layout": "IPY_MODEL_079357e4b4324b3493a90102574bec9e",
       "style": "IPY_MODEL_2801faae23cc449985e36e42269cfd87",
       "value": "1"
      }
     },
     "4c2f3943bf2745ea9a8f64b04f7163c7": {
      "model_module": "@jupyter-widgets/controls",
      "model_module_version": "1.5.0",
      "model_name": "SliderStyleModel",
      "state": {
       "description_width": ""
      }
     },
     "4c3f936050f3450e83001d9036de3edd": {
      "model_module": "@jupyter-widgets/controls",
      "model_module_version": "1.5.0",
      "model_name": "DescriptionStyleModel",
      "state": {
       "description_width": ""
      }
     },
     "4c4bc1e53b284d6ea5d2b38fa579ebaa": {
      "model_module": "@jupyter-widgets/base",
      "model_module_version": "1.2.0",
      "model_name": "LayoutModel",
      "state": {}
     },
     "4d1a842e18344fd4af85569f84e23c65": {
      "model_module": "@jupyter-widgets/base",
      "model_module_version": "1.2.0",
      "model_name": "LayoutModel",
      "state": {}
     },
     "4dbf1ae9679b4ed89cf84fee99352a26": {
      "model_module": "@jupyter-widgets/controls",
      "model_module_version": "1.5.0",
      "model_name": "ProgressStyleModel",
      "state": {
       "description_width": ""
      }
     },
     "4de031698a46489ea9b0d06dc6d56b88": {
      "model_module": "@jupyter-widgets/controls",
      "model_module_version": "1.5.0",
      "model_name": "LabelModel",
      "state": {
       "layout": "IPY_MODEL_f978176df8fc4940a615b385a99e0bc1",
       "style": "IPY_MODEL_7b53a76f13984d668186cd1be13d0270",
       "value": "0"
      }
     },
     "4de2999b565842708f1f9ed1c5fb302d": {
      "model_module": "@jupyter-widgets/controls",
      "model_module_version": "1.5.0",
      "model_name": "AccordionModel",
      "state": {
       "_titles": {
        "0": "Slider",
        "1": "Text"
       },
       "children": [
        "IPY_MODEL_74708070ec124ab9a7fb21b02f446b66",
        "IPY_MODEL_c470f245d22d43de9e39c779709eae42"
       ],
       "layout": "IPY_MODEL_3f7788f2796d4038997b93302f6d27cd",
       "selected_index": null
      }
     },
     "4dff13ed8b274735862d6ffe379b2b5a": {
      "model_module": "@jupyter-widgets/base",
      "model_module_version": "1.2.0",
      "model_name": "LayoutModel",
      "state": {}
     },
     "4e26ae99955341ac819487798f6fa1dc": {
      "model_module": "@jupyter-widgets/controls",
      "model_module_version": "1.5.0",
      "model_name": "BoundedIntTextModel",
      "state": {
       "description": "Text:",
       "layout": "IPY_MODEL_1aa0797348e54a1089c2c7178c90270a",
       "max": 10,
       "style": "IPY_MODEL_896e1b69746e49c38ff18b95c8c27aca",
       "value": 7
      }
     },
     "4e9c7b8948f2472387ba697833e12e95": {
      "model_module": "@jupyter-widgets/controls",
      "model_module_version": "1.5.0",
      "model_name": "HBoxModel",
      "state": {
       "children": [
        "IPY_MODEL_3fb24792c88444ada176750d49cda76c",
        "IPY_MODEL_9c7aba7bb6cc4d7c8bfce250f55eb2b6"
       ],
       "layout": "IPY_MODEL_291bab8893db4274af44b4955e6d08ca"
      }
     },
     "4ef13739307a4e69bfff8fd8ece98d8a": {
      "model_module": "@jupyter-widgets/controls",
      "model_module_version": "1.5.0",
      "model_name": "DescriptionStyleModel",
      "state": {
       "description_width": ""
      }
     },
     "4f0637f02e664b93b4a68d5396c89f1d": {
      "model_module": "@jupyter-widgets/controls",
      "model_module_version": "1.5.0",
      "model_name": "DescriptionStyleModel",
      "state": {
       "description_width": ""
      }
     },
     "4fc37ea53cf641f99ffe27e3ff956e50": {
      "model_module": "@jupyter-widgets/controls",
      "model_module_version": "1.5.0",
      "model_name": "SliderStyleModel",
      "state": {
       "description_width": ""
      }
     },
     "4fd090d95ee94fdaab5f626304578f7d": {
      "model_module": "@jupyter-widgets/base",
      "model_module_version": "1.2.0",
      "model_name": "LayoutModel",
      "state": {}
     },
     "4fd74ac7214e4a679b28a1ccc42d84c9": {
      "model_module": "@jupyter-widgets/controls",
      "model_module_version": "1.5.0",
      "model_name": "LabelModel",
      "state": {
       "layout": "IPY_MODEL_f79d1c45e6814896a54645f864e6af5b",
       "style": "IPY_MODEL_2d363a34926145bda1ac555886143627",
       "value": "1"
      }
     },
     "5089385ab1b549d7a443e5139da9ebe0": {
      "model_module": "@jupyter-widgets/controls",
      "model_module_version": "1.5.0",
      "model_name": "FloatSliderModel",
      "state": {
       "continuous_update": false,
       "description": "Test:",
       "layout": "IPY_MODEL_25c02361ec45474980b61d811f1fd576",
       "max": 10,
       "readout_format": ".1f",
       "step": 0.1,
       "style": "IPY_MODEL_4625f17a98e840d88ab8b5feb7d576a7",
       "value": 7.5
      }
     },
     "509eeb657b77427c8c5a183eda898cc5": {
      "model_module": "@jupyter-widgets/controls",
      "model_module_version": "1.5.0",
      "model_name": "HTMLModel",
      "state": {
       "description": "Some HTML",
       "layout": "IPY_MODEL_813d7847b0c34a6c8c762caae2e1f9a6",
       "placeholder": "Some HTML",
       "style": "IPY_MODEL_40d670da45dd4726bed716dac233e8c9",
       "value": "Hello <b>World</b>"
      }
     },
     "50ca8a5bb1aa4ae496d2e94c439fc895": {
      "model_module": "@jupyter-widgets/base",
      "model_module_version": "1.2.0",
      "model_name": "LayoutModel",
      "state": {}
     },
     "50d2aed73ade4f7ca359b061bcf6662d": {
      "buffers": [
       {
        "data": "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",
        "encoding": "base64",
        "path": [
         "value"
        ]
       }
      ],
      "model_module": "@jupyter-widgets/controls",
      "model_module_version": "1.5.0",
      "model_name": "ImageModel",
      "state": {
       "format": "gif",
       "height": "128",
       "layout": "IPY_MODEL_e5d8aadaa7bc4dc6b805fb88ef48900f",
       "width": "128"
      }
     },
     "510701ca09124da7a0d4e1e7f00698ec": {
      "model_module": "@jupyter-widgets/base",
      "model_module_version": "1.2.0",
      "model_name": "LayoutModel",
      "state": {}
     },
     "511ba8c8795d4ec18afaaf819fb4603e": {
      "model_module": "@jupyter-widgets/base",
      "model_module_version": "1.2.0",
      "model_name": "LayoutModel",
      "state": {}
     },
     "512d00b015fa48798e007da7d4b3a9f0": {
      "model_module": "@jupyter-widgets/base",
      "model_module_version": "1.2.0",
      "model_name": "LayoutModel",
      "state": {}
     },
     "51355ed7779044a59cd36d807b5b8942": {
      "model_module": "@jupyter-widgets/controls",
      "model_module_version": "1.5.0",
      "model_name": "DescriptionStyleModel",
      "state": {
       "description_width": ""
      }
     },
     "519aa10ce5994a8687d333630136728b": {
      "model_module": "@jupyter-widgets/controls",
      "model_module_version": "1.5.0",
      "model_name": "FloatSliderModel",
      "state": {
       "continuous_update": false,
       "description": "Test:",
       "layout": "IPY_MODEL_c6cfdbe0650e4d6e89e9ec2aabf37373",
       "max": 10,
       "orientation": "vertical",
       "readout_format": ".1f",
       "step": 0.1,
       "style": "IPY_MODEL_2e1b7a8790f34c06a49dcf26e1fa965f",
       "value": 7.5
      }
     },
     "5245d281cbde4325b18946c18bd5b3b2": {
      "model_module": "@jupyter-widgets/controls",
      "model_module_version": "1.5.0",
      "model_name": "DescriptionStyleModel",
      "state": {
       "description_width": ""
      }
     },
     "524b248d98a44e0a877200386a91cd96": {
      "model_module": "@jupyter-widgets/base",
      "model_module_version": "1.2.0",
      "model_name": "LayoutModel",
      "state": {}
     },
     "52729538ba554571a7b9aebcd43e17c3": {
      "model_module": "@jupyter-widgets/controls",
      "model_module_version": "1.5.0",
      "model_name": "ProgressStyleModel",
      "state": {
       "description_width": ""
      }
     },
     "52ac4aec6dd94ad7b7b4444b88a68948": {
      "model_module": "@jupyter-widgets/controls",
      "model_module_version": "1.5.0",
      "model_name": "ProgressStyleModel",
      "state": {
       "description_width": ""
      }
     },
     "52cb53afd0d4490e9be38a9cbfea1b6f": {
      "model_module": "@jupyter-widgets/controls",
      "model_module_version": "1.5.0",
      "model_name": "SelectModel",
      "state": {
       "_options_labels": [
        "Linux",
        "Windows",
        "OSX"
       ],
       "description": "OS:",
       "index": 2,
       "layout": "IPY_MODEL_7ffc7400d2b94ae9a2255d6523ffe127",
       "style": "IPY_MODEL_49603029fdb94604bfb0d94601a09b35"
      }
     },
     "531293981f1644b8826d90c8693c04b3": {
      "model_module": "@jupyter-widgets/controls",
      "model_module_version": "1.5.0",
      "model_name": "DescriptionStyleModel",
      "state": {
       "description_width": ""
      }
     },
     "532e630e4de1485b8df63c22a4d94947": {
      "model_module": "@jupyter-widgets/base",
      "model_module_version": "1.2.0",
      "model_name": "LayoutModel",
      "state": {}
     },
     "534ab4c354804c02b608bf5887e91f72": {
      "model_module": "@jupyter-widgets/base",
      "model_module_version": "1.2.0",
      "model_name": "LayoutModel",
      "state": {}
     },
     "537ca2412377458c8bab43f541405c42": {
      "model_module": "@jupyter-widgets/base",
      "model_module_version": "1.2.0",
      "model_name": "LayoutModel",
      "state": {}
     },
     "53ddf430cc2d4b2d95661469bb566794": {
      "model_module": "@jupyter-widgets/controls",
      "model_module_version": "1.5.0",
      "model_name": "FloatTextModel",
      "state": {
       "description": "Any:",
       "layout": "IPY_MODEL_11916ad6c7ad47aa8cd5db7ac2061052",
       "step": null,
       "style": "IPY_MODEL_d996cc1a56ec4aaf89c4aa3c60e69748",
       "value": 7.5
      }
     },
     "53ed985181c24f018fd5ad64abcecf05": {
      "model_module": "@jupyter-widgets/controls",
      "model_module_version": "1.5.0",
      "model_name": "DescriptionStyleModel",
      "state": {
       "description_width": ""
      }
     },
     "5419d4e9133e43feb3023fc15fb4157c": {
      "model_module": "@jupyter-widgets/base",
      "model_module_version": "1.2.0",
      "model_name": "LayoutModel",
      "state": {}
     },
     "547c4c0e3fcb4f52a7bd7a436fe64b1c": {
      "model_module": "@jupyter-widgets/controls",
      "model_module_version": "1.5.0",
      "model_name": "LabelModel",
      "state": {
       "layout": "IPY_MODEL_74a759838bf34015b5b7b8ea55b8be22",
       "style": "IPY_MODEL_53ed985181c24f018fd5ad64abcecf05",
       "value": "1"
      }
     },
     "54bad3994afc4c5cb7f066c4d91ea06e": {
      "model_module": "@jupyter-widgets/base",
      "model_module_version": "1.2.0",
      "model_name": "LayoutModel",
      "state": {}
     },
     "54e51c8fed2b439bb36fd7dec59fed46": {
      "model_module": "@jupyter-widgets/controls",
      "model_module_version": "1.5.0",
      "model_name": "HBoxModel",
      "state": {
       "children": [
        "IPY_MODEL_0d1e5ec016874ad19d6a8c7e9d038278",
        "IPY_MODEL_4c141ee17e364ed68f7e0594e0d7984c",
        "IPY_MODEL_31c29582d5d64955a2093a33b54b247a",
        "IPY_MODEL_e32667c68307472f820978495dd9fbf5"
       ],
       "layout": "IPY_MODEL_54bad3994afc4c5cb7f066c4d91ea06e"
      }
     },
     "555333ed8cfb495ea3a6d2b8d9a874f0": {
      "model_module": "@jupyter-widgets/base",
      "model_module_version": "1.2.0",
      "model_name": "LayoutModel",
      "state": {}
     },
     "55904d19a1d149f6a6d41c973b8ed28b": {
      "model_module": "@jupyter-widgets/base",
      "model_module_version": "1.2.0",
      "model_name": "LayoutModel",
      "state": {}
     },
     "55e802d01b554e61b6dcc12df493d744": {
      "model_module": "@jupyter-widgets/base",
      "model_module_version": "1.2.0",
      "model_name": "LayoutModel",
      "state": {
       "border": "1px solid black"
      }
     },
     "56db9f1c7a3d4b868c6eb4cd9ab5c222": {
      "model_module": "@jupyter-widgets/base",
      "model_module_version": "1.2.0",
      "model_name": "LayoutModel",
      "state": {}
     },
     "56fd08e6ce614a22bc2ffa6ea605ac3e": {
      "model_module": "@jupyter-widgets/controls",
      "model_module_version": "1.5.0",
      "model_name": "DescriptionStyleModel",
      "state": {
       "description_width": ""
      }
     },
     "575207ac4227429bbabe3cea3239c14a": {
      "model_module": "@jupyter-widgets/controls",
      "model_module_version": "1.5.0",
      "model_name": "FloatTextModel",
      "state": {
       "description": "Any:",
       "layout": "IPY_MODEL_86c3daa971be48d7a23afb697b30abad",
       "step": null,
       "style": "IPY_MODEL_9fbb92cb985d422da2da88a7852e876e",
       "value": 7.5
      }
     },
     "57a064f5bf724e758e5b04e7e277e799": {
      "model_module": "@jupyter-widgets/controls",
      "model_module_version": "1.5.0",
      "model_name": "SliderStyleModel",
      "state": {
       "description_width": ""
      }
     },
     "57feaba8913e4e06ae1daf43a301d129": {
      "model_module": "@jupyter-widgets/base",
      "model_module_version": "1.2.0",
      "model_name": "LayoutModel",
      "state": {}
     },
     "58948197decb4125880dd68245892a10": {
      "model_module": "@jupyter-widgets/base",
      "model_module_version": "1.2.0",
      "model_name": "LayoutModel",
      "state": {}
     },
     "58997351102449c4add3e5bf44961b13": {
      "model_module": "@jupyter-widgets/output",
      "model_module_version": "1.0.0",
      "model_name": "OutputModel",
      "state": {
       "layout": "IPY_MODEL_68d150ca2bb441cb9633d0d62013c0a3"
      }
     },
     "58aab2eca9ee47acafdf8c2cd0f5b2bc": {
      "model_module": "@jupyter-widgets/controls",
      "model_module_version": "1.5.0",
      "model_name": "DescriptionStyleModel",
      "state": {
       "description_width": ""
      }
     },
     "58df2fefc5b44f57a4db2b5d95f9ae84": {
      "model_module": "@jupyter-widgets/base",
      "model_module_version": "1.2.0",
      "model_name": "LayoutModel",
      "state": {}
     },
     "59e0025c9f034dfea49d1fd81e1e7aa8": {
      "model_module": "@jupyter-widgets/base",
      "model_module_version": "1.2.0",
      "model_name": "LayoutModel",
      "state": {}
     },
     "5a5675e9053d4cfb92ff65677a5db755": {
      "model_module": "@jupyter-widgets/base",
      "model_module_version": "1.2.0",
      "model_name": "LayoutModel",
      "state": {}
     },
     "5aa16f6b36d0468db820b3d1048cc8fa": {
      "model_module": "@jupyter-widgets/controls",
      "model_module_version": "1.5.0",
      "model_name": "LinkModel",
      "state": {
       "source": [
        "IPY_MODEL_7e14d563ddc04232a57c214c04e74478",
        "value"
       ],
       "target": [
        "IPY_MODEL_b8c9638d85cc46a8afba53bea0303cd1",
        "value"
       ]
      }
     },
     "5aed8f5759fd4f27b071eec8ef4afb6f": {
      "model_module": "@jupyter-widgets/controls",
      "model_module_version": "1.5.0",
      "model_name": "DescriptionStyleModel",
      "state": {
       "description_width": ""
      }
     },
     "5b6a6f7ef79049bfbe19f4b43709da50": {
      "model_module": "@jupyter-widgets/controls",
      "model_module_version": "1.5.0",
      "model_name": "SliderStyleModel",
      "state": {
       "description_width": ""
      }
     },
     "5bcc377016894d93b674f025064ea548": {
      "model_module": "@jupyter-widgets/controls",
      "model_module_version": "1.5.0",
      "model_name": "LabelModel",
      "state": {
       "layout": "IPY_MODEL_9b939e0528a940b99d2345b7edfb1901",
       "style": "IPY_MODEL_a8d30e3440dc4142a87d05f0b6693518",
       "value": "3"
      }
     },
     "5bed77931a69458496a23de63db7df26": {
      "model_module": "@jupyter-widgets/controls",
      "model_module_version": "1.5.0",
      "model_name": "DescriptionStyleModel",
      "state": {
       "description_width": ""
      }
     },
     "5bfd6dfde0b5438c875cdc19959d506f": {
      "model_module": "@jupyter-widgets/base",
      "model_module_version": "1.2.0",
      "model_name": "LayoutModel",
      "state": {}
     },
     "5c18d80ba48e497385fa4f10c9214ab3": {
      "model_module": "@jupyter-widgets/base",
      "model_module_version": "1.2.0",
      "model_name": "LayoutModel",
      "state": {}
     },
     "5c3ccf49d5614628929c6890be197c60": {
      "model_module": "@jupyter-widgets/controls",
      "model_module_version": "1.5.0",
      "model_name": "FloatSliderModel",
      "state": {
       "layout": "IPY_MODEL_caf008d5b005490cad77aaba7b7ee9b4",
       "step": 0.1,
       "style": "IPY_MODEL_b6abab1db9314eceb42dd98b21fad21c"
      }
     },
     "5c3fdda32ff6437f807e2d1df324874e": {
      "model_module": "@jupyter-widgets/controls",
      "model_module_version": "1.5.0",
      "model_name": "SliderStyleModel",
      "state": {
       "description_width": ""
      }
     },
     "5c548a00a7c843fd82c967463b5d5a48": {
      "model_module": "@jupyter-widgets/controls",
      "model_module_version": "1.5.0",
      "model_name": "DescriptionStyleModel",
      "state": {
       "description_width": ""
      }
     },
     "5c59f5cd5b5645aa9784386b254db299": {
      "model_module": "@jupyter-widgets/controls",
      "model_module_version": "1.5.0",
      "model_name": "LabelModel",
      "state": {
       "layout": "IPY_MODEL_87a51af2bfc44bb7b542ab117a2aca55",
       "style": "IPY_MODEL_146278c129f34fa1b132a02c1907826d",
       "value": "2"
      }
     },
     "5c933e7c059c403f9f4fe27ec8270cfd": {
      "model_module": "@jupyter-widgets/controls",
      "model_module_version": "1.5.0",
      "model_name": "DescriptionStyleModel",
      "state": {
       "description_width": ""
      }
     },
     "5cb11d960df8466ab1c59a274605a931": {
      "model_module": "@jupyter-widgets/base",
      "model_module_version": "1.2.0",
      "model_name": "LayoutModel",
      "state": {}
     },
     "5cd9accf60804812aadcce9ba5a658ab": {
      "model_module": "@jupyter-widgets/base",
      "model_module_version": "1.2.0",
      "model_name": "LayoutModel",
      "state": {}
     },
     "5d663309e4e04a89b81b5e8aa62d8a44": {
      "model_module": "@jupyter-widgets/controls",
      "model_module_version": "1.5.0",
      "model_name": "HBoxModel",
      "state": {
       "children": [
        "IPY_MODEL_edbf5a8c5af347af87008a99eac0e453",
        "IPY_MODEL_60ffefe0deb749b59be1d40523ab4d63"
       ],
       "layout": "IPY_MODEL_1eecd9abe6144183b27b3f42d3d7d60d"
      }
     },
     "5d93b3737cc94880afb92a7ac054d526": {
      "model_module": "@jupyter-widgets/controls",
      "model_module_version": "1.5.0",
      "model_name": "LabelModel",
      "state": {
       "layout": "IPY_MODEL_58948197decb4125880dd68245892a10",
       "style": "IPY_MODEL_ccc3960ad8084d96bcd664419bb7d490",
       "value": "0"
      }
     },
     "5d9ae4fcd04e40feb4a0574935ea4b46": {
      "buffers": [
       {
        "data": "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",
        "encoding": "base64",
        "path": [
         "value"
        ]
       }
      ],
      "model_module": "@jupyter-widgets/controls",
      "model_module_version": "1.5.0",
      "model_name": "ImageModel",
      "state": {
       "format": "gif",
       "height": "128",
       "layout": "IPY_MODEL_5bfd6dfde0b5438c875cdc19959d506f",
       "width": "128"
      }
     },
     "5ee210147c5f4eaa8b79f2bc175081e8": {
      "model_module": "@jupyter-widgets/controls",
      "model_module_version": "1.5.0",
      "model_name": "FloatRangeSliderModel",
      "state": {
       "_model_name": "FloatRangeSliderModel",
       "_view_name": "FloatRangeSliderView",
       "continuous_update": false,
       "description": "Test:",
       "layout": "IPY_MODEL_8b3cd94a832d47ba9be2bb6af674f583",
       "max": 10,
       "readout_format": ".1f",
       "step": 0.1,
       "style": "IPY_MODEL_08038d2c0bbf4b05be11e07971649c7a",
       "value": [
        5,
        7.5
       ]
      }
     },
     "5eec1aacb2dd4535a388681ec1093f37": {
      "model_module": "@jupyter-widgets/controls",
      "model_module_version": "1.5.0",
      "model_name": "TabModel",
      "state": {
       "_titles": {
        "0": "An accordion",
        "1": "Copy of the accordion"
       },
       "children": [
        "IPY_MODEL_0dcf7529abce4b75b2a2fce3f34f7817",
        "IPY_MODEL_0dcf7529abce4b75b2a2fce3f34f7817"
       ],
       "layout": "IPY_MODEL_4b3b6f4109554948b5b14fdc7f72d526"
      }
     },
     "5f01454b787c436ea2d8c6347e05df16": {
      "model_module": "@jupyter-widgets/base",
      "model_module_version": "1.2.0",
      "model_name": "LayoutModel",
      "state": {}
     },
     "5f30f3cf849b4856aab2c1b32c4ae6a8": {
      "model_module": "@jupyter-widgets/base",
      "model_module_version": "1.2.0",
      "model_name": "LayoutModel",
      "state": {}
     },
     "5f36c0e1a680471f9b1ed1d2829756eb": {
      "model_module": "@jupyter-widgets/controls",
      "model_module_version": "1.5.0",
      "model_name": "FloatSliderModel",
      "state": {
       "layout": "IPY_MODEL_799834c19f7f4c66b8a81e9f706244fc",
       "step": 0.1,
       "style": "IPY_MODEL_042198b8cb8544e9a5e4653e50bf1d82"
      }
     },
     "5fbbc42716304e58acc4192e7619e260": {
      "model_module": "@jupyter-widgets/controls",
      "model_module_version": "1.5.0",
      "model_name": "ToggleButtonsStyleModel",
      "state": {
       "button_width": "",
       "description_width": ""
      }
     },
     "5fc7d095cee74bae8b6acf67dc59c682": {
      "model_module": "@jupyter-widgets/controls",
      "model_module_version": "1.5.0",
      "model_name": "DescriptionStyleModel",
      "state": {
       "description_width": ""
      }
     },
     "5ff3a791981649f6a84a3b36e06c9247": {
      "model_module": "@jupyter-widgets/controls",
      "model_module_version": "1.5.0",
      "model_name": "ProgressStyleModel",
      "state": {
       "description_width": ""
      }
     },
     "5ff8305b89ee42eb9650fbac872ada46": {
      "model_module": "@jupyter-widgets/base",
      "model_module_version": "1.2.0",
      "model_name": "LayoutModel",
      "state": {}
     },
     "60b146c9248a41a19faf861e45707204": {
      "model_module": "@jupyter-widgets/controls",
      "model_module_version": "1.5.0",
      "model_name": "CheckboxModel",
      "state": {
       "description": "Check me",
       "disabled": false,
       "layout": "IPY_MODEL_09cf17b7a5084da59c1858e009021d68",
       "style": "IPY_MODEL_2b0e4f7cb5ef4209acfb65e3237d609b",
       "value": false
      }
     },
     "60fccbf96f194814a8d881b88f9bb42c": {
      "model_module": "@jupyter-widgets/base",
      "model_module_version": "1.2.0",
      "model_name": "LayoutModel",
      "state": {}
     },
     "60ffefe0deb749b59be1d40523ab4d63": {
      "model_module": "@jupyter-widgets/controls",
      "model_module_version": "1.5.0",
      "model_name": "FloatSliderModel",
      "state": {
       "layout": "IPY_MODEL_c16cb20b521844719ddebf13facfc57e",
       "step": 0.1,
       "style": "IPY_MODEL_d3dd5db7bfa04c6ba02943b9e1984ef5"
      }
     },
     "610f43d7bc334663af4b9132315d1bd3": {
      "model_module": "@jupyter-widgets/base",
      "model_module_version": "1.2.0",
      "model_name": "LayoutModel",
      "state": {}
     },
     "612d4a3a1e9f4753a2ef6853ec09bd75": {
      "model_module": "@jupyter-widgets/base",
      "model_module_version": "1.2.0",
      "model_name": "LayoutModel",
      "state": {}
     },
     "61f3dad6576a409a8f39d112c0a138b5": {
      "model_module": "@jupyter-widgets/controls",
      "model_module_version": "1.5.0",
      "model_name": "IntSliderModel",
      "state": {
       "continuous_update": false,
       "description": "Test:",
       "layout": "IPY_MODEL_0149117c84e44ce9a6a19a91b4416bcc",
       "max": 10,
       "style": "IPY_MODEL_2b6e923fb5944311b5dbf53c51497793",
       "value": 7
      }
     },
     "629a22d04eae4d24bae42f111e6ecc4c": {
      "model_module": "@jupyter-widgets/controls",
      "model_module_version": "1.5.0",
      "model_name": "HTMLModel",
      "state": {
       "description": "Some HTML",
       "layout": "IPY_MODEL_21b1b7b587554b138462bcd3cad68455",
       "placeholder": "Some HTML",
       "style": "IPY_MODEL_0bc4fbef4eff49ad97d7ca5e1ce40721",
       "value": "Hello <b>World</b>"
      }
     },
     "63406e40647a42cd941958167315f398": {
      "model_module": "@jupyter-widgets/controls",
      "model_module_version": "1.5.0",
      "model_name": "DescriptionStyleModel",
      "state": {
       "description_width": ""
      }
     },
     "637324967bc04c4d92d37995e462ed83": {
      "model_module": "@jupyter-widgets/base",
      "model_module_version": "1.2.0",
      "model_name": "LayoutModel",
      "state": {}
     },
     "639cf4b81abd4afeb8bc0bf4c129392d": {
      "model_module": "@jupyter-widgets/base",
      "model_module_version": "1.2.0",
      "model_name": "LayoutModel",
      "state": {}
     },
     "63ab63f30f1c4bef9ee059ef78ee9959": {
      "model_module": "@jupyter-widgets/controls",
      "model_module_version": "1.5.0",
      "model_name": "RadioButtonsModel",
      "state": {
       "_options_labels": [
        "pepperoni",
        "pineapple",
        "anchovies"
       ],
       "description": "Pizza topping:",
       "index": 0,
       "layout": "IPY_MODEL_d0fdf67ff9994f1897c3c4736460e77b",
       "style": "IPY_MODEL_3580412c684e4004a59dd102c026fab9"
      }
     },
     "63b1b703daab44959dd0e074f7f1a558": {
      "model_module": "@jupyter-widgets/controls",
      "model_module_version": "1.5.0",
      "model_name": "LabelModel",
      "state": {
       "layout": "IPY_MODEL_0e118c1ebbaf4a92bade9ed38ef16998",
       "style": "IPY_MODEL_2178a37d66a1451ba268fe9dc8499610",
       "value": "0"
      }
     },
     "63d77e3e193e42d7a4de02e12737f7db": {
      "model_module": "@jupyter-widgets/base",
      "model_module_version": "1.2.0",
      "model_name": "LayoutModel",
      "state": {}
     },
     "63ddff8e994a4aea997b01f173eb9201": {
      "model_module": "@jupyter-widgets/controls",
      "model_module_version": "1.5.0",
      "model_name": "FloatProgressModel",
      "state": {
       "bar_style": "info",
       "description": "Loading:",
       "layout": "IPY_MODEL_06bbd57ab9744d9db23ca392470c2d58",
       "max": 10,
       "style": "IPY_MODEL_e04f05d7cfe446cba76b0160869aa555",
       "value": 7.5
      }
     },
     "63fb5c6997ec42f18a9409aa7a3cd3d7": {
      "model_module": "@jupyter-widgets/controls",
      "model_module_version": "1.5.0",
      "model_name": "LabelModel",
      "state": {
       "layout": "IPY_MODEL_58df2fefc5b44f57a4db2b5d95f9ae84",
       "style": "IPY_MODEL_2f059bd7b3a44edc98073f5f8b275ca1",
       "value": "0"
      }
     },
     "64070e7d8cff45d3a8804f344aea9f21": {
      "model_module": "@jupyter-widgets/controls",
      "model_module_version": "1.5.0",
      "model_name": "DescriptionStyleModel",
      "state": {
       "description_width": ""
      }
     },
     "6448c40c06904dacb5d5525263dd2d55": {
      "model_module": "@jupyter-widgets/controls",
      "model_module_version": "1.5.0",
      "model_name": "DescriptionStyleModel",
      "state": {
       "description_width": ""
      }
     },
     "64606e122a6e4ce790f2255babc32943": {
      "model_module": "@jupyter-widgets/controls",
      "model_module_version": "1.5.0",
      "model_name": "DescriptionStyleModel",
      "state": {
       "description_width": ""
      }
     },
     "6464384d93214c6683d92e2b18b70a24": {
      "model_module": "@jupyter-widgets/controls",
      "model_module_version": "1.5.0",
      "model_name": "DescriptionStyleModel",
      "state": {
       "description_width": ""
      }
     },
     "651225c5946a46c88e34035cd6887eb0": {
      "model_module": "@jupyter-widgets/controls",
      "model_module_version": "1.5.0",
      "model_name": "TextareaModel",
      "state": {
       "description": "String:",
       "layout": "IPY_MODEL_0755f415a2d642ca8abadb8133e75db6",
       "placeholder": "Type something",
       "style": "IPY_MODEL_7dbf0c22beb94f96a562db0024f29bd2",
       "value": "Hello World"
      }
     },
     "6524d95b710243448a41b14241649e04": {
      "model_module": "@jupyter-widgets/controls",
      "model_module_version": "1.5.0",
      "model_name": "FloatRangeSliderModel",
      "state": {
       "_model_name": "FloatRangeSliderModel",
       "_view_name": "FloatRangeSliderView",
       "continuous_update": false,
       "description": "Test:",
       "layout": "IPY_MODEL_637324967bc04c4d92d37995e462ed83",
       "max": 10,
       "readout_format": ".1f",
       "step": 0.1,
       "style": "IPY_MODEL_42f30b9fddc04b308f546ddc9a73806f",
       "value": [
        5,
        7.5
       ]
      }
     },
     "6527bd6ab97c4892af97ad94362bae81": {
      "model_module": "@jupyter-widgets/controls",
      "model_module_version": "1.5.0",
      "model_name": "CheckboxModel",
      "state": {
       "description": "Check me",
       "disabled": false,
       "layout": "IPY_MODEL_cb814b34ce3c4368a00af39861539563",
       "style": "IPY_MODEL_850c9783e2234b398fb44c1d6c1a84f5",
       "value": false
      }
     },
     "6572fe6ad11343308e5f8449d34cfe0b": {
      "model_module": "@jupyter-widgets/base",
      "model_module_version": "1.2.0",
      "model_name": "LayoutModel",
      "state": {}
     },
     "65757f1caa5a4544bd92148eb3385cad": {
      "model_module": "@jupyter-widgets/controls",
      "model_module_version": "1.5.0",
      "model_name": "BoundedIntTextModel",
      "state": {
       "description": "Text:",
       "layout": "IPY_MODEL_d754bc528e3f4cff95ed216edcada03b",
       "max": 10,
       "style": "IPY_MODEL_b046f09898884fd89f06d6d68b64fb6c",
       "value": 7
      }
     },
     "65ba2c8174774331b15a4e08e02ac2cb": {
      "model_module": "@jupyter-widgets/controls",
      "model_module_version": "1.5.0",
      "model_name": "TextareaModel",
      "state": {
       "description": "String:",
       "layout": "IPY_MODEL_aac5085a8fb44eccb81274a2326de379",
       "placeholder": "Type something",
       "style": "IPY_MODEL_30923b99d3dd4b8a88a56fb7f1df16bd",
       "value": "Hello World"
      }
     },
     "65bf5f49e22f4a6f978c49b2389529c2": {
      "model_module": "@jupyter-widgets/controls",
      "model_module_version": "1.5.0",
      "model_name": "LinkModel",
      "state": {
       "source": [
        "IPY_MODEL_a894825cf707478e9e6f26ebae8644ca",
        "value"
       ],
       "target": [
        "IPY_MODEL_0d12b28326a1467bbee504790c2d53bf",
        "value"
       ]
      }
     },
     "65e9402ce84f4e6b959e3b759e658324": {
      "model_module": "@jupyter-widgets/base",
      "model_module_version": "1.2.0",
      "model_name": "LayoutModel",
      "state": {}
     },
     "65f86b7d7758479eb7616ef401c566b4": {
      "model_module": "@jupyter-widgets/base",
      "model_module_version": "1.2.0",
      "model_name": "LayoutModel",
      "state": {}
     },
     "661a3bbbdc6d44898b0bf78328dc1ec3": {
      "model_module": "@jupyter-widgets/base",
      "model_module_version": "1.2.0",
      "model_name": "LayoutModel",
      "state": {}
     },
     "6655e7089a934d6bb67b73ca1c001f9a": {
      "model_module": "@jupyter-widgets/controls",
      "model_module_version": "1.5.0",
      "model_name": "DescriptionStyleModel",
      "state": {
       "description_width": ""
      }
     },
     "66df9a7f65dd436787ea19df31776cc5": {
      "model_module": "@jupyter-widgets/controls",
      "model_module_version": "1.5.0",
      "model_name": "SliderStyleModel",
      "state": {
       "description_width": ""
      }
     },
     "6740b8543ff747358d31078407f842f2": {
      "model_module": "@jupyter-widgets/base",
      "model_module_version": "1.2.0",
      "model_name": "LayoutModel",
      "state": {}
     },
     "675c790c9d9844028d2fe7a850898e4e": {
      "model_module": "@jupyter-widgets/output",
      "model_module_version": "1.0.0",
      "model_name": "OutputModel",
      "state": {
       "layout": "IPY_MODEL_55e802d01b554e61b6dcc12df493d744"
      }
     },
     "67b28a62f2624dcf8bf514d8a318415e": {
      "model_module": "@jupyter-widgets/base",
      "model_module_version": "1.2.0",
      "model_name": "LayoutModel",
      "state": {}
     },
     "67c21cea3e384446bca8f9ce73e6dc62": {
      "model_module": "@jupyter-widgets/controls",
      "model_module_version": "1.5.0",
      "model_name": "LabelModel",
      "state": {
       "layout": "IPY_MODEL_fd87f665e2b749099479cfe9d5fd2718",
       "style": "IPY_MODEL_f354bf243c364d029ddb7293d1a93392",
       "value": "1"
      }
     },
     "67cd44e292f04ab1a60fa7e4c3ae51f1": {
      "model_module": "@jupyter-widgets/base",
      "model_module_version": "1.2.0",
      "model_name": "LayoutModel",
      "state": {}
     },
     "67d1fc6810404e7a8a72d209f4f8d276": {
      "model_module": "@jupyter-widgets/controls",
      "model_module_version": "1.5.0",
      "model_name": "SliderStyleModel",
      "state": {
       "description_width": ""
      }
     },
     "67f84c51de884d588278b578fd248616": {
      "buffers": [
       {
        "data": "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",
        "encoding": "base64",
        "path": [
         "value"
        ]
       }
      ],
      "model_module": "@jupyter-widgets/controls",
      "model_module_version": "1.5.0",
      "model_name": "ImageModel",
      "state": {
       "format": "gif",
       "height": "200",
       "layout": "IPY_MODEL_deee1a95874c4dd4af51ca82a14613dd",
       "width": "200"
      }
     },
     "6814e2376fe84f9cbf0e723b4fbe94d2": {
      "model_module": "@jupyter-widgets/controls",
      "model_module_version": "1.5.0",
      "model_name": "DescriptionStyleModel",
      "state": {
       "description_width": ""
      }
     },
     "6819ee5a421747039479ae02f11ee1ac": {
      "model_module": "@jupyter-widgets/controls",
      "model_module_version": "1.5.0",
      "model_name": "DescriptionStyleModel",
      "state": {
       "description_width": ""
      }
     },
     "6847f4ee91834150ba3ce36cf7b54390": {
      "model_module": "@jupyter-widgets/base",
      "model_module_version": "1.2.0",
      "model_name": "LayoutModel",
      "state": {}
     },
     "68621a3951514817a6ed66df711795b3": {
      "model_module": "@jupyter-widgets/controls",
      "model_module_version": "1.5.0",
      "model_name": "IntSliderModel",
      "state": {
       "layout": "IPY_MODEL_612d4a3a1e9f4753a2ef6853ec09bd75",
       "style": "IPY_MODEL_66df9a7f65dd436787ea19df31776cc5",
       "value": 50
      }
     },
     "686be2062dee4eb99d49e5e2fcb60657": {
      "model_module": "@jupyter-widgets/controls",
      "model_module_version": "1.5.0",
      "model_name": "LabelModel",
      "state": {
       "layout": "IPY_MODEL_eef627fd7a4b474a8d2fabe3fdb4679b",
       "style": "IPY_MODEL_7fa85a84da5748ae8d653f35ddce7923",
       "value": "0"
      }
     },
     "68d150ca2bb441cb9633d0d62013c0a3": {
      "model_module": "@jupyter-widgets/base",
      "model_module_version": "1.2.0",
      "model_name": "LayoutModel",
      "state": {
       "border": "1px solid black"
      }
     },
     "68e69f47d6cd46adbc215562a0191616": {
      "model_module": "@jupyter-widgets/base",
      "model_module_version": "1.2.0",
      "model_name": "LayoutModel",
      "state": {}
     },
     "68e995daa7544ce2957e8e1ce50592d1": {
      "model_module": "@jupyter-widgets/controls",
      "model_module_version": "1.5.0",
      "model_name": "HBoxModel",
      "state": {
       "children": [
        "IPY_MODEL_6b52ae2a391d488db3d58aadc734ec51",
        "IPY_MODEL_781ede9b3af744268bc40a9a9aea7068"
       ],
       "layout": "IPY_MODEL_789e80da3c8c4a50bd0532df7064e262"
      }
     },
     "68ec2da410a2464aa55c9bbe40f20d0c": {
      "model_module": "@jupyter-widgets/controls",
      "model_module_version": "1.5.0",
      "model_name": "BoundedFloatTextModel",
      "state": {
       "description": "Text:",
       "layout": "IPY_MODEL_38f6c8e891bc455eb419e6293c0c3dab",
       "max": 10,
       "style": "IPY_MODEL_ebd084bdaa084a6cacf63b60fcfbb6ef",
       "value": 7.5
      }
     },
     "68f6a578f8e840aca4db17a5f0ca2cdd": {
      "model_module": "@jupyter-widgets/controls",
      "model_module_version": "1.5.0",
      "model_name": "TabModel",
      "state": {
       "_titles": {
        "0": "An accordion",
        "1": "Copy of the accordion"
       },
       "children": [
        "IPY_MODEL_470c60634fff42c18c52f3c4633d7bf1",
        "IPY_MODEL_470c60634fff42c18c52f3c4633d7bf1"
       ],
       "layout": "IPY_MODEL_59e0025c9f034dfea49d1fd81e1e7aa8"
      }
     },
     "69290bb5ddae4522b4cc01308f863716": {
      "model_module": "@jupyter-widgets/controls",
      "model_module_version": "1.5.0",
      "model_name": "DatePickerModel",
      "state": {
       "description": "Pick a Date",
       "disabled": false,
       "layout": "IPY_MODEL_3f304a0e9c224b4f8c574aabe02b586d",
       "style": "IPY_MODEL_7509d383d06a4bc2b06b1167bb199208"
      }
     },
     "6a22faaa766e4a1bb4f48b85aa23c925": {
      "model_module": "@jupyter-widgets/base",
      "model_module_version": "1.2.0",
      "model_name": "LayoutModel",
      "state": {}
     },
     "6a89f2aa4e5e4e07a1c654d412babd12": {
      "model_module": "@jupyter-widgets/base",
      "model_module_version": "1.2.0",
      "model_name": "LayoutModel",
      "state": {}
     },
     "6b13d4082ba542328cfd40176e5eb312": {
      "model_module": "@jupyter-widgets/controls",
      "model_module_version": "1.5.0",
      "model_name": "FloatSliderModel",
      "state": {
       "continuous_update": false,
       "description": "Test:",
       "layout": "IPY_MODEL_0fd6c51777a54d0cad3bdc017b7ca4b1",
       "max": 10,
       "readout_format": ".1f",
       "step": 0.1,
       "style": "IPY_MODEL_32c89ac9c9f440c4b013e227b8bfb40c",
       "value": 7.5
      }
     },
     "6b52ae2a391d488db3d58aadc734ec51": {
      "model_module": "@jupyter-widgets/controls",
      "model_module_version": "1.5.0",
      "model_name": "VBoxModel",
      "state": {
       "children": [
        "IPY_MODEL_b0ad48d794354098b38b7a305fa206d6",
        "IPY_MODEL_062ad4024b9a424e8e346693088f9e3d"
       ],
       "layout": "IPY_MODEL_c2c982f0bdd1465b9f1003549f263522"
      }
     },
     "6b54279f635049aebd1e5c3c5eb25d46": {
      "model_module": "@jupyter-widgets/controls",
      "model_module_version": "1.5.0",
      "model_name": "TabModel",
      "state": {
       "_titles": {
        "0": "An accordion",
        "1": "Copy of the accordion"
       },
       "children": [
        "IPY_MODEL_119b98d20a8b43549621d8301058d5fb",
        "IPY_MODEL_119b98d20a8b43549621d8301058d5fb"
       ],
       "layout": "IPY_MODEL_91b80bc959644f9f9954bfcef7b7a218"
      }
     },
     "6b71aebac87848e2b461d34d08450e36": {
      "model_module": "@jupyter-widgets/controls",
      "model_module_version": "1.5.0",
      "model_name": "DescriptionStyleModel",
      "state": {
       "description_width": ""
      }
     },
     "6b7b27c1edd6448e9afbe1ed508a9c24": {
      "model_module": "@jupyter-widgets/base",
      "model_module_version": "1.2.0",
      "model_name": "LayoutModel",
      "state": {}
     },
     "6b9ef07c27e342d7966e18e73269d4c7": {
      "model_module": "@jupyter-widgets/controls",
      "model_module_version": "1.5.0",
      "model_name": "DescriptionStyleModel",
      "state": {
       "description_width": ""
      }
     },
     "6c0666e2469b42949bface9fd9de99d4": {
      "model_module": "@jupyter-widgets/base",
      "model_module_version": "1.2.0",
      "model_name": "LayoutModel",
      "state": {}
     },
     "6c446e4ec2dd4e7e9ace56300bcc2f35": {
      "model_module": "@jupyter-widgets/base",
      "model_module_version": "1.2.0",
      "model_name": "LayoutModel",
      "state": {}
     },
     "6c93012858b747ee967cdb6878ea6fae": {
      "model_module": "@jupyter-widgets/controls",
      "model_module_version": "1.5.0",
      "model_name": "DescriptionStyleModel",
      "state": {
       "description_width": ""
      }
     },
     "6d0c780b23824050b64fe044de32d948": {
      "model_module": "@jupyter-widgets/controls",
      "model_module_version": "1.5.0",
      "model_name": "VBoxModel",
      "state": {
       "children": [
        "IPY_MODEL_d8eb198c4ae84a058e147353f54aa37b",
        "IPY_MODEL_3666bde02bb84495b84cddb4af04ab3c"
       ],
       "layout": "IPY_MODEL_24753765ec82456a94239ec09f955299"
      }
     },
     "6d8556c0367f45e1b802da81285a9783": {
      "model_module": "@jupyter-widgets/base",
      "model_module_version": "1.2.0",
      "model_name": "LayoutModel",
      "state": {
       "border": "1px solid black"
      }
     },
     "6e52ad44621047879281e8cde034f79d": {
      "model_module": "@jupyter-widgets/controls",
      "model_module_version": "1.5.0",
      "model_name": "BoundedFloatTextModel",
      "state": {
       "description": "Text:",
       "layout": "IPY_MODEL_0dd912899f6e4b3f9db52242eff43401",
       "max": 10,
       "style": "IPY_MODEL_2b25adb981f943d19be7665a8e7b7157",
       "value": 7.5
      }
     },
     "6eb9b884599640519f709ccbfbb7bebe": {
      "model_module": "@jupyter-widgets/controls",
      "model_module_version": "1.5.0",
      "model_name": "SelectionSliderModel",
      "state": {
       "_options_labels": [
        "scrambled",
        "sunny side up",
        "poached",
        "over easy"
       ],
       "continuous_update": false,
       "description": "I like my eggs …",
       "index": 1,
       "layout": "IPY_MODEL_23c5733b8dba4a5ba5166aab9dcc6e56",
       "style": "IPY_MODEL_64070e7d8cff45d3a8804f344aea9f21"
      }
     },
     "6ed266be750042a9bbd3bb30b506ff58": {
      "model_module": "@jupyter-widgets/controls",
      "model_module_version": "1.5.0",
      "model_name": "LabelModel",
      "state": {
       "layout": "IPY_MODEL_8e0245e4885440aeb7518df7a955f956",
       "style": "IPY_MODEL_58aab2eca9ee47acafdf8c2cd0f5b2bc",
       "value": "0"
      }
     },
     "6f39bac167464eec82b8499b0434aefa": {
      "model_module": "@jupyter-widgets/controls",
      "model_module_version": "1.5.0",
      "model_name": "FloatLogSliderModel",
      "state": {
       "description": "Log Slider",
       "layout": "IPY_MODEL_aa70a0036f41471ea5deebca5965bc6a",
       "max": 10,
       "min": -10,
       "step": 0.2,
       "style": "IPY_MODEL_40d8819ef44f4ce5b649570206a9dcf8",
       "value": 10
      }
     },
     "6facd0a3a0a94a27b584560fe82cb02f": {
      "model_module": "@jupyter-widgets/controls",
      "model_module_version": "1.5.0",
      "model_name": "ToggleButtonModel",
      "state": {
       "description": "Click me",
       "icon": "check",
       "layout": "IPY_MODEL_b424f850771146c9889ba1fe66694f4b",
       "style": "IPY_MODEL_100992258d5b4c858b3ddfeb0c2219f4",
       "tooltip": "Description"
      }
     },
     "6fe4134af96442c29362010de594d289": {
      "model_module": "@jupyter-widgets/controls",
      "model_module_version": "1.5.0",
      "model_name": "ToggleButtonModel",
      "state": {
       "description": "Click me",
       "icon": "check",
       "layout": "IPY_MODEL_32d286cb80c44b18b002426582387efc",
       "style": "IPY_MODEL_35a6ffe8f1e54f92a40bdc65bf7210b0",
       "tooltip": "Description"
      }
     },
     "7067c3d64c5b49eaa08fc06505b4423e": {
      "model_module": "@jupyter-widgets/base",
      "model_module_version": "1.2.0",
      "model_name": "LayoutModel",
      "state": {}
     },
     "71071844670041cbb013b1a6454bd659": {
      "model_module": "@jupyter-widgets/controls",
      "model_module_version": "1.5.0",
      "model_name": "DescriptionStyleModel",
      "state": {
       "description_width": ""
      }
     },
     "713b5cdeff6240f2bb0bbd8c9dbaca3b": {
      "model_module": "@jupyter-widgets/controls",
      "model_module_version": "1.5.0",
      "model_name": "SelectMultipleModel",
      "state": {
       "_options_labels": [
        "Apples",
        "Oranges",
        "Pears"
       ],
       "description": "Fruits",
       "index": [
        1
       ],
       "layout": "IPY_MODEL_861145fc56244aa091065ea7aff0b938",
       "rows": 3,
       "style": "IPY_MODEL_5aed8f5759fd4f27b071eec8ef4afb6f"
      }
     },
     "7184245c5b6a4297804b0825d6d8c458": {
      "model_module": "@jupyter-widgets/controls",
      "model_module_version": "1.5.0",
      "model_name": "ControllerModel",
      "state": {
       "layout": "IPY_MODEL_074ac7706c574bf3921cd3c272091882"
      }
     },
     "71eee4b663804997bdd06748670cde64": {
      "model_module": "@jupyter-widgets/base",
      "model_module_version": "1.2.0",
      "model_name": "LayoutModel",
      "state": {}
     },
     "720376c01d7d4c03af8a4a5a893c6691": {
      "model_module": "@jupyter-widgets/controls",
      "model_module_version": "1.5.0",
      "model_name": "SelectionSliderModel",
      "state": {
       "_options_labels": [
        "scrambled",
        "sunny side up",
        "poached",
        "over easy"
       ],
       "continuous_update": false,
       "description": "I like my eggs …",
       "index": 1,
       "layout": "IPY_MODEL_a6ba59cadeb0495d98cafd0446591e56",
       "style": "IPY_MODEL_d1e436beb7e148de9a0a6c32a5bf4550"
      }
     },
     "72772f43be9d46109eba8c163316ab11": {
      "model_module": "@jupyter-widgets/controls",
      "model_module_version": "1.5.0",
      "model_name": "DescriptionStyleModel",
      "state": {
       "description_width": ""
      }
     },
     "72d73eeca2e940b2a3f651a074aff2c3": {
      "model_module": "@jupyter-widgets/base",
      "model_module_version": "1.2.0",
      "model_name": "LayoutModel",
      "state": {}
     },
     "732c9f91110947c49dfd523f328c9a94": {
      "model_module": "@jupyter-widgets/base",
      "model_module_version": "1.2.0",
      "model_name": "LayoutModel",
      "state": {}
     },
     "733a1f140cfc4d0e8053b79927b9c967": {
      "model_module": "@jupyter-widgets/base",
      "model_module_version": "1.2.0",
      "model_name": "LayoutModel",
      "state": {}
     },
     "736254731cc448f79523b477542ea5b3": {
      "model_module": "@jupyter-widgets/controls",
      "model_module_version": "1.5.0",
      "model_name": "TextModel",
      "state": {
       "description": "P0",
       "layout": "IPY_MODEL_8d4079b48d9443b6b6e57e7abf8802cf",
       "style": "IPY_MODEL_8fe5fc528d59401f9669bec66ef1a280"
      }
     },
     "73cbbc3cf0554b3e99f3b922e2c780d9": {
      "model_module": "@jupyter-widgets/controls",
      "model_module_version": "1.5.0",
      "model_name": "DescriptionStyleModel",
      "state": {
       "description_width": ""
      }
     },
     "73fc270deb4b442daec7ff70c09de824": {
      "model_module": "@jupyter-widgets/controls",
      "model_module_version": "1.5.0",
      "model_name": "DescriptionStyleModel",
      "state": {
       "description_width": ""
      }
     },
     "740385346f0a4ecfb4c9d4e7072f46bb": {
      "model_module": "@jupyter-widgets/base",
      "model_module_version": "1.2.0",
      "model_name": "LayoutModel",
      "state": {}
     },
     "74512caf701145c88bf8a5a2a837f7dd": {
      "model_module": "@jupyter-widgets/controls",
      "model_module_version": "1.5.0",
      "model_name": "IntSliderModel",
      "state": {
       "continuous_update": false,
       "description": "Test:",
       "layout": "IPY_MODEL_0bcc76f4a6eb4e9fa0a9eec2e5933f94",
       "max": 10,
       "style": "IPY_MODEL_5c3fdda32ff6437f807e2d1df324874e",
       "value": 7
      }
     },
     "74708070ec124ab9a7fb21b02f446b66": {
      "model_module": "@jupyter-widgets/controls",
      "model_module_version": "1.5.0",
      "model_name": "IntSliderModel",
      "state": {
       "layout": "IPY_MODEL_0e3f06e54e374db394375e5fd47e1ce0",
       "style": "IPY_MODEL_4a5832b41079482d874c6092872f638a"
      }
     },
     "7493efddf4e5455daac182936322d836": {
      "model_module": "@jupyter-widgets/base",
      "model_module_version": "1.2.0",
      "model_name": "LayoutModel",
      "state": {}
     },
     "74a759838bf34015b5b7b8ea55b8be22": {
      "model_module": "@jupyter-widgets/base",
      "model_module_version": "1.2.0",
      "model_name": "LayoutModel",
      "state": {}
     },
     "74bf6074e7844233bd826f174b951b6e": {
      "model_module": "@jupyter-widgets/base",
      "model_module_version": "1.2.0",
      "model_name": "LayoutModel",
      "state": {}
     },
     "7509d383d06a4bc2b06b1167bb199208": {
      "model_module": "@jupyter-widgets/controls",
      "model_module_version": "1.5.0",
      "model_name": "DescriptionStyleModel",
      "state": {
       "description_width": ""
      }
     },
     "75113b3fff9341c0a9e27551df4ede03": {
      "model_module": "@jupyter-widgets/controls",
      "model_module_version": "1.5.0",
      "model_name": "SliderStyleModel",
      "state": {
       "description_width": ""
      }
     },
     "75ea312a507f4688b8ae36d4a821baec": {
      "model_module": "@jupyter-widgets/base",
      "model_module_version": "1.2.0",
      "model_name": "LayoutModel",
      "state": {}
     },
     "75ea951f3c504386ac22eee2a98607eb": {
      "buffers": [
       {
        "data": "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",
        "encoding": "base64",
        "path": [
         "outputs",
         1,
         "data",
         "image/jpeg"
        ]
       }
      ],
      "model_module": "@jupyter-widgets/output",
      "model_module_version": "1.0.0",
      "model_name": "OutputModel",
      "state": {
       "layout": "IPY_MODEL_1a05fc672a2845a8a5b1362a893a4cba",
       "outputs": [
        {
         "name": "stdout",
         "output_type": "stream",
         "text": "Output appended with append_stdout"
        },
        {
         "data": {
          "text/html": "\n        <iframe\n            width=\"400\"\n            height=\"300\"\n            src=\"https://www.youtube.com/embed/eWzY2nGfkXk\"\n            frameborder=\"0\"\n            allowfullscreen\n            \n        ></iframe>\n        ",
          "text/plain": "<IPython.lib.display.YouTubeVideo at 0x107536590>"
         },
         "metadata": {},
         "output_type": "display_data"
        }
       ]
      }
     },
     "760883488da749b5a4085ac6ff0b34b9": {
      "model_module": "@jupyter-widgets/controls",
      "model_module_version": "1.5.0",
      "model_name": "SliderStyleModel",
      "state": {
       "description_width": ""
      }
     },
     "7673e110a7ec4dd6b56af01d3a50ba12": {
      "model_module": "@jupyter-widgets/base",
      "model_module_version": "1.2.0",
      "model_name": "LayoutModel",
      "state": {}
     },
     "7686eaa2c0c94c1eb42abaf0fbe4aee4": {
      "model_module": "@jupyter-widgets/base",
      "model_module_version": "1.2.0",
      "model_name": "LayoutModel",
      "state": {}
     },
     "770d1a37ea5e4532926fea608ac86752": {
      "model_module": "@jupyter-widgets/base",
      "model_module_version": "1.2.0",
      "model_name": "LayoutModel",
      "state": {}
     },
     "77216aa8398c483881fa29b6bdc52424": {
      "model_module": "@jupyter-widgets/base",
      "model_module_version": "1.2.0",
      "model_name": "LayoutModel",
      "state": {}
     },
     "77466eb46bbe449db481bb1a5400484e": {
      "model_module": "@jupyter-widgets/controls",
      "model_module_version": "1.5.0",
      "model_name": "TabModel",
      "state": {
       "_titles": {
        "0": "An accordion",
        "1": "Copy of the accordion"
       },
       "children": [
        "IPY_MODEL_2b53aaf6b28448bcaf7f723e22369dd4",
        "IPY_MODEL_2b53aaf6b28448bcaf7f723e22369dd4"
       ],
       "layout": "IPY_MODEL_2d95f83f083e4a9baad255e79baf77d4"
      }
     },
     "777223ee24f14956816e3bdd7290693a": {
      "model_module": "@jupyter-widgets/controls",
      "model_module_version": "1.5.0",
      "model_name": "LabelModel",
      "state": {
       "layout": "IPY_MODEL_c6d203f497254ebf82a450343ba11b8f",
       "style": "IPY_MODEL_341e580e5eaa4dc18967abfbbe74fa7e",
       "value": "1"
      }
     },
     "77a561e258964e39aa0bc468b777790e": {
      "model_module": "@jupyter-widgets/controls",
      "model_module_version": "1.5.0",
      "model_name": "LabelModel",
      "state": {
       "layout": "IPY_MODEL_eaad72415ca3496190b1445b2a165799",
       "style": "IPY_MODEL_40698fd64f0f4baab4531f23a5f118b4",
       "value": "0"
      }
     },
     "78103ba0b3134c5b8b56fd367293672b": {
      "model_module": "@jupyter-widgets/base",
      "model_module_version": "1.2.0",
      "model_name": "LayoutModel",
      "state": {}
     },
     "781c970d3d9344e594f5d9b5f2521f8d": {
      "model_module": "@jupyter-widgets/controls",
      "model_module_version": "1.5.0",
      "model_name": "DescriptionStyleModel",
      "state": {
       "description_width": ""
      }
     },
     "781ede9b3af744268bc40a9a9aea7068": {
      "model_module": "@jupyter-widgets/controls",
      "model_module_version": "1.5.0",
      "model_name": "VBoxModel",
      "state": {
       "children": [
        "IPY_MODEL_d9a462135a464dc987e94c49b9bdeb8c",
        "IPY_MODEL_5bcc377016894d93b674f025064ea548"
       ],
       "layout": "IPY_MODEL_9a6504e5164544a5ad5027f0bb0b7513"
      }
     },
     "787945c1a3004285b736eae0d86aef56": {
      "model_module": "@jupyter-widgets/controls",
      "model_module_version": "1.5.0",
      "model_name": "ColorPickerModel",
      "state": {
       "description": "Pick a color",
       "disabled": false,
       "layout": "IPY_MODEL_733a1f140cfc4d0e8053b79927b9c967",
       "style": "IPY_MODEL_135ff4aaffad41329199836a0e01cbbf",
       "value": "blue"
      }
     },
     "789e80da3c8c4a50bd0532df7064e262": {
      "model_module": "@jupyter-widgets/base",
      "model_module_version": "1.2.0",
      "model_name": "LayoutModel",
      "state": {}
     },
     "78d85763929c4099bda4aa3b11426ff8": {
      "model_module": "@jupyter-widgets/controls",
      "model_module_version": "1.5.0",
      "model_name": "HBoxModel",
      "state": {
       "children": [
        "IPY_MODEL_3b618e56426a4ff38f636b204b68b04e",
        "IPY_MODEL_5f36c0e1a680471f9b1ed1d2829756eb"
       ],
       "layout": "IPY_MODEL_732c9f91110947c49dfd523f328c9a94"
      }
     },
     "78df5a4fc9e545478baed814e2908b5d": {
      "model_module": "@jupyter-widgets/base",
      "model_module_version": "1.2.0",
      "model_name": "LayoutModel",
      "state": {
       "border": "1px solid black"
      }
     },
     "79159686068242138e5f083df28f2987": {
      "model_module": "@jupyter-widgets/controls",
      "model_module_version": "1.5.0",
      "model_name": "DescriptionStyleModel",
      "state": {
       "description_width": ""
      }
     },
     "793c6f48f8f54b8eb59484c1c62d2e0c": {
      "model_module": "@jupyter-widgets/controls",
      "model_module_version": "1.5.0",
      "model_name": "SliderStyleModel",
      "state": {
       "description_width": ""
      }
     },
     "79722b88b73f44cd918ff046d30f8811": {
      "model_module": "@jupyter-widgets/base",
      "model_module_version": "1.2.0",
      "model_name": "LayoutModel",
      "state": {}
     },
     "7976a5dd68b643398307c9a5ecb2205a": {
      "model_module": "@jupyter-widgets/base",
      "model_module_version": "1.2.0",
      "model_name": "LayoutModel",
      "state": {}
     },
     "799834c19f7f4c66b8a81e9f706244fc": {
      "model_module": "@jupyter-widgets/base",
      "model_module_version": "1.2.0",
      "model_name": "LayoutModel",
      "state": {}
     },
     "799f8b87d71649d08736db86a165b98a": {
      "model_module": "@jupyter-widgets/controls",
      "model_module_version": "1.5.0",
      "model_name": "DescriptionStyleModel",
      "state": {
       "description_width": ""
      }
     },
     "7a88f44b47e444c696fc7db749c81290": {
      "model_module": "@jupyter-widgets/base",
      "model_module_version": "1.2.0",
      "model_name": "LayoutModel",
      "state": {}
     },
     "7b53a76f13984d668186cd1be13d0270": {
      "model_module": "@jupyter-widgets/controls",
      "model_module_version": "1.5.0",
      "model_name": "DescriptionStyleModel",
      "state": {
       "description_width": ""
      }
     },
     "7ba77fc4d02645dc860d485602dc7462": {
      "model_module": "@jupyter-widgets/controls",
      "model_module_version": "1.5.0",
      "model_name": "SliderStyleModel",
      "state": {
       "description_width": ""
      }
     },
     "7bbeaed699ad475f9266ac1273cf6f4a": {
      "model_module": "@jupyter-widgets/controls",
      "model_module_version": "1.5.0",
      "model_name": "BoxModel",
      "state": {
       "children": [
        "IPY_MODEL_d858abb73b2a447593e149de21b63792",
        "IPY_MODEL_ad62e74d1efd4b00b845bfd871ada8b6",
        "IPY_MODEL_a4bff24b55784d5483178f041ef23116",
        "IPY_MODEL_3910c862e58047848745852b439f41c6"
       ],
       "layout": "IPY_MODEL_6a89f2aa4e5e4e07a1c654d412babd12"
      }
     },
     "7bc916bc45b7472c98e883333686234e": {
      "model_module": "@jupyter-widgets/base",
      "model_module_version": "1.2.0",
      "model_name": "LayoutModel",
      "state": {}
     },
     "7c74040af4ee4734be62defba0df88cb": {
      "model_module": "@jupyter-widgets/controls",
      "model_module_version": "1.5.0",
      "model_name": "ValidModel",
      "state": {
       "description": "Valid!",
       "layout": "IPY_MODEL_b8eccad7f3bf4b7e9d797f9a96165fda",
       "style": "IPY_MODEL_5c548a00a7c843fd82c967463b5d5a48"
      }
     },
     "7c7c060dafbb4e76af3b9381bb4a5434": {
      "model_module": "@jupyter-widgets/controls",
      "model_module_version": "1.5.0",
      "model_name": "DescriptionStyleModel",
      "state": {
       "description_width": ""
      }
     },
     "7cafd6fb335e4a218b91623c4dbfefac": {
      "model_module": "@jupyter-widgets/base",
      "model_module_version": "1.2.0",
      "model_name": "LayoutModel",
      "state": {}
     },
     "7cba9b80fec14f88a9d13b35c71c0a6a": {
      "model_module": "@jupyter-widgets/controls",
      "model_module_version": "1.5.0",
      "model_name": "BoxModel",
      "state": {
       "children": [
        "IPY_MODEL_63b1b703daab44959dd0e074f7f1a558",
        "IPY_MODEL_2f3a69d0416d4b5aa83f285d1cf6ffbb",
        "IPY_MODEL_dabe5a239200445092a7d1cf63f37b1f",
        "IPY_MODEL_9459b45cc5d94b82a713438c73569216"
       ],
       "layout": "IPY_MODEL_ebb74ba6323d4aed98534fb2088be622"
      }
     },
     "7d095bbf8ff24bb68e5b651f63d122e4": {
      "model_module": "@jupyter-widgets/controls",
      "model_module_version": "1.5.0",
      "model_name": "TextModel",
      "state": {
       "description": "String:",
       "layout": "IPY_MODEL_b346ece6102e4eff9bc43ef5f6a17763",
       "placeholder": "Type something",
       "style": "IPY_MODEL_d3828b4e55ab48208067cf2fb87e9e19",
       "value": "Hello World"
      }
     },
     "7dbf0c22beb94f96a562db0024f29bd2": {
      "model_module": "@jupyter-widgets/controls",
      "model_module_version": "1.5.0",
      "model_name": "DescriptionStyleModel",
      "state": {
       "description_width": ""
      }
     },
     "7dcadfa8b0a14aef916d08c3c041a080": {
      "model_module": "@jupyter-widgets/controls",
      "model_module_version": "1.5.0",
      "model_name": "TabModel",
      "state": {
       "_titles": {
        "0": "An accordion",
        "1": "Copy of the accordion"
       },
       "children": [
        "IPY_MODEL_4de2999b565842708f1f9ed1c5fb302d",
        "IPY_MODEL_4de2999b565842708f1f9ed1c5fb302d"
       ],
       "layout": "IPY_MODEL_639cf4b81abd4afeb8bc0bf4c129392d"
      }
     },
     "7df4e43cd7f849fc97a358ceeb87b6ae": {
      "model_module": "@jupyter-widgets/controls",
      "model_module_version": "1.5.0",
      "model_name": "DescriptionStyleModel",
      "state": {
       "description_width": ""
      }
     },
     "7e14d563ddc04232a57c214c04e74478": {
      "model_module": "@jupyter-widgets/controls",
      "model_module_version": "1.5.0",
      "model_name": "PlayModel",
      "state": {
       "description": "Press play",
       "layout": "IPY_MODEL_0723aa09e91d41659991dc25c91407cb",
       "style": "IPY_MODEL_5bed77931a69458496a23de63db7df26",
       "value": 50
      }
     },
     "7e631b7decf74bda873e60f6aeed5aba": {
      "model_module": "@jupyter-widgets/controls",
      "model_module_version": "1.5.0",
      "model_name": "DescriptionStyleModel",
      "state": {
       "description_width": ""
      }
     },
     "7e7410fae5224775857530b8617870df": {
      "model_module": "@jupyter-widgets/controls",
      "model_module_version": "1.5.0",
      "model_name": "SliderStyleModel",
      "state": {
       "description_width": ""
      }
     },
     "7f92274ad5434cfd94290e7e8e775a67": {
      "model_module": "@jupyter-widgets/controls",
      "model_module_version": "1.5.0",
      "model_name": "FloatProgressModel",
      "state": {
       "bar_style": "info",
       "description": "Loading:",
       "layout": "IPY_MODEL_d869fe3945b548db95fbf9b99b27b2bf",
       "max": 10,
       "style": "IPY_MODEL_05ed2fb5197546cf8122ed792b5c9b93",
       "value": 7.5
      }
     },
     "7f9906fdf4544845b6f509b8728bf15a": {
      "model_module": "@jupyter-widgets/controls",
      "model_module_version": "1.5.0",
      "model_name": "DescriptionStyleModel",
      "state": {
       "description_width": ""
      }
     },
     "7fa05cc34f1f4da09103d94b1f402020": {
      "model_module": "@jupyter-widgets/controls",
      "model_module_version": "1.5.0",
      "model_name": "FloatSliderModel",
      "state": {
       "continuous_update": false,
       "description": "Test:",
       "layout": "IPY_MODEL_cd297dedbfe7487c8b4b7098b1c355ba",
       "max": 10,
       "orientation": "vertical",
       "readout_format": ".1f",
       "step": 0.1,
       "style": "IPY_MODEL_5b6a6f7ef79049bfbe19f4b43709da50",
       "value": 7.5
      }
     },
     "7fa66c024a754a6397c03debee6fecf4": {
      "model_module": "@jupyter-widgets/controls",
      "model_module_version": "1.5.0",
      "model_name": "DescriptionStyleModel",
      "state": {
       "description_width": ""
      }
     },
     "7fa85a84da5748ae8d653f35ddce7923": {
      "model_module": "@jupyter-widgets/controls",
      "model_module_version": "1.5.0",
      "model_name": "DescriptionStyleModel",
      "state": {
       "description_width": ""
      }
     },
     "7ff5f16f81484a0580d1ac803b11c918": {
      "model_module": "@jupyter-widgets/base",
      "model_module_version": "1.2.0",
      "model_name": "LayoutModel",
      "state": {}
     },
     "7ffc7400d2b94ae9a2255d6523ffe127": {
      "model_module": "@jupyter-widgets/base",
      "model_module_version": "1.2.0",
      "model_name": "LayoutModel",
      "state": {}
     },
     "803acc04bdf24bfab9ab009c43af2ac8": {
      "model_module": "@jupyter-widgets/controls",
      "model_module_version": "1.5.0",
      "model_name": "LabelModel",
      "state": {
       "layout": "IPY_MODEL_ed95ad329b3b4500870deeff91d38b8c",
       "style": "IPY_MODEL_8cc89658e6f442c787ba33842b4382d3",
       "value": "1"
      }
     },
     "804bfdbcb60742a6918bc30209948c41": {
      "model_module": "@jupyter-widgets/base",
      "model_module_version": "1.2.0",
      "model_name": "LayoutModel",
      "state": {}
     },
     "813d7847b0c34a6c8c762caae2e1f9a6": {
      "model_module": "@jupyter-widgets/base",
      "model_module_version": "1.2.0",
      "model_name": "LayoutModel",
      "state": {}
     },
     "8165cef524794487a2490a73ac920e64": {
      "model_module": "@jupyter-widgets/controls",
      "model_module_version": "1.5.0",
      "model_name": "ButtonStyleModel",
      "state": {}
     },
     "81bb56244731402ea6ce6464af66e05f": {
      "model_module": "@jupyter-widgets/controls",
      "model_module_version": "1.5.0",
      "model_name": "ButtonStyleModel",
      "state": {}
     },
     "8209614f010f4efb9edb7ebe6fc22f08": {
      "model_module": "@jupyter-widgets/controls",
      "model_module_version": "1.5.0",
      "model_name": "SelectionSliderModel",
      "state": {
       "_options_labels": [
        "scrambled",
        "sunny side up",
        "poached",
        "over easy"
       ],
       "continuous_update": false,
       "description": "I like my eggs …",
       "index": 1,
       "layout": "IPY_MODEL_c5f63d987fcd43d48800789b86f714ba",
       "style": "IPY_MODEL_afa5f3b4cd4d4355954a89388956c240"
      }
     },
     "82161093b32440c1aaa35dafad2c7ea6": {
      "model_module": "@jupyter-widgets/controls",
      "model_module_version": "1.5.0",
      "model_name": "TextModel",
      "state": {
       "description": "P1",
       "layout": "IPY_MODEL_7976a5dd68b643398307c9a5ecb2205a",
       "style": "IPY_MODEL_f31684a9cfdc41b49c8721ec3b500bba"
      }
     },
     "824030d3008f4350b25720999c97c35b": {
      "model_module": "@jupyter-widgets/controls",
      "model_module_version": "1.5.0",
      "model_name": "FloatProgressModel",
      "state": {
       "bar_style": "info",
       "description": "Loading:",
       "layout": "IPY_MODEL_9598e18bed484952a5b5cbb16aa5af63",
       "max": 10,
       "style": "IPY_MODEL_20660712ea484e55b56d322e24de2518",
       "value": 7.5
      }
     },
     "82d227e7ff434175bc4437f818ba20f9": {
      "model_module": "@jupyter-widgets/base",
      "model_module_version": "1.2.0",
      "model_name": "LayoutModel",
      "state": {}
     },
     "831a22e4bf4844a3b22b54176356d8d9": {
      "model_module": "@jupyter-widgets/base",
      "model_module_version": "1.2.0",
      "model_name": "LayoutModel",
      "state": {}
     },
     "8382b879cae5465b80df919a7be2966e": {
      "model_module": "@jupyter-widgets/base",
      "model_module_version": "1.2.0",
      "model_name": "LayoutModel",
      "state": {}
     },
     "83833b1c51674e7583eb527d529c35ac": {
      "model_module": "@jupyter-widgets/base",
      "model_module_version": "1.2.0",
      "model_name": "LayoutModel",
      "state": {}
     },
     "83c08cd8b8cc427daa066f6b0f201c6a": {
      "model_module": "@jupyter-widgets/controls",
      "model_module_version": "1.5.0",
      "model_name": "SliderStyleModel",
      "state": {
       "description_width": ""
      }
     },
     "83ed804afb3c443ab14e5be73fc755ec": {
      "model_module": "@jupyter-widgets/controls",
      "model_module_version": "1.5.0",
      "model_name": "IntProgressModel",
      "state": {
       "description": "Loading:",
       "layout": "IPY_MODEL_ccad03cf42ec463cb3aae538cd3e8b35",
       "max": 10,
       "style": "IPY_MODEL_a61f10bb43a8459e805629e8519ec6c1",
       "value": 7
      }
     },
     "841bbfeb63ef4d68be3f0533a52bc572": {
      "model_module": "@jupyter-widgets/controls",
      "model_module_version": "1.5.0",
      "model_name": "IntSliderModel",
      "state": {
       "layout": "IPY_MODEL_d3ab4ab7305d423788a6675412611854",
       "style": "IPY_MODEL_219e66449ce44efcad98cbea38591811"
      }
     },
     "8427877544d74355833d5c5b18ea20b2": {
      "model_module": "@jupyter-widgets/controls",
      "model_module_version": "1.5.0",
      "model_name": "FloatSliderModel",
      "state": {
       "continuous_update": false,
       "description": "Test:",
       "layout": "IPY_MODEL_9840f4ccacad4e7baccc4ec4170eec7f",
       "max": 10,
       "readout_format": ".1f",
       "step": 0.1,
       "style": "IPY_MODEL_1bf7b762a56c4b00a486c273dfda4f7e",
       "value": 7.5
      }
     },
     "845bcde0f9344337a321f44b17e78f24": {
      "model_module": "@jupyter-widgets/controls",
      "model_module_version": "1.5.0",
      "model_name": "DescriptionStyleModel",
      "state": {
       "description_width": ""
      }
     },
     "846c650446614d0280bf70b76829aeab": {
      "model_module": "@jupyter-widgets/base",
      "model_module_version": "1.2.0",
      "model_name": "LayoutModel",
      "state": {}
     },
     "84b8048c55ae417c82042e2148d0d264": {
      "model_module": "@jupyter-widgets/base",
      "model_module_version": "1.2.0",
      "model_name": "LayoutModel",
      "state": {}
     },
     "84ec52af8c484529b8876aa91805854d": {
      "model_module": "@jupyter-widgets/controls",
      "model_module_version": "1.5.0",
      "model_name": "TextModel",
      "state": {
       "description": "P3",
       "layout": "IPY_MODEL_48d403d6b9dd4e43a4ba527e74808726",
       "style": "IPY_MODEL_1a7ef0e2a65a4ac19f4dcf5d48fd363b"
      }
     },
     "850c9783e2234b398fb44c1d6c1a84f5": {
      "model_module": "@jupyter-widgets/controls",
      "model_module_version": "1.5.0",
      "model_name": "DescriptionStyleModel",
      "state": {
       "description_width": ""
      }
     },
     "8554f11dd60743a6bee16069f610f619": {
      "model_module": "@jupyter-widgets/base",
      "model_module_version": "1.2.0",
      "model_name": "LayoutModel",
      "state": {}
     },
     "85dc0683217f496f9c20d3b012502545": {
      "model_module": "@jupyter-widgets/base",
      "model_module_version": "1.2.0",
      "model_name": "LayoutModel",
      "state": {}
     },
     "861145fc56244aa091065ea7aff0b938": {
      "model_module": "@jupyter-widgets/base",
      "model_module_version": "1.2.0",
      "model_name": "LayoutModel",
      "state": {}
     },
     "86c3daa971be48d7a23afb697b30abad": {
      "model_module": "@jupyter-widgets/base",
      "model_module_version": "1.2.0",
      "model_name": "LayoutModel",
      "state": {}
     },
     "86fa6d7278dd4358b35f51f1c914cadd": {
      "model_module": "@jupyter-widgets/base",
      "model_module_version": "1.2.0",
      "model_name": "LayoutModel",
      "state": {}
     },
     "87149998e08c48478f2a83427d8cdb5e": {
      "model_module": "@jupyter-widgets/controls",
      "model_module_version": "1.5.0",
      "model_name": "TextModel",
      "state": {
       "description": "String:",
       "layout": "IPY_MODEL_32100633b94b438b83c1165ef598cfb9",
       "placeholder": "Type something",
       "style": "IPY_MODEL_c0f8543e4dea4d00b1e18f92369f7661",
       "value": "Hello World"
      }
     },
     "8725e7892cc24f2e8e976836dd91f6e3": {
      "model_module": "@jupyter-widgets/base",
      "model_module_version": "1.2.0",
      "model_name": "LayoutModel",
      "state": {}
     },
     "87439134f94e44e2b509af607a87d7c7": {
      "model_module": "@jupyter-widgets/controls",
      "model_module_version": "1.5.0",
      "model_name": "TabModel",
      "state": {
       "_titles": {
        "0": "0",
        "1": "1",
        "2": "2",
        "3": "3",
        "4": "4"
       },
       "children": [
        "IPY_MODEL_f4578598e7be430d981210742ba1074f",
        "IPY_MODEL_ccc3378e5e6a47959be2dcf9ddb9b690",
        "IPY_MODEL_b300e25d0b6e4fa98ea52e9791eea372",
        "IPY_MODEL_9dacf37fa6834d10a9b49e2b5f3d0457",
        "IPY_MODEL_32a8452aa4e24f19b4d2e488e72206de"
       ],
       "layout": "IPY_MODEL_23524b6392ae4a91911acad666eb6009",
       "selected_index": 3
      }
     },
     "87a51af2bfc44bb7b542ab117a2aca55": {
      "model_module": "@jupyter-widgets/base",
      "model_module_version": "1.2.0",
      "model_name": "LayoutModel",
      "state": {}
     },
     "88335698f78f40fdaf69f7f72c78499a": {
      "model_module": "@jupyter-widgets/controls",
      "model_module_version": "1.5.0",
      "model_name": "IntTextModel",
      "state": {
       "description": "Any:",
       "layout": "IPY_MODEL_8cb907ae95cf47329a01d26202bf819e",
       "step": 1,
       "style": "IPY_MODEL_f6fcc6e707ba443397539991f6c218c2",
       "value": 7
      }
     },
     "8896b60c8ee749409382adbe92330671": {
      "model_module": "@jupyter-widgets/controls",
      "model_module_version": "1.5.0",
      "model_name": "DescriptionStyleModel",
      "state": {
       "description_width": ""
      }
     },
     "89332fb15c8949e8a7822517ca35e0c4": {
      "buffers": [
       {
        "data": "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",
        "encoding": "base64",
        "path": [
         "value"
        ]
       }
      ],
      "model_module": "@jupyter-widgets/controls",
      "model_module_version": "1.5.0",
      "model_name": "ImageModel",
      "state": {
       "height": "400",
       "layout": "IPY_MODEL_4b7aa86ab2c2433b92c6ea6415e3366e",
       "width": "300"
      }
     },
     "896e1b69746e49c38ff18b95c8c27aca": {
      "model_module": "@jupyter-widgets/controls",
      "model_module_version": "1.5.0",
      "model_name": "DescriptionStyleModel",
      "state": {
       "description_width": ""
      }
     },
     "89d2cc6008ee4b9b813d3f1b4f32eb07": {
      "model_module": "@jupyter-widgets/controls",
      "model_module_version": "1.5.0",
      "model_name": "BoundedIntTextModel",
      "state": {
       "description": "Text:",
       "layout": "IPY_MODEL_0ad92a0bfaf44b818963d7cc15214c95",
       "max": 10,
       "style": "IPY_MODEL_63406e40647a42cd941958167315f398",
       "value": 7
      }
     },
     "89de20ed8d10494b9b223e2148bb5a9d": {
      "model_module": "@jupyter-widgets/controls",
      "model_module_version": "1.5.0",
      "model_name": "ValidModel",
      "state": {
       "description": "Valid!",
       "layout": "IPY_MODEL_6a22faaa766e4a1bb4f48b85aa23c925",
       "style": "IPY_MODEL_c26e6742ac404355b9d45c6d24b19d78"
      }
     },
     "8abab9cc1b8b4d13b19d88a8269fa065": {
      "model_module": "@jupyter-widgets/controls",
      "model_module_version": "1.5.0",
      "model_name": "HTMLModel",
      "state": {
       "description": "Some HTML",
       "layout": "IPY_MODEL_512d00b015fa48798e007da7d4b3a9f0",
       "placeholder": "Some HTML",
       "style": "IPY_MODEL_4008c11faf9a4728b1a47cbb1e04ac8a",
       "value": "Hello <b>World</b>"
      }
     },
     "8ae890b255d44ac2a63366d73a6f6c3f": {
      "model_module": "@jupyter-widgets/base",
      "model_module_version": "1.2.0",
      "model_name": "LayoutModel",
      "state": {}
     },
     "8af85760a61449dcb09747e9f3709196": {
      "model_module": "@jupyter-widgets/controls",
      "model_module_version": "1.5.0",
      "model_name": "DatePickerModel",
      "state": {
       "description": "Pick a Date",
       "disabled": false,
       "layout": "IPY_MODEL_f1eda5a6dada4c2b8bd1eb334b99e597",
       "style": "IPY_MODEL_92a722893aad4234a74cf116b2c3062a"
      }
     },
     "8b24e3cb023f443a94f548e1fcb826c3": {
      "model_module": "@jupyter-widgets/controls",
      "model_module_version": "1.5.0",
      "model_name": "LabelModel",
      "state": {
       "layout": "IPY_MODEL_ec637881c8c74a948f60876695d34174",
       "style": "IPY_MODEL_fa82753ea3624e99901dffde6056b323",
       "value": "0"
      }
     },
     "8b3cd94a832d47ba9be2bb6af674f583": {
      "model_module": "@jupyter-widgets/base",
      "model_module_version": "1.2.0",
      "model_name": "LayoutModel",
      "state": {}
     },
     "8b78c09a0a4f4a7aa9b8238cb5f13a50": {
      "model_module": "@jupyter-widgets/controls",
      "model_module_version": "1.5.0",
      "model_name": "LabelModel",
      "state": {
       "layout": "IPY_MODEL_e1c6d630c3a9477a9b798a39753b80e2",
       "style": "IPY_MODEL_9953107262594c559abd225fd35b92b7",
       "value": "1"
      }
     },
     "8becf6a4ea29442bbd06741f61a62b09": {
      "model_module": "@jupyter-widgets/controls",
      "model_module_version": "1.5.0",
      "model_name": "IntTextModel",
      "state": {
       "description": "Any:",
       "layout": "IPY_MODEL_f263edb63b4b4fa4a412d9b08d58aada",
       "step": 1,
       "style": "IPY_MODEL_c067e63a84164e07bac95f78914e112c",
       "value": 7
      }
     },
     "8bf65647717d4c48a1660659243b2893": {
      "model_module": "@jupyter-widgets/base",
      "model_module_version": "1.2.0",
      "model_name": "LayoutModel",
      "state": {}
     },
     "8c3be5b6b5ec4a918bd8b674bfef501b": {
      "model_module": "@jupyter-widgets/controls",
      "model_module_version": "1.5.0",
      "model_name": "VBoxModel",
      "state": {
       "children": [
        "IPY_MODEL_21bad7923fe640df8745ab1eb60d1ef1",
        "IPY_MODEL_413b6fc97079450694a6bdcdd28458aa"
       ],
       "layout": "IPY_MODEL_ebd66356a4bd41bcb08bbb71c6778c33"
      }
     },
     "8c592b3388bc4f2e977b8b6a0a63f95b": {
      "model_module": "@jupyter-widgets/output",
      "model_module_version": "1.0.0",
      "model_name": "OutputModel",
      "state": {
       "layout": "IPY_MODEL_c78d6504e9f9436eb61bbabf60f54d59",
       "outputs": [
        {
         "name": "stdout",
         "output_type": "stream",
         "text": "Output appended with append_stdout"
        },
        {
         "data": {
          "image/jpeg": {},
          "text/html": "\n        <iframe\n            width=\"400\"\n            height=\"300\"\n            src=\"https://www.youtube.com/embed/eWzY2nGfkXk\"\n            frameborder=\"0\"\n            allowfullscreen\n        ></iframe>\n        ",
          "text/plain": "<IPython.lib.display.YouTubeVideo at 0x11025f510>"
         },
         "metadata": {},
         "output_type": "display_data"
        }
       ]
      }
     },
     "8c5f8c6b397946abb48b7e57b0bc068e": {
      "model_module": "@jupyter-widgets/controls",
      "model_module_version": "1.5.0",
      "model_name": "PlayModel",
      "state": {
       "description": "Press play",
       "interval": 10,
       "layout": "IPY_MODEL_d0d870cf346f4ad88a5cea1205e7cef4",
       "style": "IPY_MODEL_16eb9def2b764daaa06b550425612ed0",
       "value": 50
      }
     },
     "8cb907ae95cf47329a01d26202bf819e": {
      "model_module": "@jupyter-widgets/base",
      "model_module_version": "1.2.0",
      "model_name": "LayoutModel",
      "state": {}
     },
     "8cb9b7f8cd9a46cf86fb468a13fbefa6": {
      "model_module": "@jupyter-widgets/base",
      "model_module_version": "1.2.0",
      "model_name": "LayoutModel",
      "state": {
       "border": "1px solid black"
      }
     },
     "8cc89658e6f442c787ba33842b4382d3": {
      "model_module": "@jupyter-widgets/controls",
      "model_module_version": "1.5.0",
      "model_name": "DescriptionStyleModel",
      "state": {
       "description_width": ""
      }
     },
     "8d21c4ca295340f5b2da3d67758fb17a": {
      "model_module": "@jupyter-widgets/controls",
      "model_module_version": "1.5.0",
      "model_name": "SelectMultipleModel",
      "state": {
       "_options_labels": [
        "Apples",
        "Oranges",
        "Pears"
       ],
       "description": "Fruits",
       "index": [
        1
       ],
       "layout": "IPY_MODEL_d31b630495274951b9ed39114ceaeaa2",
       "rows": 3,
       "style": "IPY_MODEL_3c4bc1fbc2ae4e60840bc57afb95c36f"
      }
     },
     "8d4079b48d9443b6b6e57e7abf8802cf": {
      "model_module": "@jupyter-widgets/base",
      "model_module_version": "1.2.0",
      "model_name": "LayoutModel",
      "state": {}
     },
     "8d6ab17122854500a28fb0cf2a7165b7": {
      "model_module": "@jupyter-widgets/controls",
      "model_module_version": "1.5.0",
      "model_name": "DescriptionStyleModel",
      "state": {
       "description_width": ""
      }
     },
     "8da1c9244a1640f99173817acac726d0": {
      "model_module": "@jupyter-widgets/controls",
      "model_module_version": "1.5.0",
      "model_name": "BoundedIntTextModel",
      "state": {
       "description": "Text:",
       "layout": "IPY_MODEL_f45cb407d27b433e87063971fab58354",
       "max": 10,
       "style": "IPY_MODEL_1a6c6dad47304ea3b7b26137172c94ba",
       "value": 7
      }
     },
     "8e0245e4885440aeb7518df7a955f956": {
      "model_module": "@jupyter-widgets/base",
      "model_module_version": "1.2.0",
      "model_name": "LayoutModel",
      "state": {}
     },
     "8e043f259426425f99a56b3dc6672d6b": {
      "model_module": "@jupyter-widgets/controls",
      "model_module_version": "1.5.0",
      "model_name": "SelectionRangeSliderModel",
      "state": {
       "_model_name": "SelectionRangeSliderModel",
       "_options_labels": [
        "Jan",
        "Feb",
        "Mar",
        "Apr",
        "May",
        "Jun",
        "Jul",
        "Aug",
        "Sep",
        "Oct",
        "Nov",
        "Dec"
       ],
       "_view_name": "SelectionRangeSliderView",
       "description": "Months (2015)",
       "index": [
        0,
        11
       ],
       "layout": "IPY_MODEL_318811d1979945dba762a8c2e2e01829",
       "style": "IPY_MODEL_4f0637f02e664b93b4a68d5396c89f1d"
      }
     },
     "8e538b4b8fec49b18970e88a6a6876bd": {
      "model_module": "@jupyter-widgets/controls",
      "model_module_version": "1.5.0",
      "model_name": "DescriptionStyleModel",
      "state": {
       "description_width": ""
      }
     },
     "8e5a6c978d9a45f19b525fb07e1d794b": {
      "model_module": "@jupyter-widgets/controls",
      "model_module_version": "1.5.0",
      "model_name": "SelectionSliderModel",
      "state": {
       "_options_labels": [
        "scrambled",
        "sunny side up",
        "poached",
        "over easy"
       ],
       "continuous_update": false,
       "description": "I like my eggs …",
       "index": 1,
       "layout": "IPY_MODEL_bed953cbfce047bf8170b3cd030768cf",
       "style": "IPY_MODEL_becc708e48294538aa310120a5f37d5e"
      }
     },
     "8e81710e2191478dab9d8d8645c95930": {
      "model_module": "@jupyter-widgets/controls",
      "model_module_version": "1.5.0",
      "model_name": "DescriptionStyleModel",
      "state": {
       "description_width": ""
      }
     },
     "8ead03a4cc5e4898ab00e4c3addc824a": {
      "model_module": "@jupyter-widgets/controls",
      "model_module_version": "1.5.0",
      "model_name": "SliderStyleModel",
      "state": {
       "description_width": ""
      }
     },
     "8f8fae9117364def903026d2dae29a5e": {
      "model_module": "@jupyter-widgets/controls",
      "model_module_version": "1.5.0",
      "model_name": "DescriptionStyleModel",
      "state": {
       "description_width": ""
      }
     },
     "8fe5fc528d59401f9669bec66ef1a280": {
      "model_module": "@jupyter-widgets/controls",
      "model_module_version": "1.5.0",
      "model_name": "DescriptionStyleModel",
      "state": {
       "description_width": ""
      }
     },
     "902073e36faf4bdc99450a63d503bd18": {
      "model_module": "@jupyter-widgets/controls",
      "model_module_version": "1.5.0",
      "model_name": "ProgressStyleModel",
      "state": {
       "description_width": ""
      }
     },
     "9072253300a14180b6d8ab6bbb1d3bc3": {
      "model_module": "@jupyter-widgets/controls",
      "model_module_version": "1.5.0",
      "model_name": "PlayModel",
      "state": {
       "description": "Press play",
       "layout": "IPY_MODEL_7ff5f16f81484a0580d1ac803b11c918",
       "style": "IPY_MODEL_03335ff5a45642eda0b97beaf5e1747d",
       "value": 50
      }
     },
     "9082e1d2ea864c5fb754e6234b9a7e41": {
      "model_module": "@jupyter-widgets/base",
      "model_module_version": "1.2.0",
      "model_name": "LayoutModel",
      "state": {}
     },
     "908903d126434ef0b0e772156f7d31cd": {
      "model_module": "@jupyter-widgets/base",
      "model_module_version": "1.2.0",
      "model_name": "LayoutModel",
      "state": {}
     },
     "90b3ac9c7a044647b2b3fb3a741fd256": {
      "model_module": "@jupyter-widgets/base",
      "model_module_version": "1.2.0",
      "model_name": "LayoutModel",
      "state": {}
     },
     "90edcb335a3349189d9c444e027bd598": {
      "model_module": "@jupyter-widgets/controls",
      "model_module_version": "1.5.0",
      "model_name": "FloatSliderModel",
      "state": {
       "layout": "IPY_MODEL_424a5952246e45c5a70395131af43655",
       "step": 0.1,
       "style": "IPY_MODEL_793c6f48f8f54b8eb59484c1c62d2e0c"
      }
     },
     "91b80bc959644f9f9954bfcef7b7a218": {
      "model_module": "@jupyter-widgets/base",
      "model_module_version": "1.2.0",
      "model_name": "LayoutModel",
      "state": {}
     },
     "91c7896b444f4abca4b6cc77fda99e79": {
      "model_module": "@jupyter-widgets/controls",
      "model_module_version": "1.5.0",
      "model_name": "TextModel",
      "state": {
       "description": "P0",
       "layout": "IPY_MODEL_9c8e241f34cd49048c2004849e59320a",
       "style": "IPY_MODEL_ce787a50f549463b948e0952a458eb45"
      }
     },
     "92194add14b04e13873e15f723ca35cd": {
      "model_module": "@jupyter-widgets/base",
      "model_module_version": "1.2.0",
      "model_name": "LayoutModel",
      "state": {}
     },
     "9251ec0b4fe9494d9ccdef4f0f54e29e": {
      "model_module": "@jupyter-widgets/controls",
      "model_module_version": "1.5.0",
      "model_name": "TextModel",
      "state": {
       "description": "String:",
       "layout": "IPY_MODEL_c0648ab826bb4d259e9d23ebe02f8cec",
       "placeholder": "Type something",
       "style": "IPY_MODEL_be6c7c9d08de47149a657a57439f2144",
       "value": "Hello World"
      }
     },
     "92a722893aad4234a74cf116b2c3062a": {
      "model_module": "@jupyter-widgets/controls",
      "model_module_version": "1.5.0",
      "model_name": "DescriptionStyleModel",
      "state": {
       "description_width": ""
      }
     },
     "92d49fa312b64cd7aea6ce97eb654edc": {
      "model_module": "@jupyter-widgets/controls",
      "model_module_version": "1.5.0",
      "model_name": "DescriptionStyleModel",
      "state": {
       "description_width": ""
      }
     },
     "9315e4d5143648938a1445035da6568b": {
      "model_module": "@jupyter-widgets/controls",
      "model_module_version": "1.5.0",
      "model_name": "FloatLogSliderModel",
      "state": {
       "description": "Log Slider",
       "layout": "IPY_MODEL_f24d75b7749d4190a685465379fc4d1a",
       "max": 10,
       "min": -10,
       "step": 0.2,
       "style": "IPY_MODEL_31aee2286865466289e6d21377fb8b78",
       "value": 10
      }
     },
     "939e6ae34a244b78b268bd3d196f5e61": {
      "model_module": "@jupyter-widgets/controls",
      "model_module_version": "1.5.0",
      "model_name": "ToggleButtonModel",
      "state": {
       "description": "Click me",
       "icon": "check",
       "layout": "IPY_MODEL_e6403ebe03d142ba83d7bb93f44084ed",
       "style": "IPY_MODEL_23e7196bd511416b94516ddab4fb2ab6",
       "tooltip": "Description"
      }
     },
     "9459b45cc5d94b82a713438c73569216": {
      "model_module": "@jupyter-widgets/controls",
      "model_module_version": "1.5.0",
      "model_name": "LabelModel",
      "state": {
       "layout": "IPY_MODEL_2aa114373ab14f8caa56f15542793800",
       "style": "IPY_MODEL_a11daf75873947a4bbb4ddc9784c1b2c",
       "value": "3"
      }
     },
     "94652b651da74512b1324d69e011e3d0": {
      "model_module": "@jupyter-widgets/controls",
      "model_module_version": "1.5.0",
      "model_name": "DescriptionStyleModel",
      "state": {
       "description_width": ""
      }
     },
     "9598e18bed484952a5b5cbb16aa5af63": {
      "model_module": "@jupyter-widgets/base",
      "model_module_version": "1.2.0",
      "model_name": "LayoutModel",
      "state": {}
     },
     "96148630873b466fb406720933b53c62": {
      "model_module": "@jupyter-widgets/controls",
      "model_module_version": "1.5.0",
      "model_name": "DescriptionStyleModel",
      "state": {
       "description_width": ""
      }
     },
     "965f80dfa03b4bd5bc53f641a55dfe21": {
      "model_module": "@jupyter-widgets/controls",
      "model_module_version": "1.5.0",
      "model_name": "DescriptionStyleModel",
      "state": {
       "description_width": ""
      }
     },
     "9662c855f0ba42288ec1cdc0a6dd5d2f": {
      "model_module": "@jupyter-widgets/controls",
      "model_module_version": "1.5.0",
      "model_name": "DescriptionStyleModel",
      "state": {
       "description_width": ""
      }
     },
     "96bd392512d6449fba38a96b15fc0584": {
      "model_module": "@jupyter-widgets/controls",
      "model_module_version": "1.5.0",
      "model_name": "FloatSliderModel",
      "state": {
       "layout": "IPY_MODEL_72d73eeca2e940b2a3f651a074aff2c3",
       "step": 0.1,
       "style": "IPY_MODEL_a4efe41dfe5d4a0f8dfb25bc52eed7b6"
      }
     },
     "96cfb7241fd3484b87daa85b89d97a1e": {
      "model_module": "@jupyter-widgets/controls",
      "model_module_version": "1.5.0",
      "model_name": "FloatRangeSliderModel",
      "state": {
       "_model_name": "FloatRangeSliderModel",
       "_view_name": "FloatRangeSliderView",
       "continuous_update": false,
       "description": "Test:",
       "layout": "IPY_MODEL_555333ed8cfb495ea3a6d2b8d9a874f0",
       "max": 10,
       "readout_format": ".1f",
       "step": 0.1,
       "style": "IPY_MODEL_d1f2646cfe8b4fcba546473e0ebd1860",
       "value": [
        5,
        7.5
       ]
      }
     },
     "96f5e0dd51dc4c23927c1c9797e4ea39": {
      "model_module": "@jupyter-widgets/controls",
      "model_module_version": "1.5.0",
      "model_name": "HTMLMathModel",
      "state": {
       "description": "Some HTML",
       "layout": "IPY_MODEL_846c650446614d0280bf70b76829aeab",
       "placeholder": "Some HTML",
       "style": "IPY_MODEL_3450717a613d4852a8b6a78d6c0355d0",
       "value": "Some math and <i>HTML</i>: \\(x^2\\) and $$\\frac{x+1}{x-1}$$"
      }
     },
     "97074dc656104f65a8a4bb1264f90156": {
      "model_module": "@jupyter-widgets/base",
      "model_module_version": "1.2.0",
      "model_name": "LayoutModel",
      "state": {}
     },
     "9712bc1b47224cce8a003b2985a9298e": {
      "model_module": "@jupyter-widgets/controls",
      "model_module_version": "1.5.0",
      "model_name": "DescriptionStyleModel",
      "state": {
       "description_width": ""
      }
     },
     "971d2aef52264f5a9a306e9fb4d465e4": {
      "model_module": "@jupyter-widgets/base",
      "model_module_version": "1.2.0",
      "model_name": "LayoutModel",
      "state": {}
     },
     "97242c4685a741fcbb1ba2b5decfa8f7": {
      "model_module": "@jupyter-widgets/controls",
      "model_module_version": "1.5.0",
      "model_name": "DescriptionStyleModel",
      "state": {
       "description_width": ""
      }
     },
     "97984c60db55452fa77e975ec190ced3": {
      "model_module": "@jupyter-widgets/controls",
      "model_module_version": "1.5.0",
      "model_name": "DescriptionStyleModel",
      "state": {
       "description_width": ""
      }
     },
     "97c31d16d89748ffab2acde077abeabe": {
      "model_module": "@jupyter-widgets/controls",
      "model_module_version": "1.5.0",
      "model_name": "ButtonModel",
      "state": {
       "description": "Click me",
       "icon": "check",
       "layout": "IPY_MODEL_c9376561b48d430ab1afc221bdb532a9",
       "style": "IPY_MODEL_0fd7940b26474890ab0899219991e3a4",
       "tooltip": "Click me"
      }
     },
     "98000a12a1aa4213860b1b2469d46bd5": {
      "model_module": "@jupyter-widgets/controls",
      "model_module_version": "1.5.0",
      "model_name": "LabelModel",
      "state": {
       "layout": "IPY_MODEL_534ab4c354804c02b608bf5887e91f72",
       "style": "IPY_MODEL_6448c40c06904dacb5d5525263dd2d55",
       "value": "The $m$ in $E=mc^2$:"
      }
     },
     "9815ab2b9b4046d7928c2c98f0ca7ebc": {
      "model_module": "@jupyter-widgets/controls",
      "model_module_version": "1.5.0",
      "model_name": "ToggleButtonModel",
      "state": {
       "description": "Click me",
       "icon": "check",
       "layout": "IPY_MODEL_ab93a6315e4a4df5bdc5a56ba518e822",
       "style": "IPY_MODEL_6b71aebac87848e2b461d34d08450e36",
       "tooltip": "Description"
      }
     },
     "9815d00f47e9419bbe792946fb733960": {
      "model_module": "@jupyter-widgets/base",
      "model_module_version": "1.2.0",
      "model_name": "LayoutModel",
      "state": {
       "border": "1px solid black"
      }
     },
     "9840f4ccacad4e7baccc4ec4170eec7f": {
      "model_module": "@jupyter-widgets/base",
      "model_module_version": "1.2.0",
      "model_name": "LayoutModel",
      "state": {}
     },
     "9841f9d632324f80b953a7d0fc1f785e": {
      "model_module": "@jupyter-widgets/controls",
      "model_module_version": "1.5.0",
      "model_name": "BoundedFloatTextModel",
      "state": {
       "description": "Text:",
       "layout": "IPY_MODEL_a437f1275bc546d9917eba620066cd42",
       "max": 10,
       "style": "IPY_MODEL_5fc7d095cee74bae8b6acf67dc59c682",
       "value": 7.5
      }
     },
     "98e094fd31374fbe868bcc9b3c77983f": {
      "model_module": "@jupyter-widgets/controls",
      "model_module_version": "1.5.0",
      "model_name": "DescriptionStyleModel",
      "state": {
       "description_width": ""
      }
     },
     "9913807b0e624d71b0200aaa5624e83a": {
      "model_module": "@jupyter-widgets/controls",
      "model_module_version": "1.5.0",
      "model_name": "SelectionSliderModel",
      "state": {
       "_options_labels": [
        "scrambled",
        "sunny side up",
        "poached",
        "over easy"
       ],
       "continuous_update": false,
       "description": "I like my eggs …",
       "index": 1,
       "layout": "IPY_MODEL_3a9abffe89bd464c8de094fbb7932dbd",
       "style": "IPY_MODEL_d44dd635f93f4b5a862e9a03b8f99536"
      }
     },
     "992c5bc5f17c4629ad9ffa7ce5ee64f0": {
      "model_module": "@jupyter-widgets/controls",
      "model_module_version": "1.5.0",
      "model_name": "HTMLModel",
      "state": {
       "description": "Some HTML",
       "layout": "IPY_MODEL_ea02b15e97b044f085521788a6765e1f",
       "placeholder": "Some HTML",
       "style": "IPY_MODEL_ad5f82dfb87e47dcaf35b46cc7e13104",
       "value": "Hello <b>World</b>"
      }
     },
     "9953107262594c559abd225fd35b92b7": {
      "model_module": "@jupyter-widgets/controls",
      "model_module_version": "1.5.0",
      "model_name": "DescriptionStyleModel",
      "state": {
       "description_width": ""
      }
     },
     "9960e770d05b4843b0d38fc192359ad3": {
      "model_module": "@jupyter-widgets/controls",
      "model_module_version": "1.5.0",
      "model_name": "TextModel",
      "state": {
       "description": "P1",
       "layout": "IPY_MODEL_56db9f1c7a3d4b868c6eb4cd9ab5c222",
       "style": "IPY_MODEL_7c7c060dafbb4e76af3b9381bb4a5434"
      }
     },
     "9a2da05e71e748798d527b5da6cf68c7": {
      "model_module": "@jupyter-widgets/controls",
      "model_module_version": "1.5.0",
      "model_name": "DescriptionStyleModel",
      "state": {
       "description_width": ""
      }
     },
     "9a4808520eaf455b9e7a633144941b16": {
      "model_module": "@jupyter-widgets/base",
      "model_module_version": "1.2.0",
      "model_name": "LayoutModel",
      "state": {}
     },
     "9a60006fadc2415f95a76cf6aa520300": {
      "model_module": "@jupyter-widgets/controls",
      "model_module_version": "1.5.0",
      "model_name": "TextModel",
      "state": {
       "layout": "IPY_MODEL_157415e82a70489c9cd7f180d7038751",
       "style": "IPY_MODEL_18c46794ef0342b886b561348f559ccf"
      }
     },
     "9a6504e5164544a5ad5027f0bb0b7513": {
      "model_module": "@jupyter-widgets/base",
      "model_module_version": "1.2.0",
      "model_name": "LayoutModel",
      "state": {}
     },
     "9a788310fa7e49ae9b11656a60453a5e": {
      "model_module": "@jupyter-widgets/base",
      "model_module_version": "1.2.0",
      "model_name": "LayoutModel",
      "state": {}
     },
     "9a9cd162abb9495886a01ab0a8000344": {
      "model_module": "@jupyter-widgets/base",
      "model_module_version": "1.2.0",
      "model_name": "LayoutModel",
      "state": {}
     },
     "9ad8c3b071db4f9aa48b55eb659f9d3f": {
      "model_module": "@jupyter-widgets/controls",
      "model_module_version": "1.5.0",
      "model_name": "VBoxModel",
      "state": {
       "children": [
        "IPY_MODEL_5d93b3737cc94880afb92a7ac054d526",
        "IPY_MODEL_803acc04bdf24bfab9ab009c43af2ac8"
       ],
       "layout": "IPY_MODEL_c813e99688c6409eb43c23e642f58294"
      }
     },
     "9b08dbb3cf3c482ab709e00e035abfb5": {
      "model_module": "@jupyter-widgets/controls",
      "model_module_version": "1.5.0",
      "model_name": "LabelModel",
      "state": {
       "layout": "IPY_MODEL_57feaba8913e4e06ae1daf43a301d129",
       "style": "IPY_MODEL_fa09b1f0f6df4fcdaac3d629c5e93eac",
       "value": "2"
      }
     },
     "9b411e1d46254c76a79b617b0cf0d09c": {
      "model_module": "@jupyter-widgets/controls",
      "model_module_version": "1.5.0",
      "model_name": "BoundedIntTextModel",
      "state": {
       "description": "Text:",
       "layout": "IPY_MODEL_90b3ac9c7a044647b2b3fb3a741fd256",
       "max": 10,
       "style": "IPY_MODEL_302323bcc1b3441b8691b16d2b1dc4c3",
       "value": 7
      }
     },
     "9b5b5a598788479c98741ec5036e254f": {
      "model_module": "@jupyter-widgets/controls",
      "model_module_version": "1.5.0",
      "model_name": "DescriptionStyleModel",
      "state": {
       "description_width": ""
      }
     },
     "9b865bc4559345549b21ced4f3d191f6": {
      "model_module": "@jupyter-widgets/controls",
      "model_module_version": "1.5.0",
      "model_name": "LabelModel",
      "state": {
       "layout": "IPY_MODEL_a731b41803bc4aa585197522ff7c2f3e",
       "style": "IPY_MODEL_0a9749a20f0b4a5fad4503d2d1ff1768",
       "value": "2"
      }
     },
     "9b939e0528a940b99d2345b7edfb1901": {
      "model_module": "@jupyter-widgets/base",
      "model_module_version": "1.2.0",
      "model_name": "LayoutModel",
      "state": {}
     },
     "9babd111bf6f452ca737160131fca7c2": {
      "model_module": "@jupyter-widgets/controls",
      "model_module_version": "1.5.0",
      "model_name": "DescriptionStyleModel",
      "state": {
       "description_width": ""
      }
     },
     "9bc5a565c2a644bf9d4cf24f4b65d228": {
      "model_module": "@jupyter-widgets/controls",
      "model_module_version": "1.5.0",
      "model_name": "SliderStyleModel",
      "state": {
       "description_width": ""
      }
     },
     "9c4e42272c1e422996565ef3851fa49c": {
      "model_module": "@jupyter-widgets/base",
      "model_module_version": "1.2.0",
      "model_name": "LayoutModel",
      "state": {}
     },
     "9c7aba7bb6cc4d7c8bfce250f55eb2b6": {
      "model_module": "@jupyter-widgets/controls",
      "model_module_version": "1.5.0",
      "model_name": "FloatSliderModel",
      "state": {
       "layout": "IPY_MODEL_60fccbf96f194814a8d881b88f9bb42c",
       "step": 0.1,
       "style": "IPY_MODEL_f44b8a983bfc47309e63784ee1c424a4"
      }
     },
     "9c8e241f34cd49048c2004849e59320a": {
      "model_module": "@jupyter-widgets/base",
      "model_module_version": "1.2.0",
      "model_name": "LayoutModel",
      "state": {}
     },
     "9cef31f37d994c0795e9bc0898c755af": {
      "model_module": "@jupyter-widgets/controls",
      "model_module_version": "1.5.0",
      "model_name": "IntRangeSliderModel",
      "state": {
       "_model_name": "IntRangeSliderModel",
       "_view_name": "IntRangeSliderView",
       "continuous_update": false,
       "description": "Test:",
       "layout": "IPY_MODEL_a8c30a4e1ccc485983a7c7899a0c8960",
       "max": 10,
       "style": "IPY_MODEL_9f6b74c1a19c401cbe9040dc0dc2386f",
       "value": [
        5,
        7
       ]
      }
     },
     "9d1434f3897040ef93dc66da0a923f6c": {
      "model_module": "@jupyter-widgets/controls",
      "model_module_version": "1.5.0",
      "model_name": "ControllerModel",
      "state": {
       "layout": "IPY_MODEL_5a5675e9053d4cfb92ff65677a5db755"
      }
     },
     "9d8e4617067746e9a3c715fca1e7dea6": {
      "model_module": "@jupyter-widgets/base",
      "model_module_version": "1.2.0",
      "model_name": "LayoutModel",
      "state": {}
     },
     "9dacf37fa6834d10a9b49e2b5f3d0457": {
      "model_module": "@jupyter-widgets/controls",
      "model_module_version": "1.5.0",
      "model_name": "TextModel",
      "state": {
       "description": "P3",
       "layout": "IPY_MODEL_d6c9bccb21384e8493671f83508914ce",
       "style": "IPY_MODEL_26bc5b4f574e4d73a9cb9ea29d118721"
      }
     },
     "9dd61a4469ff49f69c8cd6cc9c7e7a90": {
      "model_module": "@jupyter-widgets/base",
      "model_module_version": "1.2.0",
      "model_name": "LayoutModel",
      "state": {}
     },
     "9de7fe90c6f04b358531f41f9cf206e8": {
      "model_module": "@jupyter-widgets/controls",
      "model_module_version": "1.5.0",
      "model_name": "DescriptionStyleModel",
      "state": {
       "description_width": ""
      }
     },
     "9e517ce87aa444cdad48cafd1e89391b": {
      "model_module": "@jupyter-widgets/controls",
      "model_module_version": "1.5.0",
      "model_name": "DescriptionStyleModel",
      "state": {
       "description_width": ""
      }
     },
     "9e9405eb291a4d10b5d3a9e0f01e1264": {
      "model_module": "@jupyter-widgets/controls",
      "model_module_version": "1.5.0",
      "model_name": "LabelModel",
      "state": {
       "layout": "IPY_MODEL_74bf6074e7844233bd826f174b951b6e",
       "style": "IPY_MODEL_8e538b4b8fec49b18970e88a6a6876bd",
       "value": "2"
      }
     },
     "9e9eeb4cc6b647128e8f16affec76807": {
      "model_module": "@jupyter-widgets/controls",
      "model_module_version": "1.5.0",
      "model_name": "TextModel",
      "state": {
       "description": "String:",
       "layout": "IPY_MODEL_da6ed31102f8462fa6818c589ef1990c",
       "placeholder": "Type something",
       "style": "IPY_MODEL_d39dd364dbb948f3bbb5fa57f6cba68c",
       "value": "Hello World"
      }
     },
     "9edd9c0048474360b0b2694f934cb6e1": {
      "model_module": "@jupyter-widgets/base",
      "model_module_version": "1.2.0",
      "model_name": "LayoutModel",
      "state": {}
     },
     "9f02a5bf323742508db6c90b622cacb7": {
      "model_module": "@jupyter-widgets/base",
      "model_module_version": "1.2.0",
      "model_name": "LayoutModel",
      "state": {}
     },
     "9f6b74c1a19c401cbe9040dc0dc2386f": {
      "model_module": "@jupyter-widgets/controls",
      "model_module_version": "1.5.0",
      "model_name": "SliderStyleModel",
      "state": {
       "description_width": ""
      }
     },
     "9f95b44eaeb44422a4ec473c4bb95d99": {
      "model_module": "@jupyter-widgets/base",
      "model_module_version": "1.2.0",
      "model_name": "LayoutModel",
      "state": {}
     },
     "9f9fee0272f2460e9d233b0ab1a9a6e0": {
      "model_module": "@jupyter-widgets/controls",
      "model_module_version": "1.5.0",
      "model_name": "VBoxModel",
      "state": {
       "children": [
        "IPY_MODEL_bef434b0effb4d7d8411f4e3e0264e03",
        "IPY_MODEL_ccb51838a4724b8f9a1439b3f7ce73f7"
       ],
       "layout": "IPY_MODEL_c25f1b0c33dc439a80ea319940169b25"
      }
     },
     "9fbb92cb985d422da2da88a7852e876e": {
      "model_module": "@jupyter-widgets/controls",
      "model_module_version": "1.5.0",
      "model_name": "DescriptionStyleModel",
      "state": {
       "description_width": ""
      }
     },
     "a00fa875024349e6bef46e9328083eaa": {
      "model_module": "@jupyter-widgets/controls",
      "model_module_version": "1.5.0",
      "model_name": "DescriptionStyleModel",
      "state": {
       "description_width": ""
      }
     },
     "a0680bfbb616419c9234f6418033866b": {
      "model_module": "@jupyter-widgets/controls",
      "model_module_version": "1.5.0",
      "model_name": "DescriptionStyleModel",
      "state": {
       "description_width": ""
      }
     },
     "a11daf75873947a4bbb4ddc9784c1b2c": {
      "model_module": "@jupyter-widgets/controls",
      "model_module_version": "1.5.0",
      "model_name": "DescriptionStyleModel",
      "state": {
       "description_width": ""
      }
     },
     "a216aa92e4a44012bdb1040fa26e59f2": {
      "model_module": "@jupyter-widgets/base",
      "model_module_version": "1.2.0",
      "model_name": "LayoutModel",
      "state": {}
     },
     "a27370f0e32842d396c552662b9950d7": {
      "model_module": "@jupyter-widgets/controls",
      "model_module_version": "1.5.0",
      "model_name": "LabelModel",
      "state": {
       "layout": "IPY_MODEL_e140dc7d9670437c8e15e1b796ef926e",
       "style": "IPY_MODEL_44a6721e9bc0496cbac08602f48d1829",
       "value": "1"
      }
     },
     "a306e7b798e4435eae99ece41e943390": {
      "model_module": "@jupyter-widgets/base",
      "model_module_version": "1.2.0",
      "model_name": "LayoutModel",
      "state": {}
     },
     "a3205fca591e47abaa8b59e04340a38d": {
      "model_module": "@jupyter-widgets/controls",
      "model_module_version": "1.5.0",
      "model_name": "FloatSliderModel",
      "state": {
       "continuous_update": false,
       "description": "Test:",
       "layout": "IPY_MODEL_bd3dedf5844140b2aa6d427807532a6e",
       "max": 10,
       "readout_format": ".1f",
       "step": 0.1,
       "style": "IPY_MODEL_c7bad09cec0e41af8e28de3e555e8295",
       "value": 7.5
      }
     },
     "a3265a391e9e4ff3bfb8f719490e7ea6": {
      "model_module": "@jupyter-widgets/controls",
      "model_module_version": "1.5.0",
      "model_name": "DescriptionStyleModel",
      "state": {
       "description_width": ""
      }
     },
     "a437f1275bc546d9917eba620066cd42": {
      "model_module": "@jupyter-widgets/base",
      "model_module_version": "1.2.0",
      "model_name": "LayoutModel",
      "state": {}
     },
     "a456114c4fe1409f9cc224286b8ac128": {
      "model_module": "@jupyter-widgets/base",
      "model_module_version": "1.2.0",
      "model_name": "LayoutModel",
      "state": {}
     },
     "a45ed1aa877349aa859f20ceaf78a409": {
      "model_module": "@jupyter-widgets/controls",
      "model_module_version": "1.5.0",
      "model_name": "LabelModel",
      "state": {
       "layout": "IPY_MODEL_8725e7892cc24f2e8e976836dd91f6e3",
       "style": "IPY_MODEL_cbfad2d188f24b55afe5c768854265ea",
       "value": "3"
      }
     },
     "a4bff24b55784d5483178f041ef23116": {
      "model_module": "@jupyter-widgets/controls",
      "model_module_version": "1.5.0",
      "model_name": "LabelModel",
      "state": {
       "layout": "IPY_MODEL_77216aa8398c483881fa29b6bdc52424",
       "style": "IPY_MODEL_20a47ebf2ee44fe69ee4aac46a58a541",
       "value": "2"
      }
     },
     "a4efe41dfe5d4a0f8dfb25bc52eed7b6": {
      "model_module": "@jupyter-widgets/controls",
      "model_module_version": "1.5.0",
      "model_name": "SliderStyleModel",
      "state": {
       "description_width": ""
      }
     },
     "a530c8418f1749cdb71151f300125858": {
      "model_module": "@jupyter-widgets/controls",
      "model_module_version": "1.5.0",
      "model_name": "IntProgressModel",
      "state": {
       "description": "Loading:",
       "layout": "IPY_MODEL_eff76e4f6d76416184c765f2e32a4553",
       "max": 10,
       "style": "IPY_MODEL_902073e36faf4bdc99450a63d503bd18",
       "value": 7
      }
     },
     "a57c8136656e4675ba4220d041041f73": {
      "model_module": "@jupyter-widgets/controls",
      "model_module_version": "1.5.0",
      "model_name": "SliderStyleModel",
      "state": {
       "description_width": ""
      }
     },
     "a61f10bb43a8459e805629e8519ec6c1": {
      "model_module": "@jupyter-widgets/controls",
      "model_module_version": "1.5.0",
      "model_name": "ProgressStyleModel",
      "state": {
       "description_width": ""
      }
     },
     "a6ba59cadeb0495d98cafd0446591e56": {
      "model_module": "@jupyter-widgets/base",
      "model_module_version": "1.2.0",
      "model_name": "LayoutModel",
      "state": {}
     },
     "a6cd890eb9da45a5817fb735932f9832": {
      "model_module": "@jupyter-widgets/controls",
      "model_module_version": "1.5.0",
      "model_name": "DescriptionStyleModel",
      "state": {
       "description_width": ""
      }
     },
     "a6d3b5a535e149dfbeb60da1b77d5005": {
      "model_module": "@jupyter-widgets/base",
      "model_module_version": "1.2.0",
      "model_name": "LayoutModel",
      "state": {}
     },
     "a731b41803bc4aa585197522ff7c2f3e": {
      "model_module": "@jupyter-widgets/base",
      "model_module_version": "1.2.0",
      "model_name": "LayoutModel",
      "state": {}
     },
     "a73be4a8c3284560aa0bf6d5549cfd37": {
      "model_module": "@jupyter-widgets/controls",
      "model_module_version": "1.5.0",
      "model_name": "DescriptionStyleModel",
      "state": {
       "description_width": ""
      }
     },
     "a7d1e417edf44df39d035064d23a2563": {
      "model_module": "@jupyter-widgets/base",
      "model_module_version": "1.2.0",
      "model_name": "LayoutModel",
      "state": {}
     },
     "a8075a5dae054598b5cfd51560bf735c": {
      "buffers": [
       {
        "data": "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",
        "encoding": "base64",
        "path": [
         "outputs",
         1,
         "data",
         "image/jpeg"
        ]
       }
      ],
      "model_module": "@jupyter-widgets/output",
      "model_module_version": "1.0.0",
      "model_name": "OutputModel",
      "state": {
       "layout": "IPY_MODEL_4080ef1650554e7dba465de2b2ed33e5",
       "outputs": [
        {
         "name": "stdout",
         "output_type": "stream",
         "text": "Output appended with append_stdout"
        },
        {
         "data": {
          "text/html": "\n        <iframe\n            width=\"400\"\n            height=\"300\"\n            src=\"https://www.youtube.com/embed/eWzY2nGfkXk\"\n            frameborder=\"0\"\n            allowfullscreen\n            \n        ></iframe>\n        ",
          "text/plain": "<IPython.lib.display.YouTubeVideo at 0x105860850>"
         },
         "metadata": {},
         "output_type": "display_data"
        }
       ]
      }
     },
     "a851574d7e9145abbfe882b230b667c2": {
      "model_module": "@jupyter-widgets/controls",
      "model_module_version": "1.5.0",
      "model_name": "FloatTextModel",
      "state": {
       "description": "Any:",
       "layout": "IPY_MODEL_661a3bbbdc6d44898b0bf78328dc1ec3",
       "step": null,
       "style": "IPY_MODEL_ddcf08fb0b2a435895b118ce3f661ca5",
       "value": 7.5
      }
     },
     "a894825cf707478e9e6f26ebae8644ca": {
      "model_module": "@jupyter-widgets/controls",
      "model_module_version": "1.5.0",
      "model_name": "PlayModel",
      "state": {
       "description": "Press play",
       "interval": 10,
       "layout": "IPY_MODEL_473583d5974344afbd91e2a102821994",
       "style": "IPY_MODEL_c2cfe6c48dc04c69a1e9de2c4ae900de",
       "value": 50
      }
     },
     "a89791c42c5f460b91417b12f2ac9b89": {
      "model_module": "@jupyter-widgets/controls",
      "model_module_version": "1.5.0",
      "model_name": "TextModel",
      "state": {
       "description": "P1",
       "layout": "IPY_MODEL_b02bc7ad693d4e0e869109fe6a25cdb6",
       "style": "IPY_MODEL_1e0c369744bc420e8735c7f047e19ee9"
      }
     },
     "a8c30a4e1ccc485983a7c7899a0c8960": {
      "model_module": "@jupyter-widgets/base",
      "model_module_version": "1.2.0",
      "model_name": "LayoutModel",
      "state": {}
     },
     "a8d30e3440dc4142a87d05f0b6693518": {
      "model_module": "@jupyter-widgets/controls",
      "model_module_version": "1.5.0",
      "model_name": "DescriptionStyleModel",
      "state": {
       "description_width": ""
      }
     },
     "a9415488639d4b819392e1dd4699a005": {
      "buffers": [
       {
        "data": "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",
        "encoding": "base64",
        "path": [
         "value"
        ]
       }
      ],
      "model_module": "@jupyter-widgets/controls",
      "model_module_version": "1.5.0",
      "model_name": "ImageModel",
      "state": {
       "format": "gif",
       "height": "128",
       "layout": "IPY_MODEL_d986fc1582f64e95bfa67fff0b4d428d",
       "width": "128"
      }
     },
     "a9592a2a20c346d59aebcdce9fb9c4bb": {
      "model_module": "@jupyter-widgets/controls",
      "model_module_version": "1.5.0",
      "model_name": "HBoxModel",
      "state": {
       "children": [
        "IPY_MODEL_0e45d24ce48347f68dbb6912fb2bba4f",
        "IPY_MODEL_eae20f1775744dc5933c9dffd584b108"
       ],
       "layout": "IPY_MODEL_0edf7b828fb64c2b8f79d2c4a4d46cf6"
      }
     },
     "aa2028feca5045a2a9497a3f56abf933": {
      "model_module": "@jupyter-widgets/controls",
      "model_module_version": "1.5.0",
      "model_name": "DescriptionStyleModel",
      "state": {
       "description_width": ""
      }
     },
     "aa447c17a50048b0b3352d67cfd4e486": {
      "model_module": "@jupyter-widgets/base",
      "model_module_version": "1.2.0",
      "model_name": "LayoutModel",
      "state": {
       "border": "1px solid black"
      }
     },
     "aa70a0036f41471ea5deebca5965bc6a": {
      "model_module": "@jupyter-widgets/base",
      "model_module_version": "1.2.0",
      "model_name": "LayoutModel",
      "state": {}
     },
     "aac5085a8fb44eccb81274a2326de379": {
      "model_module": "@jupyter-widgets/base",
      "model_module_version": "1.2.0",
      "model_name": "LayoutModel",
      "state": {}
     },
     "ab3e9e7b99bd436099f8668a44dea754": {
      "model_module": "@jupyter-widgets/base",
      "model_module_version": "1.2.0",
      "model_name": "LayoutModel",
      "state": {}
     },
     "ab537e747bba491a94939c5b86029b5d": {
      "model_module": "@jupyter-widgets/controls",
      "model_module_version": "1.5.0",
      "model_name": "HBoxModel",
      "state": {
       "children": [
        "IPY_MODEL_a894825cf707478e9e6f26ebae8644ca",
        "IPY_MODEL_0d12b28326a1467bbee504790c2d53bf"
       ],
       "layout": "IPY_MODEL_e8bb86dbd8b14d0a8cb9c31286348420"
      }
     },
     "ab812035dfbc4611b1b90eb0005b2dfd": {
      "model_module": "@jupyter-widgets/controls",
      "model_module_version": "1.5.0",
      "model_name": "DescriptionStyleModel",
      "state": {
       "description_width": ""
      }
     },
     "ab93a6315e4a4df5bdc5a56ba518e822": {
      "model_module": "@jupyter-widgets/base",
      "model_module_version": "1.2.0",
      "model_name": "LayoutModel",
      "state": {}
     },
     "ac4971205b7149b9b220aba134ce929f": {
      "model_module": "@jupyter-widgets/base",
      "model_module_version": "1.2.0",
      "model_name": "LayoutModel",
      "state": {}
     },
     "aca277424a7d43b0bcbe16bd5b29de5d": {
      "model_module": "@jupyter-widgets/controls",
      "model_module_version": "1.5.0",
      "model_name": "DescriptionStyleModel",
      "state": {
       "description_width": ""
      }
     },
     "acbcb4d6dfa74b7fbcaa3fc17810c425": {
      "model_module": "@jupyter-widgets/base",
      "model_module_version": "1.2.0",
      "model_name": "LayoutModel",
      "state": {}
     },
     "ad05adff0dae484eaf259ac13285a983": {
      "model_module": "@jupyter-widgets/controls",
      "model_module_version": "1.5.0",
      "model_name": "DescriptionStyleModel",
      "state": {
       "description_width": ""
      }
     },
     "ad5f82dfb87e47dcaf35b46cc7e13104": {
      "model_module": "@jupyter-widgets/controls",
      "model_module_version": "1.5.0",
      "model_name": "DescriptionStyleModel",
      "state": {
       "description_width": ""
      }
     },
     "ad62e74d1efd4b00b845bfd871ada8b6": {
      "model_module": "@jupyter-widgets/controls",
      "model_module_version": "1.5.0",
      "model_name": "LabelModel",
      "state": {
       "layout": "IPY_MODEL_fd9cf308e9cd4fb0a038c74c25088cd7",
       "style": "IPY_MODEL_2b9da79c6fcf48cebd0b005380634d7c",
       "value": "1"
      }
     },
     "ad6fdb44082a4a7ca96f8c61ef78a60c": {
      "model_module": "@jupyter-widgets/controls",
      "model_module_version": "1.5.0",
      "model_name": "BoundedIntTextModel",
      "state": {
       "description": "Text:",
       "layout": "IPY_MODEL_39caec00136c4f948a1e234ed3d71144",
       "max": 10,
       "style": "IPY_MODEL_d438112d1e394288a17c01df0e45af40",
       "value": 7
      }
     },
     "ad8a50d8088a4c7ca5903638f02b8c87": {
      "model_module": "@jupyter-widgets/base",
      "model_module_version": "1.2.0",
      "model_name": "LayoutModel",
      "state": {}
     },
     "ae0ce4a5052f4e119c55804de987098c": {
      "model_module": "@jupyter-widgets/controls",
      "model_module_version": "1.5.0",
      "model_name": "LabelModel",
      "state": {
       "layout": "IPY_MODEL_4593602f3b2b433c8524e37f111a59dc",
       "style": "IPY_MODEL_02760b3333034c0eaf1f65de063f77a9",
       "value": "2"
      }
     },
     "ae1439e990d54167ba2f2e0ff6521435": {
      "model_module": "@jupyter-widgets/base",
      "model_module_version": "1.2.0",
      "model_name": "LayoutModel",
      "state": {}
     },
     "aeb5c3f668434382ae291f8c92eee291": {
      "model_module": "@jupyter-widgets/controls",
      "model_module_version": "1.5.0",
      "model_name": "DescriptionStyleModel",
      "state": {
       "description_width": ""
      }
     },
     "af2d97b277194e0cbc0b1a7c418fd877": {
      "model_module": "@jupyter-widgets/base",
      "model_module_version": "1.2.0",
      "model_name": "LayoutModel",
      "state": {}
     },
     "af72b5157d014121abb28eefd8ad4083": {
      "model_module": "@jupyter-widgets/base",
      "model_module_version": "1.2.0",
      "model_name": "LayoutModel",
      "state": {}
     },
     "afa5f3b4cd4d4355954a89388956c240": {
      "model_module": "@jupyter-widgets/controls",
      "model_module_version": "1.5.0",
      "model_name": "DescriptionStyleModel",
      "state": {
       "description_width": ""
      }
     },
     "b00851f6d6084664afd3945146ede5a1": {
      "model_module": "@jupyter-widgets/controls",
      "model_module_version": "1.5.0",
      "model_name": "TextModel",
      "state": {
       "description": "String:",
       "layout": "IPY_MODEL_fa5a3d0cd6514739b4157b3f1763365c",
       "placeholder": "Type something",
       "style": "IPY_MODEL_0077d0156df248d0bf2fe12676307d56",
       "value": "Hello World"
      }
     },
     "b02bc7ad693d4e0e869109fe6a25cdb6": {
      "model_module": "@jupyter-widgets/base",
      "model_module_version": "1.2.0",
      "model_name": "LayoutModel",
      "state": {}
     },
     "b046f09898884fd89f06d6d68b64fb6c": {
      "model_module": "@jupyter-widgets/controls",
      "model_module_version": "1.5.0",
      "model_name": "DescriptionStyleModel",
      "state": {
       "description_width": ""
      }
     },
     "b0ad48d794354098b38b7a305fa206d6": {
      "model_module": "@jupyter-widgets/controls",
      "model_module_version": "1.5.0",
      "model_name": "LabelModel",
      "state": {
       "layout": "IPY_MODEL_21918b05632344088a675d533bf88297",
       "style": "IPY_MODEL_6819ee5a421747039479ae02f11ee1ac",
       "value": "0"
      }
     },
     "b0bf3e2326384a18a3ac5df6b72ab26a": {
      "model_module": "@jupyter-widgets/controls",
      "model_module_version": "1.5.0",
      "model_name": "BoundedFloatTextModel",
      "state": {
       "description": "Text:",
       "layout": "IPY_MODEL_5c18d80ba48e497385fa4f10c9214ab3",
       "max": 10,
       "style": "IPY_MODEL_965f80dfa03b4bd5bc53f641a55dfe21",
       "value": 7.5
      }
     },
     "b14e578a5b9f4b29b44709466d3ec873": {
      "model_module": "@jupyter-widgets/base",
      "model_module_version": "1.2.0",
      "model_name": "LayoutModel",
      "state": {}
     },
     "b152647f7bcc488189736eba9a6365e9": {
      "model_module": "@jupyter-widgets/controls",
      "model_module_version": "1.5.0",
      "model_name": "IntSliderModel",
      "state": {
       "continuous_update": false,
       "description": "Test:",
       "layout": "IPY_MODEL_105d57bfb7a04f5c881aa29be7562a56",
       "max": 10,
       "style": "IPY_MODEL_d75860cf6d074b81af891fabc094076d",
       "value": 7
      }
     },
     "b18921573f5e4d269a1f9cc210baaf35": {
      "model_module": "@jupyter-widgets/controls",
      "model_module_version": "1.5.0",
      "model_name": "SliderStyleModel",
      "state": {
       "description_width": ""
      }
     },
     "b19f14bcadf241608956fa06e1f6081a": {
      "model_module": "@jupyter-widgets/controls",
      "model_module_version": "1.5.0",
      "model_name": "DescriptionStyleModel",
      "state": {
       "description_width": ""
      }
     },
     "b211bf87402a424d8908fb83c601a62c": {
      "model_module": "@jupyter-widgets/controls",
      "model_module_version": "1.5.0",
      "model_name": "ToggleButtonsStyleModel",
      "state": {
       "button_width": "",
       "description_width": ""
      }
     },
     "b300e25d0b6e4fa98ea52e9791eea372": {
      "model_module": "@jupyter-widgets/controls",
      "model_module_version": "1.5.0",
      "model_name": "TextModel",
      "state": {
       "description": "P2",
       "layout": "IPY_MODEL_21be78a134e643ae839178de79dec501",
       "style": "IPY_MODEL_4c3f936050f3450e83001d9036de3edd"
      }
     },
     "b3108513b62d4b8990b097e1b8f43146": {
      "model_module": "@jupyter-widgets/base",
      "model_module_version": "1.2.0",
      "model_name": "LayoutModel",
      "state": {}
     },
     "b346ece6102e4eff9bc43ef5f6a17763": {
      "model_module": "@jupyter-widgets/base",
      "model_module_version": "1.2.0",
      "model_name": "LayoutModel",
      "state": {}
     },
     "b387a2c3a31240448c4761e36223ff5b": {
      "model_module": "@jupyter-widgets/output",
      "model_module_version": "1.0.0",
      "model_name": "OutputModel",
      "state": {
       "layout": "IPY_MODEL_9815d00f47e9419bbe792946fb733960",
       "outputs": [
        {
         "name": "stdout",
         "output_type": "stream",
         "text": "0 Hello world!\n1 Hello world!\n2 Hello world!\n3 Hello world!\n4 Hello world!\n5 Hello world!\n6 Hello world!\n7 Hello world!\n8 Hello world!\n9 Hello world!\n"
        }
       ]
      }
     },
     "b3c5d9dc446e4fea864d26631b89f152": {
      "model_module": "@jupyter-widgets/controls",
      "model_module_version": "1.5.0",
      "model_name": "SelectionRangeSliderModel",
      "state": {
       "_model_name": "SelectionRangeSliderModel",
       "_options_labels": [
        "Jan",
        "Feb",
        "Mar",
        "Apr",
        "May",
        "Jun",
        "Jul",
        "Aug",
        "Sep",
        "Oct",
        "Nov",
        "Dec"
       ],
       "_view_name": "SelectionRangeSliderView",
       "description": "Months (2015)",
       "index": [
        0,
        11
       ],
       "layout": "IPY_MODEL_5f01454b787c436ea2d8c6347e05df16",
       "style": "IPY_MODEL_0ffddb8d581742ef8c32d4d0981e9b7e"
      }
     },
     "b41a8cfb69c0482aae1aa0e346802922": {
      "model_module": "@jupyter-widgets/controls",
      "model_module_version": "1.5.0",
      "model_name": "DescriptionStyleModel",
      "state": {
       "description_width": ""
      }
     },
     "b4206fc1a125488886bc5dbd027bc5b9": {
      "model_module": "@jupyter-widgets/controls",
      "model_module_version": "1.5.0",
      "model_name": "LabelModel",
      "state": {
       "layout": "IPY_MODEL_a456114c4fe1409f9cc224286b8ac128",
       "style": "IPY_MODEL_8f8fae9117364def903026d2dae29a5e",
       "value": "3"
      }
     },
     "b424f850771146c9889ba1fe66694f4b": {
      "model_module": "@jupyter-widgets/base",
      "model_module_version": "1.2.0",
      "model_name": "LayoutModel",
      "state": {}
     },
     "b434f78a477b4334becbf35975bc0d51": {
      "model_module": "@jupyter-widgets/controls",
      "model_module_version": "1.5.0",
      "model_name": "DescriptionStyleModel",
      "state": {
       "description_width": ""
      }
     },
     "b4f65706723f480a8949a932869accc8": {
      "model_module": "@jupyter-widgets/controls",
      "model_module_version": "1.5.0",
      "model_name": "IntTextModel",
      "state": {
       "description": "Any:",
       "layout": "IPY_MODEL_29485eb7bdc04eceb4e74b9935b46a05",
       "step": 1,
       "style": "IPY_MODEL_9662c855f0ba42288ec1cdc0a6dd5d2f",
       "value": 7
      }
     },
     "b4fcde747bf14601bcedb661510e5295": {
      "model_module": "@jupyter-widgets/base",
      "model_module_version": "1.2.0",
      "model_name": "LayoutModel",
      "state": {}
     },
     "b58bca3650174e17838f333b81d2c468": {
      "model_module": "@jupyter-widgets/controls",
      "model_module_version": "1.5.0",
      "model_name": "FloatSliderModel",
      "state": {
       "continuous_update": false,
       "description": "Test:",
       "layout": "IPY_MODEL_02bf9c9559d84beaa4a98cbaff30919f",
       "max": 10,
       "readout_format": ".1f",
       "step": 0.1,
       "style": "IPY_MODEL_8ead03a4cc5e4898ab00e4c3addc824a",
       "value": 7.5
      }
     },
     "b5ab60b1c8d745d28cd450f684dd14c6": {
      "model_module": "@jupyter-widgets/controls",
      "model_module_version": "1.5.0",
      "model_name": "FloatRangeSliderModel",
      "state": {
       "_model_name": "FloatRangeSliderModel",
       "_view_name": "FloatRangeSliderView",
       "continuous_update": false,
       "description": "Test:",
       "layout": "IPY_MODEL_e4ebc760e6464edf8efc2717774645f9",
       "max": 10,
       "readout_format": ".1f",
       "step": 0.1,
       "style": "IPY_MODEL_e831012e2ece4521a47a19e8a8a8c64e",
       "value": [
        5,
        7.5
       ]
      }
     },
     "b61fc6885c174e6996003f81e615a703": {
      "model_module": "@jupyter-widgets/controls",
      "model_module_version": "1.5.0",
      "model_name": "TextModel",
      "state": {
       "description": "P0",
       "layout": "IPY_MODEL_2798e89236dc4e4d93d5c9e2a1ce5367",
       "style": "IPY_MODEL_f8c774106bbe498f952f5fc0dc43395a"
      }
     },
     "b666f987862744b397b603cba390330d": {
      "model_module": "@jupyter-widgets/base",
      "model_module_version": "1.2.0",
      "model_name": "LayoutModel",
      "state": {}
     },
     "b6abab1db9314eceb42dd98b21fad21c": {
      "model_module": "@jupyter-widgets/controls",
      "model_module_version": "1.5.0",
      "model_name": "SliderStyleModel",
      "state": {
       "description_width": ""
      }
     },
     "b7a1931fbf024ae1a625a92c75a66795": {
      "model_module": "@jupyter-widgets/controls",
      "model_module_version": "1.5.0",
      "model_name": "ProgressStyleModel",
      "state": {
       "description_width": ""
      }
     },
     "b7a2b7dcf315469db5edd921b7e9e9cb": {
      "model_module": "@jupyter-widgets/controls",
      "model_module_version": "1.5.0",
      "model_name": "VBoxModel",
      "state": {
       "children": [
        "IPY_MODEL_8b24e3cb023f443a94f548e1fcb826c3",
        "IPY_MODEL_1ef7a20f36fd47e98e0b2c1553215825"
       ],
       "layout": "IPY_MODEL_bd85e6484af448b48514be4c317571be"
      }
     },
     "b7b9e5654a7a4f509668581b3abefb40": {
      "model_module": "@jupyter-widgets/output",
      "model_module_version": "1.0.0",
      "model_name": "OutputModel",
      "state": {
       "layout": "IPY_MODEL_01c8cacc909b4934bd56fd8ebb937ab2"
      }
     },
     "b8490d07b8094c959a5fcedeac6b1abf": {
      "buffers": [
       {
        "data": "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",
        "encoding": "base64",
        "path": [
         "value"
        ]
       }
      ],
      "model_module": "@jupyter-widgets/controls",
      "model_module_version": "1.5.0",
      "model_name": "ImageModel",
      "state": {
       "format": "gif",
       "height": "128",
       "layout": "IPY_MODEL_ab3e9e7b99bd436099f8668a44dea754",
       "width": "128"
      }
     },
     "b856f97ac3bf42ae98fbc356ff1cee3c": {
      "model_module": "@jupyter-widgets/controls",
      "model_module_version": "1.5.0",
      "model_name": "VBoxModel",
      "state": {
       "children": [
        "IPY_MODEL_6ed266be750042a9bbd3bb30b506ff58",
        "IPY_MODEL_547c4c0e3fcb4f52a7bd7a436fe64b1c"
       ],
       "layout": "IPY_MODEL_c71643e19ef34dcbb89c516b8f6601c8"
      }
     },
     "b8c2570d3f234c9ba389eb67bc15fcfd": {
      "model_module": "@jupyter-widgets/controls",
      "model_module_version": "1.5.0",
      "model_name": "ButtonStyleModel",
      "state": {}
     },
     "b8c9638d85cc46a8afba53bea0303cd1": {
      "model_module": "@jupyter-widgets/controls",
      "model_module_version": "1.5.0",
      "model_name": "IntSliderModel",
      "state": {
       "layout": "IPY_MODEL_04cdb1ba17794522a346a152b2e4ba56",
       "style": "IPY_MODEL_dda38b9448314d0fb844bdad5e16db90",
       "value": 50
      }
     },
     "b8d34acac38f4753b5f6a961bcace13b": {
      "model_module": "@jupyter-widgets/controls",
      "model_module_version": "1.5.0",
      "model_name": "SliderStyleModel",
      "state": {
       "description_width": ""
      }
     },
     "b8d815d665d44c55a2fd4f8177cbc6dd": {
      "model_module": "@jupyter-widgets/base",
      "model_module_version": "1.2.0",
      "model_name": "LayoutModel",
      "state": {}
     },
     "b8eccad7f3bf4b7e9d797f9a96165fda": {
      "model_module": "@jupyter-widgets/base",
      "model_module_version": "1.2.0",
      "model_name": "LayoutModel",
      "state": {}
     },
     "b95546cb841d4a659422474f8e929a56": {
      "model_module": "@jupyter-widgets/controls",
      "model_module_version": "1.5.0",
      "model_name": "LabelModel",
      "state": {
       "layout": "IPY_MODEL_6c446e4ec2dd4e7e9ace56300bcc2f35",
       "style": "IPY_MODEL_4ef13739307a4e69bfff8fd8ece98d8a",
       "value": "1"
      }
     },
     "b9657dead20a44e69ad1db3a10c5f974": {
      "model_module": "@jupyter-widgets/base",
      "model_module_version": "1.2.0",
      "model_name": "LayoutModel",
      "state": {}
     },
     "b9712408a6fc4957959f81f705f9addb": {
      "model_module": "@jupyter-widgets/controls",
      "model_module_version": "1.5.0",
      "model_name": "SliderStyleModel",
      "state": {
       "description_width": ""
      }
     },
     "b9de4987354f4792b4536719e73760b5": {
      "model_module": "@jupyter-widgets/base",
      "model_module_version": "1.2.0",
      "model_name": "LayoutModel",
      "state": {
       "border": "1px solid black"
      }
     },
     "b9fdeaae2825451c822a7d2e01c0217e": {
      "model_module": "@jupyter-widgets/controls",
      "model_module_version": "1.5.0",
      "model_name": "DescriptionStyleModel",
      "state": {
       "description_width": ""
      }
     },
     "ba02148a27d7444891719a8681686f8e": {
      "model_module": "@jupyter-widgets/controls",
      "model_module_version": "1.5.0",
      "model_name": "IntTextModel",
      "state": {
       "description": "Any:",
       "layout": "IPY_MODEL_7067c3d64c5b49eaa08fc06505b4423e",
       "step": 1,
       "style": "IPY_MODEL_b9fdeaae2825451c822a7d2e01c0217e",
       "value": 7
      }
     },
     "ba06ab23102945dda182bf8190b6ac00": {
      "model_module": "@jupyter-widgets/base",
      "model_module_version": "1.2.0",
      "model_name": "LayoutModel",
      "state": {}
     },
     "ba41c9581a814ba89f844fb9347e4d32": {
      "model_module": "@jupyter-widgets/controls",
      "model_module_version": "1.5.0",
      "model_name": "FloatProgressModel",
      "state": {
       "bar_style": "info",
       "description": "Loading:",
       "layout": "IPY_MODEL_d3570ee067354e9c898085a17b543c1d",
       "max": 10,
       "style": "IPY_MODEL_b7a1931fbf024ae1a625a92c75a66795",
       "value": 7.5
      }
     },
     "baa01178bb384cf69ad6ef53c079152b": {
      "model_module": "@jupyter-widgets/base",
      "model_module_version": "1.2.0",
      "model_name": "LayoutModel",
      "state": {}
     },
     "baaf0cf20d5643a4bea62dd2f64909e9": {
      "model_module": "@jupyter-widgets/controls",
      "model_module_version": "1.5.0",
      "model_name": "IntSliderModel",
      "state": {
       "layout": "IPY_MODEL_3868629228d64a9b8ce673d8973a3183",
       "style": "IPY_MODEL_7ba77fc4d02645dc860d485602dc7462",
       "value": 33
      }
     },
     "bb84f79ef0a64983aa75ac4986df3ee0": {
      "model_module": "@jupyter-widgets/base",
      "model_module_version": "1.2.0",
      "model_name": "LayoutModel",
      "state": {}
     },
     "bbb95213bb7640a3b3142c6b0841262b": {
      "model_module": "@jupyter-widgets/controls",
      "model_module_version": "1.5.0",
      "model_name": "DescriptionStyleModel",
      "state": {
       "description_width": ""
      }
     },
     "bbed48b4a5dd4a5d9831d4cd880e445c": {
      "model_module": "@jupyter-widgets/controls",
      "model_module_version": "1.5.0",
      "model_name": "BoundedFloatTextModel",
      "state": {
       "description": "Text:",
       "layout": "IPY_MODEL_dc2e6ed23d4943219ea90458025bfbdc",
       "max": 10,
       "style": "IPY_MODEL_03873a931cc14af0bb4044193bcc299f",
       "value": 7.5
      }
     },
     "bc0ecaa89e1b4dfd867711bf5ac7ed3d": {
      "model_module": "@jupyter-widgets/base",
      "model_module_version": "1.2.0",
      "model_name": "LayoutModel",
      "state": {}
     },
     "bc21f0a1d3f04ec8b46fd9330132af3e": {
      "model_module": "@jupyter-widgets/controls",
      "model_module_version": "1.5.0",
      "model_name": "LabelModel",
      "state": {
       "layout": "IPY_MODEL_0adc51b2de1b47ed93bb124b6b3fde79",
       "style": "IPY_MODEL_1e21b62ce3e74610bbb0ab7a3da1707d",
       "value": "0"
      }
     },
     "bc767806bc3f4d9a88d5a1c5d1d813d6": {
      "model_module": "@jupyter-widgets/controls",
      "model_module_version": "1.5.0",
      "model_name": "CheckboxModel",
      "state": {
       "description": "Check me",
       "disabled": false,
       "layout": "IPY_MODEL_e0920b7f581d47feb06f6dfe644fd934",
       "style": "IPY_MODEL_f05daed347984ba896139c63074316e2",
       "value": false
      }
     },
     "bc873696089a4f45815f65926c332b59": {
      "model_module": "@jupyter-widgets/base",
      "model_module_version": "1.2.0",
      "model_name": "LayoutModel",
      "state": {}
     },
     "bcd26d3851104fe2a573d54212198ac5": {
      "model_module": "@jupyter-widgets/base",
      "model_module_version": "1.2.0",
      "model_name": "LayoutModel",
      "state": {}
     },
     "bd3dedf5844140b2aa6d427807532a6e": {
      "model_module": "@jupyter-widgets/base",
      "model_module_version": "1.2.0",
      "model_name": "LayoutModel",
      "state": {}
     },
     "bd85e6484af448b48514be4c317571be": {
      "model_module": "@jupyter-widgets/base",
      "model_module_version": "1.2.0",
      "model_name": "LayoutModel",
      "state": {}
     },
     "bd9d9cd2132b4da284255571238eea8a": {
      "model_module": "@jupyter-widgets/controls",
      "model_module_version": "1.5.0",
      "model_name": "FloatLogSliderModel",
      "state": {
       "description": "Log Slider",
       "layout": "IPY_MODEL_038d03f9eb32434fba0c45fdedea6f2f",
       "max": 10,
       "min": -10,
       "step": 0.2,
       "style": "IPY_MODEL_45d0e0187d2644ab9abb903441b20294",
       "value": 10
      }
     },
     "bde115de358d449896e19ab9bf174a8a": {
      "model_module": "@jupyter-widgets/controls",
      "model_module_version": "1.5.0",
      "model_name": "DescriptionStyleModel",
      "state": {
       "description_width": ""
      }
     },
     "be37b421d1874809be4d829e6ed2b00e": {
      "model_module": "@jupyter-widgets/controls",
      "model_module_version": "1.5.0",
      "model_name": "DescriptionStyleModel",
      "state": {
       "description_width": ""
      }
     },
     "be533f331b744e2092da3f205d6f9879": {
      "model_module": "@jupyter-widgets/controls",
      "model_module_version": "1.5.0",
      "model_name": "ToggleButtonsModel",
      "state": {
       "_options_labels": [
        "Slow",
        "Regular",
        "Fast"
       ],
       "button_style": "",
       "description": "Speed:",
       "icons": [],
       "index": 0,
       "layout": "IPY_MODEL_bc0ecaa89e1b4dfd867711bf5ac7ed3d",
       "style": "IPY_MODEL_b211bf87402a424d8908fb83c601a62c",
       "tooltips": [
        "Description of slow",
        "Description of regular",
        "Description of fast"
       ]
      }
     },
     "be6c7c9d08de47149a657a57439f2144": {
      "model_module": "@jupyter-widgets/controls",
      "model_module_version": "1.5.0",
      "model_name": "DescriptionStyleModel",
      "state": {
       "description_width": ""
      }
     },
     "be7ccbe24fab4040897e1504b30f14a1": {
      "model_module": "@jupyter-widgets/controls",
      "model_module_version": "1.5.0",
      "model_name": "IntTextModel",
      "state": {
       "description": "Any:",
       "layout": "IPY_MODEL_84b8048c55ae417c82042e2148d0d264",
       "step": 1,
       "style": "IPY_MODEL_fc2c0ef27c8d4801a30659b042c91c06",
       "value": 7
      }
     },
     "becc708e48294538aa310120a5f37d5e": {
      "model_module": "@jupyter-widgets/controls",
      "model_module_version": "1.5.0",
      "model_name": "DescriptionStyleModel",
      "state": {
       "description_width": ""
      }
     },
     "bed953cbfce047bf8170b3cd030768cf": {
      "model_module": "@jupyter-widgets/base",
      "model_module_version": "1.2.0",
      "model_name": "LayoutModel",
      "state": {}
     },
     "bef434b0effb4d7d8411f4e3e0264e03": {
      "model_module": "@jupyter-widgets/controls",
      "model_module_version": "1.5.0",
      "model_name": "LabelModel",
      "state": {
       "layout": "IPY_MODEL_2061fde8fe2542b7a4aa54ecdd6ab2fa",
       "style": "IPY_MODEL_1f2242f0713c4714aad3e2cff66a5e07",
       "value": "2"
      }
     },
     "bfed71ac05bf4a5ca6bc2291d5e8cb4c": {
      "model_module": "@jupyter-widgets/controls",
      "model_module_version": "1.5.0",
      "model_name": "HTMLMathModel",
      "state": {
       "description": "Some HTML",
       "layout": "IPY_MODEL_f4812cd6278d4cf8a7c2f630f3c44714",
       "placeholder": "Some HTML",
       "style": "IPY_MODEL_a6cd890eb9da45a5817fb735932f9832",
       "value": "Some math and <i>HTML</i>: \\(x^2\\) and $$\\frac{x+1}{x-1}$$"
      }
     },
     "bff171db28b441558265df4f3aa91d7d": {
      "model_module": "@jupyter-widgets/controls",
      "model_module_version": "1.5.0",
      "model_name": "HBoxModel",
      "state": {
       "children": [
        "IPY_MODEL_63fb5c6997ec42f18a9409aa7a3cd3d7",
        "IPY_MODEL_a27370f0e32842d396c552662b9950d7",
        "IPY_MODEL_5c59f5cd5b5645aa9784386b254db299",
        "IPY_MODEL_00a2a225ab24407ab131429e07e461f1"
       ],
       "layout": "IPY_MODEL_85dc0683217f496f9c20d3b012502545"
      }
     },
     "c0648ab826bb4d259e9d23ebe02f8cec": {
      "model_module": "@jupyter-widgets/base",
      "model_module_version": "1.2.0",
      "model_name": "LayoutModel",
      "state": {}
     },
     "c067e63a84164e07bac95f78914e112c": {
      "model_module": "@jupyter-widgets/controls",
      "model_module_version": "1.5.0",
      "model_name": "DescriptionStyleModel",
      "state": {
       "description_width": ""
      }
     },
     "c0db5a44a09548fe92df8a734113ecce": {
      "model_module": "@jupyter-widgets/controls",
      "model_module_version": "1.5.0",
      "model_name": "SelectModel",
      "state": {
       "_options_labels": [
        "Linux",
        "Windows",
        "OSX"
       ],
       "description": "OS:",
       "index": 2,
       "layout": "IPY_MODEL_65e9402ce84f4e6b959e3b759e658324",
       "rows": 3,
       "style": "IPY_MODEL_e34521f8890a4b3bacb2b5e794da324c"
      }
     },
     "c0f8543e4dea4d00b1e18f92369f7661": {
      "model_module": "@jupyter-widgets/controls",
      "model_module_version": "1.5.0",
      "model_name": "DescriptionStyleModel",
      "state": {
       "description_width": ""
      }
     },
     "c1234562a24b48b3b689c180808018cf": {
      "model_module": "@jupyter-widgets/base",
      "model_module_version": "1.2.0",
      "model_name": "LayoutModel",
      "state": {}
     },
     "c168ff8f753940519193720ed1bc760b": {
      "model_module": "@jupyter-widgets/controls",
      "model_module_version": "1.5.0",
      "model_name": "IntRangeSliderModel",
      "state": {
       "_model_name": "IntRangeSliderModel",
       "_view_name": "IntRangeSliderView",
       "continuous_update": false,
       "description": "Test:",
       "layout": "IPY_MODEL_8bf65647717d4c48a1660659243b2893",
       "max": 10,
       "style": "IPY_MODEL_3248d257a137479ab02d38ae70d9954f",
       "value": [
        5,
        7
       ]
      }
     },
     "c16cb20b521844719ddebf13facfc57e": {
      "model_module": "@jupyter-widgets/base",
      "model_module_version": "1.2.0",
      "model_name": "LayoutModel",
      "state": {}
     },
     "c1e3e4de974b47dda9147d5100f8063c": {
      "model_module": "@jupyter-widgets/base",
      "model_module_version": "1.2.0",
      "model_name": "LayoutModel",
      "state": {}
     },
     "c25816f061514d1da409a01623d24023": {
      "model_module": "@jupyter-widgets/controls",
      "model_module_version": "1.5.0",
      "model_name": "ToggleButtonsStyleModel",
      "state": {
       "button_width": "",
       "description_width": ""
      }
     },
     "c25f1b0c33dc439a80ea319940169b25": {
      "model_module": "@jupyter-widgets/base",
      "model_module_version": "1.2.0",
      "model_name": "LayoutModel",
      "state": {}
     },
     "c26e6742ac404355b9d45c6d24b19d78": {
      "model_module": "@jupyter-widgets/controls",
      "model_module_version": "1.5.0",
      "model_name": "DescriptionStyleModel",
      "state": {
       "description_width": ""
      }
     },
     "c2c982f0bdd1465b9f1003549f263522": {
      "model_module": "@jupyter-widgets/base",
      "model_module_version": "1.2.0",
      "model_name": "LayoutModel",
      "state": {}
     },
     "c2cfe6c48dc04c69a1e9de2c4ae900de": {
      "model_module": "@jupyter-widgets/controls",
      "model_module_version": "1.5.0",
      "model_name": "DescriptionStyleModel",
      "state": {
       "description_width": ""
      }
     },
     "c310a5b2dc4b45f2bbb74f2ce25eadf1": {
      "model_module": "@jupyter-widgets/controls",
      "model_module_version": "1.5.0",
      "model_name": "TextModel",
      "state": {
       "description": "P4",
       "layout": "IPY_MODEL_ddc024ce613445029a899fa65974ee3d",
       "style": "IPY_MODEL_845bcde0f9344337a321f44b17e78f24"
      }
     },
     "c3240771c5c9450c97e1160e31169e86": {
      "model_module": "@jupyter-widgets/base",
      "model_module_version": "1.2.0",
      "model_name": "LayoutModel",
      "state": {}
     },
     "c46e37c25c324527afdef32c2e38d668": {
      "model_module": "@jupyter-widgets/controls",
      "model_module_version": "1.5.0",
      "model_name": "TextModel",
      "state": {
       "description": "P3",
       "layout": "IPY_MODEL_ae1439e990d54167ba2f2e0ff6521435",
       "style": "IPY_MODEL_51355ed7779044a59cd36d807b5b8942"
      }
     },
     "c470f245d22d43de9e39c779709eae42": {
      "model_module": "@jupyter-widgets/controls",
      "model_module_version": "1.5.0",
      "model_name": "TextModel",
      "state": {
       "layout": "IPY_MODEL_d2be845e14174a16bbbf4958e9bd7dcf",
       "style": "IPY_MODEL_185373fb0ab244b8926050906eb850e1"
      }
     },
     "c4a26de8b4c94621817834339942f611": {
      "model_module": "@jupyter-widgets/base",
      "model_module_version": "1.2.0",
      "model_name": "LayoutModel",
      "state": {}
     },
     "c4f0ff9d302c4a22ac913affd0cd458d": {
      "model_module": "@jupyter-widgets/base",
      "model_module_version": "1.2.0",
      "model_name": "LayoutModel",
      "state": {}
     },
     "c51c42e85a0d45c2a9dc59a96c7b8746": {
      "model_module": "@jupyter-widgets/controls",
      "model_module_version": "1.5.0",
      "model_name": "HBoxModel",
      "state": {
       "children": [
        "IPY_MODEL_d8d740d72259427d93e539dbded67944",
        "IPY_MODEL_4fd74ac7214e4a679b28a1ccc42d84c9",
        "IPY_MODEL_0dcea77902414e24af489301df5d1760",
        "IPY_MODEL_a45ed1aa877349aa859f20ceaf78a409"
       ],
       "layout": "IPY_MODEL_1951373a89a24a5e824ba5fb752381ed"
      }
     },
     "c52372ff847543a481f334fb9b64d372": {
      "model_module": "@jupyter-widgets/controls",
      "model_module_version": "1.5.0",
      "model_name": "TextareaModel",
      "state": {
       "description": "String:",
       "layout": "IPY_MODEL_d3da69b966f64764875cc188269df07a",
       "placeholder": "Type something",
       "style": "IPY_MODEL_0e866bbfae4048ec872ad50be1128d33",
       "value": "Hello World"
      }
     },
     "c5cb6face0634caca7b3cddd924583a2": {
      "model_module": "@jupyter-widgets/controls",
      "model_module_version": "1.5.0",
      "model_name": "BoundedIntTextModel",
      "state": {
       "description": "Text:",
       "layout": "IPY_MODEL_2c99a19326424d2885bdec2583a7194e",
       "max": 10,
       "style": "IPY_MODEL_ab812035dfbc4611b1b90eb0005b2dfd",
       "value": 7
      }
     },
     "c5f63d987fcd43d48800789b86f714ba": {
      "model_module": "@jupyter-widgets/base",
      "model_module_version": "1.2.0",
      "model_name": "LayoutModel",
      "state": {}
     },
     "c63559b222bd4f958a6b1953986b7272": {
      "model_module": "@jupyter-widgets/controls",
      "model_module_version": "1.5.0",
      "model_name": "ProgressStyleModel",
      "state": {
       "description_width": ""
      }
     },
     "c69f070487c84f7fbf906da9548b3753": {
      "model_module": "@jupyter-widgets/controls",
      "model_module_version": "1.5.0",
      "model_name": "ValidModel",
      "state": {
       "description": "Valid!",
       "layout": "IPY_MODEL_5cb11d960df8466ab1c59a274605a931",
       "style": "IPY_MODEL_ddd8f750c4ca4eea917edb7c51b67477"
      }
     },
     "c6cfdbe0650e4d6e89e9ec2aabf37373": {
      "model_module": "@jupyter-widgets/base",
      "model_module_version": "1.2.0",
      "model_name": "LayoutModel",
      "state": {}
     },
     "c6d203f497254ebf82a450343ba11b8f": {
      "model_module": "@jupyter-widgets/base",
      "model_module_version": "1.2.0",
      "model_name": "LayoutModel",
      "state": {}
     },
     "c71643e19ef34dcbb89c516b8f6601c8": {
      "model_module": "@jupyter-widgets/base",
      "model_module_version": "1.2.0",
      "model_name": "LayoutModel",
      "state": {}
     },
     "c78d6504e9f9436eb61bbabf60f54d59": {
      "model_module": "@jupyter-widgets/base",
      "model_module_version": "1.2.0",
      "model_name": "LayoutModel",
      "state": {
       "border": "1px solid black"
      }
     },
     "c79a0aa07801449db24ac136e2733822": {
      "model_module": "@jupyter-widgets/controls",
      "model_module_version": "1.5.0",
      "model_name": "DescriptionStyleModel",
      "state": {
       "description_width": ""
      }
     },
     "c7bad09cec0e41af8e28de3e555e8295": {
      "model_module": "@jupyter-widgets/controls",
      "model_module_version": "1.5.0",
      "model_name": "SliderStyleModel",
      "state": {
       "description_width": ""
      }
     },
     "c813e99688c6409eb43c23e642f58294": {
      "model_module": "@jupyter-widgets/base",
      "model_module_version": "1.2.0",
      "model_name": "LayoutModel",
      "state": {}
     },
     "c8203133b371443d999a2bd1bd59f3cb": {
      "model_module": "@jupyter-widgets/base",
      "model_module_version": "1.2.0",
      "model_name": "LayoutModel",
      "state": {}
     },
     "c84b4bc55b3f44efb1683cf00701ee21": {
      "model_module": "@jupyter-widgets/controls",
      "model_module_version": "1.5.0",
      "model_name": "TextModel",
      "state": {
       "description": "P1",
       "layout": "IPY_MODEL_c8e3987b2f88457b868615f1c077dab8",
       "style": "IPY_MODEL_221d8d4f40f440a786d28befeea11883"
      }
     },
     "c8a676a1c86f48cfa0185e7ebeb802d1": {
      "model_module": "@jupyter-widgets/base",
      "model_module_version": "1.2.0",
      "model_name": "LayoutModel",
      "state": {}
     },
     "c8bb322d5f7846b9bf52a31ee865a421": {
      "model_module": "@jupyter-widgets/base",
      "model_module_version": "1.2.0",
      "model_name": "LayoutModel",
      "state": {}
     },
     "c8e3987b2f88457b868615f1c077dab8": {
      "model_module": "@jupyter-widgets/base",
      "model_module_version": "1.2.0",
      "model_name": "LayoutModel",
      "state": {}
     },
     "c8f3bb622c334fa78a71e3abcf30e58c": {
      "model_module": "@jupyter-widgets/base",
      "model_module_version": "1.2.0",
      "model_name": "LayoutModel",
      "state": {}
     },
     "c9376561b48d430ab1afc221bdb532a9": {
      "model_module": "@jupyter-widgets/base",
      "model_module_version": "1.2.0",
      "model_name": "LayoutModel",
      "state": {}
     },
     "c98491343fd34bc99c178616dc17db16": {
      "model_module": "@jupyter-widgets/base",
      "model_module_version": "1.2.0",
      "model_name": "LayoutModel",
      "state": {}
     },
     "caf008d5b005490cad77aaba7b7ee9b4": {
      "model_module": "@jupyter-widgets/base",
      "model_module_version": "1.2.0",
      "model_name": "LayoutModel",
      "state": {}
     },
     "cb58ff0e28074bd8b342cf4904fb9d65": {
      "model_module": "@jupyter-widgets/base",
      "model_module_version": "1.2.0",
      "model_name": "LayoutModel",
      "state": {}
     },
     "cb814b34ce3c4368a00af39861539563": {
      "model_module": "@jupyter-widgets/base",
      "model_module_version": "1.2.0",
      "model_name": "LayoutModel",
      "state": {}
     },
     "cb8da21ed6784ef7b5c33093380ea7fe": {
      "model_module": "@jupyter-widgets/controls",
      "model_module_version": "1.5.0",
      "model_name": "HTMLMathModel",
      "state": {
       "description": "Some HTML",
       "layout": "IPY_MODEL_1029ecf75af0492eb32adf6ea4079d7d",
       "placeholder": "Some HTML",
       "style": "IPY_MODEL_ad05adff0dae484eaf259ac13285a983",
       "value": "Some math and <i>HTML</i>: \\(x^2\\) and $$\\frac{x+1}{x-1}$$"
      }
     },
     "cbfad2d188f24b55afe5c768854265ea": {
      "model_module": "@jupyter-widgets/controls",
      "model_module_version": "1.5.0",
      "model_name": "DescriptionStyleModel",
      "state": {
       "description_width": ""
      }
     },
     "cc3a75ebb1ce486581c30e709e5108ce": {
      "model_module": "@jupyter-widgets/controls",
      "model_module_version": "1.5.0",
      "model_name": "HBoxModel",
      "state": {
       "children": [
        "IPY_MODEL_9072253300a14180b6d8ab6bbb1d3bc3",
        "IPY_MODEL_e7bfc33b2ad2440b8dbe7da1cb73825b"
       ],
       "layout": "IPY_MODEL_af72b5157d014121abb28eefd8ad4083"
      }
     },
     "ccad03cf42ec463cb3aae538cd3e8b35": {
      "model_module": "@jupyter-widgets/base",
      "model_module_version": "1.2.0",
      "model_name": "LayoutModel",
      "state": {}
     },
     "ccb51838a4724b8f9a1439b3f7ce73f7": {
      "model_module": "@jupyter-widgets/controls",
      "model_module_version": "1.5.0",
      "model_name": "LabelModel",
      "state": {
       "layout": "IPY_MODEL_12d8b6a73ff74073996a4be3dfd1ad24",
       "style": "IPY_MODEL_26c0dadc47e249a193a6b861265ac170",
       "value": "3"
      }
     },
     "ccc3378e5e6a47959be2dcf9ddb9b690": {
      "model_module": "@jupyter-widgets/controls",
      "model_module_version": "1.5.0",
      "model_name": "TextModel",
      "state": {
       "description": "P1",
       "layout": "IPY_MODEL_f6f2f1f8fb3f453fb3dccdacd950e89f",
       "style": "IPY_MODEL_6814e2376fe84f9cbf0e723b4fbe94d2"
      }
     },
     "ccc3960ad8084d96bcd664419bb7d490": {
      "model_module": "@jupyter-widgets/controls",
      "model_module_version": "1.5.0",
      "model_name": "DescriptionStyleModel",
      "state": {
       "description_width": ""
      }
     },
     "ccd586b764464c32ae79741babdc705c": {
      "model_module": "@jupyter-widgets/controls",
      "model_module_version": "1.5.0",
      "model_name": "FloatLogSliderModel",
      "state": {
       "description": "Log Slider",
       "layout": "IPY_MODEL_0935b6d2628e414d9abc9b646521c759",
       "max": 10,
       "min": -10,
       "step": 0.2,
       "style": "IPY_MODEL_4c2f3943bf2745ea9a8f64b04f7163c7",
       "value": 10
      }
     },
     "cd297dedbfe7487c8b4b7098b1c355ba": {
      "model_module": "@jupyter-widgets/base",
      "model_module_version": "1.2.0",
      "model_name": "LayoutModel",
      "state": {}
     },
     "cd65389ec25e459aa0a9502c6fe470d4": {
      "model_module": "@jupyter-widgets/base",
      "model_module_version": "1.2.0",
      "model_name": "LayoutModel",
      "state": {}
     },
     "cd7caa30b72e4a10a6eeac02ad548a2a": {
      "model_module": "@jupyter-widgets/controls",
      "model_module_version": "1.5.0",
      "model_name": "TextModel",
      "state": {
       "description": "P2",
       "layout": "IPY_MODEL_3e512e614afc49b6a49e9aacd4c116b7",
       "style": "IPY_MODEL_5245d281cbde4325b18946c18bd5b3b2"
      }
     },
     "cdcd0ed79e7e44bcbac518bd7d6caeeb": {
      "model_module": "@jupyter-widgets/base",
      "model_module_version": "1.2.0",
      "model_name": "LayoutModel",
      "state": {}
     },
     "ce235d300aa84b86b47b477604aaaf46": {
      "model_module": "@jupyter-widgets/controls",
      "model_module_version": "1.5.0",
      "model_name": "SelectModel",
      "state": {
       "_options_labels": [
        "Linux",
        "Windows",
        "OSX"
       ],
       "description": "OS:",
       "index": 2,
       "layout": "IPY_MODEL_3f1792e0781640bbbdac2ad5c2bf9d39",
       "style": "IPY_MODEL_fcff632160864ff6be80a9c07619d716"
      }
     },
     "ce787a50f549463b948e0952a458eb45": {
      "model_module": "@jupyter-widgets/controls",
      "model_module_version": "1.5.0",
      "model_name": "DescriptionStyleModel",
      "state": {
       "description_width": ""
      }
     },
     "cea2f01371f84d4e9e7262b9cb56a46f": {
      "model_module": "@jupyter-widgets/controls",
      "model_module_version": "1.5.0",
      "model_name": "DescriptionStyleModel",
      "state": {
       "description_width": ""
      }
     },
     "cfc06d0134d74df9bca64a0d1c1d317a": {
      "model_module": "@jupyter-widgets/controls",
      "model_module_version": "1.5.0",
      "model_name": "TextModel",
      "state": {
       "description": "P4",
       "layout": "IPY_MODEL_07d7cb73bb7b4d0dba486c656c91ec78",
       "style": "IPY_MODEL_d8ef0dfa51964f469efa9589a7ba7526"
      }
     },
     "cfd40f47ceba45bfbe401a607e61cc50": {
      "model_module": "@jupyter-widgets/controls",
      "model_module_version": "1.5.0",
      "model_name": "VBoxModel",
      "state": {
       "children": [
        "IPY_MODEL_eef6937dbf1a4df09387df3d11db24a9",
        "IPY_MODEL_3616d287067a4d258bf835a025444743"
       ],
       "layout": "IPY_MODEL_9a4808520eaf455b9e7a633144941b16"
      }
     },
     "cff420500dd4469cbefe5d69091f1dbf": {
      "model_module": "@jupyter-widgets/controls",
      "model_module_version": "1.5.0",
      "model_name": "DescriptionStyleModel",
      "state": {
       "description_width": ""
      }
     },
     "d0100f40516c4d6c8366260d645823db": {
      "model_module": "@jupyter-widgets/controls",
      "model_module_version": "1.5.0",
      "model_name": "RadioButtonsModel",
      "state": {
       "_options_labels": [
        "pepperoni",
        "pineapple",
        "anchovies"
       ],
       "description": "Pizza topping:",
       "index": 1,
       "layout": "IPY_MODEL_4dff13ed8b274735862d6ffe379b2b5a",
       "style": "IPY_MODEL_07c24ec0e99b453ba242d6d02885bdac"
      }
     },
     "d01a3f3a326a4a238a5a90cd6de0b09f": {
      "model_module": "@jupyter-widgets/controls",
      "model_module_version": "1.5.0",
      "model_name": "IntSliderModel",
      "state": {
       "continuous_update": false,
       "description": "Test:",
       "layout": "IPY_MODEL_9a9cd162abb9495886a01ab0a8000344",
       "max": 10,
       "style": "IPY_MODEL_2f60677e8bc748598feca1027aebc0a5",
       "value": 7
      }
     },
     "d05d2625b2ff47cc91852fbfc22f2390": {
      "model_module": "@jupyter-widgets/output",
      "model_module_version": "1.0.0",
      "model_name": "OutputModel",
      "state": {
       "layout": "IPY_MODEL_11ab11b3b6114a06a39377b182b9569a"
      }
     },
     "d0d870cf346f4ad88a5cea1205e7cef4": {
      "model_module": "@jupyter-widgets/base",
      "model_module_version": "1.2.0",
      "model_name": "LayoutModel",
      "state": {}
     },
     "d0fdf67ff9994f1897c3c4736460e77b": {
      "model_module": "@jupyter-widgets/base",
      "model_module_version": "1.2.0",
      "model_name": "LayoutModel",
      "state": {}
     },
     "d197c63fffbf47b08910b37ad888661b": {
      "model_module": "@jupyter-widgets/base",
      "model_module_version": "1.2.0",
      "model_name": "LayoutModel",
      "state": {}
     },
     "d1e436beb7e148de9a0a6c32a5bf4550": {
      "model_module": "@jupyter-widgets/controls",
      "model_module_version": "1.5.0",
      "model_name": "DescriptionStyleModel",
      "state": {
       "description_width": ""
      }
     },
     "d1f2646cfe8b4fcba546473e0ebd1860": {
      "model_module": "@jupyter-widgets/controls",
      "model_module_version": "1.5.0",
      "model_name": "SliderStyleModel",
      "state": {
       "description_width": ""
      }
     },
     "d21026a277534e80bf974166019d57cb": {
      "model_module": "@jupyter-widgets/controls",
      "model_module_version": "1.5.0",
      "model_name": "TextModel",
      "state": {
       "description": "P4",
       "layout": "IPY_MODEL_06ec53bea2a146208eea8054a4d847c3",
       "style": "IPY_MODEL_98e094fd31374fbe868bcc9b3c77983f"
      }
     },
     "d2a3bcee611445c395d5c17aceec501e": {
      "model_module": "@jupyter-widgets/base",
      "model_module_version": "1.2.0",
      "model_name": "LayoutModel",
      "state": {}
     },
     "d2be845e14174a16bbbf4958e9bd7dcf": {
      "model_module": "@jupyter-widgets/base",
      "model_module_version": "1.2.0",
      "model_name": "LayoutModel",
      "state": {}
     },
     "d2ee933aa3904cee95abffc690c21c8a": {
      "model_module": "@jupyter-widgets/controls",
      "model_module_version": "1.5.0",
      "model_name": "FloatProgressModel",
      "state": {
       "bar_style": "info",
       "description": "Loading:",
       "layout": "IPY_MODEL_ee25295fcadf420faac4281c24a44e53",
       "max": 10,
       "style": "IPY_MODEL_e9de147b0b1244ec89f2fb4b8ec216e6",
       "value": 7.5
      }
     },
     "d31b630495274951b9ed39114ceaeaa2": {
      "model_module": "@jupyter-widgets/base",
      "model_module_version": "1.2.0",
      "model_name": "LayoutModel",
      "state": {}
     },
     "d3570ee067354e9c898085a17b543c1d": {
      "model_module": "@jupyter-widgets/base",
      "model_module_version": "1.2.0",
      "model_name": "LayoutModel",
      "state": {}
     },
     "d3719ec0c0084002a0bb745e47aeb4be": {
      "model_module": "@jupyter-widgets/controls",
      "model_module_version": "1.5.0",
      "model_name": "HBoxModel",
      "state": {
       "children": [
        "IPY_MODEL_8c3be5b6b5ec4a918bd8b674bfef501b",
        "IPY_MODEL_6d0c780b23824050b64fe044de32d948"
       ],
       "layout": "IPY_MODEL_11d589e75af34b6081b584ab43cc94f6"
      }
     },
     "d3828b4e55ab48208067cf2fb87e9e19": {
      "model_module": "@jupyter-widgets/controls",
      "model_module_version": "1.5.0",
      "model_name": "DescriptionStyleModel",
      "state": {
       "description_width": ""
      }
     },
     "d39bc02a71384aceb81e8c53b1acbe07": {
      "model_module": "@jupyter-widgets/base",
      "model_module_version": "1.2.0",
      "model_name": "LayoutModel",
      "state": {}
     },
     "d39dd364dbb948f3bbb5fa57f6cba68c": {
      "model_module": "@jupyter-widgets/controls",
      "model_module_version": "1.5.0",
      "model_name": "DescriptionStyleModel",
      "state": {
       "description_width": ""
      }
     },
     "d3ab4ab7305d423788a6675412611854": {
      "model_module": "@jupyter-widgets/base",
      "model_module_version": "1.2.0",
      "model_name": "LayoutModel",
      "state": {}
     },
     "d3da69b966f64764875cc188269df07a": {
      "model_module": "@jupyter-widgets/base",
      "model_module_version": "1.2.0",
      "model_name": "LayoutModel",
      "state": {}
     },
     "d3dd5db7bfa04c6ba02943b9e1984ef5": {
      "model_module": "@jupyter-widgets/controls",
      "model_module_version": "1.5.0",
      "model_name": "SliderStyleModel",
      "state": {
       "description_width": ""
      }
     },
     "d3f431507535407384fd3a76c497f360": {
      "model_module": "@jupyter-widgets/controls",
      "model_module_version": "1.5.0",
      "model_name": "DescriptionStyleModel",
      "state": {
       "description_width": ""
      }
     },
     "d4026bf70a7f4430bd0164c6a12801ee": {
      "model_module": "@jupyter-widgets/controls",
      "model_module_version": "1.5.0",
      "model_name": "DescriptionStyleModel",
      "state": {
       "description_width": ""
      }
     },
     "d438112d1e394288a17c01df0e45af40": {
      "model_module": "@jupyter-widgets/controls",
      "model_module_version": "1.5.0",
      "model_name": "DescriptionStyleModel",
      "state": {
       "description_width": ""
      }
     },
     "d44dd635f93f4b5a862e9a03b8f99536": {
      "model_module": "@jupyter-widgets/controls",
      "model_module_version": "1.5.0",
      "model_name": "DescriptionStyleModel",
      "state": {
       "description_width": ""
      }
     },
     "d451d3ad4abb49409a681c71a30c76c7": {
      "model_module": "@jupyter-widgets/controls",
      "model_module_version": "1.5.0",
      "model_name": "SliderStyleModel",
      "state": {
       "description_width": ""
      }
     },
     "d48ef2e24b4345c396f5ecbbcf8cd71b": {
      "model_module": "@jupyter-widgets/controls",
      "model_module_version": "1.5.0",
      "model_name": "ToggleButtonsModel",
      "state": {
       "_options_labels": [
        "Slow",
        "Regular",
        "Fast"
       ],
       "button_style": "",
       "description": "Speed:",
       "icons": [],
       "index": 0,
       "layout": "IPY_MODEL_2efd56f50f484a109ff8103273f332d2",
       "style": "IPY_MODEL_4b174d2cdde8412a8590caea938b8b78",
       "tooltips": [
        "Description of slow",
        "Description of regular",
        "Description of fast"
       ]
      }
     },
     "d4fa641a2e8844b89516e612aedc6131": {
      "model_module": "@jupyter-widgets/controls",
      "model_module_version": "1.5.0",
      "model_name": "SelectMultipleModel",
      "state": {
       "_options_labels": [
        "Apples",
        "Oranges",
        "Pears"
       ],
       "description": "Fruits",
       "index": [
        1
       ],
       "layout": "IPY_MODEL_7493efddf4e5455daac182936322d836",
       "rows": 3,
       "style": "IPY_MODEL_aca277424a7d43b0bcbe16bd5b29de5d"
      }
     },
     "d57144f7a98c4e54b174920ab2c45ed9": {
      "model_module": "@jupyter-widgets/controls",
      "model_module_version": "1.5.0",
      "model_name": "DescriptionStyleModel",
      "state": {
       "description_width": ""
      }
     },
     "d679eb96a9e849278fa433e22eb98994": {
      "model_module": "@jupyter-widgets/base",
      "model_module_version": "1.2.0",
      "model_name": "LayoutModel",
      "state": {}
     },
     "d6ab36cf11db44de92ff35d121413b9e": {
      "model_module": "@jupyter-widgets/base",
      "model_module_version": "1.2.0",
      "model_name": "LayoutModel",
      "state": {}
     },
     "d6c9bccb21384e8493671f83508914ce": {
      "model_module": "@jupyter-widgets/base",
      "model_module_version": "1.2.0",
      "model_name": "LayoutModel",
      "state": {}
     },
     "d754bc528e3f4cff95ed216edcada03b": {
      "model_module": "@jupyter-widgets/base",
      "model_module_version": "1.2.0",
      "model_name": "LayoutModel",
      "state": {}
     },
     "d75860cf6d074b81af891fabc094076d": {
      "model_module": "@jupyter-widgets/controls",
      "model_module_version": "1.5.0",
      "model_name": "SliderStyleModel",
      "state": {
       "description_width": ""
      }
     },
     "d758f35a624f465c9485ae9b9c8d3268": {
      "model_module": "@jupyter-widgets/controls",
      "model_module_version": "1.5.0",
      "model_name": "HTMLModel",
      "state": {
       "description": "Some HTML",
       "layout": "IPY_MODEL_511ba8c8795d4ec18afaaf819fb4603e",
       "placeholder": "Some HTML",
       "style": "IPY_MODEL_4359836e31b94b7cb920ddb637a7e3e1",
       "value": "Hello <b>World</b>"
      }
     },
     "d7af359c655e4d0b82b28ae65002eb0f": {
      "model_module": "@jupyter-widgets/controls",
      "model_module_version": "1.5.0",
      "model_name": "TabModel",
      "state": {
       "_titles": {
        "0": "0",
        "1": "1",
        "2": "2",
        "3": "3",
        "4": "4"
       },
       "children": [
        "IPY_MODEL_91c7896b444f4abca4b6cc77fda99e79",
        "IPY_MODEL_82161093b32440c1aaa35dafad2c7ea6",
        "IPY_MODEL_dd8af7ba972d4a00b2f8d0be08556a25",
        "IPY_MODEL_40628c4962ac49b6a3df9ede10028e4b",
        "IPY_MODEL_fad845bf244646b0a5e60363256778ca"
       ],
       "layout": "IPY_MODEL_46eea56ffabe4d7bb26edb170568a2bc",
       "selected_index": 3
      }
     },
     "d7f0dd9a380447c2b2f382ea7cd39e3a": {
      "model_module": "@jupyter-widgets/base",
      "model_module_version": "1.2.0",
      "model_name": "LayoutModel",
      "state": {}
     },
     "d81bc3b295284e709632ad1a3e97276e": {
      "model_module": "@jupyter-widgets/controls",
      "model_module_version": "1.5.0",
      "model_name": "VBoxModel",
      "state": {
       "children": [
        "IPY_MODEL_9e9405eb291a4d10b5d3a9e0f01e1264",
        "IPY_MODEL_3079e008f6b944c7b3956d5b8baae579"
       ],
       "layout": "IPY_MODEL_062a0aa3764f4d8f991d27977265718a"
      }
     },
     "d858abb73b2a447593e149de21b63792": {
      "model_module": "@jupyter-widgets/controls",
      "model_module_version": "1.5.0",
      "model_name": "LabelModel",
      "state": {
       "layout": "IPY_MODEL_7686eaa2c0c94c1eb42abaf0fbe4aee4",
       "style": "IPY_MODEL_73fc270deb4b442daec7ff70c09de824",
       "value": "0"
      }
     },
     "d869fe3945b548db95fbf9b99b27b2bf": {
      "model_module": "@jupyter-widgets/base",
      "model_module_version": "1.2.0",
      "model_name": "LayoutModel",
      "state": {}
     },
     "d890c8807c47408f865eb092e260c1c2": {
      "model_module": "@jupyter-widgets/controls",
      "model_module_version": "1.5.0",
      "model_name": "SelectModel",
      "state": {
       "_options_labels": [
        "Linux",
        "Windows",
        "OSX"
       ],
       "description": "OS:",
       "index": 2,
       "layout": "IPY_MODEL_d7f0dd9a380447c2b2f382ea7cd39e3a",
       "rows": 3,
       "style": "IPY_MODEL_9e517ce87aa444cdad48cafd1e89391b"
      }
     },
     "d89cfa2b38af468b9b6fc9a7a6a9b8cd": {
      "model_module": "@jupyter-widgets/controls",
      "model_module_version": "1.5.0",
      "model_name": "HTMLMathModel",
      "state": {
       "description": "Some HTML",
       "layout": "IPY_MODEL_92194add14b04e13873e15f723ca35cd",
       "placeholder": "Some HTML",
       "style": "IPY_MODEL_97242c4685a741fcbb1ba2b5decfa8f7",
       "value": "Some math and <i>HTML</i>: \\(x^2\\) and $$\\frac{x+1}{x-1}$$"
      }
     },
     "d8d740d72259427d93e539dbded67944": {
      "model_module": "@jupyter-widgets/controls",
      "model_module_version": "1.5.0",
      "model_name": "LabelModel",
      "state": {
       "layout": "IPY_MODEL_447606e896884490906672681ce91706",
       "style": "IPY_MODEL_14c538f1536e4af594678fcbed91d3e2",
       "value": "0"
      }
     },
     "d8eb198c4ae84a058e147353f54aa37b": {
      "model_module": "@jupyter-widgets/controls",
      "model_module_version": "1.5.0",
      "model_name": "LabelModel",
      "state": {
       "layout": "IPY_MODEL_faf5917ac55d4d35a0e393f3d566fe34",
       "style": "IPY_MODEL_e140eb9232fe49df87d2a46f1048a84d",
       "value": "2"
      }
     },
     "d8ef0dfa51964f469efa9589a7ba7526": {
      "model_module": "@jupyter-widgets/controls",
      "model_module_version": "1.5.0",
      "model_name": "DescriptionStyleModel",
      "state": {
       "description_width": ""
      }
     },
     "d91e8d3bb7984f529a8a57e08c0884b9": {
      "model_module": "@jupyter-widgets/controls",
      "model_module_version": "1.5.0",
      "model_name": "DescriptionStyleModel",
      "state": {
       "description_width": ""
      }
     },
     "d94cdaa75e584dda9b6643b3e8400524": {
      "model_module": "@jupyter-widgets/controls",
      "model_module_version": "1.5.0",
      "model_name": "IntSliderModel",
      "state": {
       "layout": "IPY_MODEL_71eee4b663804997bdd06748670cde64",
       "style": "IPY_MODEL_fa254bd754c1451e85e2f1508f8ea9f6"
      }
     },
     "d96e41b68c89477b83db8d61992a26f2": {
      "model_module": "@jupyter-widgets/base",
      "model_module_version": "1.2.0",
      "model_name": "LayoutModel",
      "state": {}
     },
     "d96f9fe8f40e493490d77d79b926c2ae": {
      "model_module": "@jupyter-widgets/base",
      "model_module_version": "1.2.0",
      "model_name": "LayoutModel",
      "state": {}
     },
     "d986fc1582f64e95bfa67fff0b4d428d": {
      "model_module": "@jupyter-widgets/base",
      "model_module_version": "1.2.0",
      "model_name": "LayoutModel",
      "state": {}
     },
     "d996cc1a56ec4aaf89c4aa3c60e69748": {
      "model_module": "@jupyter-widgets/controls",
      "model_module_version": "1.5.0",
      "model_name": "DescriptionStyleModel",
      "state": {
       "description_width": ""
      }
     },
     "d9a462135a464dc987e94c49b9bdeb8c": {
      "model_module": "@jupyter-widgets/controls",
      "model_module_version": "1.5.0",
      "model_name": "LabelModel",
      "state": {
       "layout": "IPY_MODEL_ba06ab23102945dda182bf8190b6ac00",
       "style": "IPY_MODEL_ecb2e6dc77144c63a19bce249cd75730",
       "value": "2"
      }
     },
     "d9ea1dd6dbf64e6b84361391642ca2f2": {
      "model_module": "@jupyter-widgets/controls",
      "model_module_version": "1.5.0",
      "model_name": "HBoxModel",
      "state": {
       "children": [
        "IPY_MODEL_41532ee89d374d2886e665a441496efa",
        "IPY_MODEL_8b78c09a0a4f4a7aa9b8238cb5f13a50",
        "IPY_MODEL_44acfc1dfb404758a08ff1681c91e741",
        "IPY_MODEL_23dd4f2e7f084f668c00d2c4407811e0"
       ],
       "layout": "IPY_MODEL_9082e1d2ea864c5fb754e6234b9a7e41"
      }
     },
     "da4bdd0cdb8b4107a1635e461d8caec6": {
      "model_module": "@jupyter-widgets/controls",
      "model_module_version": "1.5.0",
      "model_name": "SliderStyleModel",
      "state": {
       "description_width": ""
      }
     },
     "da6ed31102f8462fa6818c589ef1990c": {
      "model_module": "@jupyter-widgets/base",
      "model_module_version": "1.2.0",
      "model_name": "LayoutModel",
      "state": {}
     },
     "dabe5a239200445092a7d1cf63f37b1f": {
      "model_module": "@jupyter-widgets/controls",
      "model_module_version": "1.5.0",
      "model_name": "LabelModel",
      "state": {
       "layout": "IPY_MODEL_cd65389ec25e459aa0a9502c6fe470d4",
       "style": "IPY_MODEL_ea2ae79e4443403aa8e0395c9fd77448",
       "value": "2"
      }
     },
     "db737c5e91f14dc88af54dccb0c49ff2": {
      "model_module": "@jupyter-widgets/controls",
      "model_module_version": "1.5.0",
      "model_name": "HBoxModel",
      "state": {
       "children": [
        "IPY_MODEL_12671d7db2d34c76b36d0c75bf3fe48f",
        "IPY_MODEL_01209ec3fcb64f39beb9a2fc63d37d7d"
       ],
       "layout": "IPY_MODEL_e0349491df994fa7903f66128ab71a64"
      }
     },
     "dbc4bceee3524adba9542a72fd9c016b": {
      "model_module": "@jupyter-widgets/controls",
      "model_module_version": "1.5.0",
      "model_name": "BoxModel",
      "state": {
       "children": [
        "IPY_MODEL_686be2062dee4eb99d49e5e2fcb60657",
        "IPY_MODEL_b95546cb841d4a659422474f8e929a56",
        "IPY_MODEL_0480c24d9f144075aeb1b7edfb97ea7f",
        "IPY_MODEL_10aca0d670d3431289b902db8612f9e8"
       ],
       "layout": "IPY_MODEL_40b40b1c8071424997f7d03761f873be"
      }
     },
     "dc265eff554f4d428f981135b4a437fd": {
      "model_module": "@jupyter-widgets/controls",
      "model_module_version": "1.5.0",
      "model_name": "SelectMultipleModel",
      "state": {
       "_options_labels": [
        "Apples",
        "Oranges",
        "Pears"
       ],
       "description": "Fruits",
       "index": [
        1
       ],
       "layout": "IPY_MODEL_1ecae4d61e7d4cf486f721fce70c2586",
       "rows": 5,
       "style": "IPY_MODEL_3dcb35c0745c499ab764ad6c083f9c2e"
      }
     },
     "dc2e6ed23d4943219ea90458025bfbdc": {
      "model_module": "@jupyter-widgets/base",
      "model_module_version": "1.2.0",
      "model_name": "LayoutModel",
      "state": {}
     },
     "dcefb51532d7460eb484f4924eedf70f": {
      "model_module": "@jupyter-widgets/controls",
      "model_module_version": "1.5.0",
      "model_name": "DescriptionStyleModel",
      "state": {
       "description_width": ""
      }
     },
     "dd264046a37849b685c9dbe64ab61057": {
      "model_module": "@jupyter-widgets/controls",
      "model_module_version": "1.5.0",
      "model_name": "RadioButtonsModel",
      "state": {
       "_options_labels": [
        "pepperoni",
        "pineapple",
        "anchovies"
       ],
       "description": "Pizza topping:",
       "index": 0,
       "layout": "IPY_MODEL_24cfeb63c11f4842af69dee09122f96e",
       "style": "IPY_MODEL_7df4e43cd7f849fc97a358ceeb87b6ae"
      }
     },
     "dd8af7ba972d4a00b2f8d0be08556a25": {
      "model_module": "@jupyter-widgets/controls",
      "model_module_version": "1.5.0",
      "model_name": "TextModel",
      "state": {
       "description": "P2",
       "layout": "IPY_MODEL_d197c63fffbf47b08910b37ad888661b",
       "style": "IPY_MODEL_c79a0aa07801449db24ac136e2733822"
      }
     },
     "dda38b9448314d0fb844bdad5e16db90": {
      "model_module": "@jupyter-widgets/controls",
      "model_module_version": "1.5.0",
      "model_name": "SliderStyleModel",
      "state": {
       "description_width": ""
      }
     },
     "ddc024ce613445029a899fa65974ee3d": {
      "model_module": "@jupyter-widgets/base",
      "model_module_version": "1.2.0",
      "model_name": "LayoutModel",
      "state": {}
     },
     "ddcf08fb0b2a435895b118ce3f661ca5": {
      "model_module": "@jupyter-widgets/controls",
      "model_module_version": "1.5.0",
      "model_name": "DescriptionStyleModel",
      "state": {
       "description_width": ""
      }
     },
     "ddd8f750c4ca4eea917edb7c51b67477": {
      "model_module": "@jupyter-widgets/controls",
      "model_module_version": "1.5.0",
      "model_name": "DescriptionStyleModel",
      "state": {
       "description_width": ""
      }
     },
     "de2a5ba2133341a4a91e36f2b28bfc85": {
      "model_module": "@jupyter-widgets/controls",
      "model_module_version": "1.5.0",
      "model_name": "ColorPickerModel",
      "state": {
       "description": "Pick a color",
       "disabled": false,
       "layout": "IPY_MODEL_9c4e42272c1e422996565ef3851fa49c",
       "style": "IPY_MODEL_ed86321bee3b452cae62d6df98d0e177",
       "value": "blue"
      }
     },
     "de47aa88ae3b4710960cef6500b11781": {
      "model_module": "@jupyter-widgets/base",
      "model_module_version": "1.2.0",
      "model_name": "LayoutModel",
      "state": {}
     },
     "de911c619d924589b8f5b8596b8671ba": {
      "model_module": "@jupyter-widgets/base",
      "model_module_version": "1.2.0",
      "model_name": "LayoutModel",
      "state": {}
     },
     "dea9eacb25034aa5a395a75bc9e0aa4a": {
      "model_module": "@jupyter-widgets/controls",
      "model_module_version": "1.5.0",
      "model_name": "FloatTextModel",
      "state": {
       "description": "Any:",
       "layout": "IPY_MODEL_1f4e9f67a9b347e38ed0aabfc7e76264",
       "step": null,
       "style": "IPY_MODEL_531293981f1644b8826d90c8693c04b3",
       "value": 7.5
      }
     },
     "deee1a95874c4dd4af51ca82a14613dd": {
      "model_module": "@jupyter-widgets/base",
      "model_module_version": "1.2.0",
      "model_name": "LayoutModel",
      "state": {}
     },
     "dfefefe32f2c4c13a94b14768b79adaa": {
      "model_module": "@jupyter-widgets/base",
      "model_module_version": "1.2.0",
      "model_name": "LayoutModel",
      "state": {}
     },
     "e0349491df994fa7903f66128ab71a64": {
      "model_module": "@jupyter-widgets/base",
      "model_module_version": "1.2.0",
      "model_name": "LayoutModel",
      "state": {}
     },
     "e04f05d7cfe446cba76b0160869aa555": {
      "model_module": "@jupyter-widgets/controls",
      "model_module_version": "1.5.0",
      "model_name": "ProgressStyleModel",
      "state": {
       "description_width": ""
      }
     },
     "e0646b84f4464212ba13996ad1f8134e": {
      "model_module": "@jupyter-widgets/controls",
      "model_module_version": "1.5.0",
      "model_name": "SelectMultipleModel",
      "state": {
       "_options_labels": [
        "Apples",
        "Oranges",
        "Pears"
       ],
       "description": "Fruits",
       "index": [
        1
       ],
       "layout": "IPY_MODEL_50ca8a5bb1aa4ae496d2e94c439fc895",
       "rows": 5,
       "style": "IPY_MODEL_1d4ae2e0a52b46598c2bfcb92a7e9ca6"
      }
     },
     "e069e1c4d84e44b59cf51a1fa364cac7": {
      "model_module": "@jupyter-widgets/base",
      "model_module_version": "1.2.0",
      "model_name": "LayoutModel",
      "state": {}
     },
     "e08531bfdf8742dba369ddff382c4fba": {
      "model_module": "@jupyter-widgets/base",
      "model_module_version": "1.2.0",
      "model_name": "LayoutModel",
      "state": {}
     },
     "e0920b7f581d47feb06f6dfe644fd934": {
      "model_module": "@jupyter-widgets/base",
      "model_module_version": "1.2.0",
      "model_name": "LayoutModel",
      "state": {}
     },
     "e0bd89507f664f128d4c87181af4a05e": {
      "model_module": "@jupyter-widgets/controls",
      "model_module_version": "1.5.0",
      "model_name": "IntSliderModel",
      "state": {
       "layout": "IPY_MODEL_088cc24009094ec28d7238552eda44c8",
       "style": "IPY_MODEL_3915eef972ee46eaad657931fe35fea9"
      }
     },
     "e140dc7d9670437c8e15e1b796ef926e": {
      "model_module": "@jupyter-widgets/base",
      "model_module_version": "1.2.0",
      "model_name": "LayoutModel",
      "state": {}
     },
     "e140eb9232fe49df87d2a46f1048a84d": {
      "model_module": "@jupyter-widgets/controls",
      "model_module_version": "1.5.0",
      "model_name": "DescriptionStyleModel",
      "state": {
       "description_width": ""
      }
     },
     "e18503c349464d4f80043c14aa61d3cd": {
      "model_module": "@jupyter-widgets/base",
      "model_module_version": "1.2.0",
      "model_name": "LayoutModel",
      "state": {}
     },
     "e1c6d630c3a9477a9b798a39753b80e2": {
      "model_module": "@jupyter-widgets/base",
      "model_module_version": "1.2.0",
      "model_name": "LayoutModel",
      "state": {}
     },
     "e1debd1cfbfb48258ecfd3cd32d583c6": {
      "model_module": "@jupyter-widgets/base",
      "model_module_version": "1.2.0",
      "model_name": "LayoutModel",
      "state": {}
     },
     "e21d8da0d529453dace8341e266cbfeb": {
      "model_module": "@jupyter-widgets/controls",
      "model_module_version": "1.5.0",
      "model_name": "DescriptionStyleModel",
      "state": {
       "description_width": ""
      }
     },
     "e22dea29d1df4f2a8e8de7f9893bdd06": {
      "model_module": "@jupyter-widgets/controls",
      "model_module_version": "1.5.0",
      "model_name": "DescriptionStyleModel",
      "state": {
       "description_width": ""
      }
     },
     "e276aa6618be479b89ef2f2933b8b459": {
      "model_module": "@jupyter-widgets/base",
      "model_module_version": "1.2.0",
      "model_name": "LayoutModel",
      "state": {}
     },
     "e32667c68307472f820978495dd9fbf5": {
      "model_module": "@jupyter-widgets/controls",
      "model_module_version": "1.5.0",
      "model_name": "LabelModel",
      "state": {
       "layout": "IPY_MODEL_24c6beb531ad453c8289b92f25bfa8d7",
       "style": "IPY_MODEL_3071b672026f494e88f9fccf97917835",
       "value": "3"
      }
     },
     "e33dad72a9ec485fa6650b3cb8e715ae": {
      "model_module": "@jupyter-widgets/controls",
      "model_module_version": "1.5.0",
      "model_name": "TextModel",
      "state": {
       "layout": "IPY_MODEL_0c5ab31b2c8145e7b7fee5e64ce505fd",
       "style": "IPY_MODEL_0eff6e7dc8ed4ba9bf1e33cccf2f8a9d"
      }
     },
     "e34521f8890a4b3bacb2b5e794da324c": {
      "model_module": "@jupyter-widgets/controls",
      "model_module_version": "1.5.0",
      "model_name": "DescriptionStyleModel",
      "state": {
       "description_width": ""
      }
     },
     "e36d6b68197d4b64a02835afe55019ff": {
      "model_module": "@jupyter-widgets/controls",
      "model_module_version": "1.5.0",
      "model_name": "DescriptionStyleModel",
      "state": {
       "description_width": ""
      }
     },
     "e38c336c5def402498c44adfb4c76b21": {
      "model_module": "@jupyter-widgets/controls",
      "model_module_version": "1.5.0",
      "model_name": "DescriptionStyleModel",
      "state": {
       "description_width": ""
      }
     },
     "e411f6d8190b4718a7646647439e3060": {
      "model_module": "@jupyter-widgets/base",
      "model_module_version": "1.2.0",
      "model_name": "LayoutModel",
      "state": {}
     },
     "e4404715eaca4cd680c58c8d9c697bd7": {
      "model_module": "@jupyter-widgets/controls",
      "model_module_version": "1.5.0",
      "model_name": "BoundedFloatTextModel",
      "state": {
       "description": "Text:",
       "layout": "IPY_MODEL_3c92790c4724476fb7d6d298621b1f35",
       "max": 10,
       "style": "IPY_MODEL_7f9906fdf4544845b6f509b8728bf15a",
       "value": 7.5
      }
     },
     "e4ebc760e6464edf8efc2717774645f9": {
      "model_module": "@jupyter-widgets/base",
      "model_module_version": "1.2.0",
      "model_name": "LayoutModel",
      "state": {}
     },
     "e5a415fe4815448fb226cdd9ca7e767a": {
      "model_module": "@jupyter-widgets/base",
      "model_module_version": "1.2.0",
      "model_name": "LayoutModel",
      "state": {}
     },
     "e5d8aadaa7bc4dc6b805fb88ef48900f": {
      "model_module": "@jupyter-widgets/base",
      "model_module_version": "1.2.0",
      "model_name": "LayoutModel",
      "state": {}
     },
     "e60e2e7b9f604dc8b242e7a96179e78d": {
      "model_module": "@jupyter-widgets/controls",
      "model_module_version": "1.5.0",
      "model_name": "ColorPickerModel",
      "state": {
       "description": "Pick a color",
       "disabled": false,
       "layout": "IPY_MODEL_00b407d924be4b3d8caf84605caf278d",
       "style": "IPY_MODEL_1f9aa012338e409685bafde50909d712",
       "value": "blue"
      }
     },
     "e6403ebe03d142ba83d7bb93f44084ed": {
      "model_module": "@jupyter-widgets/base",
      "model_module_version": "1.2.0",
      "model_name": "LayoutModel",
      "state": {}
     },
     "e659c966136f480595a7bd84cf805597": {
      "model_module": "@jupyter-widgets/controls",
      "model_module_version": "1.5.0",
      "model_name": "TextModel",
      "state": {
       "description": "P2",
       "layout": "IPY_MODEL_0c3924cb17d14690a52ac8f479401e67",
       "style": "IPY_MODEL_1a3c9d6317c14c1998541bb65f66da02"
      }
     },
     "e6ffaccec0124456b16bcddb1d27a7f1": {
      "model_module": "@jupyter-widgets/controls",
      "model_module_version": "1.5.0",
      "model_name": "ColorPickerModel",
      "state": {
       "description": "Pick a color",
       "disabled": false,
       "layout": "IPY_MODEL_d39bc02a71384aceb81e8c53b1acbe07",
       "style": "IPY_MODEL_364e58d0cb534b4d8bad72ee42031c01",
       "value": "blue"
      }
     },
     "e72c16eac0814572a1ed61fa598c1e1f": {
      "model_module": "@jupyter-widgets/controls",
      "model_module_version": "1.5.0",
      "model_name": "TextModel",
      "state": {
       "description": "P0",
       "layout": "IPY_MODEL_ef75aac0736c4349aae0a939a9008db7",
       "style": "IPY_MODEL_29f56f3a254e41faa3ea012cbfa38bcf"
      }
     },
     "e7bfc33b2ad2440b8dbe7da1cb73825b": {
      "model_module": "@jupyter-widgets/controls",
      "model_module_version": "1.5.0",
      "model_name": "IntSliderModel",
      "state": {
       "layout": "IPY_MODEL_510701ca09124da7a0d4e1e7f00698ec",
       "style": "IPY_MODEL_20b72423612049fd9157bc70ce0f4ad8",
       "value": 50
      }
     },
     "e831012e2ece4521a47a19e8a8a8c64e": {
      "model_module": "@jupyter-widgets/controls",
      "model_module_version": "1.5.0",
      "model_name": "SliderStyleModel",
      "state": {
       "description_width": ""
      }
     },
     "e8499f80e745416ab7d5212d3458a9ab": {
      "model_module": "@jupyter-widgets/base",
      "model_module_version": "1.2.0",
      "model_name": "LayoutModel",
      "state": {}
     },
     "e8bb86dbd8b14d0a8cb9c31286348420": {
      "model_module": "@jupyter-widgets/base",
      "model_module_version": "1.2.0",
      "model_name": "LayoutModel",
      "state": {}
     },
     "e9573092a3b148ea9de0b297917c4826": {
      "model_module": "@jupyter-widgets/base",
      "model_module_version": "1.2.0",
      "model_name": "LayoutModel",
      "state": {}
     },
     "e96bc0bee4274dfe8dd57907c56d94b4": {
      "model_module": "@jupyter-widgets/controls",
      "model_module_version": "1.5.0",
      "model_name": "ToggleButtonsStyleModel",
      "state": {
       "button_width": "",
       "description_width": ""
      }
     },
     "e9c1dcae82e948a19b036e0b4046bf60": {
      "model_module": "@jupyter-widgets/controls",
      "model_module_version": "1.5.0",
      "model_name": "DescriptionStyleModel",
      "state": {
       "description_width": ""
      }
     },
     "e9de147b0b1244ec89f2fb4b8ec216e6": {
      "model_module": "@jupyter-widgets/controls",
      "model_module_version": "1.5.0",
      "model_name": "ProgressStyleModel",
      "state": {
       "description_width": ""
      }
     },
     "ea02b15e97b044f085521788a6765e1f": {
      "model_module": "@jupyter-widgets/base",
      "model_module_version": "1.2.0",
      "model_name": "LayoutModel",
      "state": {}
     },
     "ea2823d28d064009b3231a4d787f7a94": {
      "model_module": "@jupyter-widgets/base",
      "model_module_version": "1.2.0",
      "model_name": "LayoutModel",
      "state": {}
     },
     "ea2ae79e4443403aa8e0395c9fd77448": {
      "model_module": "@jupyter-widgets/controls",
      "model_module_version": "1.5.0",
      "model_name": "DescriptionStyleModel",
      "state": {
       "description_width": ""
      }
     },
     "ea6d935be51349ef92416124e8ab17d4": {
      "model_module": "@jupyter-widgets/base",
      "model_module_version": "1.2.0",
      "model_name": "LayoutModel",
      "state": {}
     },
     "eaa57a83d6784654a40598a4eab16a07": {
      "model_module": "@jupyter-widgets/controls",
      "model_module_version": "1.5.0",
      "model_name": "LabelModel",
      "state": {
       "layout": "IPY_MODEL_a306e7b798e4435eae99ece41e943390",
       "style": "IPY_MODEL_8d6ab17122854500a28fb0cf2a7165b7",
       "value": "1"
      }
     },
     "eaad72415ca3496190b1445b2a165799": {
      "model_module": "@jupyter-widgets/base",
      "model_module_version": "1.2.0",
      "model_name": "LayoutModel",
      "state": {}
     },
     "eae20f1775744dc5933c9dffd584b108": {
      "model_module": "@jupyter-widgets/controls",
      "model_module_version": "1.5.0",
      "model_name": "FloatSliderModel",
      "state": {
       "layout": "IPY_MODEL_2357d552f726458c97a48667db8e5cf1",
       "step": 0.1,
       "style": "IPY_MODEL_04b03f832fba462eac4cf92de00e2a22"
      }
     },
     "ebb74ba6323d4aed98534fb2088be622": {
      "model_module": "@jupyter-widgets/base",
      "model_module_version": "1.2.0",
      "model_name": "LayoutModel",
      "state": {}
     },
     "ebca891d27a843d6adc363df31a734c3": {
      "model_module": "@jupyter-widgets/controls",
      "model_module_version": "1.5.0",
      "model_name": "LabelModel",
      "state": {
       "layout": "IPY_MODEL_86fa6d7278dd4358b35f51f1c914cadd",
       "style": "IPY_MODEL_bbb95213bb7640a3b3142c6b0841262b",
       "value": "3"
      }
     },
     "ebd084bdaa084a6cacf63b60fcfbb6ef": {
      "model_module": "@jupyter-widgets/controls",
      "model_module_version": "1.5.0",
      "model_name": "DescriptionStyleModel",
      "state": {
       "description_width": ""
      }
     },
     "ebd66356a4bd41bcb08bbb71c6778c33": {
      "model_module": "@jupyter-widgets/base",
      "model_module_version": "1.2.0",
      "model_name": "LayoutModel",
      "state": {}
     },
     "ec206651e80548bc93697994f0b548af": {
      "model_module": "@jupyter-widgets/controls",
      "model_module_version": "1.5.0",
      "model_name": "ToggleButtonsModel",
      "state": {
       "_options_labels": [
        "Slow",
        "Regular",
        "Fast"
       ],
       "button_style": "",
       "description": "Speed:",
       "icons": [],
       "index": 0,
       "layout": "IPY_MODEL_4453f66c3b164209a82986ff052174fe",
       "style": "IPY_MODEL_3c09dad6ce67432c8d7136bfe04ff939",
       "tooltips": [
        "Description of slow",
        "Description of regular",
        "Description of fast"
       ]
      }
     },
     "ec637881c8c74a948f60876695d34174": {
      "model_module": "@jupyter-widgets/base",
      "model_module_version": "1.2.0",
      "model_name": "LayoutModel",
      "state": {}
     },
     "ecb2e6dc77144c63a19bce249cd75730": {
      "model_module": "@jupyter-widgets/controls",
      "model_module_version": "1.5.0",
      "model_name": "DescriptionStyleModel",
      "state": {
       "description_width": ""
      }
     },
     "ed31f513608844429f48b85fb929e378": {
      "model_module": "@jupyter-widgets/controls",
      "model_module_version": "1.5.0",
      "model_name": "TextModel",
      "state": {
       "description": "String:",
       "layout": "IPY_MODEL_c1e3e4de974b47dda9147d5100f8063c",
       "placeholder": "Type something",
       "style": "IPY_MODEL_e22dea29d1df4f2a8e8de7f9893bdd06",
       "value": "Hello World"
      }
     },
     "ed86321bee3b452cae62d6df98d0e177": {
      "model_module": "@jupyter-widgets/controls",
      "model_module_version": "1.5.0",
      "model_name": "DescriptionStyleModel",
      "state": {
       "description_width": ""
      }
     },
     "ed95ad329b3b4500870deeff91d38b8c": {
      "model_module": "@jupyter-widgets/base",
      "model_module_version": "1.2.0",
      "model_name": "LayoutModel",
      "state": {}
     },
     "edbf5a8c5af347af87008a99eac0e453": {
      "model_module": "@jupyter-widgets/controls",
      "model_module_version": "1.5.0",
      "model_name": "LabelModel",
      "state": {
       "layout": "IPY_MODEL_a6d3b5a535e149dfbeb60da1b77d5005",
       "style": "IPY_MODEL_0d7f1f97be304bc4a1007df572d32071",
       "value": "The $m$ in $E=mc^2$:"
      }
     },
     "ee25295fcadf420faac4281c24a44e53": {
      "model_module": "@jupyter-widgets/base",
      "model_module_version": "1.2.0",
      "model_name": "LayoutModel",
      "state": {}
     },
     "ee4aaf371a7c46eea77eabf0a819ee49": {
      "model_module": "@jupyter-widgets/controls",
      "model_module_version": "1.5.0",
      "model_name": "DescriptionStyleModel",
      "state": {
       "description_width": ""
      }
     },
     "eef627fd7a4b474a8d2fabe3fdb4679b": {
      "model_module": "@jupyter-widgets/base",
      "model_module_version": "1.2.0",
      "model_name": "LayoutModel",
      "state": {}
     },
     "eef6937dbf1a4df09387df3d11db24a9": {
      "model_module": "@jupyter-widgets/controls",
      "model_module_version": "1.5.0",
      "model_name": "LabelModel",
      "state": {
       "layout": "IPY_MODEL_8554f11dd60743a6bee16069f610f619",
       "style": "IPY_MODEL_efa48cb8c3354aac8fc71ebeefb2bc7f",
       "value": "2"
      }
     },
     "ef0fcf15c7f044e3bb3bb069c6cb17ba": {
      "model_module": "@jupyter-widgets/controls",
      "model_module_version": "1.5.0",
      "model_name": "TextareaModel",
      "state": {
       "description": "String:",
       "layout": "IPY_MODEL_3337008968544b4ca543a5cf391d3f07",
       "placeholder": "Type something",
       "style": "IPY_MODEL_3af25f3434c7472499f87d1831e1de19",
       "value": "Hello World"
      }
     },
     "ef75aac0736c4349aae0a939a9008db7": {
      "model_module": "@jupyter-widgets/base",
      "model_module_version": "1.2.0",
      "model_name": "LayoutModel",
      "state": {}
     },
     "efa48cb8c3354aac8fc71ebeefb2bc7f": {
      "model_module": "@jupyter-widgets/controls",
      "model_module_version": "1.5.0",
      "model_name": "DescriptionStyleModel",
      "state": {
       "description_width": ""
      }
     },
     "eff76e4f6d76416184c765f2e32a4553": {
      "model_module": "@jupyter-widgets/base",
      "model_module_version": "1.2.0",
      "model_name": "LayoutModel",
      "state": {}
     },
     "f05daed347984ba896139c63074316e2": {
      "model_module": "@jupyter-widgets/controls",
      "model_module_version": "1.5.0",
      "model_name": "DescriptionStyleModel",
      "state": {
       "description_width": ""
      }
     },
     "f1299d92695a43f2994c1174dd538e38": {
      "model_module": "@jupyter-widgets/controls",
      "model_module_version": "1.5.0",
      "model_name": "IntProgressModel",
      "state": {
       "description": "Loading:",
       "layout": "IPY_MODEL_fb1640b4ada04c0ea17be40d0a540ccb",
       "max": 10,
       "style": "IPY_MODEL_289f62a26fa6437d832509e6e3c90807",
       "value": 7
      }
     },
     "f173d96fa7e54393a6dec3fde3397853": {
      "buffers": [
       {
        "data": "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",
        "encoding": "base64",
        "path": [
         "value"
        ]
       }
      ],
      "model_module": "@jupyter-widgets/controls",
      "model_module_version": "1.5.0",
      "model_name": "ImageModel",
      "state": {
       "format": "gif",
       "height": "128",
       "layout": "IPY_MODEL_770d1a37ea5e4532926fea608ac86752",
       "width": "128"
      }
     },
     "f1aa771c1f044fea8b5b0826e3582b0d": {
      "model_module": "@jupyter-widgets/base",
      "model_module_version": "1.2.0",
      "model_name": "LayoutModel",
      "state": {}
     },
     "f1eda5a6dada4c2b8bd1eb334b99e597": {
      "model_module": "@jupyter-widgets/base",
      "model_module_version": "1.2.0",
      "model_name": "LayoutModel",
      "state": {}
     },
     "f24d75b7749d4190a685465379fc4d1a": {
      "model_module": "@jupyter-widgets/base",
      "model_module_version": "1.2.0",
      "model_name": "LayoutModel",
      "state": {}
     },
     "f26079628fa44a639dd478550759baef": {
      "model_module": "@jupyter-widgets/base",
      "model_module_version": "1.2.0",
      "model_name": "LayoutModel",
      "state": {}
     },
     "f263edb63b4b4fa4a412d9b08d58aada": {
      "model_module": "@jupyter-widgets/base",
      "model_module_version": "1.2.0",
      "model_name": "LayoutModel",
      "state": {}
     },
     "f28733ac89b24d3f8276a4e902bd81d5": {
      "model_module": "@jupyter-widgets/controls",
      "model_module_version": "1.5.0",
      "model_name": "SelectMultipleModel",
      "state": {
       "_options_labels": [
        "Apples",
        "Oranges",
        "Pears"
       ],
       "description": "Fruits",
       "index": [
        1
       ],
       "layout": "IPY_MODEL_329073a8a7f1433390d80f202dbc6245",
       "rows": 5,
       "style": "IPY_MODEL_9712bc1b47224cce8a003b2985a9298e"
      }
     },
     "f2acb17e4d77405aa646fd3dfa1868df": {
      "model_module": "@jupyter-widgets/controls",
      "model_module_version": "1.5.0",
      "model_name": "TextModel",
      "state": {
       "layout": "IPY_MODEL_9a788310fa7e49ae9b11656a60453a5e",
       "style": "IPY_MODEL_92d49fa312b64cd7aea6ce97eb654edc"
      }
     },
     "f2cd886a5c084caca56e54f861a311f2": {
      "model_module": "@jupyter-widgets/controls",
      "model_module_version": "1.5.0",
      "model_name": "CheckboxModel",
      "state": {
       "description": "Check me",
       "disabled": false,
       "layout": "IPY_MODEL_208fca5eb38e46649d6ad1d973aacd44",
       "style": "IPY_MODEL_d3f431507535407384fd3a76c497f360",
       "value": false
      }
     },
     "f31684a9cfdc41b49c8721ec3b500bba": {
      "model_module": "@jupyter-widgets/controls",
      "model_module_version": "1.5.0",
      "model_name": "DescriptionStyleModel",
      "state": {
       "description_width": ""
      }
     },
     "f354bf243c364d029ddb7293d1a93392": {
      "model_module": "@jupyter-widgets/controls",
      "model_module_version": "1.5.0",
      "model_name": "DescriptionStyleModel",
      "state": {
       "description_width": ""
      }
     },
     "f354fc3d19bc4eec8a235bc21bb1a4bf": {
      "model_module": "@jupyter-widgets/controls",
      "model_module_version": "1.5.0",
      "model_name": "HBoxModel",
      "state": {
       "children": [
        "IPY_MODEL_f9357d456f2948218f0b414c5ad8bd5e",
        "IPY_MODEL_4a121039ea5344e0a63b2d8cc2c3cb59"
       ],
       "layout": "IPY_MODEL_0d8e2fa7c09a44779b5297ad4d7c737d"
      }
     },
     "f3d81fb4e178492bad97378f945a8472": {
      "model_module": "@jupyter-widgets/controls",
      "model_module_version": "1.5.0",
      "model_name": "IntRangeSliderModel",
      "state": {
       "_model_name": "IntRangeSliderModel",
       "_view_name": "IntRangeSliderView",
       "continuous_update": false,
       "description": "Test:",
       "layout": "IPY_MODEL_5cd9accf60804812aadcce9ba5a658ab",
       "max": 10,
       "style": "IPY_MODEL_67d1fc6810404e7a8a72d209f4f8d276",
       "value": [
        5,
        7
       ]
      }
     },
     "f40d592c4256429e8c5c1ba4f0df2541": {
      "model_module": "@jupyter-widgets/controls",
      "model_module_version": "1.5.0",
      "model_name": "DescriptionStyleModel",
      "state": {
       "description_width": ""
      }
     },
     "f42ce20ec25646158314aee090e703f5": {
      "model_module": "@jupyter-widgets/output",
      "model_module_version": "1.0.0",
      "model_name": "OutputModel",
      "state": {
       "layout": "IPY_MODEL_3238b200bd6c4d9ebffbb51ee794b972"
      }
     },
     "f4451bf8ff664a3ab595f5f448e4bc9f": {
      "model_module": "@jupyter-widgets/controls",
      "model_module_version": "1.5.0",
      "model_name": "SelectModel",
      "state": {
       "_options_labels": [
        "Linux",
        "Windows",
        "OSX"
       ],
       "description": "OS:",
       "index": 2,
       "layout": "IPY_MODEL_2eeedeffa80a41109023176b86a32b3f",
       "style": "IPY_MODEL_7e631b7decf74bda873e60f6aeed5aba"
      }
     },
     "f44b8a983bfc47309e63784ee1c424a4": {
      "model_module": "@jupyter-widgets/controls",
      "model_module_version": "1.5.0",
      "model_name": "SliderStyleModel",
      "state": {
       "description_width": ""
      }
     },
     "f4578598e7be430d981210742ba1074f": {
      "model_module": "@jupyter-widgets/controls",
      "model_module_version": "1.5.0",
      "model_name": "TextModel",
      "state": {
       "description": "P0",
       "layout": "IPY_MODEL_4fd090d95ee94fdaab5f626304578f7d",
       "style": "IPY_MODEL_e36d6b68197d4b64a02835afe55019ff"
      }
     },
     "f45cb407d27b433e87063971fab58354": {
      "model_module": "@jupyter-widgets/base",
      "model_module_version": "1.2.0",
      "model_name": "LayoutModel",
      "state": {}
     },
     "f45fc933a37c4f4d9d6dfab66b424e7d": {
      "model_module": "@jupyter-widgets/base",
      "model_module_version": "1.2.0",
      "model_name": "LayoutModel",
      "state": {}
     },
     "f4812cd6278d4cf8a7c2f630f3c44714": {
      "model_module": "@jupyter-widgets/base",
      "model_module_version": "1.2.0",
      "model_name": "LayoutModel",
      "state": {}
     },
     "f61c2151a573457a8875eb65ec693c98": {
      "model_module": "@jupyter-widgets/controls",
      "model_module_version": "1.5.0",
      "model_name": "DescriptionStyleModel",
      "state": {
       "description_width": ""
      }
     },
     "f625fcfcce5c4ccc976b5d8b6c0f5410": {
      "model_module": "@jupyter-widgets/controls",
      "model_module_version": "1.5.0",
      "model_name": "DescriptionStyleModel",
      "state": {
       "description_width": ""
      }
     },
     "f69b1ab1c7d645f18e483659e0be8fe4": {
      "model_module": "@jupyter-widgets/controls",
      "model_module_version": "1.5.0",
      "model_name": "DescriptionStyleModel",
      "state": {
       "description_width": ""
      }
     },
     "f6f2174fa5914d47839742802c591848": {
      "model_module": "@jupyter-widgets/controls",
      "model_module_version": "1.5.0",
      "model_name": "HTMLMathModel",
      "state": {
       "description": "Some HTML",
       "layout": "IPY_MODEL_740385346f0a4ecfb4c9d4e7072f46bb",
       "placeholder": "Some HTML",
       "style": "IPY_MODEL_6c93012858b747ee967cdb6878ea6fae",
       "value": "Some math and <i>HTML</i>: \\(x^2\\) and $$\\frac{x+1}{x-1}$$"
      }
     },
     "f6f2f1f8fb3f453fb3dccdacd950e89f": {
      "model_module": "@jupyter-widgets/base",
      "model_module_version": "1.2.0",
      "model_name": "LayoutModel",
      "state": {}
     },
     "f6fcc6e707ba443397539991f6c218c2": {
      "model_module": "@jupyter-widgets/controls",
      "model_module_version": "1.5.0",
      "model_name": "DescriptionStyleModel",
      "state": {
       "description_width": ""
      }
     },
     "f79d1c45e6814896a54645f864e6af5b": {
      "model_module": "@jupyter-widgets/base",
      "model_module_version": "1.2.0",
      "model_name": "LayoutModel",
      "state": {}
     },
     "f85672dbbefc46d2a955c6b2c43c63cb": {
      "model_module": "@jupyter-widgets/controls",
      "model_module_version": "1.5.0",
      "model_name": "FloatRangeSliderModel",
      "state": {
       "_model_name": "FloatRangeSliderModel",
       "_view_name": "FloatRangeSliderView",
       "continuous_update": false,
       "description": "Test:",
       "layout": "IPY_MODEL_22fca1185e9d4dc19165fd05484a5962",
       "max": 10,
       "readout_format": ".1f",
       "step": 0.1,
       "style": "IPY_MODEL_1df77f684e3b4964917dab4cd9cd64a8",
       "value": [
        5,
        7.5
       ]
      }
     },
     "f8c774106bbe498f952f5fc0dc43395a": {
      "model_module": "@jupyter-widgets/controls",
      "model_module_version": "1.5.0",
      "model_name": "DescriptionStyleModel",
      "state": {
       "description_width": ""
      }
     },
     "f9357d456f2948218f0b414c5ad8bd5e": {
      "model_module": "@jupyter-widgets/controls",
      "model_module_version": "1.5.0",
      "model_name": "PlayModel",
      "state": {
       "description": "Press play",
       "interval": 10,
       "layout": "IPY_MODEL_3a2d0f4de868409c988337a852942dc7",
       "style": "IPY_MODEL_3b36b76cbab144b082cdcc51622f2312",
       "value": 5
      }
     },
     "f93e8cb731d44f0e96b2bd1582b64bc6": {
      "model_module": "@jupyter-widgets/base",
      "model_module_version": "1.2.0",
      "model_name": "LayoutModel",
      "state": {}
     },
     "f978176df8fc4940a615b385a99e0bc1": {
      "model_module": "@jupyter-widgets/base",
      "model_module_version": "1.2.0",
      "model_name": "LayoutModel",
      "state": {}
     },
     "f9ca545f09ce4ecc80a7dfcda5ec0f82": {
      "model_module": "@jupyter-widgets/controls",
      "model_module_version": "1.5.0",
      "model_name": "DescriptionStyleModel",
      "state": {
       "description_width": ""
      }
     },
     "f9df0150e2364c7da5bd1daf6a0a2fa9": {
      "model_module": "@jupyter-widgets/base",
      "model_module_version": "1.2.0",
      "model_name": "LayoutModel",
      "state": {}
     },
     "f9ed46374ecf4e8bb1be17f574493988": {
      "model_module": "@jupyter-widgets/controls",
      "model_module_version": "1.5.0",
      "model_name": "HBoxModel",
      "state": {
       "children": [
        "IPY_MODEL_13a0b61c942a45a9aa4d532e624a95f9",
        "IPY_MODEL_96bd392512d6449fba38a96b15fc0584"
       ],
       "layout": "IPY_MODEL_c1234562a24b48b3b689c180808018cf"
      }
     },
     "f9fbb7aa16a34bc481b09909f11b73f4": {
      "model_module": "@jupyter-widgets/output",
      "model_module_version": "1.0.0",
      "model_name": "OutputModel",
      "state": {
       "layout": "IPY_MODEL_6d8556c0367f45e1b802da81285a9783"
      }
     },
     "fa0479dfa5294f8d94d927aa270c07b7": {
      "model_module": "@jupyter-widgets/controls",
      "model_module_version": "1.5.0",
      "model_name": "SliderStyleModel",
      "state": {
       "description_width": ""
      }
     },
     "fa09b1f0f6df4fcdaac3d629c5e93eac": {
      "model_module": "@jupyter-widgets/controls",
      "model_module_version": "1.5.0",
      "model_name": "DescriptionStyleModel",
      "state": {
       "description_width": ""
      }
     },
     "fa254bd754c1451e85e2f1508f8ea9f6": {
      "model_module": "@jupyter-widgets/controls",
      "model_module_version": "1.5.0",
      "model_name": "SliderStyleModel",
      "state": {
       "description_width": ""
      }
     },
     "fa5a3d0cd6514739b4157b3f1763365c": {
      "model_module": "@jupyter-widgets/base",
      "model_module_version": "1.2.0",
      "model_name": "LayoutModel",
      "state": {}
     },
     "fa82753ea3624e99901dffde6056b323": {
      "model_module": "@jupyter-widgets/controls",
      "model_module_version": "1.5.0",
      "model_name": "DescriptionStyleModel",
      "state": {
       "description_width": ""
      }
     },
     "fad845bf244646b0a5e60363256778ca": {
      "model_module": "@jupyter-widgets/controls",
      "model_module_version": "1.5.0",
      "model_name": "TextModel",
      "state": {
       "description": "P4",
       "layout": "IPY_MODEL_29f23c638d624604b0f23f6ad650ce1c",
       "style": "IPY_MODEL_446dd7dcec0d4d88a21aa6d1cabbab67"
      }
     },
     "faf5917ac55d4d35a0e393f3d566fe34": {
      "model_module": "@jupyter-widgets/base",
      "model_module_version": "1.2.0",
      "model_name": "LayoutModel",
      "state": {}
     },
     "fafd4bcc02ea4eb9b6f44f464c29d158": {
      "model_module": "@jupyter-widgets/controls",
      "model_module_version": "1.5.0",
      "model_name": "ToggleButtonsModel",
      "state": {
       "_options_labels": [
        "Slow",
        "Regular",
        "Fast"
       ],
       "button_style": "",
       "description": "Speed:",
       "icons": [],
       "index": 0,
       "layout": "IPY_MODEL_11731741e8a747d6985fd095bbd334eb",
       "style": "IPY_MODEL_5fbbc42716304e58acc4192e7619e260",
       "tooltips": [
        "Description of slow",
        "Description of regular",
        "Description of fast"
       ]
      }
     },
     "fb1640b4ada04c0ea17be40d0a540ccb": {
      "model_module": "@jupyter-widgets/base",
      "model_module_version": "1.2.0",
      "model_name": "LayoutModel",
      "state": {}
     },
     "fbd6e30e8f3a4d05b3db0265a9923955": {
      "model_module": "@jupyter-widgets/controls",
      "model_module_version": "1.5.0",
      "model_name": "ProgressStyleModel",
      "state": {
       "description_width": ""
      }
     },
     "fbd88ff8cdbe46e2821d43a669746e5b": {
      "model_module": "@jupyter-widgets/controls",
      "model_module_version": "1.5.0",
      "model_name": "IntProgressModel",
      "state": {
       "description": "Loading:",
       "layout": "IPY_MODEL_8382b879cae5465b80df919a7be2966e",
       "max": 10,
       "style": "IPY_MODEL_c63559b222bd4f958a6b1953986b7272",
       "value": 7
      }
     },
     "fc2c0ef27c8d4801a30659b042c91c06": {
      "model_module": "@jupyter-widgets/controls",
      "model_module_version": "1.5.0",
      "model_name": "DescriptionStyleModel",
      "state": {
       "description_width": ""
      }
     },
     "fc45cdd13974437fb67e5ceeef210dd9": {
      "model_module": "@jupyter-widgets/controls",
      "model_module_version": "1.5.0",
      "model_name": "HBoxModel",
      "state": {
       "children": [
        "IPY_MODEL_b7a2b7dcf315469db5edd921b7e9e9cb",
        "IPY_MODEL_cfd40f47ceba45bfbe401a607e61cc50"
       ],
       "layout": "IPY_MODEL_c8a676a1c86f48cfa0185e7ebeb802d1"
      }
     },
     "fcff632160864ff6be80a9c07619d716": {
      "model_module": "@jupyter-widgets/controls",
      "model_module_version": "1.5.0",
      "model_name": "DescriptionStyleModel",
      "state": {
       "description_width": ""
      }
     },
     "fd3a8383329e469fafdfab7bfcb2e161": {
      "model_module": "@jupyter-widgets/controls",
      "model_module_version": "1.5.0",
      "model_name": "ToggleButtonModel",
      "state": {
       "description": "Click me",
       "icon": "check",
       "layout": "IPY_MODEL_c8f3bb622c334fa78a71e3abcf30e58c",
       "style": "IPY_MODEL_19b5b20d07b049bda98b342ed3ddf7da",
       "tooltip": "Description"
      }
     },
     "fd87f665e2b749099479cfe9d5fd2718": {
      "model_module": "@jupyter-widgets/base",
      "model_module_version": "1.2.0",
      "model_name": "LayoutModel",
      "state": {}
     },
     "fd9cf308e9cd4fb0a038c74c25088cd7": {
      "model_module": "@jupyter-widgets/base",
      "model_module_version": "1.2.0",
      "model_name": "LayoutModel",
      "state": {}
     },
     "fde3367e63d74762829beba8176f2882": {
      "model_module": "@jupyter-widgets/base",
      "model_module_version": "1.2.0",
      "model_name": "LayoutModel",
      "state": {}
     },
     "ff251a4634074fc885bf747408e19c81": {
      "model_module": "@jupyter-widgets/base",
      "model_module_version": "1.2.0",
      "model_name": "LayoutModel",
      "state": {}
     },
     "ff7bf703f584417e8db4b34d10964a3f": {
      "model_module": "@jupyter-widgets/controls",
      "model_module_version": "1.5.0",
      "model_name": "CheckboxModel",
      "state": {
       "description": "Check me",
       "disabled": false,
       "layout": "IPY_MODEL_26916302aed04931b90832ad6f9ed155",
       "style": "IPY_MODEL_f69b1ab1c7d645f18e483659e0be8fe4",
       "value": false
      }
     },
     "ffa0084fd7b944fdac1d0f5ffedec14a": {
      "model_module": "@jupyter-widgets/controls",
      "model_module_version": "1.5.0",
      "model_name": "DescriptionStyleModel",
      "state": {
       "description_width": ""
      }
     },
     "ffb9918b94e044ccbbe15f65d24a17f8": {
      "model_module": "@jupyter-widgets/controls",
      "model_module_version": "1.5.0",
      "model_name": "SelectionRangeSliderModel",
      "state": {
       "_model_name": "SelectionRangeSliderModel",
       "_options_labels": [
        "Jan",
        "Feb",
        "Mar",
        "Apr",
        "May",
        "Jun",
        "Jul",
        "Aug",
        "Sep",
        "Oct",
        "Nov",
        "Dec"
       ],
       "_view_name": "SelectionRangeSliderView",
       "description": "Months (2015)",
       "index": [
        0,
        11
       ],
       "layout": "IPY_MODEL_12ab54ec9f9540d3958b4aac92bb18b2",
       "style": "IPY_MODEL_0da2f37c70914c8fb4c0372268e7a757"
      }
     }
    },
    "version_major": 2,
    "version_minor": 0
   }
  }
 },
 "nbformat": 4,
 "nbformat_minor": 4
}
