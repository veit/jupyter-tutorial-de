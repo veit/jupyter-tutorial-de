{
 "cells": [
  {
   "cell_type": "markdown",
   "metadata": {},
   "source": [
    "# Widget Events"
   ]
  },
  {
   "cell_type": "markdown",
   "metadata": {},
   "source": [
    "## Special Events"
   ]
  },
  {
   "cell_type": "code",
   "execution_count": 1,
   "metadata": {},
   "outputs": [],
   "source": [
    "from __future__ import print_function"
   ]
  },
  {
   "cell_type": "markdown",
   "metadata": {},
   "source": [
    "`Button` kann nicht zur Darstellung eines Datentyps verwendet werden, sondern nur für `on_click`. Mit der `print`-Funktion kann der Docstring von `on_click` ausgegeben werden."
   ]
  },
  {
   "cell_type": "code",
   "execution_count": 2,
   "metadata": {},
   "outputs": [
    {
     "name": "stdout",
     "output_type": "stream",
     "text": [
      "Register a callback to execute when the button is clicked.\n",
      "\n",
      "        The callback will be called with one argument, the clicked button\n",
      "        widget instance.\n",
      "\n",
      "        Parameters\n",
      "        ----------\n",
      "        remove: bool (optional)\n",
      "            Set to true to remove the callback from the list of callbacks.\n",
      "        \n"
     ]
    }
   ],
   "source": [
    "import ipywidgets as widgets\n",
    "\n",
    "\n",
    "print(widgets.Button.on_click.__doc__)"
   ]
  },
  {
   "cell_type": "markdown",
   "metadata": {},
   "source": [
    "### Beispiele\n",
    "\n",
    "Button-Klicks sind *stateless*, d.h. sie übertragen Nachrichten vom Frontend zum Backend. Wenn ihr die `on_click`-Methode verwendet, wird ein Button angezeigt, der die Nachricht ausgibt, sobald auf sie geklickt wurde."
   ]
  },
  {
   "cell_type": "code",
   "execution_count": 3,
   "metadata": {},
   "outputs": [
    {
     "data": {
      "application/vnd.jupyter.widget-view+json": {
       "model_id": "dfe7ef452a2d452aafb0ea6a9d310a1e",
       "version_major": 2,
       "version_minor": 0
      },
      "text/plain": [
       "Button(description='Click Me!', style=ButtonStyle())"
      ]
     },
     "metadata": {},
     "output_type": "display_data"
    }
   ],
   "source": [
    "from IPython.display import display\n",
    "\n",
    "\n",
    "button = widgets.Button(description=\"Click Me!\")\n",
    "display(button)\n",
    "\n",
    "\n",
    "def on_button_clicked(b):\n",
    "    print(\"Button clicked.\")\n",
    "\n",
    "\n",
    "button.on_click(on_button_clicked)"
   ]
  },
  {
   "cell_type": "markdown",
   "metadata": {},
   "source": [
    "## Traitlet events"
   ]
  },
  {
   "cell_type": "markdown",
   "metadata": {},
   "source": [
    "Widget-Properties sind IPython-Traitlets. Um Änderungen vorzunehmen, kann die Methode `observe` des Widgets zum Registrieren eines callback verwendet werden. Den Docstring für `observe` seht ihr unten.\n",
    "\n",
    "Weitere Informationen erhaltet ihr unter [Traitlet events](https://ipywidgets.readthedocs.io/en/stable/examples/Widget%20Events.html#Traitlet-events)."
   ]
  },
  {
   "cell_type": "code",
   "execution_count": 4,
   "metadata": {},
   "outputs": [
    {
     "name": "stdout",
     "output_type": "stream",
     "text": [
      "Setup a handler to be called when a trait changes.\n",
      "\n",
      "        This is used to setup dynamic notifications of trait changes.\n",
      "\n",
      "        Parameters\n",
      "        ----------\n",
      "        handler : callable\n",
      "            A callable that is called when a trait changes. Its\n",
      "            signature should be ``handler(change)``, where ``change`` is a\n",
      "            dictionary. The change dictionary at least holds a 'type' key.\n",
      "            * ``type``: the type of notification.\n",
      "            Other keys may be passed depending on the value of 'type'. In the\n",
      "            case where type is 'change', we also have the following keys:\n",
      "            * ``owner`` : the HasTraits instance\n",
      "            * ``old`` : the old value of the modified trait attribute\n",
      "            * ``new`` : the new value of the modified trait attribute\n",
      "            * ``name`` : the name of the modified trait attribute.\n",
      "        names : list, str, All\n",
      "            If names is All, the handler will apply to all traits.  If a list\n",
      "            of str, handler will apply to all names in the list.  If a\n",
      "            str, the handler will apply just to that name.\n",
      "        type : str, All (default: 'change')\n",
      "            The type of notification to filter by. If equal to All, then all\n",
      "            notifications are passed to the observe handler.\n",
      "        \n"
     ]
    }
   ],
   "source": [
    "print(widgets.Widget.observe.__doc__)"
   ]
  },
  {
   "cell_type": "markdown",
   "metadata": {},
   "source": [
    "## Linking Widgets"
   ]
  },
  {
   "cell_type": "markdown",
   "metadata": {},
   "source": [
    "Für die Verknüpfung von Widget-Attributen könnt ihr diese einfach miteinander verknüpfen. "
   ]
  },
  {
   "cell_type": "markdown",
   "metadata": {},
   "source": [
    "### Linking Traitlet-Attribute im Kernel"
   ]
  },
  {
   "cell_type": "code",
   "execution_count": 5,
   "metadata": {},
   "outputs": [
    {
     "data": {
      "application/vnd.jupyter.widget-view+json": {
       "model_id": "bc8653c9a2c3480c93566bbdde8cb6f6",
       "version_major": 2,
       "version_minor": 0
      },
      "text/plain": [
       "Label(value='The values of slider1 and slider2 are synchronized')"
      ]
     },
     "metadata": {},
     "output_type": "display_data"
    },
    {
     "data": {
      "application/vnd.jupyter.widget-view+json": {
       "model_id": "49fb273b95c84bfe8cd57e2c3b5a06a8",
       "version_major": 2,
       "version_minor": 0
      },
      "text/plain": [
       "IntSlider(value=0, description='Slider 1')"
      ]
     },
     "metadata": {},
     "output_type": "display_data"
    },
    {
     "data": {
      "application/vnd.jupyter.widget-view+json": {
       "model_id": "544c341d75f14a75b7cf3c05b5a787d4",
       "version_major": 2,
       "version_minor": 0
      },
      "text/plain": [
       "IntSlider(value=0, description='Slider 2')"
      ]
     },
     "metadata": {},
     "output_type": "display_data"
    }
   ],
   "source": [
    "caption = widgets.Label(\n",
    "    value=\"The values of slider1 and slider2 are synchronized\"\n",
    ")\n",
    "sliders1, slider2 = widgets.IntSlider(description=\"Slider 1\"),\\\n",
    "                    widgets.IntSlider(description=\"Slider 2\")\n",
    "l = widgets.link((sliders1, \"value\"), (slider2, \"value\"))\n",
    "display(caption, sliders1, slider2)"
   ]
  },
  {
   "cell_type": "markdown",
   "metadata": {},
   "source": [
    "### Linking Widgets-Attribute auf der Client-Seite\n",
    "\n",
    "Beim Synchronisieren von Traitlet-Attributen tritt möglicherweise eine Verzögerung aufgrund der Kommunikation mit dem Server auf. Ihr könnt jedoch die Widget-Attribute auch direkt im Browser mit den Link-Widgets verknüpfen. Dabei bleiben die Javascript-Links mit `jslink` auch bestehen, wenn Widgets in HTML-Webseiten ohne Kernel eingebettet werden."
   ]
  },
  {
   "cell_type": "code",
   "execution_count": 6,
   "metadata": {},
   "outputs": [
    {
     "data": {
      "application/vnd.jupyter.widget-view+json": {
       "model_id": "f816b2ef97e74fc1b681a54685dd91ad",
       "version_major": 2,
       "version_minor": 0
      },
      "text/plain": [
       "Label(value='The values of range1 and range2 are synchronized')"
      ]
     },
     "metadata": {},
     "output_type": "display_data"
    },
    {
     "data": {
      "application/vnd.jupyter.widget-view+json": {
       "model_id": "a8d4408e5a2142529639f518ea219374",
       "version_major": 2,
       "version_minor": 0
      },
      "text/plain": [
       "IntSlider(value=0, description='Range 1')"
      ]
     },
     "metadata": {},
     "output_type": "display_data"
    },
    {
     "data": {
      "application/vnd.jupyter.widget-view+json": {
       "model_id": "7a346457063e45818af9e0e348e2fe1f",
       "version_major": 2,
       "version_minor": 0
      },
      "text/plain": [
       "IntSlider(value=0, description='Range 2')"
      ]
     },
     "metadata": {},
     "output_type": "display_data"
    }
   ],
   "source": [
    "caption = widgets.Label(\n",
    "    value=\"The values of range1 and range2 are synchronized\"\n",
    ")\n",
    "range1, range2 = widgets.IntSlider(description=\"Range 1\"),\\\n",
    "                 widgets.IntSlider(description=\"Range 2\")\n",
    "l = widgets.jslink((range1, \"value\"), (range2, \"value\"))\n",
    "display(caption, range1, range2)"
   ]
  },
  {
   "cell_type": "code",
   "execution_count": 7,
   "metadata": {},
   "outputs": [
    {
     "data": {
      "application/vnd.jupyter.widget-view+json": {
       "model_id": "e7a9cead4c3e489a834478b685c2776b",
       "version_major": 2,
       "version_minor": 0
      },
      "text/plain": [
       "Label(value='Changes in source_range values are reflected in target_range1')"
      ]
     },
     "metadata": {},
     "output_type": "display_data"
    },
    {
     "data": {
      "application/vnd.jupyter.widget-view+json": {
       "model_id": "1575d2d99d114e9b9f44a17dd3f00f8f",
       "version_major": 2,
       "version_minor": 0
      },
      "text/plain": [
       "IntSlider(value=0, description='Source range')"
      ]
     },
     "metadata": {},
     "output_type": "display_data"
    },
    {
     "data": {
      "application/vnd.jupyter.widget-view+json": {
       "model_id": "758831631f534abd967f88f32ab62fa0",
       "version_major": 2,
       "version_minor": 0
      },
      "text/plain": [
       "IntSlider(value=0, description='Target range 1')"
      ]
     },
     "metadata": {},
     "output_type": "display_data"
    }
   ],
   "source": [
    "caption = widgets.Label(\n",
    "    value=\"Changes in source_range values are reflected in target_range1\"\n",
    ")\n",
    "source_range, target_range1 = widgets.IntSlider(description=\"Source range\"),\\\n",
    "                              widgets.IntSlider(description=\"Target range 1\")\n",
    "dl = widgets.jsdlink((source_range, \"value\"), (target_range1, \"value\"))\n",
    "display(caption, source_range, target_range1)"
   ]
  },
  {
   "cell_type": "markdown",
   "metadata": {},
   "source": [
    "## Kontinuierliche Updates"
   ]
  },
  {
   "cell_type": "markdown",
   "metadata": {},
   "source": [
    "Einige Widgets bieten ein `continuous_update`-Attribut mit der Möglichkeit, Werte kontinuierlich zu aktualisieren. Im folgenden Beispiel sehen wir, dass die *delayed Controls* ihren Wert erst übertragen, nachdem der Benutzer den Schieberegler gezogen oder das Textfeld gesendet hat. Die *continuous slides* übertragen ihre Werte kontinuierlich, sobald sie geändert werden. "
   ]
  },
  {
   "cell_type": "code",
   "execution_count": 8,
   "metadata": {},
   "outputs": [
    {
     "data": {
      "application/vnd.jupyter.widget-view+json": {
       "model_id": "c55ed7a98ed446dba3cf48e5a93c8227",
       "version_major": 2,
       "version_minor": 0
      },
      "text/plain": [
       "VBox(children=(IntSlider(value=0, continuous_update=False, description='Delayed'), IntText(value=0, descriptio…"
      ]
     },
     "metadata": {},
     "output_type": "display_data"
    }
   ],
   "source": [
    "a = widgets.IntSlider(description=\"Delayed\", continuous_update=False)\n",
    "b = widgets.IntText(description=\"Delayed\", continuous_update=False)\n",
    "c = widgets.IntSlider(description=\"Continuous\", continuous_update=True)\n",
    "d = widgets.IntText(description=\"Continuous\", continuous_update=True)\n",
    "\n",
    "widgets.link((a, \"value\"), (b, \"value\"))\n",
    "widgets.link((a, \"value\"), (c, \"value\"))\n",
    "widgets.link((a, \"value\"), (d, \"value\"))\n",
    "widgets.VBox([a, b, c, d])"
   ]
  }
 ],
 "metadata": {
  "kernelspec": {
   "display_name": "Python 3.11 Kernel",
   "language": "python",
   "name": "python311"
  },
  "language_info": {
   "codemirror_mode": {
    "name": "ipython",
    "version": 3
   },
   "file_extension": ".py",
   "mimetype": "text/x-python",
   "name": "python",
   "nbconvert_exporter": "python",
   "pygments_lexer": "ipython3",
   "version": "3.11.4"
  },
  "latex_envs": {
   "LaTeX_envs_menu_present": true,
   "autoclose": false,
   "autocomplete": true,
   "bibliofile": "biblio.bib",
   "cite_by": "apalike",
   "current_citInitial": 1,
   "eqLabelWithNumbers": true,
   "eqNumInitial": 1,
   "hotkeys": {
    "equation": "Ctrl-E",
    "itemize": "Ctrl-I"
   },
   "labels_anchors": false,
   "latex_user_defs": false,
   "report_style_numbering": false,
   "user_envs_cfg": false
  },
  "widgets": {
   "application/vnd.jupyter.widget-state+json": {
    "state": {
     "00e07fa7d6eb4902bece580b4cd15fa7": {
      "model_module": "@jupyter-widgets/controls",
      "model_module_version": "1.5.0",
      "model_name": "IntTextModel",
      "state": {
       "continuous_update": true,
       "description": "Continuous",
       "layout": "IPY_MODEL_e8cd97438ad4417f962f8542769d6a16",
       "step": 1,
       "style": "IPY_MODEL_2c247977d0374653828dcccd0758c76d"
      }
     },
     "033a77eb93224e3c9e6472720e6b2814": {
      "model_module": "@jupyter-widgets/base",
      "model_module_version": "1.2.0",
      "model_name": "LayoutModel",
      "state": {}
     },
     "037a8054e86948f6ab5ed11ab541dfd3": {
      "model_module": "@jupyter-widgets/base",
      "model_module_version": "1.2.0",
      "model_name": "LayoutModel",
      "state": {}
     },
     "04684b81b6c0401bac884d7c0fdbfbbc": {
      "model_module": "@jupyter-widgets/controls",
      "model_module_version": "1.5.0",
      "model_name": "SliderStyleModel",
      "state": {
       "description_width": ""
      }
     },
     "04a2e6959bae4eac9512df2e8af0aa4e": {
      "model_module": "@jupyter-widgets/controls",
      "model_module_version": "1.5.0",
      "model_name": "IntTextModel",
      "state": {
       "description": "Delayed",
       "layout": "IPY_MODEL_f79e10fed2074a4490e095735e32e31a",
       "step": 1,
       "style": "IPY_MODEL_def9a98d305e4e72978c30e20d4c924e"
      }
     },
     "0b53b3fe9f854592812cd151408497bd": {
      "model_module": "@jupyter-widgets/base",
      "model_module_version": "1.2.0",
      "model_name": "LayoutModel",
      "state": {}
     },
     "0e19d23663f24d698e780979aed25d1e": {
      "model_module": "@jupyter-widgets/controls",
      "model_module_version": "1.5.0",
      "model_name": "DirectionalLinkModel",
      "state": {
       "source": [
        "IPY_MODEL_1575d2d99d114e9b9f44a17dd3f00f8f",
        "value"
       ],
       "target": [
        "IPY_MODEL_758831631f534abd967f88f32ab62fa0",
        "value"
       ]
      }
     },
     "0f8ffc0bac8541a2886451439a2f2210": {
      "model_module": "@jupyter-widgets/controls",
      "model_module_version": "1.5.0",
      "model_name": "LabelModel",
      "state": {
       "layout": "IPY_MODEL_be47c08d33d747a0aab0170ffb60b78b",
       "style": "IPY_MODEL_12e74bf9579143b8ad09f38893301084",
       "value": "The values of range1 and range2 are synchronized"
      }
     },
     "0ff59308f95047439fe3d64f6e3da77e": {
      "model_module": "@jupyter-widgets/base",
      "model_module_version": "1.2.0",
      "model_name": "LayoutModel",
      "state": {}
     },
     "10fc1440083f4183968a4a01834cfa6d": {
      "model_module": "@jupyter-widgets/base",
      "model_module_version": "1.2.0",
      "model_name": "LayoutModel",
      "state": {}
     },
     "11883fb9ba0a41b6bd2c86989c33ca1a": {
      "model_module": "@jupyter-widgets/base",
      "model_module_version": "1.2.0",
      "model_name": "LayoutModel",
      "state": {}
     },
     "12c9a0c97166421092e0d485f937a4bb": {
      "model_module": "@jupyter-widgets/controls",
      "model_module_version": "1.5.0",
      "model_name": "SliderStyleModel",
      "state": {
       "description_width": ""
      }
     },
     "12e74bf9579143b8ad09f38893301084": {
      "model_module": "@jupyter-widgets/controls",
      "model_module_version": "1.5.0",
      "model_name": "DescriptionStyleModel",
      "state": {
       "description_width": ""
      }
     },
     "134d3a19a3014a0a936b64ae06427712": {
      "model_module": "@jupyter-widgets/base",
      "model_module_version": "1.2.0",
      "model_name": "LayoutModel",
      "state": {}
     },
     "142dd7da48f9434f9b5d5134ee7b81bf": {
      "model_module": "@jupyter-widgets/base",
      "model_module_version": "1.2.0",
      "model_name": "LayoutModel",
      "state": {}
     },
     "1575d2d99d114e9b9f44a17dd3f00f8f": {
      "model_module": "@jupyter-widgets/controls",
      "model_module_version": "1.5.0",
      "model_name": "IntSliderModel",
      "state": {
       "description": "Source range",
       "layout": "IPY_MODEL_465701d29b0c4bd18eab2d7d9ed9c1b6",
       "style": "IPY_MODEL_6894129153e649da97014c5a454e5041"
      }
     },
     "17c6a0fd4eb84a9db38d7803c43b2ba9": {
      "model_module": "@jupyter-widgets/controls",
      "model_module_version": "1.5.0",
      "model_name": "IntSliderModel",
      "state": {
       "description": "Range 2",
       "layout": "IPY_MODEL_679806de8209479bb023f869affb62ad",
       "style": "IPY_MODEL_9553953f087a42b188eb2c6c02eeff2c"
      }
     },
     "1da5dd002f094b40a2606f4e7fd48e0f": {
      "model_module": "@jupyter-widgets/controls",
      "model_module_version": "1.5.0",
      "model_name": "DirectionalLinkModel",
      "state": {
       "source": [
        "IPY_MODEL_1efe30db04124f9cbffb64f4409f080c",
        "value"
       ],
       "target": [
        "IPY_MODEL_9c38827bdc3940508c74e67481859170",
        "value"
       ]
      }
     },
     "1efe30db04124f9cbffb64f4409f080c": {
      "model_module": "@jupyter-widgets/controls",
      "model_module_version": "1.5.0",
      "model_name": "IntSliderModel",
      "state": {
       "description": "Source range",
       "layout": "IPY_MODEL_f2f44b282a394bf9951b33b4d503a9c5",
       "style": "IPY_MODEL_ddd2746955104e978e336cf54ed3e06c"
      }
     },
     "1f8ef0786c2143178c4d1c8c4b074d68": {
      "model_module": "@jupyter-widgets/base",
      "model_module_version": "1.2.0",
      "model_name": "LayoutModel",
      "state": {}
     },
     "22f129896f104f68bc15b9bfc6faf41d": {
      "model_module": "@jupyter-widgets/controls",
      "model_module_version": "1.5.0",
      "model_name": "IntSliderModel",
      "state": {
       "description": "Continuous",
       "layout": "IPY_MODEL_11883fb9ba0a41b6bd2c86989c33ca1a",
       "style": "IPY_MODEL_b671c2d74c534f7d88eb1c0288fc8ddf"
      }
     },
     "2333e963791e4b7681af00ef94b9072e": {
      "model_module": "@jupyter-widgets/controls",
      "model_module_version": "1.5.0",
      "model_name": "SliderStyleModel",
      "state": {
       "description_width": ""
      }
     },
     "23b431e1086746718704523dafd061ec": {
      "model_module": "@jupyter-widgets/controls",
      "model_module_version": "1.5.0",
      "model_name": "SliderStyleModel",
      "state": {
       "description_width": ""
      }
     },
     "242c3400160046609c7a9e749767d979": {
      "model_module": "@jupyter-widgets/controls",
      "model_module_version": "1.5.0",
      "model_name": "SliderStyleModel",
      "state": {
       "description_width": ""
      }
     },
     "27462e1065a943a4afa55dfaa9a91529": {
      "model_module": "@jupyter-widgets/base",
      "model_module_version": "1.2.0",
      "model_name": "LayoutModel",
      "state": {}
     },
     "28e5d009edfb46e09aaa33dd5f0678b9": {
      "model_module": "@jupyter-widgets/controls",
      "model_module_version": "1.5.0",
      "model_name": "DirectionalLinkModel",
      "state": {
       "source": [
        "IPY_MODEL_a6582bf8fe8c481eb8c0334134fcacd3",
        "value"
       ],
       "target": [
        "IPY_MODEL_8159083741614d3086bf92c69f15524b",
        "value"
       ]
      }
     },
     "29aadefaa5be4afda17d1d48f6bb872f": {
      "model_module": "@jupyter-widgets/base",
      "model_module_version": "1.2.0",
      "model_name": "LayoutModel",
      "state": {}
     },
     "29cfc155ec81454193fede28ab360c05": {
      "model_module": "@jupyter-widgets/controls",
      "model_module_version": "1.5.0",
      "model_name": "IntSliderModel",
      "state": {
       "description": "Range 1",
       "layout": "IPY_MODEL_7635f9cbd11a426da9a5cadd63c42d47",
       "style": "IPY_MODEL_5b50b28b66b540c680ad26b4c24b57dc"
      }
     },
     "2bf0c99bdd2e4492b96d4265944e390a": {
      "model_module": "@jupyter-widgets/controls",
      "model_module_version": "1.5.0",
      "model_name": "SliderStyleModel",
      "state": {
       "description_width": ""
      }
     },
     "2bf71b5e239b4d29b6ea25d2ebdb1d7f": {
      "model_module": "@jupyter-widgets/base",
      "model_module_version": "1.2.0",
      "model_name": "LayoutModel",
      "state": {}
     },
     "2c247977d0374653828dcccd0758c76d": {
      "model_module": "@jupyter-widgets/controls",
      "model_module_version": "1.5.0",
      "model_name": "DescriptionStyleModel",
      "state": {
       "description_width": ""
      }
     },
     "338b604ea20b4ef5a4b9f860b55e3b9b": {
      "model_module": "@jupyter-widgets/controls",
      "model_module_version": "1.5.0",
      "model_name": "DescriptionStyleModel",
      "state": {
       "description_width": ""
      }
     },
     "33ffa296493744b0b7e71ab58fdc396b": {
      "model_module": "@jupyter-widgets/controls",
      "model_module_version": "1.5.0",
      "model_name": "IntSliderModel",
      "state": {
       "description": "Range 2",
       "layout": "IPY_MODEL_bfbbecb2cd5741718adb2dc446beec53",
       "style": "IPY_MODEL_38d4287ef1484ac39a000269bac36266"
      }
     },
     "3567605892a145ceb80325ff6f6017c4": {
      "model_module": "@jupyter-widgets/controls",
      "model_module_version": "1.5.0",
      "model_name": "DescriptionStyleModel",
      "state": {
       "description_width": ""
      }
     },
     "389b946932d346d4adca844a091bdbcf": {
      "model_module": "@jupyter-widgets/controls",
      "model_module_version": "1.5.0",
      "model_name": "IntSliderModel",
      "state": {
       "continuous_update": false,
       "description": "Delayed",
       "layout": "IPY_MODEL_10fc1440083f4183968a4a01834cfa6d",
       "style": "IPY_MODEL_242c3400160046609c7a9e749767d979"
      }
     },
     "38d4287ef1484ac39a000269bac36266": {
      "model_module": "@jupyter-widgets/controls",
      "model_module_version": "1.5.0",
      "model_name": "SliderStyleModel",
      "state": {
       "description_width": ""
      }
     },
     "3c61f0f1351e422b8bbc18f1559140b8": {
      "model_module": "@jupyter-widgets/base",
      "model_module_version": "1.2.0",
      "model_name": "LayoutModel",
      "state": {}
     },
     "3e8d84d324ab44b8ae656af891a306c6": {
      "model_module": "@jupyter-widgets/controls",
      "model_module_version": "1.5.0",
      "model_name": "DescriptionStyleModel",
      "state": {
       "description_width": ""
      }
     },
     "3f5d895beb484e0887c4647ded387cda": {
      "model_module": "@jupyter-widgets/base",
      "model_module_version": "1.2.0",
      "model_name": "LayoutModel",
      "state": {}
     },
     "460f5b1967ad438dba9e72b90806c758": {
      "model_module": "@jupyter-widgets/controls",
      "model_module_version": "1.5.0",
      "model_name": "SliderStyleModel",
      "state": {
       "description_width": ""
      }
     },
     "465701d29b0c4bd18eab2d7d9ed9c1b6": {
      "model_module": "@jupyter-widgets/base",
      "model_module_version": "1.2.0",
      "model_name": "LayoutModel",
      "state": {}
     },
     "472dbebc6692460b8e7ca8cb75d92fa5": {
      "model_module": "@jupyter-widgets/controls",
      "model_module_version": "1.5.0",
      "model_name": "IntSliderModel",
      "state": {
       "description": "Continuous",
       "layout": "IPY_MODEL_fd0f9d96a0e747e886c4780aafedf79f",
       "style": "IPY_MODEL_a72974d4608a43cd8fc31f30ec87c1f9"
      }
     },
     "49fb273b95c84bfe8cd57e2c3b5a06a8": {
      "model_module": "@jupyter-widgets/controls",
      "model_module_version": "1.5.0",
      "model_name": "IntSliderModel",
      "state": {
       "description": "Slider 1",
       "layout": "IPY_MODEL_5fe494c8a8734ce69d545682a0acb517",
       "style": "IPY_MODEL_dd3ef7e1074f4a58b96117eb8135a5e5"
      }
     },
     "4e825266cd684a6d8413f07bfe06c4e8": {
      "model_module": "@jupyter-widgets/base",
      "model_module_version": "1.2.0",
      "model_name": "LayoutModel",
      "state": {}
     },
     "4eae22dd8fae4f79afd04ca0d2dcf800": {
      "model_module": "@jupyter-widgets/controls",
      "model_module_version": "1.5.0",
      "model_name": "VBoxModel",
      "state": {
       "children": [
        "IPY_MODEL_389b946932d346d4adca844a091bdbcf",
        "IPY_MODEL_c557aee1f34945c78f59bef7bfab5460",
        "IPY_MODEL_e183d65dad7942f69550b0d8f6778cdf",
        "IPY_MODEL_00e07fa7d6eb4902bece580b4cd15fa7"
       ],
       "layout": "IPY_MODEL_9a594c9a3d87443c90f1c29eb3e34587"
      }
     },
     "4f9c641ab17a465eba05991806e8d754": {
      "model_module": "@jupyter-widgets/controls",
      "model_module_version": "1.5.0",
      "model_name": "SliderStyleModel",
      "state": {
       "description_width": ""
      }
     },
     "50ec8d2b8e654f64af766c61098a3e2e": {
      "model_module": "@jupyter-widgets/controls",
      "model_module_version": "1.5.0",
      "model_name": "IntSliderModel",
      "state": {
       "description": "Slider 1",
       "layout": "IPY_MODEL_54afc904f3d641a3a50b040fb7b423a5",
       "style": "IPY_MODEL_ba4880f84186444ea1ae2aa1bd226a49"
      }
     },
     "514b5b68fb7e4a3aabc044be06e0d785": {
      "model_module": "@jupyter-widgets/base",
      "model_module_version": "1.2.0",
      "model_name": "LayoutModel",
      "state": {}
     },
     "539afae434d1477aac3fd09124714466": {
      "model_module": "@jupyter-widgets/controls",
      "model_module_version": "1.5.0",
      "model_name": "IntSliderModel",
      "state": {
       "description": "Slider 1",
       "layout": "IPY_MODEL_0b53b3fe9f854592812cd151408497bd",
       "style": "IPY_MODEL_748356af7bbf4efe872eacb15a34f88b"
      }
     },
     "540c870fa3824914a487a1b8e7e21a2b": {
      "model_module": "@jupyter-widgets/base",
      "model_module_version": "1.2.0",
      "model_name": "LayoutModel",
      "state": {}
     },
     "544c341d75f14a75b7cf3c05b5a787d4": {
      "model_module": "@jupyter-widgets/controls",
      "model_module_version": "1.5.0",
      "model_name": "IntSliderModel",
      "state": {
       "description": "Slider 2",
       "layout": "IPY_MODEL_2bf71b5e239b4d29b6ea25d2ebdb1d7f",
       "style": "IPY_MODEL_fbd3cbe2727e4dd0aff6c30ee896fd0b"
      }
     },
     "54afc904f3d641a3a50b040fb7b423a5": {
      "model_module": "@jupyter-widgets/base",
      "model_module_version": "1.2.0",
      "model_name": "LayoutModel",
      "state": {}
     },
     "54ff8ba905054bcabaace0586efe1a88": {
      "model_module": "@jupyter-widgets/controls",
      "model_module_version": "1.5.0",
      "model_name": "DescriptionStyleModel",
      "state": {
       "description_width": ""
      }
     },
     "5b50b28b66b540c680ad26b4c24b57dc": {
      "model_module": "@jupyter-widgets/controls",
      "model_module_version": "1.5.0",
      "model_name": "SliderStyleModel",
      "state": {
       "description_width": ""
      }
     },
     "5c6833f64c6645f09545d77694ac9686": {
      "model_module": "@jupyter-widgets/controls",
      "model_module_version": "1.5.0",
      "model_name": "VBoxModel",
      "state": {
       "children": [
        "IPY_MODEL_8401b1fe6189487a8e8d58e740bcaa27",
        "IPY_MODEL_04a2e6959bae4eac9512df2e8af0aa4e",
        "IPY_MODEL_472dbebc6692460b8e7ca8cb75d92fa5",
        "IPY_MODEL_d138c7e7a97e462c81a14ebf9c1aa3c1"
       ],
       "layout": "IPY_MODEL_aaabdfe06e2f4c159ff6bdfccb909671"
      }
     },
     "5cb3955613d3418096af0fedd10e1fb4": {
      "model_module": "@jupyter-widgets/base",
      "model_module_version": "1.2.0",
      "model_name": "LayoutModel",
      "state": {}
     },
     "5fe494c8a8734ce69d545682a0acb517": {
      "model_module": "@jupyter-widgets/base",
      "model_module_version": "1.2.0",
      "model_name": "LayoutModel",
      "state": {}
     },
     "6123ebd9dd5c409a859376ec3360694c": {
      "model_module": "@jupyter-widgets/controls",
      "model_module_version": "1.5.0",
      "model_name": "DescriptionStyleModel",
      "state": {
       "description_width": ""
      }
     },
     "679806de8209479bb023f869affb62ad": {
      "model_module": "@jupyter-widgets/base",
      "model_module_version": "1.2.0",
      "model_name": "LayoutModel",
      "state": {}
     },
     "6894129153e649da97014c5a454e5041": {
      "model_module": "@jupyter-widgets/controls",
      "model_module_version": "1.5.0",
      "model_name": "SliderStyleModel",
      "state": {
       "description_width": ""
      }
     },
     "6ad47ff20cf5445dac311bf16673bb4a": {
      "model_module": "@jupyter-widgets/base",
      "model_module_version": "1.2.0",
      "model_name": "LayoutModel",
      "state": {}
     },
     "6df6a09506034a44a258d13756f65781": {
      "model_module": "@jupyter-widgets/base",
      "model_module_version": "1.2.0",
      "model_name": "LayoutModel",
      "state": {}
     },
     "6eaad09824934e77afe34210313a73e2": {
      "model_module": "@jupyter-widgets/base",
      "model_module_version": "1.2.0",
      "model_name": "LayoutModel",
      "state": {}
     },
     "70bb229f935149119c72e0c5ba8bfc5d": {
      "model_module": "@jupyter-widgets/controls",
      "model_module_version": "1.5.0",
      "model_name": "SliderStyleModel",
      "state": {
       "description_width": ""
      }
     },
     "729674daf33e4c78bec60d1162d931be": {
      "model_module": "@jupyter-widgets/controls",
      "model_module_version": "1.5.0",
      "model_name": "DescriptionStyleModel",
      "state": {
       "description_width": ""
      }
     },
     "748356af7bbf4efe872eacb15a34f88b": {
      "model_module": "@jupyter-widgets/controls",
      "model_module_version": "1.5.0",
      "model_name": "SliderStyleModel",
      "state": {
       "description_width": ""
      }
     },
     "758831631f534abd967f88f32ab62fa0": {
      "model_module": "@jupyter-widgets/controls",
      "model_module_version": "1.5.0",
      "model_name": "IntSliderModel",
      "state": {
       "description": "Target range 1",
       "layout": "IPY_MODEL_b0fb47b036b64524bfd60a321d1e3a58",
       "style": "IPY_MODEL_2bf0c99bdd2e4492b96d4265944e390a"
      }
     },
     "7635f9cbd11a426da9a5cadd63c42d47": {
      "model_module": "@jupyter-widgets/base",
      "model_module_version": "1.2.0",
      "model_name": "LayoutModel",
      "state": {}
     },
     "76f593984e9e46ce8380de4ed90cb232": {
      "model_module": "@jupyter-widgets/controls",
      "model_module_version": "1.5.0",
      "model_name": "LinkModel",
      "state": {
       "source": [
        "IPY_MODEL_a8d4408e5a2142529639f518ea219374",
        "value"
       ],
       "target": [
        "IPY_MODEL_7a346457063e45818af9e0e348e2fe1f",
        "value"
       ]
      }
     },
     "7a346457063e45818af9e0e348e2fe1f": {
      "model_module": "@jupyter-widgets/controls",
      "model_module_version": "1.5.0",
      "model_name": "IntSliderModel",
      "state": {
       "description": "Range 2",
       "layout": "IPY_MODEL_3c61f0f1351e422b8bbc18f1559140b8",
       "style": "IPY_MODEL_23b431e1086746718704523dafd061ec"
      }
     },
     "7c168b5652d7401fa289be7550757dbe": {
      "model_module": "@jupyter-widgets/controls",
      "model_module_version": "1.5.0",
      "model_name": "DescriptionStyleModel",
      "state": {
       "description_width": ""
      }
     },
     "7ca0001e3d7f41be8ca298633bce6024": {
      "model_module": "@jupyter-widgets/controls",
      "model_module_version": "1.5.0",
      "model_name": "ButtonStyleModel",
      "state": {}
     },
     "7dc15abcd49640d0a19abfc7a8f97bbf": {
      "model_module": "@jupyter-widgets/controls",
      "model_module_version": "1.5.0",
      "model_name": "LabelModel",
      "state": {
       "layout": "IPY_MODEL_27462e1065a943a4afa55dfaa9a91529",
       "style": "IPY_MODEL_c86e62b7144a48fd95ae31092614fe69",
       "value": "The values of range1 and range2 are synchronized"
      }
     },
     "8073be4337b84528ba5d4f321dbbf18f": {
      "model_module": "@jupyter-widgets/controls",
      "model_module_version": "1.5.0",
      "model_name": "LabelModel",
      "state": {
       "layout": "IPY_MODEL_6eaad09824934e77afe34210313a73e2",
       "style": "IPY_MODEL_3e8d84d324ab44b8ae656af891a306c6",
       "value": "The values of slider1 and slider2 are synchronized"
      }
     },
     "8159083741614d3086bf92c69f15524b": {
      "model_module": "@jupyter-widgets/controls",
      "model_module_version": "1.5.0",
      "model_name": "IntSliderModel",
      "state": {
       "description": "Target range 1",
       "layout": "IPY_MODEL_3f5d895beb484e0887c4647ded387cda",
       "style": "IPY_MODEL_b3d9c93151f24d2487df41a44b264425"
      }
     },
     "81af24c579b144b592f33f86d9436238": {
      "model_module": "@jupyter-widgets/base",
      "model_module_version": "1.2.0",
      "model_name": "LayoutModel",
      "state": {}
     },
     "8401b1fe6189487a8e8d58e740bcaa27": {
      "model_module": "@jupyter-widgets/controls",
      "model_module_version": "1.5.0",
      "model_name": "IntSliderModel",
      "state": {
       "continuous_update": false,
       "description": "Delayed",
       "layout": "IPY_MODEL_da4cb057a83340e896daa27f076a91d1",
       "style": "IPY_MODEL_d53b742ab832440cba4457d564c2c38d"
      }
     },
     "923d4d4ff5784a3e93643bd1761a87d2": {
      "model_module": "@jupyter-widgets/controls",
      "model_module_version": "1.5.0",
      "model_name": "IntTextModel",
      "state": {
       "description": "Delayed",
       "layout": "IPY_MODEL_29aadefaa5be4afda17d1d48f6bb872f",
       "step": 1,
       "style": "IPY_MODEL_54ff8ba905054bcabaace0586efe1a88"
      }
     },
     "9553953f087a42b188eb2c6c02eeff2c": {
      "model_module": "@jupyter-widgets/controls",
      "model_module_version": "1.5.0",
      "model_name": "SliderStyleModel",
      "state": {
       "description_width": ""
      }
     },
     "9553a0267d114e118d97179b7bc56700": {
      "model_module": "@jupyter-widgets/controls",
      "model_module_version": "1.5.0",
      "model_name": "ButtonModel",
      "state": {
       "description": "Click Me!",
       "layout": "IPY_MODEL_af9d1c7761454a46a2bd460258ab4cac",
       "style": "IPY_MODEL_d1e17cc3366e48489893b6afd47dbfdd"
      }
     },
     "9a594c9a3d87443c90f1c29eb3e34587": {
      "model_module": "@jupyter-widgets/base",
      "model_module_version": "1.2.0",
      "model_name": "LayoutModel",
      "state": {}
     },
     "9a79a5df502c46b4bde3970db851dde6": {
      "model_module": "@jupyter-widgets/controls",
      "model_module_version": "1.5.0",
      "model_name": "LinkModel",
      "state": {
       "source": [
        "IPY_MODEL_29cfc155ec81454193fede28ab360c05",
        "value"
       ],
       "target": [
        "IPY_MODEL_17c6a0fd4eb84a9db38d7803c43b2ba9",
        "value"
       ]
      }
     },
     "9c38827bdc3940508c74e67481859170": {
      "model_module": "@jupyter-widgets/controls",
      "model_module_version": "1.5.0",
      "model_name": "IntSliderModel",
      "state": {
       "description": "Target range 1",
       "layout": "IPY_MODEL_514b5b68fb7e4a3aabc044be06e0d785",
       "style": "IPY_MODEL_04684b81b6c0401bac884d7c0fdbfbbc"
      }
     },
     "a6582bf8fe8c481eb8c0334134fcacd3": {
      "model_module": "@jupyter-widgets/controls",
      "model_module_version": "1.5.0",
      "model_name": "IntSliderModel",
      "state": {
       "description": "Source range",
       "layout": "IPY_MODEL_142dd7da48f9434f9b5d5134ee7b81bf",
       "style": "IPY_MODEL_2333e963791e4b7681af00ef94b9072e"
      }
     },
     "a72974d4608a43cd8fc31f30ec87c1f9": {
      "model_module": "@jupyter-widgets/controls",
      "model_module_version": "1.5.0",
      "model_name": "SliderStyleModel",
      "state": {
       "description_width": ""
      }
     },
     "a8d4408e5a2142529639f518ea219374": {
      "model_module": "@jupyter-widgets/controls",
      "model_module_version": "1.5.0",
      "model_name": "IntSliderModel",
      "state": {
       "description": "Range 1",
       "layout": "IPY_MODEL_037a8054e86948f6ab5ed11ab541dfd3",
       "style": "IPY_MODEL_e40e4dc8ef4742bb8a7d4a087f8b583d"
      }
     },
     "a8d92e0936ca4d66ac8fd126bf19ff6c": {
      "model_module": "@jupyter-widgets/controls",
      "model_module_version": "1.5.0",
      "model_name": "LabelModel",
      "state": {
       "layout": "IPY_MODEL_c6bd937e842d49dc99c4a42b35c93220",
       "style": "IPY_MODEL_d78d9017b080452ab60068a32c61fe9d",
       "value": "Changes in source_range values are reflected in target_range1"
      }
     },
     "aaabdfe06e2f4c159ff6bdfccb909671": {
      "model_module": "@jupyter-widgets/base",
      "model_module_version": "1.2.0",
      "model_name": "LayoutModel",
      "state": {}
     },
     "ad6455eb3ae74879a38e4fb0a16cb8cc": {
      "model_module": "@jupyter-widgets/controls",
      "model_module_version": "1.5.0",
      "model_name": "ButtonModel",
      "state": {
       "description": "Click Me!",
       "layout": "IPY_MODEL_b0ef0054deaa4aac836d87dda567b548",
       "style": "IPY_MODEL_da4d1775e120438e9c6880e1ac6c53cc"
      }
     },
     "af9d1c7761454a46a2bd460258ab4cac": {
      "model_module": "@jupyter-widgets/base",
      "model_module_version": "1.2.0",
      "model_name": "LayoutModel",
      "state": {}
     },
     "b0ef0054deaa4aac836d87dda567b548": {
      "model_module": "@jupyter-widgets/base",
      "model_module_version": "1.2.0",
      "model_name": "LayoutModel",
      "state": {}
     },
     "b0fb47b036b64524bfd60a321d1e3a58": {
      "model_module": "@jupyter-widgets/base",
      "model_module_version": "1.2.0",
      "model_name": "LayoutModel",
      "state": {}
     },
     "b3d9c93151f24d2487df41a44b264425": {
      "model_module": "@jupyter-widgets/controls",
      "model_module_version": "1.5.0",
      "model_name": "SliderStyleModel",
      "state": {
       "description_width": ""
      }
     },
     "b635f26d298c4a5ebf969042afe480f7": {
      "model_module": "@jupyter-widgets/controls",
      "model_module_version": "1.5.0",
      "model_name": "IntTextModel",
      "state": {
       "continuous_update": true,
       "description": "Continuous",
       "layout": "IPY_MODEL_1f8ef0786c2143178c4d1c8c4b074d68",
       "step": 1,
       "style": "IPY_MODEL_d3653652a20f4192916916882086a1be"
      }
     },
     "b671c2d74c534f7d88eb1c0288fc8ddf": {
      "model_module": "@jupyter-widgets/controls",
      "model_module_version": "1.5.0",
      "model_name": "SliderStyleModel",
      "state": {
       "description_width": ""
      }
     },
     "ba4880f84186444ea1ae2aa1bd226a49": {
      "model_module": "@jupyter-widgets/controls",
      "model_module_version": "1.5.0",
      "model_name": "SliderStyleModel",
      "state": {
       "description_width": ""
      }
     },
     "bad4b1bbc3fb4317ac0ec4390a29dca4": {
      "model_module": "@jupyter-widgets/base",
      "model_module_version": "1.2.0",
      "model_name": "LayoutModel",
      "state": {}
     },
     "bc8653c9a2c3480c93566bbdde8cb6f6": {
      "model_module": "@jupyter-widgets/controls",
      "model_module_version": "1.5.0",
      "model_name": "LabelModel",
      "state": {
       "layout": "IPY_MODEL_dbc1beedfd724403b25aa81ccd4dbfa6",
       "style": "IPY_MODEL_3567605892a145ceb80325ff6f6017c4",
       "value": "The values of slider1 and slider2 are synchronized"
      }
     },
     "be47c08d33d747a0aab0170ffb60b78b": {
      "model_module": "@jupyter-widgets/base",
      "model_module_version": "1.2.0",
      "model_name": "LayoutModel",
      "state": {}
     },
     "bfbbecb2cd5741718adb2dc446beec53": {
      "model_module": "@jupyter-widgets/base",
      "model_module_version": "1.2.0",
      "model_name": "LayoutModel",
      "state": {}
     },
     "c3a22b6052214cb688c3bc86f20de4ba": {
      "model_module": "@jupyter-widgets/controls",
      "model_module_version": "1.5.0",
      "model_name": "LinkModel",
      "state": {
       "source": [
        "IPY_MODEL_e59e8b5c29064aef8539a02960c0f9bd",
        "value"
       ],
       "target": [
        "IPY_MODEL_33ffa296493744b0b7e71ab58fdc396b",
        "value"
       ]
      }
     },
     "c557aee1f34945c78f59bef7bfab5460": {
      "model_module": "@jupyter-widgets/controls",
      "model_module_version": "1.5.0",
      "model_name": "IntTextModel",
      "state": {
       "description": "Delayed",
       "layout": "IPY_MODEL_6ad47ff20cf5445dac311bf16673bb4a",
       "step": 1,
       "style": "IPY_MODEL_cae716155146496ca0962cb3c5aae9f7"
      }
     },
     "c55ed7a98ed446dba3cf48e5a93c8227": {
      "model_module": "@jupyter-widgets/controls",
      "model_module_version": "1.5.0",
      "model_name": "VBoxModel",
      "state": {
       "children": [
        "IPY_MODEL_cea87b9a255b4c359a07c1772523492f",
        "IPY_MODEL_923d4d4ff5784a3e93643bd1761a87d2",
        "IPY_MODEL_22f129896f104f68bc15b9bfc6faf41d",
        "IPY_MODEL_b635f26d298c4a5ebf969042afe480f7"
       ],
       "layout": "IPY_MODEL_033a77eb93224e3c9e6472720e6b2814"
      }
     },
     "c6bd937e842d49dc99c4a42b35c93220": {
      "model_module": "@jupyter-widgets/base",
      "model_module_version": "1.2.0",
      "model_name": "LayoutModel",
      "state": {}
     },
     "c86e62b7144a48fd95ae31092614fe69": {
      "model_module": "@jupyter-widgets/controls",
      "model_module_version": "1.5.0",
      "model_name": "DescriptionStyleModel",
      "state": {
       "description_width": ""
      }
     },
     "c8efbae0babb4b9bb7a53f287e95dd1f": {
      "model_module": "@jupyter-widgets/controls",
      "model_module_version": "1.5.0",
      "model_name": "ButtonStyleModel",
      "state": {}
     },
     "ca199e88c8d343f3ba1b05aea664e40e": {
      "model_module": "@jupyter-widgets/base",
      "model_module_version": "1.2.0",
      "model_name": "LayoutModel",
      "state": {}
     },
     "cae716155146496ca0962cb3c5aae9f7": {
      "model_module": "@jupyter-widgets/controls",
      "model_module_version": "1.5.0",
      "model_name": "DescriptionStyleModel",
      "state": {
       "description_width": ""
      }
     },
     "cd9169f1f2c845c1bb2e47e2e683b5b7": {
      "model_module": "@jupyter-widgets/controls",
      "model_module_version": "1.5.0",
      "model_name": "SliderStyleModel",
      "state": {
       "description_width": ""
      }
     },
     "cea87b9a255b4c359a07c1772523492f": {
      "model_module": "@jupyter-widgets/controls",
      "model_module_version": "1.5.0",
      "model_name": "IntSliderModel",
      "state": {
       "continuous_update": false,
       "description": "Delayed",
       "layout": "IPY_MODEL_d8bfbec41f854f8f9dd20e776920b968",
       "style": "IPY_MODEL_cd9169f1f2c845c1bb2e47e2e683b5b7"
      }
     },
     "d08fb63033d0405f83d31d28ecf1529f": {
      "model_module": "@jupyter-widgets/base",
      "model_module_version": "1.2.0",
      "model_name": "LayoutModel",
      "state": {}
     },
     "d138c7e7a97e462c81a14ebf9c1aa3c1": {
      "model_module": "@jupyter-widgets/controls",
      "model_module_version": "1.5.0",
      "model_name": "IntTextModel",
      "state": {
       "continuous_update": true,
       "description": "Continuous",
       "layout": "IPY_MODEL_bad4b1bbc3fb4317ac0ec4390a29dca4",
       "step": 1,
       "style": "IPY_MODEL_338b604ea20b4ef5a4b9f860b55e3b9b"
      }
     },
     "d1e17cc3366e48489893b6afd47dbfdd": {
      "model_module": "@jupyter-widgets/controls",
      "model_module_version": "1.5.0",
      "model_name": "ButtonStyleModel",
      "state": {}
     },
     "d3653652a20f4192916916882086a1be": {
      "model_module": "@jupyter-widgets/controls",
      "model_module_version": "1.5.0",
      "model_name": "DescriptionStyleModel",
      "state": {
       "description_width": ""
      }
     },
     "d53b742ab832440cba4457d564c2c38d": {
      "model_module": "@jupyter-widgets/controls",
      "model_module_version": "1.5.0",
      "model_name": "SliderStyleModel",
      "state": {
       "description_width": ""
      }
     },
     "d78d9017b080452ab60068a32c61fe9d": {
      "model_module": "@jupyter-widgets/controls",
      "model_module_version": "1.5.0",
      "model_name": "DescriptionStyleModel",
      "state": {
       "description_width": ""
      }
     },
     "d8bfbec41f854f8f9dd20e776920b968": {
      "model_module": "@jupyter-widgets/base",
      "model_module_version": "1.2.0",
      "model_name": "LayoutModel",
      "state": {}
     },
     "d93733dfac3e4b1593a5ea8abfe62d4e": {
      "model_module": "@jupyter-widgets/controls",
      "model_module_version": "1.5.0",
      "model_name": "DescriptionStyleModel",
      "state": {
       "description_width": ""
      }
     },
     "d9b079eebaa14df6bcb70606b37611aa": {
      "model_module": "@jupyter-widgets/controls",
      "model_module_version": "1.5.0",
      "model_name": "ButtonStyleModel",
      "state": {}
     },
     "da4cb057a83340e896daa27f076a91d1": {
      "model_module": "@jupyter-widgets/base",
      "model_module_version": "1.2.0",
      "model_name": "LayoutModel",
      "state": {}
     },
     "da4d1775e120438e9c6880e1ac6c53cc": {
      "model_module": "@jupyter-widgets/controls",
      "model_module_version": "1.5.0",
      "model_name": "ButtonStyleModel",
      "state": {}
     },
     "dbc1beedfd724403b25aa81ccd4dbfa6": {
      "model_module": "@jupyter-widgets/base",
      "model_module_version": "1.2.0",
      "model_name": "LayoutModel",
      "state": {}
     },
     "dd3ef7e1074f4a58b96117eb8135a5e5": {
      "model_module": "@jupyter-widgets/controls",
      "model_module_version": "1.5.0",
      "model_name": "SliderStyleModel",
      "state": {
       "description_width": ""
      }
     },
     "ddd2746955104e978e336cf54ed3e06c": {
      "model_module": "@jupyter-widgets/controls",
      "model_module_version": "1.5.0",
      "model_name": "SliderStyleModel",
      "state": {
       "description_width": ""
      }
     },
     "def9a98d305e4e72978c30e20d4c924e": {
      "model_module": "@jupyter-widgets/controls",
      "model_module_version": "1.5.0",
      "model_name": "DescriptionStyleModel",
      "state": {
       "description_width": ""
      }
     },
     "dfe7ef452a2d452aafb0ea6a9d310a1e": {
      "model_module": "@jupyter-widgets/controls",
      "model_module_version": "1.5.0",
      "model_name": "ButtonModel",
      "state": {
       "description": "Click Me!",
       "layout": "IPY_MODEL_0ff59308f95047439fe3d64f6e3da77e",
       "style": "IPY_MODEL_c8efbae0babb4b9bb7a53f287e95dd1f"
      }
     },
     "e183d65dad7942f69550b0d8f6778cdf": {
      "model_module": "@jupyter-widgets/controls",
      "model_module_version": "1.5.0",
      "model_name": "IntSliderModel",
      "state": {
       "description": "Continuous",
       "layout": "IPY_MODEL_81af24c579b144b592f33f86d9436238",
       "style": "IPY_MODEL_460f5b1967ad438dba9e72b90806c758"
      }
     },
     "e40e4dc8ef4742bb8a7d4a087f8b583d": {
      "model_module": "@jupyter-widgets/controls",
      "model_module_version": "1.5.0",
      "model_name": "SliderStyleModel",
      "state": {
       "description_width": ""
      }
     },
     "e59e8b5c29064aef8539a02960c0f9bd": {
      "model_module": "@jupyter-widgets/controls",
      "model_module_version": "1.5.0",
      "model_name": "IntSliderModel",
      "state": {
       "description": "Range 1",
       "layout": "IPY_MODEL_fe16f2a353b04c95920ae5258943fac9",
       "style": "IPY_MODEL_12c9a0c97166421092e0d485f937a4bb"
      }
     },
     "e7a9cead4c3e489a834478b685c2776b": {
      "model_module": "@jupyter-widgets/controls",
      "model_module_version": "1.5.0",
      "model_name": "LabelModel",
      "state": {
       "layout": "IPY_MODEL_d08fb63033d0405f83d31d28ecf1529f",
       "style": "IPY_MODEL_729674daf33e4c78bec60d1162d931be",
       "value": "Changes in source_range values are reflected in target_range1"
      }
     },
     "e8cd97438ad4417f962f8542769d6a16": {
      "model_module": "@jupyter-widgets/base",
      "model_module_version": "1.2.0",
      "model_name": "LayoutModel",
      "state": {}
     },
     "e9a0020929ca490cb64ae35ce93e51a0": {
      "model_module": "@jupyter-widgets/controls",
      "model_module_version": "1.5.0",
      "model_name": "IntSliderModel",
      "state": {
       "description": "Slider 2",
       "layout": "IPY_MODEL_ca199e88c8d343f3ba1b05aea664e40e",
       "style": "IPY_MODEL_4f9c641ab17a465eba05991806e8d754"
      }
     },
     "ec8cae8770784411b54ca66ba8715b7c": {
      "model_module": "@jupyter-widgets/controls",
      "model_module_version": "1.5.0",
      "model_name": "ButtonModel",
      "state": {
       "description": "Click Me!",
       "layout": "IPY_MODEL_4e825266cd684a6d8413f07bfe06c4e8",
       "style": "IPY_MODEL_7ca0001e3d7f41be8ca298633bce6024"
      }
     },
     "ed0028e1be674e1d8317474789013073": {
      "model_module": "@jupyter-widgets/base",
      "model_module_version": "1.2.0",
      "model_name": "LayoutModel",
      "state": {}
     },
     "f0c5da0d2103410f82fa94943d0352ff": {
      "model_module": "@jupyter-widgets/controls",
      "model_module_version": "1.5.0",
      "model_name": "LabelModel",
      "state": {
       "layout": "IPY_MODEL_134d3a19a3014a0a936b64ae06427712",
       "style": "IPY_MODEL_7c168b5652d7401fa289be7550757dbe",
       "value": "Changes in source_range values are reflected in target_range1"
      }
     },
     "f2f44b282a394bf9951b33b4d503a9c5": {
      "model_module": "@jupyter-widgets/base",
      "model_module_version": "1.2.0",
      "model_name": "LayoutModel",
      "state": {}
     },
     "f47d454952e44e77994063d9c80acd43": {
      "model_module": "@jupyter-widgets/controls",
      "model_module_version": "1.5.0",
      "model_name": "ButtonModel",
      "state": {
       "description": "Click Me!",
       "layout": "IPY_MODEL_6df6a09506034a44a258d13756f65781",
       "style": "IPY_MODEL_d9b079eebaa14df6bcb70606b37611aa"
      }
     },
     "f79e10fed2074a4490e095735e32e31a": {
      "model_module": "@jupyter-widgets/base",
      "model_module_version": "1.2.0",
      "model_name": "LayoutModel",
      "state": {}
     },
     "f816b2ef97e74fc1b681a54685dd91ad": {
      "model_module": "@jupyter-widgets/controls",
      "model_module_version": "1.5.0",
      "model_name": "LabelModel",
      "state": {
       "layout": "IPY_MODEL_5cb3955613d3418096af0fedd10e1fb4",
       "style": "IPY_MODEL_6123ebd9dd5c409a859376ec3360694c",
       "value": "The values of range1 and range2 are synchronized"
      }
     },
     "f9c8774160e24378a5b07ffe90bf92bc": {
      "model_module": "@jupyter-widgets/controls",
      "model_module_version": "1.5.0",
      "model_name": "IntSliderModel",
      "state": {
       "description": "Slider 2",
       "layout": "IPY_MODEL_ed0028e1be674e1d8317474789013073",
       "style": "IPY_MODEL_70bb229f935149119c72e0c5ba8bfc5d"
      }
     },
     "fbd3cbe2727e4dd0aff6c30ee896fd0b": {
      "model_module": "@jupyter-widgets/controls",
      "model_module_version": "1.5.0",
      "model_name": "SliderStyleModel",
      "state": {
       "description_width": ""
      }
     },
     "fd0f9d96a0e747e886c4780aafedf79f": {
      "model_module": "@jupyter-widgets/base",
      "model_module_version": "1.2.0",
      "model_name": "LayoutModel",
      "state": {}
     },
     "fd368718a1ef493586504664366d1553": {
      "model_module": "@jupyter-widgets/controls",
      "model_module_version": "1.5.0",
      "model_name": "LabelModel",
      "state": {
       "layout": "IPY_MODEL_540c870fa3824914a487a1b8e7e21a2b",
       "style": "IPY_MODEL_d93733dfac3e4b1593a5ea8abfe62d4e",
       "value": "The values of slider1 and slider2 are synchronized"
      }
     },
     "fe16f2a353b04c95920ae5258943fac9": {
      "model_module": "@jupyter-widgets/base",
      "model_module_version": "1.2.0",
      "model_name": "LayoutModel",
      "state": {}
     }
    },
    "version_major": 2,
    "version_minor": 0
   }
  }
 },
 "nbformat": 4,
 "nbformat_minor": 4
}
