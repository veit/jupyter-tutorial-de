{
 "cells": [
  {
   "cell_type": "markdown",
   "metadata": {},
   "source": [
    "# `debug.ipynb`"
   ]
  },
  {
   "cell_type": "code",
   "execution_count": 1,
   "metadata": {},
   "outputs": [
    {
     "data": {
      "application/vnd.jupyter.widget-view+json": {
       "model_id": "4243771a0b2b45aabed4ec4063060fd1",
       "version_major": 2,
       "version_minor": 0
      },
      "text/plain": [
       "VBox(children=(FloatSlider(value=14.0, description='x'), FloatText(value=196.0, description='$x^2$', disabled=…"
      ]
     },
     "metadata": {},
     "output_type": "display_data"
    }
   ],
   "source": [
    "import ipywidgets as widgets\n",
    "\n",
    "\n",
    "slider = widgets.FloatSlider(description=\"x\")\n",
    "text = widgets.FloatText(disabled=True, description=\"$x^2$\")\n",
    "\n",
    "\n",
    "def compute(*ignore):\n",
    "    text.value = str(slider.value**2)\n",
    "\n",
    "\n",
    "slider.observe(compute, \"value\")\n",
    "slider.value = 14\n",
    "widgets.VBox([slider, text])"
   ]
  },
  {
   "cell_type": "code",
   "execution_count": 2,
   "metadata": {
    "slideshow": {
     "slide_type": "subslide"
    }
   },
   "outputs": [
    {
     "data": {
      "application/vnd.jupyter.widget-view+json": {
       "model_id": "ea4c2ea4df5b42c6a32ad85e798a4449",
       "version_major": 2,
       "version_minor": 0
      },
      "text/plain": [
       "Button(description='Kill Kernel', style=ButtonStyle())"
      ]
     },
     "metadata": {},
     "output_type": "display_data"
    }
   ],
   "source": [
    "import os\n",
    "\n",
    "def kill_kernel(change):\n",
    "    os._exit(0)\n",
    "\n",
    "button = widgets.Button(description=\"Kill Kernel\")\n",
    "button.on_click(kill_kernel)\n",
    "button"
   ]
  }
 ],
 "metadata": {
  "kernelspec": {
   "display_name": "Python 3.11 Kernel",
   "language": "python",
   "name": "python311"
  },
  "language_info": {
   "codemirror_mode": {
    "name": "ipython",
    "version": 3
   },
   "file_extension": ".py",
   "mimetype": "text/x-python",
   "name": "python",
   "nbconvert_exporter": "python",
   "pygments_lexer": "ipython3",
   "version": "3.11.4"
  },
  "latex_envs": {
   "LaTeX_envs_menu_present": true,
   "autoclose": false,
   "autocomplete": true,
   "bibliofile": "biblio.bib",
   "cite_by": "apalike",
   "current_citInitial": 1,
   "eqLabelWithNumbers": true,
   "eqNumInitial": 1,
   "hotkeys": {
    "equation": "Ctrl-E",
    "itemize": "Ctrl-I"
   },
   "labels_anchors": false,
   "latex_user_defs": false,
   "report_style_numbering": false,
   "user_envs_cfg": false
  },
  "varInspector": {
   "cols": {
    "lenName": 16,
    "lenType": 16,
    "lenVar": 40
   },
   "kernels_config": {
    "python": {
     "delete_cmd_postfix": "",
     "delete_cmd_prefix": "del ",
     "library": "var_list.py",
     "varRefreshCmd": "print(var_dic_list())"
    },
    "r": {
     "delete_cmd_postfix": ") ",
     "delete_cmd_prefix": "rm(",
     "library": "var_list.r",
     "varRefreshCmd": "cat(var_dic_list()) "
    }
   },
   "types_to_exclude": [
    "module",
    "function",
    "builtin_function_or_method",
    "instance",
    "_Feature"
   ],
   "window_display": false
  },
  "widgets": {
   "application/vnd.jupyter.widget-state+json": {
    "state": {
     "0635b6414d3d433495fefc857e3249b0": {
      "model_module": "@jupyter-widgets/controls",
      "model_module_version": "1.5.0",
      "model_name": "ButtonStyleModel",
      "state": {}
     },
     "12888410b8c040b39538be36d081ea0d": {
      "model_module": "@jupyter-widgets/controls",
      "model_module_version": "1.5.0",
      "model_name": "DescriptionStyleModel",
      "state": {
       "description_width": ""
      }
     },
     "24fc33e902994f5ea1946d9b70debaa5": {
      "model_module": "@jupyter-widgets/controls",
      "model_module_version": "1.5.0",
      "model_name": "SliderStyleModel",
      "state": {
       "description_width": ""
      }
     },
     "3dcffbb40bb849d79fdf8ecef5f3f949": {
      "model_module": "@jupyter-widgets/base",
      "model_module_version": "1.2.0",
      "model_name": "LayoutModel",
      "state": {}
     },
     "4243771a0b2b45aabed4ec4063060fd1": {
      "model_module": "@jupyter-widgets/controls",
      "model_module_version": "1.5.0",
      "model_name": "VBoxModel",
      "state": {
       "children": [
        "IPY_MODEL_76f0d63cf0ef4f279b7a70a4fac34d95",
        "IPY_MODEL_f63b5bcbd7a741ad96510013f549448a"
       ],
       "layout": "IPY_MODEL_3dcffbb40bb849d79fdf8ecef5f3f949"
      }
     },
     "44deeeadd22343f8bfdeeb99031f9bf0": {
      "model_module": "@jupyter-widgets/controls",
      "model_module_version": "1.5.0",
      "model_name": "ButtonStyleModel",
      "state": {}
     },
     "46f0e82c5dfe4c85bfd1b30ce14b011e": {
      "model_module": "@jupyter-widgets/controls",
      "model_module_version": "1.5.0",
      "model_name": "ButtonStyleModel",
      "state": {}
     },
     "50c0948494814038be7bad3586aca4e6": {
      "model_module": "@jupyter-widgets/base",
      "model_module_version": "1.2.0",
      "model_name": "LayoutModel",
      "state": {}
     },
     "58e6675337b04d2baa954263888df3aa": {
      "model_module": "@jupyter-widgets/controls",
      "model_module_version": "1.5.0",
      "model_name": "ButtonModel",
      "state": {
       "description": "Kill Kernel",
       "layout": "IPY_MODEL_e1079e2112cf4e91b3aa3a0f7da11343",
       "style": "IPY_MODEL_46f0e82c5dfe4c85bfd1b30ce14b011e"
      }
     },
     "5f6d93f3c26b414b882ec22e401cb702": {
      "model_module": "@jupyter-widgets/base",
      "model_module_version": "1.2.0",
      "model_name": "LayoutModel",
      "state": {}
     },
     "69f670ad104344b997f166311bb891ca": {
      "model_module": "@jupyter-widgets/controls",
      "model_module_version": "1.5.0",
      "model_name": "VBoxModel",
      "state": {
       "children": [
        "IPY_MODEL_d6fcd443796a4d058afc5f9d27641f2c",
        "IPY_MODEL_8c2538f026ac49179552985291e0c603"
       ],
       "layout": "IPY_MODEL_50c0948494814038be7bad3586aca4e6"
      }
     },
     "6a5ad4355abb4fb988a92933f1883574": {
      "model_module": "@jupyter-widgets/controls",
      "model_module_version": "1.5.0",
      "model_name": "FloatSliderModel",
      "state": {
       "description": "x",
       "layout": "IPY_MODEL_7b53aa79c30a40c1be870a6674f56539",
       "step": 0.1,
       "style": "IPY_MODEL_24fc33e902994f5ea1946d9b70debaa5",
       "value": 14
      }
     },
     "6bcf0ad35e1c420c8988efa1d1d95c9d": {
      "model_module": "@jupyter-widgets/controls",
      "model_module_version": "1.5.0",
      "model_name": "DescriptionStyleModel",
      "state": {
       "description_width": ""
      }
     },
     "76f0d63cf0ef4f279b7a70a4fac34d95": {
      "model_module": "@jupyter-widgets/controls",
      "model_module_version": "1.5.0",
      "model_name": "FloatSliderModel",
      "state": {
       "description": "x",
       "layout": "IPY_MODEL_aadab46b8f864298a067defd27210089",
       "step": 0.1,
       "style": "IPY_MODEL_7b300c4a35424ebe97f0bbbeb86148e0",
       "value": 14
      }
     },
     "7b300c4a35424ebe97f0bbbeb86148e0": {
      "model_module": "@jupyter-widgets/controls",
      "model_module_version": "1.5.0",
      "model_name": "SliderStyleModel",
      "state": {
       "description_width": ""
      }
     },
     "7b53aa79c30a40c1be870a6674f56539": {
      "model_module": "@jupyter-widgets/base",
      "model_module_version": "1.2.0",
      "model_name": "LayoutModel",
      "state": {}
     },
     "81677c5f6bc045c9846b177af3b5bdfd": {
      "model_module": "@jupyter-widgets/base",
      "model_module_version": "1.2.0",
      "model_name": "LayoutModel",
      "state": {}
     },
     "8c2538f026ac49179552985291e0c603": {
      "model_module": "@jupyter-widgets/controls",
      "model_module_version": "1.5.0",
      "model_name": "FloatTextModel",
      "state": {
       "description": "$x^2$",
       "disabled": true,
       "layout": "IPY_MODEL_b4703b4c33704e81aa35c3c49f904644",
       "step": null,
       "style": "IPY_MODEL_12888410b8c040b39538be36d081ea0d",
       "value": 196
      }
     },
     "946af28fa5a642a99fab3547e197532c": {
      "model_module": "@jupyter-widgets/base",
      "model_module_version": "1.2.0",
      "model_name": "LayoutModel",
      "state": {}
     },
     "9c7f620d95214992942436c7992f0589": {
      "model_module": "@jupyter-widgets/controls",
      "model_module_version": "1.5.0",
      "model_name": "VBoxModel",
      "state": {
       "children": [
        "IPY_MODEL_6a5ad4355abb4fb988a92933f1883574",
        "IPY_MODEL_ce05d0354bca43c6b340c36ccb75d55f"
       ],
       "layout": "IPY_MODEL_5f6d93f3c26b414b882ec22e401cb702"
      }
     },
     "a52ca98f36a04a449e7b1b90746a2f09": {
      "model_module": "@jupyter-widgets/controls",
      "model_module_version": "1.5.0",
      "model_name": "DescriptionStyleModel",
      "state": {
       "description_width": ""
      }
     },
     "aadab46b8f864298a067defd27210089": {
      "model_module": "@jupyter-widgets/base",
      "model_module_version": "1.2.0",
      "model_name": "LayoutModel",
      "state": {}
     },
     "ae1f870696d54e03ba75871d9050ef59": {
      "model_module": "@jupyter-widgets/controls",
      "model_module_version": "1.5.0",
      "model_name": "ButtonModel",
      "state": {
       "description": "Kill Kernel",
       "layout": "IPY_MODEL_c7e965254020450e9a8ca76b00596881",
       "style": "IPY_MODEL_44deeeadd22343f8bfdeeb99031f9bf0"
      }
     },
     "b4703b4c33704e81aa35c3c49f904644": {
      "model_module": "@jupyter-widgets/base",
      "model_module_version": "1.2.0",
      "model_name": "LayoutModel",
      "state": {}
     },
     "bb08db042b3c464b92a6418c06e951d6": {
      "model_module": "@jupyter-widgets/base",
      "model_module_version": "1.2.0",
      "model_name": "LayoutModel",
      "state": {}
     },
     "c7e965254020450e9a8ca76b00596881": {
      "model_module": "@jupyter-widgets/base",
      "model_module_version": "1.2.0",
      "model_name": "LayoutModel",
      "state": {}
     },
     "ce05d0354bca43c6b340c36ccb75d55f": {
      "model_module": "@jupyter-widgets/controls",
      "model_module_version": "1.5.0",
      "model_name": "FloatTextModel",
      "state": {
       "description": "$x^2$",
       "disabled": true,
       "layout": "IPY_MODEL_946af28fa5a642a99fab3547e197532c",
       "step": null,
       "style": "IPY_MODEL_6bcf0ad35e1c420c8988efa1d1d95c9d",
       "value": 196
      }
     },
     "d6fcd443796a4d058afc5f9d27641f2c": {
      "model_module": "@jupyter-widgets/controls",
      "model_module_version": "1.5.0",
      "model_name": "FloatSliderModel",
      "state": {
       "description": "x",
       "layout": "IPY_MODEL_f35f30a6d31d4b5e81485eb657fa0cf9",
       "step": 0.1,
       "style": "IPY_MODEL_da697062d1f8472fb161449e9107cb9e",
       "value": 14
      }
     },
     "da697062d1f8472fb161449e9107cb9e": {
      "model_module": "@jupyter-widgets/controls",
      "model_module_version": "1.5.0",
      "model_name": "SliderStyleModel",
      "state": {
       "description_width": ""
      }
     },
     "e1079e2112cf4e91b3aa3a0f7da11343": {
      "model_module": "@jupyter-widgets/base",
      "model_module_version": "1.2.0",
      "model_name": "LayoutModel",
      "state": {}
     },
     "ea4c2ea4df5b42c6a32ad85e798a4449": {
      "model_module": "@jupyter-widgets/controls",
      "model_module_version": "1.5.0",
      "model_name": "ButtonModel",
      "state": {
       "description": "Kill Kernel",
       "layout": "IPY_MODEL_81677c5f6bc045c9846b177af3b5bdfd",
       "style": "IPY_MODEL_0635b6414d3d433495fefc857e3249b0"
      }
     },
     "f35f30a6d31d4b5e81485eb657fa0cf9": {
      "model_module": "@jupyter-widgets/base",
      "model_module_version": "1.2.0",
      "model_name": "LayoutModel",
      "state": {}
     },
     "f63b5bcbd7a741ad96510013f549448a": {
      "model_module": "@jupyter-widgets/controls",
      "model_module_version": "1.5.0",
      "model_name": "FloatTextModel",
      "state": {
       "description": "$x^2$",
       "disabled": true,
       "layout": "IPY_MODEL_bb08db042b3c464b92a6418c06e951d6",
       "step": null,
       "style": "IPY_MODEL_a52ca98f36a04a449e7b1b90746a2f09",
       "value": 196
      }
     }
    },
    "version_major": 2,
    "version_minor": 0
   }
  }
 },
 "nbformat": 4,
 "nbformat_minor": 4
}
