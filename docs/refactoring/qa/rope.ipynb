{
 "cells": [
  {
   "cell_type": "markdown",
   "id": "vocal-google",
   "metadata": {},
   "source": [
    "# Rope"
   ]
  },
  {
   "cell_type": "markdown",
   "id": "executed-second",
   "metadata": {},
   "source": [
    "## Installation\n",
    "\n",
    "[Rope](https://github.com/python-rope/rope) kann einfach installiert werden mit\n",
    "\n",
    "```console\n",
    "$pipenv install rope\n",
    "```"
   ]
  },
  {
   "cell_type": "markdown",
   "id": "concrete-cover",
   "metadata": {},
   "source": [
    "## Nutzung\n",
    "\n",
    "Nun importieren wir zunächst den `Project`-Typ und instanziieren ihn mit dem Pfad zum Projekt:"
   ]
  },
  {
   "cell_type": "code",
   "execution_count": 1,
   "id": "floral-drinking",
   "metadata": {},
   "outputs": [],
   "source": [
    "from rope.base.project import Project\n",
    "\n",
    "proj = Project('requests')"
   ]
  },
  {
   "cell_type": "markdown",
   "id": "conscious-listening",
   "metadata": {},
   "source": [
    "Dies erstellt dann einen Projektordner mit dem Namen `.ropeproject` in unserem Projekt."
   ]
  },
  {
   "cell_type": "code",
   "execution_count": 2,
   "id": "modular-dodge",
   "metadata": {},
   "outputs": [
    {
     "data": {
      "text/plain": [
       "['hooks.py',\n",
       " 'utils.py',\n",
       " '_internal_utils.py',\n",
       " 'status_codes.py',\n",
       " '__version__.py',\n",
       " 'sessions.py',\n",
       " 'api.py',\n",
       " 'cookies.py',\n",
       " 'adapters.py',\n",
       " 'certs.py',\n",
       " 'exceptions.py',\n",
       " 'api_v1.py',\n",
       " 'auth.py',\n",
       " 'help.py',\n",
       " 'structures.py',\n",
       " 'compat.py',\n",
       " 'packages.py',\n",
       " '__init__.py',\n",
       " 'models.py']"
      ]
     },
     "execution_count": 2,
     "metadata": {},
     "output_type": "execute_result"
    }
   ],
   "source": [
    "[f.name for f in proj.get_files()]"
   ]
  },
  {
   "cell_type": "markdown",
   "id": "unauthorized-hearts",
   "metadata": {},
   "source": [
    "Die `proj`-Variable kann eine Reihe von Befehlen ausführen wie `get_files` und `get_file`. Im folgenden Beispiel nutzen wir dies um  der Datei `api.py` die Variable `api` zuzuweisen."
   ]
  },
  {
   "cell_type": "code",
   "execution_count": 3,
   "id": "supreme-terrorist",
   "metadata": {},
   "outputs": [],
   "source": [
    "!cp requests/api.py requests/api_v1.py"
   ]
  },
  {
   "cell_type": "code",
   "execution_count": 4,
   "id": "heated-airline",
   "metadata": {},
   "outputs": [],
   "source": [
    "api = proj.get_file('api.py')"
   ]
  },
  {
   "cell_type": "code",
   "execution_count": 5,
   "id": "choice-customer",
   "metadata": {},
   "outputs": [],
   "source": [
    "from rope.refactor.rename import Rename\n",
    "\n",
    "change = Rename(proj, api).get_changes('api_v1')\n",
    "\n",
    "proj.do(change)"
   ]
  },
  {
   "cell_type": "code",
   "execution_count": 6,
   "id": "reported-reproduction",
   "metadata": {},
   "outputs": [
    {
     "name": "stdout",
     "output_type": "stream",
     "text": [
      "Auf Branch master\r\n",
      "Änderungen, die nicht zum Commit vorgemerkt sind:\r\n",
      "  (benutzen Sie \"git add <Datei>...\", um die Änderungen zum Commit vorzumerken)\r\n",
      "  (benutzen Sie \"git restore <Datei>...\", um die Änderungen im Arbeitsverzeichnis zu verwerfen)\r\n",
      "\t\u001b[31mgeändert:       __init__.py\u001b[m\r\n",
      "\r\n",
      "Unversionierte Dateien:\r\n",
      "  (benutzen Sie \"git add <Datei>...\", um die Änderungen zum Commit vorzumerken)\r\n",
      "\t\u001b[31m.ropeproject/\u001b[m\r\n",
      "\t\u001b[31mapi_v1.py\u001b[m\r\n",
      "\r\n",
      "keine Änderungen zum Commit vorgemerkt (benutzen Sie \"git add\" und/oder \"git commit -a\")\r\n"
     ]
    }
   ],
   "source": [
    "!cd requests && git status"
   ]
  },
  {
   "cell_type": "code",
   "execution_count": 7,
   "id": "attempted-ratio",
   "metadata": {},
   "outputs": [
    {
     "name": "stdout",
     "output_type": "stream",
     "text": [
      "\u001b[1mdiff --git a/__init__.py b/__init__.py\u001b[m\r\n",
      "\u001b[1mindex f8f9429..502e33a 100644\u001b[m\r\n",
      "\u001b[1m--- a/__init__.py\u001b[m\r\n",
      "\u001b[1m+++ b/__init__.py\u001b[m\r\n",
      "\u001b[36m@@ -118,7 +118,7 @@\u001b[m \u001b[mfrom .__version__ import __copyright__, __cake__\u001b[m\r\n",
      " from . import utils\u001b[m\r\n",
      " from . import packages\u001b[m\r\n",
      " from .models import Request, Response, PreparedRequest\u001b[m\r\n",
      "\u001b[31m-from .api import request, get, head, post, patch, put, delete, options\u001b[m\r\n",
      "\u001b[32m+\u001b[m\u001b[32mfrom .api_v1 import request, get, head, post, patch, put, delete, options\u001b[m\r\n",
      " from .sessions import session, Session\u001b[m\r\n",
      " from .status_codes import codes\u001b[m\r\n",
      " from .exceptions import (\u001b[m\r\n"
     ]
    }
   ],
   "source": [
    "!cd requests && git diff __init__.py"
   ]
  },
  {
   "cell_type": "markdown",
   "id": "exempt-halloween",
   "metadata": {},
   "source": [
    "Mit `proj.do(change)` ist also die Datei `requests/__init__.py` so geändert worden, dass von `new_api` anstatt von `api` importiert wird."
   ]
  },
  {
   "cell_type": "markdown",
   "id": "twelve-pixel",
   "metadata": {},
   "source": [
    "Rope kann jedoch nicht nur beim Umbenennen von Dateien verwendet werden, sondern auch in hinderten anderer Fälle; siehe auch [Rope Refactorings](https://github.com/python-rope/rope/blob/master/docs/overview.rst#id2)."
   ]
  }
 ],
 "metadata": {
  "kernelspec": {
   "display_name": "Python 3.7.3",
   "language": "python",
   "name": "python-373"
  },
  "language_info": {
   "codemirror_mode": {
    "name": "ipython",
    "version": 3
   },
   "file_extension": ".py",
   "mimetype": "text/x-python",
   "name": "python",
   "nbconvert_exporter": "python",
   "pygments_lexer": "ipython3",
   "version": "3.7.3"
  },
  "latex_envs": {
   "LaTeX_envs_menu_present": true,
   "autoclose": false,
   "autocomplete": true,
   "bibliofile": "biblio.bib",
   "cite_by": "apalike",
   "current_citInitial": 1,
   "eqLabelWithNumbers": true,
   "eqNumInitial": 1,
   "hotkeys": {
    "equation": "Ctrl-E",
    "itemize": "Ctrl-I"
   },
   "labels_anchors": false,
   "latex_user_defs": false,
   "report_style_numbering": false,
   "user_envs_cfg": false
  }
 },
 "nbformat": 4,
 "nbformat_minor": 5
}
