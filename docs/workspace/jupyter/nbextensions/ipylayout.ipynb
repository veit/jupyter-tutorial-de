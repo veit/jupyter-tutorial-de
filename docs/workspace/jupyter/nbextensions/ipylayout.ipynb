{
 "cells": [
  {
   "cell_type": "markdown",
   "metadata": {},
   "source": [
    "# `ipylayout`\n",
    "\n",
    "`ipylayout` basiert auf [GoldenLayout](http://golden-layout.com/), einem Multi-Screen-Layout-Manager für Webanwendungen."
   ]
  },
  {
   "cell_type": "markdown",
   "metadata": {},
   "source": [
    "## Installation\n",
    "\n",
    "`ipylayout` kann einfach mit pipenv installiert werden:\n",
    "\n",
    "```\n",
    "$ pipenv install ipylayout\n",
    "Installing ipylayout…\n",
    "…\n",
    "```\n",
    "Sofern noch nicht geschehen, wird auch `ipywidgets` mitinstalliert."
   ]
  },
  {
   "cell_type": "markdown",
   "metadata": {},
   "source": [
    "## Beispiel\n",
    "\n",
    "Für das folgende Beispiel benötigt ihr zusätzlich noch die Python-Pakete `ipyleaflet` und `ipympl`."
   ]
  },
  {
   "cell_type": "code",
   "execution_count": 1,
   "metadata": {},
   "outputs": [],
   "source": [
    "%matplotlib widget\n",
    "import ipylayout\n",
    "import ipywidgets\n",
    "import ipyleaflet\n",
    "import matplotlib.pyplot as plt\n",
    "import numpy as np\n",
    "plt.ioff()"
   ]
  },
  {
   "cell_type": "code",
   "execution_count": 2,
   "metadata": {},
   "outputs": [],
   "source": [
    "# create a plot\n",
    "\n",
    "fig = plt.figure()\n",
    "fig.canvas.header_visible = False\n",
    "fig.canvas.layout.min_height = '300px'\n",
    "fig.canvas.layout.width = '100%'\n",
    "plt.title('Plotting: y=sin(x)')\n",
    "\n",
    "x = np.linspace(0, 20, 500)\n",
    "lines = plt.plot(x, np.sin(x))"
   ]
  },
  {
   "cell_type": "code",
   "execution_count": 3,
   "metadata": {},
   "outputs": [],
   "source": [
    "# create a slider\n",
    "\n",
    "slider = ipywidgets.FloatSlider()"
   ]
  },
  {
   "cell_type": "code",
   "execution_count": 4,
   "metadata": {},
   "outputs": [],
   "source": [
    "# create a map\n",
    "\n",
    "m = ipyleaflet.Map(\n",
    "    center=(52.204793, 360.121558),\n",
    "    zoom=4\n",
    ")"
   ]
  },
  {
   "cell_type": "code",
   "execution_count": 5,
   "metadata": {},
   "outputs": [],
   "source": [
    "# create a layout\n",
    "\n",
    "l = ipylayout.Layout(layout=ipywidgets.Layout(width='100%', height='800px'))\n",
    "l.theme = 'light' # light or dark\n",
    "l.config = {\n",
    "    'content': [{\n",
    "        'type': 'row',\n",
    "        'content': [{\n",
    "            'type': 'component',\n",
    "            'componentName': 'name0',\n",
    "            'componentState': { 'label': 'A' }\n",
    "        }, {\n",
    "            'type': 'column',\n",
    "            'content': [{\n",
    "                'type': 'component',\n",
    "                'componentName': 'name1',\n",
    "                'componentState': { 'label': 'B' }\n",
    "            }, {\n",
    "                'type': 'component',\n",
    "                'componentName': 'name2',\n",
    "                'componentState': { 'label': 'C' }\n",
    "            }]\n",
    "        }]\n",
    "    }]\n",
    "}\n",
    "l.components = {'name0': slider, 'name1': m, 'name2': fig.canvas}"
   ]
  },
  {
   "cell_type": "code",
   "execution_count": 6,
   "metadata": {},
   "outputs": [
    {
     "data": {
      "application/vnd.jupyter.widget-view+json": {
       "model_id": "b115c55edc2742b9b542dc102f921b8e",
       "version_major": 2,
       "version_minor": 0
      },
      "text/plain": [
       "Layout(config={'content': [{'type': 'row', 'content': [{'type': 'component', 'componentName': 'name0', 'compon…"
      ]
     },
     "metadata": {},
     "output_type": "display_data"
    }
   ],
   "source": [
    "l"
   ]
  },
  {
   "cell_type": "markdown",
   "metadata": {},
   "source": [
    "`ipylayout` kann auch zusammen mit [Voilà](../../../web/dashboards/voila/index.html) verwendet werden:\n",
    "![ipylayout in Voilà](voila-ipylayout.png)"
   ]
  }
 ],
 "metadata": {
  "kernelspec": {
   "display_name": "Python 3.7.4",
   "language": "python",
   "name": "python-374"
  },
  "language_info": {
   "codemirror_mode": {
    "name": "ipython",
    "version": 3
   },
   "file_extension": ".py",
   "mimetype": "text/x-python",
   "name": "python",
   "nbconvert_exporter": "python",
   "pygments_lexer": "ipython3",
   "version": "3.7.4"
  },
  "latex_envs": {
   "LaTeX_envs_menu_present": true,
   "autoclose": false,
   "autocomplete": true,
   "bibliofile": "biblio.bib",
   "cite_by": "apalike",
   "current_citInitial": 1,
   "eqLabelWithNumbers": true,
   "eqNumInitial": 1,
   "hotkeys": {
    "equation": "Ctrl-E",
    "itemize": "Ctrl-I"
   },
   "labels_anchors": false,
   "latex_user_defs": false,
   "report_style_numbering": false,
   "user_envs_cfg": false
  },
  "widgets": {
   "application/vnd.jupyter.widget-state+json": {
    "state": {
     "04b65a409c884f68ab3f79023428efe7": {
      "model_module": "jupyter-leaflet",
      "model_module_version": "^0.12.4",
      "model_name": "LeafletZoomControlModel",
      "state": {
       "_model_module_version": "^0.12.4",
       "_view_module_version": "^0.12.4",
       "options": [
        "position",
        "zoom_in_text",
        "zoom_in_title",
        "zoom_out_text",
        "zoom_out_title"
       ]
      }
     },
     "0ff5639f6a3b46c5a5fdcbd8ad5b2af3": {
      "model_module": "jupyter-leaflet",
      "model_module_version": "^0.12.6",
      "model_name": "LeafletTileLayerModel",
      "state": {
       "_model_module_version": "^0.12.6",
       "_view_module_version": "^0.12.6",
       "base": true,
       "max_native_zoom": 18,
       "max_zoom": 19,
       "min_native_zoom": 0,
       "min_zoom": 1,
       "no_wrap": false,
       "options": [
        "attribution",
        "detect_retina",
        "max_native_zoom",
        "max_zoom",
        "min_native_zoom",
        "min_zoom",
        "no_wrap",
        "tile_size",
        "tms"
       ]
      }
     },
     "1bbf034229be456db7dabc27e0c5c274": {
      "model_module": "jupyter-leaflet",
      "model_module_version": "^0.12.4",
      "model_name": "LeafletZoomControlModel",
      "state": {
       "_model_module_version": "^0.12.4",
       "_view_module_version": "^0.12.4",
       "options": [
        "position",
        "zoom_in_text",
        "zoom_in_title",
        "zoom_out_text",
        "zoom_out_title"
       ]
      }
     },
     "2348777a4c6d498ba47732db4683308b": {
      "model_module": "jupyter-leaflet",
      "model_module_version": "^0.12.6",
      "model_name": "LeafletMapStyleModel",
      "state": {
       "_model_module_version": "^0.12.6"
      }
     },
     "23b9691b6df44a0da9cd1ea3f05734ac": {
      "model_module": "@jupyter-widgets/base",
      "model_module_version": "1.2.0",
      "model_name": "LayoutModel",
      "state": {}
     },
     "27775303ae9248bd898a6e6134329aa3": {
      "model_module": "jupyter-matplotlib",
      "model_module_version": "^0.7.2",
      "model_name": "MPLCanvasModel",
      "state": {
       "_cursor": "default",
       "_figure_label": "Figure 1",
       "_height": 480,
       "_width": 640,
       "header_visible": false,
       "layout": "IPY_MODEL_b84c7fc6b47a4f32ba3717fed059226d",
       "toolbar": "IPY_MODEL_de5631f06906426f89dca7a3430636e9",
       "toolbar_position": "left"
      }
     },
     "27ba7a052f55478e9afa84b865def536": {
      "model_module": "jupyter-leaflet",
      "model_module_version": "^0.12.4",
      "model_name": "LeafletMapModel",
      "state": {
       "_model_module_version": "^0.12.4",
       "_view_module_version": "^0.12.4",
       "center": [
        52.204793,
        360.121558
       ],
       "controls": [
        "IPY_MODEL_1bbf034229be456db7dabc27e0c5c274",
        "IPY_MODEL_2fac4e82d38f4ee89d8ca374382dc3dd"
       ],
       "default_style": "IPY_MODEL_a620fb3025064e8583b9282723914e86",
       "dragging_style": "IPY_MODEL_792d03e747b148939adfacc13c7614e3",
       "east": 381.35742187500006,
       "fullscreen": false,
       "interpolation": "bilinear",
       "layers": [
        "IPY_MODEL_8b47641ae1b64bcf8e9d3b1a2bfc5f37"
       ],
       "layout": "IPY_MODEL_872b0677f2824cd3966076d85fefbd63",
       "modisdate": "yesterday",
       "north": 61.73152565113397,
       "options": [
        "bounce_at_zoom_limits",
        "box_zoom",
        "center",
        "close_popup_on_click",
        "double_click_zoom",
        "dragging",
        "fullscreen",
        "inertia",
        "inertia_deceleration",
        "inertia_max_speed",
        "interpolation",
        "keyboard",
        "keyboard_pan_offset",
        "keyboard_zoom_offset",
        "max_zoom",
        "min_zoom",
        "scroll_wheel_zoom",
        "tap",
        "tap_tolerance",
        "touch_zoom",
        "world_copy_jump",
        "zoom",
        "zoom_animation_threshold",
        "zoom_start"
       ],
       "south": 40.111688665595956,
       "style": "IPY_MODEL_a620fb3025064e8583b9282723914e86",
       "west": 180,
       "zoom": 4
      }
     },
     "2faa0f4feef94675b76b1764371a798a": {
      "model_module": "@jupyter-widgets/base",
      "model_module_version": "1.2.0",
      "model_name": "LayoutModel",
      "state": {}
     },
     "2fac4e82d38f4ee89d8ca374382dc3dd": {
      "model_module": "jupyter-leaflet",
      "model_module_version": "^0.12.4",
      "model_name": "LeafletAttributionControlModel",
      "state": {
       "_model_module_version": "^0.12.4",
       "_view_module_version": "^0.12.4",
       "options": [
        "position",
        "prefix"
       ],
       "position": "bottomright",
       "prefix": "Leaflet"
      }
     },
     "397fee7afd224856a7b41a76392716ed": {
      "model_module": "ipylayout",
      "model_module_version": "^0.1.6",
      "model_name": "LayoutModel",
      "state": {
       "_children": [
        "IPY_MODEL_ff87bf1022c34ca3b2f42b7da68159f9",
        "IPY_MODEL_d561cc05930145f799c6d15b03cc3509",
        "IPY_MODEL_2f41c406ca9749ec81640cf3288e5c41"
       ],
       "_component_names": [
        "name0",
        "name1",
        "name2"
       ],
       "_model_module_version": "^0.1.6",
       "_view_module_version": "^0.1.6",
       "config": {
        "content": [
         {
          "content": [
           {
            "componentName": "name0",
            "componentState": {
             "label": "A"
            },
            "type": "component"
           },
           {
            "content": [
             {
              "componentName": "name1",
              "componentState": {
               "label": "B"
              },
              "type": "component"
             },
             {
              "componentName": "name2",
              "componentState": {
               "label": "C"
              },
              "type": "component"
             }
            ],
            "type": "column"
           }
          ],
          "type": "row"
         }
        ]
       },
       "layout": "IPY_MODEL_987f6a88f003410d82d73ada2ea5ab78"
      }
     },
     "417256288d8b4bc5af2b6353c7db4e6a": {
      "model_module": "jupyter-leaflet",
      "model_module_version": "^0.12.6",
      "model_name": "LeafletTileLayerModel",
      "state": {
       "_model_module_version": "^0.12.6",
       "_view_module_version": "^0.12.6",
       "base": true,
       "max_native_zoom": 18,
       "max_zoom": 19,
       "min_native_zoom": 0,
       "min_zoom": 1,
       "no_wrap": false,
       "options": [
        "attribution",
        "detect_retina",
        "max_native_zoom",
        "max_zoom",
        "min_native_zoom",
        "min_zoom",
        "no_wrap",
        "tile_size",
        "tms"
       ]
      }
     },
     "4ceabb1ca9734129a10c142a48590728": {
      "model_module": "@jupyter-widgets/controls",
      "model_module_version": "1.5.0",
      "model_name": "FloatSliderModel",
      "state": {
       "layout": "IPY_MODEL_2faa0f4feef94675b76b1764371a798a",
       "step": 0.1,
       "style": "IPY_MODEL_883c1a29ba2748598f3176c29c0d5f1a"
      }
     },
     "4d23effe486841c094a3074f5ed13e7f": {
      "model_module": "@jupyter-widgets/base",
      "model_module_version": "1.2.0",
      "model_name": "LayoutModel",
      "state": {}
     },
     "537a1ae863af4860894e5023405cc594": {
      "model_module": "jupyter-leaflet",
      "model_module_version": "^0.12.6",
      "model_name": "LeafletMapModel",
      "state": {
       "_model_module_version": "^0.12.6",
       "_view_module_version": "^0.12.6",
       "center": [
        52.204793,
        360.121558
       ],
       "controls": [
        "IPY_MODEL_da7283ec605f4b20bd156b2204a36227",
        "IPY_MODEL_627d29db20b344d0ba30203150a92738"
       ],
       "default_style": "IPY_MODEL_ef7b6227f9594f7cb8536dcf66e28bdb",
       "dragging_style": "IPY_MODEL_75c03ac0166b45b3b09f33cb8b88a1f5",
       "east": 381.35742187500006,
       "fullscreen": false,
       "interpolation": "bilinear",
       "layers": [
        "IPY_MODEL_417256288d8b4bc5af2b6353c7db4e6a"
       ],
       "layout": "IPY_MODEL_73c843a0a9f941acb53b712d002652e3",
       "modisdate": "yesterday",
       "north": 61.73152565113397,
       "options": [
        "bounce_at_zoom_limits",
        "box_zoom",
        "center",
        "close_popup_on_click",
        "double_click_zoom",
        "dragging",
        "fullscreen",
        "inertia",
        "inertia_deceleration",
        "inertia_max_speed",
        "interpolation",
        "keyboard",
        "keyboard_pan_offset",
        "keyboard_zoom_offset",
        "max_zoom",
        "min_zoom",
        "scroll_wheel_zoom",
        "tap",
        "tap_tolerance",
        "touch_zoom",
        "world_copy_jump",
        "zoom",
        "zoom_animation_threshold",
        "zoom_start"
       ],
       "south": 40.111688665595956,
       "style": "IPY_MODEL_ef7b6227f9594f7cb8536dcf66e28bdb",
       "west": 180,
       "zoom": 4
      }
     },
     "53f2f25e62db4721ba637a1811d24478": {
      "model_module": "jupyter-leaflet",
      "model_module_version": "^0.12.6",
      "model_name": "LeafletMapStyleModel",
      "state": {
       "_model_module_version": "^0.12.6"
      }
     },
     "57965c19b0484ba9afb726e48e07b3be": {
      "model_module": "jupyter-leaflet",
      "model_module_version": "^0.12.4",
      "model_name": "LeafletMapStyleModel",
      "state": {
       "_model_module_version": "^0.12.4"
      }
     },
     "5b6db0b624724f259a57d1401e037001": {
      "model_module": "jupyter-leaflet",
      "model_module_version": "^0.12.6",
      "model_name": "LeafletMapStyleModel",
      "state": {
       "_model_module_version": "^0.12.6",
       "cursor": "move"
      }
     },
     "627d29db20b344d0ba30203150a92738": {
      "model_module": "jupyter-leaflet",
      "model_module_version": "^0.12.6",
      "model_name": "LeafletAttributionControlModel",
      "state": {
       "_model_module_version": "^0.12.6",
       "_view_module_version": "^0.12.6",
       "options": [
        "position",
        "prefix"
       ],
       "position": "bottomright",
       "prefix": "Leaflet"
      }
     },
     "646c3dd3225c4b0ba543e4b077dac07f": {
      "model_module": "@jupyter-widgets/base",
      "model_module_version": "1.2.0",
      "model_name": "LayoutModel",
      "state": {}
     },
     "65d623e69f6144cfa61679b0bfba6984": {
      "model_module": "jupyter-leaflet",
      "model_module_version": "^0.12.4",
      "model_name": "LeafletMapStyleModel",
      "state": {
       "_model_module_version": "^0.12.4",
       "cursor": "move"
      }
     },
     "6831502a029540cfb42aa3bfdb2c35f4": {
      "model_module": "jupyter-matplotlib",
      "model_module_version": "^0.7.2",
      "model_name": "ToolbarModel",
      "state": {
       "layout": "IPY_MODEL_f1f5c13bf77745848f7d55faee9aacae",
       "toolitems": [
        [
         "Home",
         "Reset original view",
         "home",
         "home"
        ],
        [
         "Back",
         "Back to previous view",
         "arrow-left",
         "back"
        ],
        [
         "Forward",
         "Forward to next view",
         "arrow-right",
         "forward"
        ],
        [
         "Pan",
         "Pan axes with left mouse, zoom with right",
         "arrows",
         "pan"
        ],
        [
         "Zoom",
         "Zoom to rectangle",
         "square-o",
         "zoom"
        ],
        [
         "Download",
         "Download plot",
         "floppy-o",
         "save_figure"
        ]
       ]
      }
     },
     "6a27b88ba2194fa281ac7f5268760104": {
      "model_module": "jupyter-leaflet",
      "model_module_version": "^0.12.4",
      "model_name": "LeafletMapModel",
      "state": {
       "_model_module_version": "^0.12.4",
       "_view_module_version": "^0.12.4",
       "center": [
        52.204793,
        360.121558
       ],
       "controls": [
        "IPY_MODEL_04b65a409c884f68ab3f79023428efe7",
        "IPY_MODEL_ac936db4b7ba4ab9a4f2b11b884df3d1"
       ],
       "default_style": "IPY_MODEL_57965c19b0484ba9afb726e48e07b3be",
       "dragging_style": "IPY_MODEL_65d623e69f6144cfa61679b0bfba6984",
       "east": 381.35742187500006,
       "fullscreen": false,
       "interpolation": "bilinear",
       "layers": [
        "IPY_MODEL_8a93de577ccc4735bf2c2e98e0fcc347"
       ],
       "layout": "IPY_MODEL_23b9691b6df44a0da9cd1ea3f05734ac",
       "modisdate": "yesterday",
       "north": 61.73152565113397,
       "options": [
        "bounce_at_zoom_limits",
        "box_zoom",
        "center",
        "close_popup_on_click",
        "double_click_zoom",
        "dragging",
        "fullscreen",
        "inertia",
        "inertia_deceleration",
        "inertia_max_speed",
        "interpolation",
        "keyboard",
        "keyboard_pan_offset",
        "keyboard_zoom_offset",
        "max_zoom",
        "min_zoom",
        "scroll_wheel_zoom",
        "tap",
        "tap_tolerance",
        "touch_zoom",
        "world_copy_jump",
        "zoom",
        "zoom_animation_threshold",
        "zoom_start"
       ],
       "south": 40.111688665595956,
       "style": "IPY_MODEL_57965c19b0484ba9afb726e48e07b3be",
       "west": 180,
       "zoom": 4
      }
     },
     "73c843a0a9f941acb53b712d002652e3": {
      "model_module": "@jupyter-widgets/base",
      "model_module_version": "1.2.0",
      "model_name": "LayoutModel",
      "state": {}
     },
     "75b13700bbe34876be7ddac720cc91d8": {
      "model_module": "@jupyter-widgets/base",
      "model_module_version": "1.2.0",
      "model_name": "LayoutModel",
      "state": {
       "height": "800px",
       "width": "100%"
      }
     },
     "75c03ac0166b45b3b09f33cb8b88a1f5": {
      "model_module": "jupyter-leaflet",
      "model_module_version": "^0.12.6",
      "model_name": "LeafletMapStyleModel",
      "state": {
       "_model_module_version": "^0.12.6",
       "cursor": "move"
      }
     },
     "76171e1dfb4e4450a9179eacaa85eee4": {
      "model_module": "jupyter-leaflet",
      "model_module_version": "^0.12.4",
      "model_name": "LeafletMapStyleModel",
      "state": {
       "_model_module_version": "^0.12.4"
      }
     },
     "7690b47449cc4be3badb4d3773f54bec": {
      "model_module": "@jupyter-widgets/base",
      "model_module_version": "1.2.0",
      "model_name": "LayoutModel",
      "state": {
       "height": "800px",
       "width": "100%"
      }
     },
     "792d03e747b148939adfacc13c7614e3": {
      "model_module": "jupyter-leaflet",
      "model_module_version": "^0.12.4",
      "model_name": "LeafletMapStyleModel",
      "state": {
       "_model_module_version": "^0.12.4",
       "cursor": "move"
      }
     },
     "7bbedb01afda43358b4f2c23a253d7dc": {
      "model_module": "jupyter-leaflet",
      "model_module_version": "^0.12.6",
      "model_name": "LeafletZoomControlModel",
      "state": {
       "_model_module_version": "^0.12.6",
       "_view_module_version": "^0.12.6",
       "options": [
        "position",
        "zoom_in_text",
        "zoom_in_title",
        "zoom_out_text",
        "zoom_out_title"
       ]
      }
     },
     "7f87a897172a498ebad04af3b70bde75": {
      "model_module": "@jupyter-widgets/controls",
      "model_module_version": "1.5.0",
      "model_name": "FloatSliderModel",
      "state": {
       "layout": "IPY_MODEL_ea728fa586a1477c819838df56dcdfd3",
       "step": 0.1,
       "style": "IPY_MODEL_b908296f774b433992515a4c2995d6d4"
      }
     },
     "81595d89e11543d39c400c67cf830093": {
      "model_module": "@jupyter-widgets/base",
      "model_module_version": "1.2.0",
      "model_name": "LayoutModel",
      "state": {
       "min_height": "300px",
       "width": "100%"
      }
     },
     "872b0677f2824cd3966076d85fefbd63": {
      "model_module": "@jupyter-widgets/base",
      "model_module_version": "1.2.0",
      "model_name": "LayoutModel",
      "state": {}
     },
     "883c1a29ba2748598f3176c29c0d5f1a": {
      "model_module": "@jupyter-widgets/controls",
      "model_module_version": "1.5.0",
      "model_name": "SliderStyleModel",
      "state": {
       "description_width": ""
      }
     },
     "8a93de577ccc4735bf2c2e98e0fcc347": {
      "model_module": "jupyter-leaflet",
      "model_module_version": "^0.12.4",
      "model_name": "LeafletTileLayerModel",
      "state": {
       "_model_module_version": "^0.12.4",
       "_view_module_version": "^0.12.4",
       "base": true,
       "max_native_zoom": 18,
       "max_zoom": 19,
       "min_native_zoom": 0,
       "min_zoom": 1,
       "no_wrap": false,
       "options": [
        "attribution",
        "detect_retina",
        "max_native_zoom",
        "max_zoom",
        "min_native_zoom",
        "min_zoom",
        "no_wrap",
        "tile_size",
        "tms"
       ]
      }
     },
     "8b47641ae1b64bcf8e9d3b1a2bfc5f37": {
      "model_module": "jupyter-leaflet",
      "model_module_version": "^0.12.4",
      "model_name": "LeafletTileLayerModel",
      "state": {
       "_model_module_version": "^0.12.4",
       "_view_module_version": "^0.12.4",
       "base": true,
       "max_native_zoom": 18,
       "max_zoom": 19,
       "min_native_zoom": 0,
       "min_zoom": 1,
       "no_wrap": false,
       "options": [
        "attribution",
        "detect_retina",
        "max_native_zoom",
        "max_zoom",
        "min_native_zoom",
        "min_zoom",
        "no_wrap",
        "tile_size",
        "tms"
       ]
      }
     },
     "8c55d53627b44251b3d9419fe420c03f": {
      "model_module": "jupyter-matplotlib",
      "model_module_version": "^0.7.2",
      "model_name": "MPLCanvasModel",
      "state": {
       "_cursor": "default",
       "_figure_label": "Figure 1",
       "_height": 480,
       "_width": 640,
       "header_visible": false,
       "layout": "IPY_MODEL_c58e355fc8d942cc9ad1060296d12005",
       "toolbar": "IPY_MODEL_6831502a029540cfb42aa3bfdb2c35f4",
       "toolbar_position": "left"
      }
     },
     "8ceddf5c8c6146f3bf2ff8fb3d8c9475": {
      "model_module": "ipylayout",
      "model_module_version": "^0.1.0",
      "model_name": "LayoutModel",
      "state": {
       "_children": [
        "IPY_MODEL_ac95afffec7d4238a7ec0b7e405da60a",
        "IPY_MODEL_6a27b88ba2194fa281ac7f5268760104",
        "IPY_MODEL_8c55d53627b44251b3d9419fe420c03f"
       ],
       "_component_names": [
        "name0",
        "name1",
        "name2"
       ],
       "_model_module_version": "^0.1.0",
       "_view_module_version": "^0.1.0",
       "config": {
        "content": [
         {
          "content": [
           {
            "componentName": "name0",
            "componentState": {
             "label": "A"
            },
            "type": "component"
           },
           {
            "content": [
             {
              "componentName": "name1",
              "componentState": {
               "label": "B"
              },
              "type": "component"
             },
             {
              "componentName": "name2",
              "componentState": {
               "label": "C"
              },
              "type": "component"
             }
            ],
            "type": "column"
           }
          ],
          "type": "row"
         }
        ]
       },
       "layout": "IPY_MODEL_b159c5e4c32f4c14850b78c9883ff04e"
      }
     },
     "93d06603bc084621838b3a2ba222f4f4": {
      "model_module": "jupyter-leaflet",
      "model_module_version": "^0.12.6",
      "model_name": "LeafletAttributionControlModel",
      "state": {
       "_model_module_version": "^0.12.6",
       "_view_module_version": "^0.12.6",
       "options": [
        "position",
        "prefix"
       ],
       "position": "bottomright",
       "prefix": "Leaflet"
      }
     },
     "987f6a88f003410d82d73ada2ea5ab78": {
      "model_module": "@jupyter-widgets/base",
      "model_module_version": "1.2.0",
      "model_name": "LayoutModel",
      "state": {
       "height": "800px",
       "width": "100%"
      }
     },
     "a620fb3025064e8583b9282723914e86": {
      "model_module": "jupyter-leaflet",
      "model_module_version": "^0.12.4",
      "model_name": "LeafletMapStyleModel",
      "state": {
       "_model_module_version": "^0.12.4"
      }
     },
     "a7fc04946b1f4ebfab801d9638f94586": {
      "model_module": "jupyter-leaflet",
      "model_module_version": "^0.12.6",
      "model_name": "LeafletMapStyleModel",
      "state": {
       "_model_module_version": "^0.12.6"
      }
     },
     "abe05d74558141a194389dac2b0248ba": {
      "model_module": "@jupyter-widgets/base",
      "model_module_version": "1.2.0",
      "model_name": "LayoutModel",
      "state": {}
     },
     "ac936db4b7ba4ab9a4f2b11b884df3d1": {
      "model_module": "jupyter-leaflet",
      "model_module_version": "^0.12.4",
      "model_name": "LeafletAttributionControlModel",
      "state": {
       "_model_module_version": "^0.12.4",
       "_view_module_version": "^0.12.4",
       "options": [
        "position",
        "prefix"
       ],
       "position": "bottomright",
       "prefix": "Leaflet"
      }
     },
     "ac95afffec7d4238a7ec0b7e405da60a": {
      "model_module": "@jupyter-widgets/controls",
      "model_module_version": "1.5.0",
      "model_name": "FloatSliderModel",
      "state": {
       "layout": "IPY_MODEL_646c3dd3225c4b0ba543e4b077dac07f",
       "step": 0.1,
       "style": "IPY_MODEL_b728defbe47d4f7a88f07ad8082e86eb"
      }
     },
     "b115c55edc2742b9b542dc102f921b8e": {
      "model_module": "ipylayout",
      "model_module_version": "^0.1.6",
      "model_name": "LayoutModel",
      "state": {
       "_children": [
        "IPY_MODEL_4ceabb1ca9734129a10c142a48590728",
        "IPY_MODEL_537a1ae863af4860894e5023405cc594",
        "IPY_MODEL_beda018f78024eeebc75d19b53ad01a4"
       ],
       "_component_names": [
        "name0",
        "name1",
        "name2"
       ],
       "_model_module_version": "^0.1.6",
       "_view_module_version": "^0.1.6",
       "config": {
        "content": [
         {
          "content": [
           {
            "componentName": "name0",
            "componentState": {
             "label": "A"
            },
            "type": "component"
           },
           {
            "content": [
             {
              "componentName": "name1",
              "componentState": {
               "label": "B"
              },
              "type": "component"
             },
             {
              "componentName": "name2",
              "componentState": {
               "label": "C"
              },
              "type": "component"
             }
            ],
            "type": "column"
           }
          ],
          "type": "row"
         }
        ]
       },
       "layout": "IPY_MODEL_7690b47449cc4be3badb4d3773f54bec"
      }
     },
     "b159c5e4c32f4c14850b78c9883ff04e": {
      "model_module": "@jupyter-widgets/base",
      "model_module_version": "1.2.0",
      "model_name": "LayoutModel",
      "state": {
       "height": "800px",
       "width": "100%"
      }
     },
     "b236de9f020e460b804a00c344a106ab": {
      "model_module": "@jupyter-widgets/controls",
      "model_module_version": "1.5.0",
      "model_name": "SliderStyleModel",
      "state": {
       "description_width": ""
      }
     },
     "b2e28ce5c4eb430ea29070ddf731d0d9": {
      "model_module": "@jupyter-widgets/base",
      "model_module_version": "1.2.0",
      "model_name": "LayoutModel",
      "state": {
       "min_height": "300px",
       "width": "100%"
      }
     },
     "b3896d69ff9e4163bb09762e80914b33": {
      "model_module": "jupyter-matplotlib",
      "model_module_version": "^0.7.2",
      "model_name": "ToolbarModel",
      "state": {
       "layout": "IPY_MODEL_e065cbd680344513ada996cc117eafbb",
       "toolitems": [
        [
         "Home",
         "Reset original view",
         "home",
         "home"
        ],
        [
         "Back",
         "Back to previous view",
         "arrow-left",
         "back"
        ],
        [
         "Forward",
         "Forward to next view",
         "arrow-right",
         "forward"
        ],
        [
         "Pan",
         "Pan axes with left mouse, zoom with right",
         "arrows",
         "pan"
        ],
        [
         "Zoom",
         "Zoom to rectangle",
         "square-o",
         "zoom"
        ],
        [
         "Download",
         "Download plot",
         "floppy-o",
         "save_figure"
        ]
       ]
      }
     },
     "b4ec16dbaaf44e068d54c6c8315490d1": {
      "model_module": "jupyter-matplotlib",
      "model_module_version": "^0.7.2",
      "model_name": "ToolbarModel",
      "state": {
       "layout": "IPY_MODEL_4d23effe486841c094a3074f5ed13e7f",
       "toolitems": [
        [
         "Home",
         "Reset original view",
         "home",
         "home"
        ],
        [
         "Back",
         "Back to previous view",
         "arrow-left",
         "back"
        ],
        [
         "Forward",
         "Forward to next view",
         "arrow-right",
         "forward"
        ],
        [
         "Pan",
         "Pan axes with left mouse, zoom with right",
         "arrows",
         "pan"
        ],
        [
         "Zoom",
         "Zoom to rectangle",
         "square-o",
         "zoom"
        ],
        [
         "Download",
         "Download plot",
         "floppy-o",
         "save_figure"
        ]
       ]
      }
     },
     "b728defbe47d4f7a88f07ad8082e86eb": {
      "model_module": "@jupyter-widgets/controls",
      "model_module_version": "1.5.0",
      "model_name": "SliderStyleModel",
      "state": {
       "description_width": ""
      }
     },
     "b84c7fc6b47a4f32ba3717fed059226d": {
      "model_module": "@jupyter-widgets/base",
      "model_module_version": "1.2.0",
      "model_name": "LayoutModel",
      "state": {
       "min_height": "300px",
       "width": "100%"
      }
     },
     "b908296f774b433992515a4c2995d6d4": {
      "model_module": "@jupyter-widgets/controls",
      "model_module_version": "1.5.0",
      "model_name": "SliderStyleModel",
      "state": {
       "description_width": ""
      }
     },
     "b9d3dedd9c2a496b8a67d179894a4bce": {
      "model_module": "@jupyter-widgets/base",
      "model_module_version": "1.2.0",
      "model_name": "LayoutModel",
      "state": {}
     },
     "beda018f78024eeebc75d19b53ad01a4": {
      "model_module": "jupyter-matplotlib",
      "model_module_version": "^0.7.2",
      "model_name": "MPLCanvasModel",
      "state": {
       "_cursor": "default",
       "_figure_label": "Figure 1",
       "_height": 480,
       "_message": "x=-0.261491    y=0.43641     ",
       "_width": 640,
       "header_visible": false,
       "layout": "IPY_MODEL_b2e28ce5c4eb430ea29070ddf731d0d9",
       "toolbar": "IPY_MODEL_b4ec16dbaaf44e068d54c6c8315490d1",
       "toolbar_position": "left"
      }
     },
     "c58e355fc8d942cc9ad1060296d12005": {
      "model_module": "@jupyter-widgets/base",
      "model_module_version": "1.2.0",
      "model_name": "LayoutModel",
      "state": {
       "min_height": "300px",
       "width": "100%"
      }
     },
     "d561cc05930145f799c6d15b03cc3509": {
      "model_module": "jupyter-leaflet",
      "model_module_version": "^0.12.6",
      "model_name": "LeafletMapModel",
      "state": {
       "_model_module_version": "^0.12.6",
       "_view_module_version": "^0.12.6",
       "center": [
        52.214338608258224,
        360.087890625
       ],
       "controls": [
        "IPY_MODEL_7bbedb01afda43358b4f2c23a253d7dc",
        "IPY_MODEL_93d06603bc084621838b3a2ba222f4f4"
       ],
       "default_style": "IPY_MODEL_a7fc04946b1f4ebfab801d9638f94586",
       "dragging_style": "IPY_MODEL_5b6db0b624724f259a57d1401e037001",
       "east": -180,
       "fullscreen": false,
       "interpolation": "bilinear",
       "layers": [
        "IPY_MODEL_0ff5639f6a3b46c5a5fdcbd8ad5b2af3"
       ],
       "layout": "IPY_MODEL_f2d47d18e3ed40ab8a81854147bb7460",
       "modisdate": "yesterday",
       "north": -90,
       "options": [
        "bounce_at_zoom_limits",
        "box_zoom",
        "center",
        "close_popup_on_click",
        "double_click_zoom",
        "dragging",
        "fullscreen",
        "inertia",
        "inertia_deceleration",
        "inertia_max_speed",
        "interpolation",
        "keyboard",
        "keyboard_pan_offset",
        "keyboard_zoom_offset",
        "max_zoom",
        "min_zoom",
        "scroll_wheel_zoom",
        "tap",
        "tap_tolerance",
        "touch_zoom",
        "world_copy_jump",
        "zoom",
        "zoom_animation_threshold",
        "zoom_start"
       ],
       "south": 90,
       "style": "IPY_MODEL_a7fc04946b1f4ebfab801d9638f94586",
       "west": 180,
       "zoom": 4
      }
     },
     "da7283ec605f4b20bd156b2204a36227": {
      "model_module": "jupyter-leaflet",
      "model_module_version": "^0.12.6",
      "model_name": "LeafletZoomControlModel",
      "state": {
       "_model_module_version": "^0.12.6",
       "_view_module_version": "^0.12.6",
       "options": [
        "position",
        "zoom_in_text",
        "zoom_in_title",
        "zoom_out_text",
        "zoom_out_title"
       ]
      }
     },
     "da73fa6a260a4d5ba7bb295b71e49f11": {
      "model_module": "ipylayout",
      "model_module_version": "^0.1.0",
      "model_name": "LayoutModel",
      "state": {
       "_children": [
        "IPY_MODEL_7f87a897172a498ebad04af3b70bde75",
        "IPY_MODEL_27ba7a052f55478e9afa84b865def536",
        "IPY_MODEL_27775303ae9248bd898a6e6134329aa3"
       ],
       "_component_names": [
        "name0",
        "name1",
        "name2"
       ],
       "_model_module_version": "^0.1.0",
       "_view_module_version": "^0.1.0",
       "config": {
        "content": [
         {
          "content": [
           {
            "componentName": "name0",
            "componentState": {
             "label": "A"
            },
            "type": "component"
           },
           {
            "content": [
             {
              "componentName": "name1",
              "componentState": {
               "label": "B"
              },
              "type": "component"
             },
             {
              "componentName": "name2",
              "componentState": {
               "label": "C"
              },
              "type": "component"
             }
            ],
            "type": "column"
           }
          ],
          "type": "row"
         }
        ]
       },
       "layout": "IPY_MODEL_75b13700bbe34876be7ddac720cc91d8"
      }
     },
     "de5631f06906426f89dca7a3430636e9": {
      "model_module": "jupyter-matplotlib",
      "model_module_version": "^0.7.2",
      "model_name": "ToolbarModel",
      "state": {
       "layout": "IPY_MODEL_b9d3dedd9c2a496b8a67d179894a4bce",
       "toolitems": [
        [
         "Home",
         "Reset original view",
         "home",
         "home"
        ],
        [
         "Back",
         "Back to previous view",
         "arrow-left",
         "back"
        ],
        [
         "Forward",
         "Forward to next view",
         "arrow-right",
         "forward"
        ],
        [
         "Pan",
         "Pan axes with left mouse, zoom with right",
         "arrows",
         "pan"
        ],
        [
         "Zoom",
         "Zoom to rectangle",
         "square-o",
         "zoom"
        ],
        [
         "Download",
         "Download plot",
         "floppy-o",
         "save_figure"
        ]
       ]
      }
     },
     "e065cbd680344513ada996cc117eafbb": {
      "model_module": "@jupyter-widgets/base",
      "model_module_version": "1.2.0",
      "model_name": "LayoutModel",
      "state": {}
     },
     "ea728fa586a1477c819838df56dcdfd3": {
      "model_module": "@jupyter-widgets/base",
      "model_module_version": "1.2.0",
      "model_name": "LayoutModel",
      "state": {}
     },
     "ef7b6227f9594f7cb8536dcf66e28bdb": {
      "model_module": "jupyter-leaflet",
      "model_module_version": "^0.12.6",
      "model_name": "LeafletMapStyleModel",
      "state": {
       "_model_module_version": "^0.12.6"
      }
     },
     "f1f5c13bf77745848f7d55faee9aacae": {
      "model_module": "@jupyter-widgets/base",
      "model_module_version": "1.2.0",
      "model_name": "LayoutModel",
      "state": {}
     },
     "f2d47d18e3ed40ab8a81854147bb7460": {
      "model_module": "@jupyter-widgets/base",
      "model_module_version": "1.2.0",
      "model_name": "LayoutModel",
      "state": {}
     },
     "fdde5896d020439ab40e47c8b18932d4": {
      "model_module": "jupyter-leaflet",
      "model_module_version": "^0.12.4",
      "model_name": "LeafletMapStyleModel",
      "state": {
       "_model_module_version": "^0.12.4"
      }
     },
     "ff87bf1022c34ca3b2f42b7da68159f9": {
      "model_module": "@jupyter-widgets/controls",
      "model_module_version": "1.5.0",
      "model_name": "FloatSliderModel",
      "state": {
       "layout": "IPY_MODEL_abe05d74558141a194389dac2b0248ba",
       "step": 0.1,
       "style": "IPY_MODEL_b236de9f020e460b804a00c344a106ab"
      }
     }
    },
    "version_major": 2,
    "version_minor": 0
   }
  }
 },
 "nbformat": 4,
 "nbformat_minor": 4
}
