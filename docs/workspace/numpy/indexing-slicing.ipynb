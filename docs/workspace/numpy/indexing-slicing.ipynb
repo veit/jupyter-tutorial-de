{
 "cells": [
  {
   "cell_type": "markdown",
   "id": "420565cc",
   "metadata": {},
   "source": [
    "# Indizierung und Slicing\n",
    "\n",
    "Indizierung ist die Auswahl einer Teilmenge eurer Daten oder einzelner Elemente. In eindimensionalen Arrays ist das sehr einfach; verhalten sie sich doch ähnlich wie Python-Listen:"
   ]
  },
  {
   "cell_type": "code",
   "execution_count": 1,
   "id": "a0fdb832",
   "metadata": {},
   "outputs": [],
   "source": [
    "import numpy as np"
   ]
  },
  {
   "cell_type": "code",
   "execution_count": 2,
   "id": "830ccdb1",
   "metadata": {},
   "outputs": [
    {
     "data": {
      "text/plain": [
       "array([[ 1.1469415 , -0.12074556,  0.96897949],\n",
       "       [ 1.90591685, -2.03224601,  0.4147766 ],\n",
       "       [-2.12646024, -0.67572832,  0.59449158],\n",
       "       [-1.1253562 , -0.81705783, -0.39329958],\n",
       "       [ 0.70068163,  0.56506983,  1.85578596],\n",
       "       [ 0.37420782, -0.92259016,  1.40547729],\n",
       "       [ 1.12252452, -0.76139895, -0.85063084]])"
      ]
     },
     "execution_count": 2,
     "metadata": {},
     "output_type": "execute_result"
    }
   ],
   "source": [
    "rng = np.random.default_rng()\n",
    "data = rng.normal(size=(7, 3))\n",
    "data"
   ]
  },
  {
   "cell_type": "code",
   "execution_count": 3,
   "id": "42e7c104",
   "metadata": {},
   "outputs": [
    {
     "data": {
      "text/plain": [
       "array([0.70068163, 0.56506983, 1.85578596])"
      ]
     },
     "execution_count": 3,
     "metadata": {},
     "output_type": "execute_result"
    }
   ],
   "source": [
    "data[4]"
   ]
  },
  {
   "cell_type": "code",
   "execution_count": 4,
   "id": "2f843d5e",
   "metadata": {},
   "outputs": [
    {
     "data": {
      "text/plain": [
       "array([[-2.12646024, -0.67572832,  0.59449158],\n",
       "       [-1.1253562 , -0.81705783, -0.39329958]])"
      ]
     },
     "execution_count": 4,
     "metadata": {},
     "output_type": "execute_result"
    }
   ],
   "source": [
    "data[2:4]"
   ]
  },
  {
   "cell_type": "code",
   "execution_count": 5,
   "id": "140a1b6e",
   "metadata": {},
   "outputs": [],
   "source": [
    "data[2:4] = rng.normal(size=(2, 3))"
   ]
  },
  {
   "cell_type": "code",
   "execution_count": 6,
   "id": "e604502e",
   "metadata": {},
   "outputs": [
    {
     "data": {
      "text/plain": [
       "array([[ 1.1469415 , -0.12074556,  0.96897949],\n",
       "       [ 1.90591685, -2.03224601,  0.4147766 ],\n",
       "       [-0.78080155, -0.2848204 ,  0.60034277],\n",
       "       [ 0.63852837,  0.0104645 , -0.64995338],\n",
       "       [ 0.70068163,  0.56506983,  1.85578596],\n",
       "       [ 0.37420782, -0.92259016,  1.40547729],\n",
       "       [ 1.12252452, -0.76139895, -0.85063084]])"
      ]
     },
     "execution_count": 6,
     "metadata": {},
     "output_type": "execute_result"
    }
   ],
   "source": [
    "data"
   ]
  },
  {
   "cell_type": "markdown",
   "id": "5ac01e54",
   "metadata": {},
   "source": [
    "<div class=\"alert alert-block alert-info\">\n",
    "\n",
    "**Bemerkung:**\n",
    "\n",
    "Array-Slices unterscheiden sich von Python-Listen dadurch, dass sie Sichten (_views_) auf das ursprüngliche Array sind. Das bedeutet, dass die Daten nicht kopiert werden und dass alle Änderungen an der View im Ausgangsarray wiedergegeben werden.\n",
    "\n",
    "Wenn ihr eine Kopie eines Teils eines `ndarray` erstellen wollt, könnt ihr das Array explizit kopieren – z.B. mit `data[2:5].copy()`.\n",
    "</div>"
   ]
  },
  {
   "cell_type": "markdown",
   "id": "ff449de7",
   "metadata": {},
   "source": [
    "_Slicing_ in dieser Weise führt immer zu Array-Ansichten mit der gleichen Anzahl von Dimensionen. Wenn ihr jedoch ganzzahlige Indizes und Slices mischt, erhaltet ihr Slices mit niedrigeren Dimensionen. So können wir z.B. die zweite Zeile, aber nur die ersten beiden Spalten wie folgt auswählen:"
   ]
  },
  {
   "cell_type": "code",
   "execution_count": 7,
   "id": "d0d97d90",
   "metadata": {},
   "outputs": [
    {
     "data": {
      "text/plain": [
       "array([ 1.90591685, -2.03224601])"
      ]
     },
     "execution_count": 7,
     "metadata": {},
     "output_type": "execute_result"
    }
   ],
   "source": [
    "data[1, :2]"
   ]
  },
  {
   "cell_type": "markdown",
   "id": "b6f40943",
   "metadata": {},
   "source": [
    "Ein Doppelpunkt bedeutet, dass die gesamte Achse genommen wird, so dass ihr auch höherdimensionale Achsen auswählen könnt:"
   ]
  },
  {
   "cell_type": "code",
   "execution_count": 8,
   "id": "7d8634ad",
   "metadata": {},
   "outputs": [
    {
     "data": {
      "text/plain": [
       "array([[ 1.1469415 ],\n",
       "       [ 1.90591685],\n",
       "       [-0.78080155],\n",
       "       [ 0.63852837],\n",
       "       [ 0.70068163],\n",
       "       [ 0.37420782],\n",
       "       [ 1.12252452]])"
      ]
     },
     "execution_count": 8,
     "metadata": {},
     "output_type": "execute_result"
    }
   ],
   "source": [
    "data[:, :1]"
   ]
  },
  {
   "cell_type": "markdown",
   "id": "c76f2c66",
   "metadata": {},
   "source": [
    "## Boolesche Indizierung\n",
    "\n",
    "Betrachten wir ein Beispiel, bei dem wir einige Daten in einem Array und ein Array von Namen mit Duplikaten haben. Ich werde hier die Funktion `normal` aus `numpy.random.default_rng` verwenden, um einige zufällige normalverteilte Daten zu erzeugen:"
   ]
  },
  {
   "cell_type": "code",
   "execution_count": 9,
   "id": "eb10afb4",
   "metadata": {},
   "outputs": [],
   "source": [
    "names = np.array(['Liam', 'Olivia', 'Noah', 'Liam', 'Noah', 'Olivia', 'Liam', 'Emma', 'Oliver', 'Ava'])\n",
    "data = rng.normal(size=(10, 4))"
   ]
  },
  {
   "cell_type": "code",
   "execution_count": 10,
   "id": "a7070704",
   "metadata": {},
   "outputs": [
    {
     "data": {
      "text/plain": [
       "array(['Liam', 'Olivia', 'Noah', 'Liam', 'Noah', 'Olivia', 'Liam', 'Emma',\n",
       "       'Oliver', 'Ava'], dtype='<U6')"
      ]
     },
     "execution_count": 10,
     "metadata": {},
     "output_type": "execute_result"
    }
   ],
   "source": [
    "names"
   ]
  },
  {
   "cell_type": "code",
   "execution_count": 11,
   "id": "821151e3",
   "metadata": {},
   "outputs": [
    {
     "data": {
      "text/plain": [
       "array([[-1.44503094, -0.62129043, -0.11906667, -0.71266029],\n",
       "       [ 0.91171329, -1.67661713, -0.0865867 , -0.28459871],\n",
       "       [-2.34416763, -0.73786789, -0.99996397,  0.98841761],\n",
       "       [ 0.19898987,  0.38184382,  2.21104594, -0.45827622],\n",
       "       [-0.41360268, -0.13110495, -0.10246082,  0.02407514],\n",
       "       [-0.0881936 , -0.13354555, -2.22324467, -0.18815392],\n",
       "       [-2.21865645,  1.12028967,  0.98281139,  0.54117083],\n",
       "       [ 0.82470539,  0.15215646, -0.81168397, -0.10666738],\n",
       "       [ 0.53583695,  0.06542501,  0.49293032,  1.86691706],\n",
       "       [-1.32132386,  1.05397059,  0.2201423 , -1.11059024]])"
      ]
     },
     "execution_count": 11,
     "metadata": {},
     "output_type": "execute_result"
    }
   ],
   "source": [
    "data"
   ]
  },
  {
   "cell_type": "markdown",
   "id": "65453efb",
   "metadata": {},
   "source": [
    "Angenommen, jeder Name entspricht einer Zeile im Datenarray und wir wollen alle Zeilen mit dem entsprechenden Namen _Liam_ auswählen. Wie arithmetische Operationen werden auch Vergleiche wie `==` mit Arrays vektorisiert. Der Vergleich von Namen mit der Zeichenkette `Liam` ergibt also ein boolesches Array:"
   ]
  },
  {
   "cell_type": "code",
   "execution_count": 12,
   "id": "971b885d",
   "metadata": {},
   "outputs": [
    {
     "data": {
      "text/plain": [
       "array([ True, False, False,  True, False, False,  True, False, False,\n",
       "       False])"
      ]
     },
     "execution_count": 12,
     "metadata": {},
     "output_type": "execute_result"
    }
   ],
   "source": [
    "names == 'Liam'"
   ]
  },
  {
   "cell_type": "markdown",
   "id": "a48915e6",
   "metadata": {},
   "source": [
    "Dieses boolesche Array kann beim Indizieren des Arrays übergeben werden:"
   ]
  },
  {
   "cell_type": "code",
   "execution_count": 13,
   "id": "a50a307f",
   "metadata": {},
   "outputs": [
    {
     "data": {
      "text/plain": [
       "array([[-1.44503094, -0.62129043, -0.11906667, -0.71266029],\n",
       "       [ 0.19898987,  0.38184382,  2.21104594, -0.45827622],\n",
       "       [-2.21865645,  1.12028967,  0.98281139,  0.54117083]])"
      ]
     },
     "execution_count": 13,
     "metadata": {},
     "output_type": "execute_result"
    }
   ],
   "source": [
    "data[names == 'Liam']"
   ]
  },
  {
   "cell_type": "markdown",
   "id": "349bae6c",
   "metadata": {},
   "source": [
    "Dabei muss das boolesche Array die gleiche Länge haben wie die Arrayachse, die es indiziert."
   ]
  },
  {
   "cell_type": "markdown",
   "id": "b7990530",
   "metadata": {},
   "source": [
    "<div class=\"alert alert-block alert-info\">\n",
    "\n",
    "**Bemerkung:**\n",
    "\n",
    "Die Auswahl von Daten aus einem Array durch boolesche Indizierung und die Zuweisung des Ergebnisses an eine neue Variable erzeugt immer eine Kopie der Daten, selbst wenn das zurückgegebene Array unverändert ist.\n",
    "</div>"
   ]
  },
  {
   "cell_type": "markdown",
   "id": "50924329",
   "metadata": {},
   "source": [
    "Im folgenden Beispiel wähle ich die Zeilen aus, in denen `Namen == 'Liam'` ist und indiziere auch die Spalten:"
   ]
  },
  {
   "cell_type": "code",
   "execution_count": 14,
   "id": "cc77fa3c",
   "metadata": {},
   "outputs": [
    {
     "data": {
      "text/plain": [
       "array([[-0.11906667, -0.71266029],\n",
       "       [ 2.21104594, -0.45827622],\n",
       "       [ 0.98281139,  0.54117083]])"
      ]
     },
     "execution_count": 14,
     "metadata": {},
     "output_type": "execute_result"
    }
   ],
   "source": [
    "data[names == 'Liam', 2:]"
   ]
  },
  {
   "cell_type": "markdown",
   "id": "54ed79ea",
   "metadata": {},
   "source": [
    "Um alles außer _Liam_ auszuwählen, könnt ihr entweder `!=` verwenden oder die Bedingung mit `~` negieren:"
   ]
  },
  {
   "cell_type": "code",
   "execution_count": 15,
   "id": "b2fef49e",
   "metadata": {},
   "outputs": [
    {
     "data": {
      "text/plain": [
       "array([False,  True,  True, False,  True,  True, False,  True,  True,\n",
       "        True])"
      ]
     },
     "execution_count": 15,
     "metadata": {},
     "output_type": "execute_result"
    }
   ],
   "source": [
    "names != 'Liam'"
   ]
  },
  {
   "cell_type": "code",
   "execution_count": 16,
   "id": "aadc553d",
   "metadata": {},
   "outputs": [
    {
     "data": {
      "text/plain": [
       "array([[ 0.91171329, -1.67661713, -0.0865867 , -0.28459871],\n",
       "       [-2.34416763, -0.73786789, -0.99996397,  0.98841761],\n",
       "       [-0.41360268, -0.13110495, -0.10246082,  0.02407514],\n",
       "       [-0.0881936 , -0.13354555, -2.22324467, -0.18815392],\n",
       "       [ 0.82470539,  0.15215646, -0.81168397, -0.10666738],\n",
       "       [ 0.53583695,  0.06542501,  0.49293032,  1.86691706],\n",
       "       [-1.32132386,  1.05397059,  0.2201423 , -1.11059024]])"
      ]
     },
     "execution_count": 16,
     "metadata": {},
     "output_type": "execute_result"
    }
   ],
   "source": [
    "cond = names == 'Liam'\n",
    "data[~cond]"
   ]
  },
  {
   "cell_type": "markdown",
   "id": "ff4f66c7",
   "metadata": {},
   "source": [
    "Wenn ihr zwei der drei Namen auswählt, um mehrere boolesche Bedingungen zu kombinieren, könnt ihr die booleschen arithmetischen Operatoren `&` (und) und `|` (oder) verwenden.\n",
    "\n",
    "<div class=\"alert alert-block alert-warning\">\n",
    "\n",
    "**Warnung:**\n",
    "\n",
    "Die Python-Schlüsselwörter `and` und `or` funktionieren nicht mit booleschen Arrays.\n",
    "</div>"
   ]
  },
  {
   "cell_type": "code",
   "execution_count": 17,
   "id": "396c8047",
   "metadata": {},
   "outputs": [],
   "source": [
    "mask = (names == 'Liam') | (names == 'Olivia')"
   ]
  },
  {
   "cell_type": "code",
   "execution_count": 18,
   "id": "c8b31fb1",
   "metadata": {},
   "outputs": [
    {
     "data": {
      "text/plain": [
       "array([ True,  True, False,  True, False,  True,  True, False, False,\n",
       "       False])"
      ]
     },
     "execution_count": 18,
     "metadata": {},
     "output_type": "execute_result"
    }
   ],
   "source": [
    "mask"
   ]
  },
  {
   "cell_type": "code",
   "execution_count": 19,
   "id": "29ab04bd",
   "metadata": {},
   "outputs": [
    {
     "data": {
      "text/plain": [
       "array([[-1.44503094, -0.62129043, -0.11906667, -0.71266029],\n",
       "       [ 0.91171329, -1.67661713, -0.0865867 , -0.28459871],\n",
       "       [ 0.19898987,  0.38184382,  2.21104594, -0.45827622],\n",
       "       [-0.0881936 , -0.13354555, -2.22324467, -0.18815392],\n",
       "       [-2.21865645,  1.12028967,  0.98281139,  0.54117083]])"
      ]
     },
     "execution_count": 19,
     "metadata": {},
     "output_type": "execute_result"
    }
   ],
   "source": [
    "data[mask]"
   ]
  },
  {
   "cell_type": "markdown",
   "id": "842edfe3",
   "metadata": {},
   "source": [
    "## Ganzzahlige Array-Indizierung\n",
    "\n",
    "Ganzzahlige Array-Indizierung ermöglicht die Auswahl beliebiger Elemente im Array auf der Grundlage eures N-dimensionalen Index. Jedes Integer-Array repräsentiert eine Anzahl von Indizes in dieser Dimension. \n",
    "\n",
    "<div class=\"alert alert-block alert-info\">\n",
    "\n",
    "**Siehe auch:**\n",
    "\n",
    "* [Integer array indexing](https://numpy.org/doc/stable/user/basics.indexing.html#integer-array-indexing)\n",
    "</div>"
   ]
  }
 ],
 "metadata": {
  "kernelspec": {
   "display_name": "Python 3.8",
   "language": "python",
   "name": "python-38"
  },
  "language_info": {
   "codemirror_mode": {
    "name": "ipython",
    "version": 3
   },
   "file_extension": ".py",
   "mimetype": "text/x-python",
   "name": "python",
   "nbconvert_exporter": "python",
   "pygments_lexer": "ipython3",
   "version": "3.8.12"
  }
 },
 "nbformat": 4,
 "nbformat_minor": 5
}
