{
 "cells": [
  {
   "cell_type": "markdown",
   "id": "e48116a9",
   "metadata": {},
   "source": [
    "# Sortieren und Ranking\n",
    "\n",
    "Das Sortieren eines Datensatzes nach einem Kriterium ist eine weitere wichtige eingebaute Funktion. Um lexikografisch nach Zeilen- oder Spaltenindex zu sortieren, verwendet die Methoden [pandas.Series.sort_index](https://pandas.pydata.org/docs/reference/api/pandas.Series.sort_index.html) oder [pandas.DataFrame.sort_index](https://pandas.pydata.org/docs/reference/api/pandas.DataFrame.sort_index.html), die ein neues, sortiertes Objekt zurückgibt. Mit `ascending=False` wird die Sortierreihenfolge umgekehrt:"
   ]
  },
  {
   "cell_type": "code",
   "execution_count": 1,
   "id": "4f8b1684",
   "metadata": {},
   "outputs": [
    {
     "data": {
      "text/plain": [
       "6   -0.685319\n",
       "5    0.870628\n",
       "4   -0.543632\n",
       "3   -1.133117\n",
       "2    0.656864\n",
       "1    0.819724\n",
       "0   -1.607773\n",
       "dtype: float64"
      ]
     },
     "execution_count": 1,
     "metadata": {},
     "output_type": "execute_result"
    }
   ],
   "source": [
    "import numpy as np\n",
    "import pandas as pd\n",
    "\n",
    "rng = np.random.default_rng()\n",
    "s = pd.Series(rng.normal(size=7))\n",
    "\n",
    "s.sort_index(ascending=False)"
   ]
  },
  {
   "cell_type": "markdown",
   "id": "aa44710a",
   "metadata": {},
   "source": [
    "Um eine Serie nach ihren Werten zu sortieren, könnt ihr die `sort_values`-Methode verwenden:"
   ]
  },
  {
   "cell_type": "code",
   "execution_count": 2,
   "id": "eda9646d",
   "metadata": {},
   "outputs": [
    {
     "data": {
      "text/plain": [
       "0   -1.607773\n",
       "3   -1.133117\n",
       "6   -0.685319\n",
       "4   -0.543632\n",
       "2    0.656864\n",
       "1    0.819724\n",
       "5    0.870628\n",
       "dtype: float64"
      ]
     },
     "execution_count": 2,
     "metadata": {},
     "output_type": "execute_result"
    }
   ],
   "source": [
    "s.sort_values()"
   ]
  },
  {
   "cell_type": "markdown",
   "id": "adcb9357",
   "metadata": {},
   "source": [
    "Alle fehlenden Werte werden standardmäßig an das Ende der Reihe sortiert:"
   ]
  },
  {
   "cell_type": "code",
   "execution_count": 3,
   "id": "c9b890fc",
   "metadata": {},
   "outputs": [
    {
     "data": {
      "text/plain": [
       "2    0.125073\n",
       "0    0.218986\n",
       "3    0.227046\n",
       "1    0.313185\n",
       "4         NaN\n",
       "5         NaN\n",
       "6         NaN\n",
       "dtype: float64"
      ]
     },
     "execution_count": 3,
     "metadata": {},
     "output_type": "execute_result"
    }
   ],
   "source": [
    "s = pd.Series(rng.normal(size=7))\n",
    "s[s < 0] = np.nan\n",
    "\n",
    "s.sort_values()"
   ]
  },
  {
   "cell_type": "markdown",
   "id": "a7aae6c6",
   "metadata": {},
   "source": [
    "Mit einem DataFrame können ihr auf beiden Achsen nach Index sortieren:"
   ]
  },
  {
   "cell_type": "code",
   "execution_count": 4,
   "id": "c9af1a77",
   "metadata": {},
   "outputs": [
    {
     "data": {
      "text/html": [
       "<div>\n",
       "<style scoped>\n",
       "    .dataframe tbody tr th:only-of-type {\n",
       "        vertical-align: middle;\n",
       "    }\n",
       "\n",
       "    .dataframe tbody tr th {\n",
       "        vertical-align: top;\n",
       "    }\n",
       "\n",
       "    .dataframe thead th {\n",
       "        text-align: right;\n",
       "    }\n",
       "</style>\n",
       "<table border=\"1\" class=\"dataframe\">\n",
       "  <thead>\n",
       "    <tr style=\"text-align: right;\">\n",
       "      <th></th>\n",
       "      <th>0</th>\n",
       "      <th>1</th>\n",
       "      <th>2</th>\n",
       "    </tr>\n",
       "  </thead>\n",
       "  <tbody>\n",
       "    <tr>\n",
       "      <th>0</th>\n",
       "      <td>0.739653</td>\n",
       "      <td>1.338406</td>\n",
       "      <td>0.369409</td>\n",
       "    </tr>\n",
       "    <tr>\n",
       "      <th>1</th>\n",
       "      <td>1.595977</td>\n",
       "      <td>0.525056</td>\n",
       "      <td>1.886388</td>\n",
       "    </tr>\n",
       "    <tr>\n",
       "      <th>2</th>\n",
       "      <td>3.202391</td>\n",
       "      <td>0.340682</td>\n",
       "      <td>-1.170983</td>\n",
       "    </tr>\n",
       "    <tr>\n",
       "      <th>3</th>\n",
       "      <td>-0.917511</td>\n",
       "      <td>-0.708083</td>\n",
       "      <td>-1.354343</td>\n",
       "    </tr>\n",
       "    <tr>\n",
       "      <th>4</th>\n",
       "      <td>0.918787</td>\n",
       "      <td>0.960765</td>\n",
       "      <td>-0.852099</td>\n",
       "    </tr>\n",
       "    <tr>\n",
       "      <th>5</th>\n",
       "      <td>-0.331725</td>\n",
       "      <td>-0.949663</td>\n",
       "      <td>0.376149</td>\n",
       "    </tr>\n",
       "    <tr>\n",
       "      <th>6</th>\n",
       "      <td>0.786126</td>\n",
       "      <td>0.462900</td>\n",
       "      <td>1.580045</td>\n",
       "    </tr>\n",
       "  </tbody>\n",
       "</table>\n",
       "</div>"
      ],
      "text/plain": [
       "          0         1         2\n",
       "0  0.739653  1.338406  0.369409\n",
       "1  1.595977  0.525056  1.886388\n",
       "2  3.202391  0.340682 -1.170983\n",
       "3 -0.917511 -0.708083 -1.354343\n",
       "4  0.918787  0.960765 -0.852099\n",
       "5 -0.331725 -0.949663  0.376149\n",
       "6  0.786126  0.462900  1.580045"
      ]
     },
     "execution_count": 4,
     "metadata": {},
     "output_type": "execute_result"
    }
   ],
   "source": [
    "df = pd.DataFrame(rng.normal(size=(7, 3)))\n",
    "\n",
    "df"
   ]
  },
  {
   "cell_type": "code",
   "execution_count": 5,
   "id": "141aecc9",
   "metadata": {},
   "outputs": [
    {
     "data": {
      "text/html": [
       "<div>\n",
       "<style scoped>\n",
       "    .dataframe tbody tr th:only-of-type {\n",
       "        vertical-align: middle;\n",
       "    }\n",
       "\n",
       "    .dataframe tbody tr th {\n",
       "        vertical-align: top;\n",
       "    }\n",
       "\n",
       "    .dataframe thead th {\n",
       "        text-align: right;\n",
       "    }\n",
       "</style>\n",
       "<table border=\"1\" class=\"dataframe\">\n",
       "  <thead>\n",
       "    <tr style=\"text-align: right;\">\n",
       "      <th></th>\n",
       "      <th>0</th>\n",
       "      <th>1</th>\n",
       "      <th>2</th>\n",
       "    </tr>\n",
       "  </thead>\n",
       "  <tbody>\n",
       "    <tr>\n",
       "      <th>6</th>\n",
       "      <td>0.786126</td>\n",
       "      <td>0.462900</td>\n",
       "      <td>1.580045</td>\n",
       "    </tr>\n",
       "    <tr>\n",
       "      <th>5</th>\n",
       "      <td>-0.331725</td>\n",
       "      <td>-0.949663</td>\n",
       "      <td>0.376149</td>\n",
       "    </tr>\n",
       "    <tr>\n",
       "      <th>4</th>\n",
       "      <td>0.918787</td>\n",
       "      <td>0.960765</td>\n",
       "      <td>-0.852099</td>\n",
       "    </tr>\n",
       "    <tr>\n",
       "      <th>3</th>\n",
       "      <td>-0.917511</td>\n",
       "      <td>-0.708083</td>\n",
       "      <td>-1.354343</td>\n",
       "    </tr>\n",
       "    <tr>\n",
       "      <th>2</th>\n",
       "      <td>3.202391</td>\n",
       "      <td>0.340682</td>\n",
       "      <td>-1.170983</td>\n",
       "    </tr>\n",
       "    <tr>\n",
       "      <th>1</th>\n",
       "      <td>1.595977</td>\n",
       "      <td>0.525056</td>\n",
       "      <td>1.886388</td>\n",
       "    </tr>\n",
       "    <tr>\n",
       "      <th>0</th>\n",
       "      <td>0.739653</td>\n",
       "      <td>1.338406</td>\n",
       "      <td>0.369409</td>\n",
       "    </tr>\n",
       "  </tbody>\n",
       "</table>\n",
       "</div>"
      ],
      "text/plain": [
       "          0         1         2\n",
       "6  0.786126  0.462900  1.580045\n",
       "5 -0.331725 -0.949663  0.376149\n",
       "4  0.918787  0.960765 -0.852099\n",
       "3 -0.917511 -0.708083 -1.354343\n",
       "2  3.202391  0.340682 -1.170983\n",
       "1  1.595977  0.525056  1.886388\n",
       "0  0.739653  1.338406  0.369409"
      ]
     },
     "execution_count": 5,
     "metadata": {},
     "output_type": "execute_result"
    }
   ],
   "source": [
    "df.sort_index(ascending=False)"
   ]
  },
  {
   "cell_type": "code",
   "execution_count": 6,
   "id": "3066d671",
   "metadata": {},
   "outputs": [
    {
     "data": {
      "text/html": [
       "<div>\n",
       "<style scoped>\n",
       "    .dataframe tbody tr th:only-of-type {\n",
       "        vertical-align: middle;\n",
       "    }\n",
       "\n",
       "    .dataframe tbody tr th {\n",
       "        vertical-align: top;\n",
       "    }\n",
       "\n",
       "    .dataframe thead th {\n",
       "        text-align: right;\n",
       "    }\n",
       "</style>\n",
       "<table border=\"1\" class=\"dataframe\">\n",
       "  <thead>\n",
       "    <tr style=\"text-align: right;\">\n",
       "      <th></th>\n",
       "      <th>2</th>\n",
       "      <th>1</th>\n",
       "      <th>0</th>\n",
       "    </tr>\n",
       "  </thead>\n",
       "  <tbody>\n",
       "    <tr>\n",
       "      <th>0</th>\n",
       "      <td>0.369409</td>\n",
       "      <td>1.338406</td>\n",
       "      <td>0.739653</td>\n",
       "    </tr>\n",
       "    <tr>\n",
       "      <th>1</th>\n",
       "      <td>1.886388</td>\n",
       "      <td>0.525056</td>\n",
       "      <td>1.595977</td>\n",
       "    </tr>\n",
       "    <tr>\n",
       "      <th>2</th>\n",
       "      <td>-1.170983</td>\n",
       "      <td>0.340682</td>\n",
       "      <td>3.202391</td>\n",
       "    </tr>\n",
       "    <tr>\n",
       "      <th>3</th>\n",
       "      <td>-1.354343</td>\n",
       "      <td>-0.708083</td>\n",
       "      <td>-0.917511</td>\n",
       "    </tr>\n",
       "    <tr>\n",
       "      <th>4</th>\n",
       "      <td>-0.852099</td>\n",
       "      <td>0.960765</td>\n",
       "      <td>0.918787</td>\n",
       "    </tr>\n",
       "    <tr>\n",
       "      <th>5</th>\n",
       "      <td>0.376149</td>\n",
       "      <td>-0.949663</td>\n",
       "      <td>-0.331725</td>\n",
       "    </tr>\n",
       "    <tr>\n",
       "      <th>6</th>\n",
       "      <td>1.580045</td>\n",
       "      <td>0.462900</td>\n",
       "      <td>0.786126</td>\n",
       "    </tr>\n",
       "  </tbody>\n",
       "</table>\n",
       "</div>"
      ],
      "text/plain": [
       "          2         1         0\n",
       "0  0.369409  1.338406  0.739653\n",
       "1  1.886388  0.525056  1.595977\n",
       "2 -1.170983  0.340682  3.202391\n",
       "3 -1.354343 -0.708083 -0.917511\n",
       "4 -0.852099  0.960765  0.918787\n",
       "5  0.376149 -0.949663 -0.331725\n",
       "6  1.580045  0.462900  0.786126"
      ]
     },
     "execution_count": 6,
     "metadata": {},
     "output_type": "execute_result"
    }
   ],
   "source": [
    "df.sort_index(axis=1, ascending=False)"
   ]
  },
  {
   "cell_type": "markdown",
   "id": "21667cb5",
   "metadata": {},
   "source": [
    "Beim Sortieren eines DataFrame könnt ihr die Daten in einer oder mehreren Spalten als Sortierschlüssel verwenden. Dazu übergebt ihr eine oder mehrere Spaltennamen an die Option `by` von `sort_values`:"
   ]
  },
  {
   "cell_type": "code",
   "execution_count": 7,
   "id": "75f671a1",
   "metadata": {},
   "outputs": [
    {
     "data": {
      "text/html": [
       "<div>\n",
       "<style scoped>\n",
       "    .dataframe tbody tr th:only-of-type {\n",
       "        vertical-align: middle;\n",
       "    }\n",
       "\n",
       "    .dataframe tbody tr th {\n",
       "        vertical-align: top;\n",
       "    }\n",
       "\n",
       "    .dataframe thead th {\n",
       "        text-align: right;\n",
       "    }\n",
       "</style>\n",
       "<table border=\"1\" class=\"dataframe\">\n",
       "  <thead>\n",
       "    <tr style=\"text-align: right;\">\n",
       "      <th></th>\n",
       "      <th>0</th>\n",
       "      <th>1</th>\n",
       "      <th>2</th>\n",
       "    </tr>\n",
       "  </thead>\n",
       "  <tbody>\n",
       "    <tr>\n",
       "      <th>3</th>\n",
       "      <td>-0.917511</td>\n",
       "      <td>-0.708083</td>\n",
       "      <td>-1.354343</td>\n",
       "    </tr>\n",
       "    <tr>\n",
       "      <th>2</th>\n",
       "      <td>3.202391</td>\n",
       "      <td>0.340682</td>\n",
       "      <td>-1.170983</td>\n",
       "    </tr>\n",
       "    <tr>\n",
       "      <th>4</th>\n",
       "      <td>0.918787</td>\n",
       "      <td>0.960765</td>\n",
       "      <td>-0.852099</td>\n",
       "    </tr>\n",
       "    <tr>\n",
       "      <th>0</th>\n",
       "      <td>0.739653</td>\n",
       "      <td>1.338406</td>\n",
       "      <td>0.369409</td>\n",
       "    </tr>\n",
       "    <tr>\n",
       "      <th>5</th>\n",
       "      <td>-0.331725</td>\n",
       "      <td>-0.949663</td>\n",
       "      <td>0.376149</td>\n",
       "    </tr>\n",
       "    <tr>\n",
       "      <th>6</th>\n",
       "      <td>0.786126</td>\n",
       "      <td>0.462900</td>\n",
       "      <td>1.580045</td>\n",
       "    </tr>\n",
       "    <tr>\n",
       "      <th>1</th>\n",
       "      <td>1.595977</td>\n",
       "      <td>0.525056</td>\n",
       "      <td>1.886388</td>\n",
       "    </tr>\n",
       "  </tbody>\n",
       "</table>\n",
       "</div>"
      ],
      "text/plain": [
       "          0         1         2\n",
       "3 -0.917511 -0.708083 -1.354343\n",
       "2  3.202391  0.340682 -1.170983\n",
       "4  0.918787  0.960765 -0.852099\n",
       "0  0.739653  1.338406  0.369409\n",
       "5 -0.331725 -0.949663  0.376149\n",
       "6  0.786126  0.462900  1.580045\n",
       "1  1.595977  0.525056  1.886388"
      ]
     },
     "execution_count": 7,
     "metadata": {},
     "output_type": "execute_result"
    }
   ],
   "source": [
    "df.sort_values(by=2)"
   ]
  },
  {
   "cell_type": "markdown",
   "id": "42ecdfc0",
   "metadata": {},
   "source": [
    "Um nach mehreren Spalten zu sortieren, könnt ihr eine Liste von Namen übergeben."
   ]
  },
  {
   "cell_type": "markdown",
   "id": "c881f550",
   "metadata": {},
   "source": [
    "Ranking weist Ränge von eins bis zur Anzahl der gültigen Datenpunkte in einem Array zu:"
   ]
  },
  {
   "cell_type": "code",
   "execution_count": 8,
   "id": "a0642e05",
   "metadata": {},
   "outputs": [
    {
     "data": {
      "text/html": [
       "<div>\n",
       "<style scoped>\n",
       "    .dataframe tbody tr th:only-of-type {\n",
       "        vertical-align: middle;\n",
       "    }\n",
       "\n",
       "    .dataframe tbody tr th {\n",
       "        vertical-align: top;\n",
       "    }\n",
       "\n",
       "    .dataframe thead th {\n",
       "        text-align: right;\n",
       "    }\n",
       "</style>\n",
       "<table border=\"1\" class=\"dataframe\">\n",
       "  <thead>\n",
       "    <tr style=\"text-align: right;\">\n",
       "      <th></th>\n",
       "      <th>0</th>\n",
       "      <th>1</th>\n",
       "      <th>2</th>\n",
       "    </tr>\n",
       "  </thead>\n",
       "  <tbody>\n",
       "    <tr>\n",
       "      <th>0</th>\n",
       "      <td>3.0</td>\n",
       "      <td>7.0</td>\n",
       "      <td>4.0</td>\n",
       "    </tr>\n",
       "    <tr>\n",
       "      <th>1</th>\n",
       "      <td>6.0</td>\n",
       "      <td>5.0</td>\n",
       "      <td>7.0</td>\n",
       "    </tr>\n",
       "    <tr>\n",
       "      <th>2</th>\n",
       "      <td>7.0</td>\n",
       "      <td>3.0</td>\n",
       "      <td>2.0</td>\n",
       "    </tr>\n",
       "    <tr>\n",
       "      <th>3</th>\n",
       "      <td>1.0</td>\n",
       "      <td>2.0</td>\n",
       "      <td>1.0</td>\n",
       "    </tr>\n",
       "    <tr>\n",
       "      <th>4</th>\n",
       "      <td>5.0</td>\n",
       "      <td>6.0</td>\n",
       "      <td>3.0</td>\n",
       "    </tr>\n",
       "    <tr>\n",
       "      <th>5</th>\n",
       "      <td>2.0</td>\n",
       "      <td>1.0</td>\n",
       "      <td>5.0</td>\n",
       "    </tr>\n",
       "    <tr>\n",
       "      <th>6</th>\n",
       "      <td>4.0</td>\n",
       "      <td>4.0</td>\n",
       "      <td>6.0</td>\n",
       "    </tr>\n",
       "  </tbody>\n",
       "</table>\n",
       "</div>"
      ],
      "text/plain": [
       "     0    1    2\n",
       "0  3.0  7.0  4.0\n",
       "1  6.0  5.0  7.0\n",
       "2  7.0  3.0  2.0\n",
       "3  1.0  2.0  1.0\n",
       "4  5.0  6.0  3.0\n",
       "5  2.0  1.0  5.0\n",
       "6  4.0  4.0  6.0"
      ]
     },
     "execution_count": 8,
     "metadata": {},
     "output_type": "execute_result"
    }
   ],
   "source": [
    "df.rank()"
   ]
  },
  {
   "cell_type": "markdown",
   "id": "67955d50",
   "metadata": {},
   "source": [
    "Wenn beim Ranking Gleichstände auftauchen, weist `rank` jeder Gruppe den mittleren Rang zu."
   ]
  },
  {
   "cell_type": "code",
   "execution_count": 9,
   "id": "961a8365",
   "metadata": {},
   "outputs": [
    {
     "data": {
      "text/html": [
       "<div>\n",
       "<style scoped>\n",
       "    .dataframe tbody tr th:only-of-type {\n",
       "        vertical-align: middle;\n",
       "    }\n",
       "\n",
       "    .dataframe tbody tr th {\n",
       "        vertical-align: top;\n",
       "    }\n",
       "\n",
       "    .dataframe thead th {\n",
       "        text-align: right;\n",
       "    }\n",
       "</style>\n",
       "<table border=\"1\" class=\"dataframe\">\n",
       "  <thead>\n",
       "    <tr style=\"text-align: right;\">\n",
       "      <th></th>\n",
       "      <th>0</th>\n",
       "      <th>1</th>\n",
       "      <th>2</th>\n",
       "    </tr>\n",
       "  </thead>\n",
       "  <tbody>\n",
       "    <tr>\n",
       "      <th>0</th>\n",
       "      <td>3.0</td>\n",
       "      <td>7.0</td>\n",
       "      <td>4.0</td>\n",
       "    </tr>\n",
       "    <tr>\n",
       "      <th>1</th>\n",
       "      <td>6.0</td>\n",
       "      <td>5.0</td>\n",
       "      <td>7.0</td>\n",
       "    </tr>\n",
       "    <tr>\n",
       "      <th>2</th>\n",
       "      <td>7.0</td>\n",
       "      <td>3.0</td>\n",
       "      <td>2.0</td>\n",
       "    </tr>\n",
       "    <tr>\n",
       "      <th>3</th>\n",
       "      <td>1.0</td>\n",
       "      <td>2.0</td>\n",
       "      <td>1.0</td>\n",
       "    </tr>\n",
       "    <tr>\n",
       "      <th>4</th>\n",
       "      <td>5.0</td>\n",
       "      <td>6.0</td>\n",
       "      <td>3.0</td>\n",
       "    </tr>\n",
       "    <tr>\n",
       "      <th>5</th>\n",
       "      <td>2.0</td>\n",
       "      <td>1.0</td>\n",
       "      <td>5.0</td>\n",
       "    </tr>\n",
       "    <tr>\n",
       "      <th>6</th>\n",
       "      <td>4.0</td>\n",
       "      <td>4.0</td>\n",
       "      <td>6.0</td>\n",
       "    </tr>\n",
       "  </tbody>\n",
       "</table>\n",
       "</div>"
      ],
      "text/plain": [
       "     0    1    2\n",
       "0  3.0  7.0  4.0\n",
       "1  6.0  5.0  7.0\n",
       "2  7.0  3.0  2.0\n",
       "3  1.0  2.0  1.0\n",
       "4  5.0  6.0  3.0\n",
       "5  2.0  1.0  5.0\n",
       "6  4.0  4.0  6.0"
      ]
     },
     "execution_count": 9,
     "metadata": {},
     "output_type": "execute_result"
    }
   ],
   "source": [
    "df.rank(method='max')"
   ]
  },
  {
   "cell_type": "markdown",
   "id": "33319b36",
   "metadata": {},
   "source": [
    "## Weitere Verfahren mit `rank`\n",
    "\n",
    "Methode | Beschreibung\n",
    ":------ | :-----------\n",
    "`average` | Standard: jedem Eintrag in der gleichen Gruppe den durchschnittlichen Rang zuweisen\n",
    "`min` | verwendet den minimalen Rang für die gesamte Gruppe\n",
    "`max` | verwendet den maximalen Rang für die gesamte Gruppe\n",
    "`first` | weist die Ränge in der Reihenfolge zu, in der die Werte in den Daten erscheinen\n",
    "`dense` | wie `method='min'`, aber die Ränge erhöhen sich zwischen den Gruppen immer um 1 und nicht nach der Anzahl der gleichen Elemente in einer Gruppe"
   ]
  }
 ],
 "metadata": {
  "kernelspec": {
   "display_name": "Python 3.8",
   "language": "python",
   "name": "python-38"
  },
  "language_info": {
   "codemirror_mode": {
    "name": "ipython",
    "version": 3
   },
   "file_extension": ".py",
   "mimetype": "text/x-python",
   "name": "python",
   "nbconvert_exporter": "python",
   "pygments_lexer": "ipython3",
   "version": "3.8.12"
  }
 },
 "nbformat": 4,
 "nbformat_minor": 5
}
