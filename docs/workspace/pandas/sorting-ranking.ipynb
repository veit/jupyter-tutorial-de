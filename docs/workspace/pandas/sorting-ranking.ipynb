{
 "cells": [
  {
   "cell_type": "markdown",
   "id": "8671de6c",
   "metadata": {},
   "source": [
    "# Sortierung und Ranking"
   ]
  },
  {
   "cell_type": "markdown",
   "id": "c9d453cc",
   "metadata": {},
   "source": [
    "## Sortierung\n",
    "\n",
    "Das Sortieren eines Datensatzes nach einem Kriterium ist eine weitere wichtige eingebaute Funktion. Die lexikografisch Sortierung nach Zeilen- oder Spaltenindex ist bereits im Abschnitt [Umordnen und Sortieren von Ebenen](indexing.ipynb#Umordnen-und-Sortieren-von-Ebenen) beschrieben. Im folgenden schauen wir uns das Sortieren der Werte mit [DataFrame.sort_values](https://pandas.pydata.org/docs/reference/api/pandas.DataFrame.sort_values.html) und [Series.sort_values](https://pandas.pydata.org/docs/reference/api/pandas.Series.sort_values.html) an:"
   ]
  },
  {
   "cell_type": "code",
   "execution_count": 1,
   "id": "bcbee56d",
   "metadata": {},
   "outputs": [
    {
     "data": {
      "text/plain": [
       "3    1.246961\n",
       "2    0.110026\n",
       "0    0.069969\n",
       "5   -0.496005\n",
       "4   -0.929130\n",
       "6   -1.070176\n",
       "1   -1.835034\n",
       "dtype: float64"
      ]
     },
     "execution_count": 1,
     "metadata": {},
     "output_type": "execute_result"
    }
   ],
   "source": [
    "import numpy as np\n",
    "import pandas as pd\n",
    "\n",
    "rng = np.random.default_rng()\n",
    "s = pd.Series(rng.normal(size=7))\n",
    "\n",
    "s.sort_values(ascending=False)"
   ]
  },
  {
   "cell_type": "markdown",
   "id": "249d7fae",
   "metadata": {},
   "source": [
    "Alle fehlenden Werte werden standardmäßig an das Ende der Reihe sortiert:"
   ]
  },
  {
   "cell_type": "code",
   "execution_count": 2,
   "id": "36afb9c2",
   "metadata": {},
   "outputs": [
    {
     "data": {
      "text/plain": [
       "1    0.510741\n",
       "6    0.611437\n",
       "0         NaN\n",
       "2         NaN\n",
       "3         NaN\n",
       "4         NaN\n",
       "5         NaN\n",
       "dtype: float64"
      ]
     },
     "execution_count": 2,
     "metadata": {},
     "output_type": "execute_result"
    }
   ],
   "source": [
    "s = pd.Series(rng.normal(size=7))\n",
    "s[s < 0] = np.nan\n",
    "\n",
    "s.sort_values()"
   ]
  },
  {
   "cell_type": "markdown",
   "id": "6902763a",
   "metadata": {},
   "source": [
    "Mit einem DataFrame könnt ihr auf beiden Achsen sortieren. Mit `by` gebt ihr dabei an, welche Spalte oder Zeile sortiert werden soll:"
   ]
  },
  {
   "cell_type": "code",
   "execution_count": 3,
   "id": "5bffff28",
   "metadata": {},
   "outputs": [
    {
     "data": {
      "text/html": [
       "<div>\n",
       "<style scoped>\n",
       "    .dataframe tbody tr th:only-of-type {\n",
       "        vertical-align: middle;\n",
       "    }\n",
       "\n",
       "    .dataframe tbody tr th {\n",
       "        vertical-align: top;\n",
       "    }\n",
       "\n",
       "    .dataframe thead th {\n",
       "        text-align: right;\n",
       "    }\n",
       "</style>\n",
       "<table border=\"1\" class=\"dataframe\">\n",
       "  <thead>\n",
       "    <tr style=\"text-align: right;\">\n",
       "      <th></th>\n",
       "      <th>0</th>\n",
       "      <th>1</th>\n",
       "      <th>2</th>\n",
       "    </tr>\n",
       "  </thead>\n",
       "  <tbody>\n",
       "    <tr>\n",
       "      <th>5</th>\n",
       "      <td>1.610572</td>\n",
       "      <td>-1.017753</td>\n",
       "      <td>0.284589</td>\n",
       "    </tr>\n",
       "    <tr>\n",
       "      <th>6</th>\n",
       "      <td>-1.690047</td>\n",
       "      <td>2.317737</td>\n",
       "      <td>0.283082</td>\n",
       "    </tr>\n",
       "    <tr>\n",
       "      <th>4</th>\n",
       "      <td>0.260035</td>\n",
       "      <td>0.811425</td>\n",
       "      <td>-0.086206</td>\n",
       "    </tr>\n",
       "    <tr>\n",
       "      <th>1</th>\n",
       "      <td>-2.514986</td>\n",
       "      <td>-1.293696</td>\n",
       "      <td>-0.953747</td>\n",
       "    </tr>\n",
       "    <tr>\n",
       "      <th>2</th>\n",
       "      <td>0.410459</td>\n",
       "      <td>-0.623034</td>\n",
       "      <td>-0.992117</td>\n",
       "    </tr>\n",
       "    <tr>\n",
       "      <th>0</th>\n",
       "      <td>-0.086971</td>\n",
       "      <td>0.927506</td>\n",
       "      <td>-2.299808</td>\n",
       "    </tr>\n",
       "    <tr>\n",
       "      <th>3</th>\n",
       "      <td>0.131152</td>\n",
       "      <td>-1.497550</td>\n",
       "      <td>-2.693376</td>\n",
       "    </tr>\n",
       "  </tbody>\n",
       "</table>\n",
       "</div>"
      ],
      "text/plain": [
       "          0         1         2\n",
       "5  1.610572 -1.017753  0.284589\n",
       "6 -1.690047  2.317737  0.283082\n",
       "4  0.260035  0.811425 -0.086206\n",
       "1 -2.514986 -1.293696 -0.953747\n",
       "2  0.410459 -0.623034 -0.992117\n",
       "0 -0.086971  0.927506 -2.299808\n",
       "3  0.131152 -1.497550 -2.693376"
      ]
     },
     "execution_count": 3,
     "metadata": {},
     "output_type": "execute_result"
    }
   ],
   "source": [
    "df = pd.DataFrame(rng.normal(size=(7, 3)))\n",
    "\n",
    "df.sort_values(by=2, ascending=False)"
   ]
  },
  {
   "cell_type": "markdown",
   "id": "e72c18c0",
   "metadata": {},
   "source": [
    "Mit `axis=1` und `by` könnt ihr auch Zeilen sortieren:"
   ]
  },
  {
   "cell_type": "code",
   "execution_count": 4,
   "id": "3c60c3e5",
   "metadata": {},
   "outputs": [
    {
     "data": {
      "text/html": [
       "<div>\n",
       "<style scoped>\n",
       "    .dataframe tbody tr th:only-of-type {\n",
       "        vertical-align: middle;\n",
       "    }\n",
       "\n",
       "    .dataframe tbody tr th {\n",
       "        vertical-align: top;\n",
       "    }\n",
       "\n",
       "    .dataframe thead th {\n",
       "        text-align: right;\n",
       "    }\n",
       "</style>\n",
       "<table border=\"1\" class=\"dataframe\">\n",
       "  <thead>\n",
       "    <tr style=\"text-align: right;\">\n",
       "      <th></th>\n",
       "      <th>1</th>\n",
       "      <th>0</th>\n",
       "      <th>2</th>\n",
       "    </tr>\n",
       "  </thead>\n",
       "  <tbody>\n",
       "    <tr>\n",
       "      <th>0</th>\n",
       "      <td>0.927506</td>\n",
       "      <td>-0.086971</td>\n",
       "      <td>-2.299808</td>\n",
       "    </tr>\n",
       "    <tr>\n",
       "      <th>1</th>\n",
       "      <td>-1.293696</td>\n",
       "      <td>-2.514986</td>\n",
       "      <td>-0.953747</td>\n",
       "    </tr>\n",
       "    <tr>\n",
       "      <th>2</th>\n",
       "      <td>-0.623034</td>\n",
       "      <td>0.410459</td>\n",
       "      <td>-0.992117</td>\n",
       "    </tr>\n",
       "    <tr>\n",
       "      <th>3</th>\n",
       "      <td>-1.497550</td>\n",
       "      <td>0.131152</td>\n",
       "      <td>-2.693376</td>\n",
       "    </tr>\n",
       "    <tr>\n",
       "      <th>4</th>\n",
       "      <td>0.811425</td>\n",
       "      <td>0.260035</td>\n",
       "      <td>-0.086206</td>\n",
       "    </tr>\n",
       "    <tr>\n",
       "      <th>5</th>\n",
       "      <td>-1.017753</td>\n",
       "      <td>1.610572</td>\n",
       "      <td>0.284589</td>\n",
       "    </tr>\n",
       "    <tr>\n",
       "      <th>6</th>\n",
       "      <td>2.317737</td>\n",
       "      <td>-1.690047</td>\n",
       "      <td>0.283082</td>\n",
       "    </tr>\n",
       "  </tbody>\n",
       "</table>\n",
       "</div>"
      ],
      "text/plain": [
       "          1         0         2\n",
       "0  0.927506 -0.086971 -2.299808\n",
       "1 -1.293696 -2.514986 -0.953747\n",
       "2 -0.623034  0.410459 -0.992117\n",
       "3 -1.497550  0.131152 -2.693376\n",
       "4  0.811425  0.260035 -0.086206\n",
       "5 -1.017753  1.610572  0.284589\n",
       "6  2.317737 -1.690047  0.283082"
      ]
     },
     "execution_count": 4,
     "metadata": {},
     "output_type": "execute_result"
    }
   ],
   "source": [
    "df.sort_values(axis=1, by=[0,1], ascending=False)"
   ]
  },
  {
   "cell_type": "markdown",
   "id": "7c26b6a7",
   "metadata": {},
   "source": [
    "## Ranking\n",
    "\n",
    "[DataFrame.rank](https://pandas.pydata.org/docs/reference/api/pandas.DataFrame.rank.html) und [Series.rank](https://pandas.pydata.org/docs/reference/api/pandas.Series.rank.html) weisen Ränge von eins bis zur Anzahl der gültigen Datenpunkte in einem Array zu:"
   ]
  },
  {
   "cell_type": "code",
   "execution_count": 5,
   "id": "a44ae2a4",
   "metadata": {},
   "outputs": [
    {
     "data": {
      "text/html": [
       "<div>\n",
       "<style scoped>\n",
       "    .dataframe tbody tr th:only-of-type {\n",
       "        vertical-align: middle;\n",
       "    }\n",
       "\n",
       "    .dataframe tbody tr th {\n",
       "        vertical-align: top;\n",
       "    }\n",
       "\n",
       "    .dataframe thead th {\n",
       "        text-align: right;\n",
       "    }\n",
       "</style>\n",
       "<table border=\"1\" class=\"dataframe\">\n",
       "  <thead>\n",
       "    <tr style=\"text-align: right;\">\n",
       "      <th></th>\n",
       "      <th>0</th>\n",
       "      <th>1</th>\n",
       "      <th>2</th>\n",
       "    </tr>\n",
       "  </thead>\n",
       "  <tbody>\n",
       "    <tr>\n",
       "      <th>0</th>\n",
       "      <td>3.0</td>\n",
       "      <td>6.0</td>\n",
       "      <td>2.0</td>\n",
       "    </tr>\n",
       "    <tr>\n",
       "      <th>1</th>\n",
       "      <td>1.0</td>\n",
       "      <td>2.0</td>\n",
       "      <td>4.0</td>\n",
       "    </tr>\n",
       "    <tr>\n",
       "      <th>2</th>\n",
       "      <td>6.0</td>\n",
       "      <td>4.0</td>\n",
       "      <td>3.0</td>\n",
       "    </tr>\n",
       "    <tr>\n",
       "      <th>3</th>\n",
       "      <td>4.0</td>\n",
       "      <td>1.0</td>\n",
       "      <td>1.0</td>\n",
       "    </tr>\n",
       "    <tr>\n",
       "      <th>4</th>\n",
       "      <td>5.0</td>\n",
       "      <td>5.0</td>\n",
       "      <td>5.0</td>\n",
       "    </tr>\n",
       "    <tr>\n",
       "      <th>5</th>\n",
       "      <td>7.0</td>\n",
       "      <td>3.0</td>\n",
       "      <td>7.0</td>\n",
       "    </tr>\n",
       "    <tr>\n",
       "      <th>6</th>\n",
       "      <td>2.0</td>\n",
       "      <td>7.0</td>\n",
       "      <td>6.0</td>\n",
       "    </tr>\n",
       "  </tbody>\n",
       "</table>\n",
       "</div>"
      ],
      "text/plain": [
       "     0    1    2\n",
       "0  3.0  6.0  2.0\n",
       "1  1.0  2.0  4.0\n",
       "2  6.0  4.0  3.0\n",
       "3  4.0  1.0  1.0\n",
       "4  5.0  5.0  5.0\n",
       "5  7.0  3.0  7.0\n",
       "6  2.0  7.0  6.0"
      ]
     },
     "execution_count": 5,
     "metadata": {},
     "output_type": "execute_result"
    }
   ],
   "source": [
    "df.rank()"
   ]
  },
  {
   "cell_type": "markdown",
   "id": "53e16ca5",
   "metadata": {},
   "source": [
    "Wenn beim Ranking Gleichstände auftauchen, wird üblicherweise in jeder Gruppe der mittleren Rang zugewiesen."
   ]
  },
  {
   "cell_type": "code",
   "execution_count": 6,
   "id": "d91c3cec",
   "metadata": {},
   "outputs": [
    {
     "data": {
      "text/html": [
       "<div>\n",
       "<style scoped>\n",
       "    .dataframe tbody tr th:only-of-type {\n",
       "        vertical-align: middle;\n",
       "    }\n",
       "\n",
       "    .dataframe tbody tr th {\n",
       "        vertical-align: top;\n",
       "    }\n",
       "\n",
       "    .dataframe thead th {\n",
       "        text-align: right;\n",
       "    }\n",
       "</style>\n",
       "<table border=\"1\" class=\"dataframe\">\n",
       "  <thead>\n",
       "    <tr style=\"text-align: right;\">\n",
       "      <th></th>\n",
       "      <th>0</th>\n",
       "      <th>1</th>\n",
       "      <th>2</th>\n",
       "    </tr>\n",
       "  </thead>\n",
       "  <tbody>\n",
       "    <tr>\n",
       "      <th>0</th>\n",
       "      <td>4.0</td>\n",
       "      <td>7.0</td>\n",
       "      <td>2.0</td>\n",
       "    </tr>\n",
       "    <tr>\n",
       "      <th>1</th>\n",
       "      <td>1.0</td>\n",
       "      <td>2.0</td>\n",
       "      <td>4.0</td>\n",
       "    </tr>\n",
       "    <tr>\n",
       "      <th>2</th>\n",
       "      <td>7.0</td>\n",
       "      <td>5.0</td>\n",
       "      <td>3.0</td>\n",
       "    </tr>\n",
       "    <tr>\n",
       "      <th>3</th>\n",
       "      <td>5.0</td>\n",
       "      <td>1.0</td>\n",
       "      <td>1.0</td>\n",
       "    </tr>\n",
       "    <tr>\n",
       "      <th>4</th>\n",
       "      <td>6.0</td>\n",
       "      <td>6.0</td>\n",
       "      <td>5.0</td>\n",
       "    </tr>\n",
       "    <tr>\n",
       "      <th>5</th>\n",
       "      <td>8.5</td>\n",
       "      <td>3.5</td>\n",
       "      <td>8.5</td>\n",
       "    </tr>\n",
       "    <tr>\n",
       "      <th>6</th>\n",
       "      <td>2.5</td>\n",
       "      <td>8.5</td>\n",
       "      <td>6.5</td>\n",
       "    </tr>\n",
       "    <tr>\n",
       "      <th>5</th>\n",
       "      <td>8.5</td>\n",
       "      <td>3.5</td>\n",
       "      <td>8.5</td>\n",
       "    </tr>\n",
       "    <tr>\n",
       "      <th>6</th>\n",
       "      <td>2.5</td>\n",
       "      <td>8.5</td>\n",
       "      <td>6.5</td>\n",
       "    </tr>\n",
       "  </tbody>\n",
       "</table>\n",
       "</div>"
      ],
      "text/plain": [
       "     0    1    2\n",
       "0  4.0  7.0  2.0\n",
       "1  1.0  2.0  4.0\n",
       "2  7.0  5.0  3.0\n",
       "3  5.0  1.0  1.0\n",
       "4  6.0  6.0  5.0\n",
       "5  8.5  3.5  8.5\n",
       "6  2.5  8.5  6.5\n",
       "5  8.5  3.5  8.5\n",
       "6  2.5  8.5  6.5"
      ]
     },
     "execution_count": 6,
     "metadata": {},
     "output_type": "execute_result"
    }
   ],
   "source": [
    "df2 = df.append(df[5:])\n",
    "df2.rank()"
   ]
  },
  {
   "cell_type": "markdown",
   "id": "fd34f5fe",
   "metadata": {},
   "source": [
    "Mit dem Parameter `min` wird hingegen der kleinste Rang in der Gruppe zugewiesen:"
   ]
  },
  {
   "cell_type": "code",
   "execution_count": 7,
   "id": "85d4b569",
   "metadata": {},
   "outputs": [
    {
     "data": {
      "text/html": [
       "<div>\n",
       "<style scoped>\n",
       "    .dataframe tbody tr th:only-of-type {\n",
       "        vertical-align: middle;\n",
       "    }\n",
       "\n",
       "    .dataframe tbody tr th {\n",
       "        vertical-align: top;\n",
       "    }\n",
       "\n",
       "    .dataframe thead th {\n",
       "        text-align: right;\n",
       "    }\n",
       "</style>\n",
       "<table border=\"1\" class=\"dataframe\">\n",
       "  <thead>\n",
       "    <tr style=\"text-align: right;\">\n",
       "      <th></th>\n",
       "      <th>0</th>\n",
       "      <th>1</th>\n",
       "      <th>2</th>\n",
       "    </tr>\n",
       "  </thead>\n",
       "  <tbody>\n",
       "    <tr>\n",
       "      <th>0</th>\n",
       "      <td>4.0</td>\n",
       "      <td>7.0</td>\n",
       "      <td>2.0</td>\n",
       "    </tr>\n",
       "    <tr>\n",
       "      <th>1</th>\n",
       "      <td>1.0</td>\n",
       "      <td>2.0</td>\n",
       "      <td>4.0</td>\n",
       "    </tr>\n",
       "    <tr>\n",
       "      <th>2</th>\n",
       "      <td>7.0</td>\n",
       "      <td>5.0</td>\n",
       "      <td>3.0</td>\n",
       "    </tr>\n",
       "    <tr>\n",
       "      <th>3</th>\n",
       "      <td>5.0</td>\n",
       "      <td>1.0</td>\n",
       "      <td>1.0</td>\n",
       "    </tr>\n",
       "    <tr>\n",
       "      <th>4</th>\n",
       "      <td>6.0</td>\n",
       "      <td>6.0</td>\n",
       "      <td>5.0</td>\n",
       "    </tr>\n",
       "    <tr>\n",
       "      <th>5</th>\n",
       "      <td>8.0</td>\n",
       "      <td>3.0</td>\n",
       "      <td>8.0</td>\n",
       "    </tr>\n",
       "    <tr>\n",
       "      <th>6</th>\n",
       "      <td>2.0</td>\n",
       "      <td>8.0</td>\n",
       "      <td>6.0</td>\n",
       "    </tr>\n",
       "    <tr>\n",
       "      <th>5</th>\n",
       "      <td>8.0</td>\n",
       "      <td>3.0</td>\n",
       "      <td>8.0</td>\n",
       "    </tr>\n",
       "    <tr>\n",
       "      <th>6</th>\n",
       "      <td>2.0</td>\n",
       "      <td>8.0</td>\n",
       "      <td>6.0</td>\n",
       "    </tr>\n",
       "  </tbody>\n",
       "</table>\n",
       "</div>"
      ],
      "text/plain": [
       "     0    1    2\n",
       "0  4.0  7.0  2.0\n",
       "1  1.0  2.0  4.0\n",
       "2  7.0  5.0  3.0\n",
       "3  5.0  1.0  1.0\n",
       "4  6.0  6.0  5.0\n",
       "5  8.0  3.0  8.0\n",
       "6  2.0  8.0  6.0\n",
       "5  8.0  3.0  8.0\n",
       "6  2.0  8.0  6.0"
      ]
     },
     "execution_count": 7,
     "metadata": {},
     "output_type": "execute_result"
    }
   ],
   "source": [
    "df2.rank(method='min')"
   ]
  },
  {
   "cell_type": "markdown",
   "id": "1025a8f0",
   "metadata": {},
   "source": [
    "## Weitere Verfahren mit `rank`\n",
    "\n",
    "Methode | Beschreibung\n",
    ":------ | :-----------\n",
    "`average` | Standard: jedem Eintrag in der gleichen Gruppe den durchschnittlichen Rang zuweisen\n",
    "`min` | verwendet den minimalen Rang für die gesamte Gruppe\n",
    "`max` | verwendet den maximalen Rang für die gesamte Gruppe\n",
    "`first` | weist die Ränge in der Reihenfolge zu, in der die Werte in den Daten erscheinen\n",
    "`dense` | wie `method='min'`, aber die Ränge erhöhen sich zwischen den Gruppen immer um 1 und nicht nach der Anzahl der gleichen Elemente in einer Gruppe"
   ]
  }
 ],
 "metadata": {
  "kernelspec": {
   "display_name": "Python 3.8",
   "language": "python",
   "name": "python-38"
  },
  "language_info": {
   "codemirror_mode": {
    "name": "ipython",
    "version": 3
   },
   "file_extension": ".py",
   "mimetype": "text/x-python",
   "name": "python",
   "nbconvert_exporter": "python",
   "pygments_lexer": "ipython3",
   "version": "3.8.12"
  }
 },
 "nbformat": 4,
 "nbformat_minor": 5
}
