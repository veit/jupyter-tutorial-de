{
 "cells": [
  {
   "cell_type": "markdown",
   "id": "4231b346",
   "metadata": {},
   "source": [
    "# Arithmetik\n",
    "\n",
    "Eine wichtige Funktion von pandas ist das arithmetische Verhalten bei Objekten mit unterschiedlichen Indizes. Wenn beim Addieren von Objekten die Indexpaare nicht gleich sind, wird der entsprechende Index im Ergebnis die Vereinigung der Indexpaare sein. Für Benutzer mit Datenbankerfahrung ist dies vergleichbar mit einem automatischen [OUTER JOIN](https://de.wikipedia.org/wiki/Join_(SQL)#%C3%84u%C3%9Ferer_Verbund_(OUTER_JOIN)) auf den Indexbezeichnungen. Schauen wir uns ein Beispiel an:"
   ]
  },
  {
   "cell_type": "code",
   "execution_count": 1,
   "id": "5b29913f",
   "metadata": {},
   "outputs": [],
   "source": [
    "import numpy as np\n",
    "import pandas as pd\n",
    "\n",
    "s1 = pd.Series(np.random.randn(5))\n",
    "s2 = pd.Series(np.random.randn(7))"
   ]
  },
  {
   "cell_type": "markdown",
   "id": "35204d7d",
   "metadata": {},
   "source": [
    "Addiert man diese Werte, erhält man:"
   ]
  },
  {
   "cell_type": "code",
   "execution_count": 2,
   "id": "9c5ca9ed",
   "metadata": {},
   "outputs": [
    {
     "data": {
      "text/plain": [
       "0   -0.245242\n",
       "1   -3.844435\n",
       "2   -0.467513\n",
       "3    2.430268\n",
       "4    1.948743\n",
       "5         NaN\n",
       "6         NaN\n",
       "dtype: float64"
      ]
     },
     "execution_count": 2,
     "metadata": {},
     "output_type": "execute_result"
    }
   ],
   "source": [
    "s1 + s2"
   ]
  },
  {
   "cell_type": "markdown",
   "id": "658fc144",
   "metadata": {},
   "source": [
    "Der interne Datenabgleich führt zu fehlenden Werten an den Stellen der Labels, die sich nicht überschneiden. Fehlende Werte werden dann bei weiteren arithmetischen Berechnungen weitergegeben."
   ]
  },
  {
   "cell_type": "markdown",
   "id": "9a8a4ca0",
   "metadata": {},
   "source": [
    "Bei DataFrames wird die Ausrichtung sowohl für die Zeilen als auch für die Spalten durchgeführt:"
   ]
  },
  {
   "cell_type": "code",
   "execution_count": 3,
   "id": "02308a89",
   "metadata": {},
   "outputs": [],
   "source": [
    "df1 = pd.DataFrame(np.random.randn(5,3))\n",
    "df2 = pd.DataFrame(np.random.randn(7,2))"
   ]
  },
  {
   "cell_type": "markdown",
   "id": "5b6810dd",
   "metadata": {},
   "source": [
    "Wenn die beiden DataFrames addiert werden, ergibt sich ein DataFrame, dessen Index und Spalten die Vereinigungen derjenigen in jedem der obigen DataFrames sind:"
   ]
  },
  {
   "cell_type": "code",
   "execution_count": 4,
   "id": "dd2da918",
   "metadata": {},
   "outputs": [
    {
     "data": {
      "text/html": [
       "<div>\n",
       "<style scoped>\n",
       "    .dataframe tbody tr th:only-of-type {\n",
       "        vertical-align: middle;\n",
       "    }\n",
       "\n",
       "    .dataframe tbody tr th {\n",
       "        vertical-align: top;\n",
       "    }\n",
       "\n",
       "    .dataframe thead th {\n",
       "        text-align: right;\n",
       "    }\n",
       "</style>\n",
       "<table border=\"1\" class=\"dataframe\">\n",
       "  <thead>\n",
       "    <tr style=\"text-align: right;\">\n",
       "      <th></th>\n",
       "      <th>0</th>\n",
       "      <th>1</th>\n",
       "      <th>2</th>\n",
       "    </tr>\n",
       "  </thead>\n",
       "  <tbody>\n",
       "    <tr>\n",
       "      <th>0</th>\n",
       "      <td>-0.254390</td>\n",
       "      <td>-0.082757</td>\n",
       "      <td>NaN</td>\n",
       "    </tr>\n",
       "    <tr>\n",
       "      <th>1</th>\n",
       "      <td>1.030985</td>\n",
       "      <td>2.309641</td>\n",
       "      <td>NaN</td>\n",
       "    </tr>\n",
       "    <tr>\n",
       "      <th>2</th>\n",
       "      <td>0.277460</td>\n",
       "      <td>-0.577714</td>\n",
       "      <td>NaN</td>\n",
       "    </tr>\n",
       "    <tr>\n",
       "      <th>3</th>\n",
       "      <td>-0.923041</td>\n",
       "      <td>0.047021</td>\n",
       "      <td>NaN</td>\n",
       "    </tr>\n",
       "    <tr>\n",
       "      <th>4</th>\n",
       "      <td>0.255349</td>\n",
       "      <td>-1.191603</td>\n",
       "      <td>NaN</td>\n",
       "    </tr>\n",
       "    <tr>\n",
       "      <th>5</th>\n",
       "      <td>NaN</td>\n",
       "      <td>NaN</td>\n",
       "      <td>NaN</td>\n",
       "    </tr>\n",
       "    <tr>\n",
       "      <th>6</th>\n",
       "      <td>NaN</td>\n",
       "      <td>NaN</td>\n",
       "      <td>NaN</td>\n",
       "    </tr>\n",
       "  </tbody>\n",
       "</table>\n",
       "</div>"
      ],
      "text/plain": [
       "          0         1   2\n",
       "0 -0.254390 -0.082757 NaN\n",
       "1  1.030985  2.309641 NaN\n",
       "2  0.277460 -0.577714 NaN\n",
       "3 -0.923041  0.047021 NaN\n",
       "4  0.255349 -1.191603 NaN\n",
       "5       NaN       NaN NaN\n",
       "6       NaN       NaN NaN"
      ]
     },
     "execution_count": 4,
     "metadata": {},
     "output_type": "execute_result"
    }
   ],
   "source": [
    "df1 + df2"
   ]
  },
  {
   "cell_type": "markdown",
   "id": "635e754e",
   "metadata": {},
   "source": [
    "Da die Spalte 2 nicht in beiden DataFrame-Objekten vorkommen, erscheinen sie im Ergebnis als fehlend. Das Gleiche gilt für die Zeilen, deren Bezeichnungen nicht in beiden Objekten vorkommen."
   ]
  },
  {
   "cell_type": "markdown",
   "id": "4a99f089",
   "metadata": {},
   "source": [
    "## Arithmetische Methoden mit Füllwerten\n",
    "\n",
    "Bei arithmetischen Operationen zwischen unterschiedlich indizierten Objekten kann es sinnvoll sein, einen speziellen Wert (z. B. `0`) zu verwenden, wenn eine Achsenbeschriftung in einem Objekt gefunden wird, im anderen aber nicht.  Mit der `add`-Methode kann das Argument `fill_value` übergeben werden:"
   ]
  },
  {
   "cell_type": "code",
   "execution_count": 5,
   "id": "b587fa86",
   "metadata": {},
   "outputs": [
    {
     "data": {
      "text/html": [
       "<div>\n",
       "<style scoped>\n",
       "    .dataframe tbody tr th:only-of-type {\n",
       "        vertical-align: middle;\n",
       "    }\n",
       "\n",
       "    .dataframe tbody tr th {\n",
       "        vertical-align: top;\n",
       "    }\n",
       "\n",
       "    .dataframe thead th {\n",
       "        text-align: right;\n",
       "    }\n",
       "</style>\n",
       "<table border=\"1\" class=\"dataframe\">\n",
       "  <thead>\n",
       "    <tr style=\"text-align: right;\">\n",
       "      <th></th>\n",
       "      <th>0</th>\n",
       "      <th>1</th>\n",
       "      <th>2</th>\n",
       "    </tr>\n",
       "  </thead>\n",
       "  <tbody>\n",
       "    <tr>\n",
       "      <th>0</th>\n",
       "      <td>-0.254390</td>\n",
       "      <td>-0.082757</td>\n",
       "      <td>0.776434</td>\n",
       "    </tr>\n",
       "    <tr>\n",
       "      <th>1</th>\n",
       "      <td>1.030985</td>\n",
       "      <td>2.309641</td>\n",
       "      <td>1.700989</td>\n",
       "    </tr>\n",
       "    <tr>\n",
       "      <th>2</th>\n",
       "      <td>0.277460</td>\n",
       "      <td>-0.577714</td>\n",
       "      <td>-0.950954</td>\n",
       "    </tr>\n",
       "    <tr>\n",
       "      <th>3</th>\n",
       "      <td>-0.923041</td>\n",
       "      <td>0.047021</td>\n",
       "      <td>-0.360664</td>\n",
       "    </tr>\n",
       "    <tr>\n",
       "      <th>4</th>\n",
       "      <td>0.255349</td>\n",
       "      <td>-1.191603</td>\n",
       "      <td>-0.711503</td>\n",
       "    </tr>\n",
       "    <tr>\n",
       "      <th>5</th>\n",
       "      <td>0.060263</td>\n",
       "      <td>0.393012</td>\n",
       "      <td>NaN</td>\n",
       "    </tr>\n",
       "    <tr>\n",
       "      <th>6</th>\n",
       "      <td>0.006922</td>\n",
       "      <td>1.300511</td>\n",
       "      <td>NaN</td>\n",
       "    </tr>\n",
       "  </tbody>\n",
       "</table>\n",
       "</div>"
      ],
      "text/plain": [
       "          0         1         2\n",
       "0 -0.254390 -0.082757  0.776434\n",
       "1  1.030985  2.309641  1.700989\n",
       "2  0.277460 -0.577714 -0.950954\n",
       "3 -0.923041  0.047021 -0.360664\n",
       "4  0.255349 -1.191603 -0.711503\n",
       "5  0.060263  0.393012       NaN\n",
       "6  0.006922  1.300511       NaN"
      ]
     },
     "execution_count": 5,
     "metadata": {},
     "output_type": "execute_result"
    }
   ],
   "source": [
    "df12 = df1.add(df2, fill_value=0)\n",
    "\n",
    "df12"
   ]
  },
  {
   "cell_type": "markdown",
   "id": "3184db4a",
   "metadata": {},
   "source": [
    "Im folgenden Beispiel setzen wir die beiden verbleibenden NaN-Werte auf `0`:"
   ]
  },
  {
   "cell_type": "code",
   "execution_count": 6,
   "id": "a91d7a81",
   "metadata": {},
   "outputs": [],
   "source": [
    "df12.iloc[[5,6], [2]] = 0"
   ]
  },
  {
   "cell_type": "code",
   "execution_count": 7,
   "id": "0467d4bc",
   "metadata": {},
   "outputs": [
    {
     "data": {
      "text/html": [
       "<div>\n",
       "<style scoped>\n",
       "    .dataframe tbody tr th:only-of-type {\n",
       "        vertical-align: middle;\n",
       "    }\n",
       "\n",
       "    .dataframe tbody tr th {\n",
       "        vertical-align: top;\n",
       "    }\n",
       "\n",
       "    .dataframe thead th {\n",
       "        text-align: right;\n",
       "    }\n",
       "</style>\n",
       "<table border=\"1\" class=\"dataframe\">\n",
       "  <thead>\n",
       "    <tr style=\"text-align: right;\">\n",
       "      <th></th>\n",
       "      <th>0</th>\n",
       "      <th>1</th>\n",
       "      <th>2</th>\n",
       "    </tr>\n",
       "  </thead>\n",
       "  <tbody>\n",
       "    <tr>\n",
       "      <th>0</th>\n",
       "      <td>-0.254390</td>\n",
       "      <td>-0.082757</td>\n",
       "      <td>0.776434</td>\n",
       "    </tr>\n",
       "    <tr>\n",
       "      <th>1</th>\n",
       "      <td>1.030985</td>\n",
       "      <td>2.309641</td>\n",
       "      <td>1.700989</td>\n",
       "    </tr>\n",
       "    <tr>\n",
       "      <th>2</th>\n",
       "      <td>0.277460</td>\n",
       "      <td>-0.577714</td>\n",
       "      <td>-0.950954</td>\n",
       "    </tr>\n",
       "    <tr>\n",
       "      <th>3</th>\n",
       "      <td>-0.923041</td>\n",
       "      <td>0.047021</td>\n",
       "      <td>-0.360664</td>\n",
       "    </tr>\n",
       "    <tr>\n",
       "      <th>4</th>\n",
       "      <td>0.255349</td>\n",
       "      <td>-1.191603</td>\n",
       "      <td>-0.711503</td>\n",
       "    </tr>\n",
       "    <tr>\n",
       "      <th>5</th>\n",
       "      <td>0.060263</td>\n",
       "      <td>0.393012</td>\n",
       "      <td>0.000000</td>\n",
       "    </tr>\n",
       "    <tr>\n",
       "      <th>6</th>\n",
       "      <td>0.006922</td>\n",
       "      <td>1.300511</td>\n",
       "      <td>0.000000</td>\n",
       "    </tr>\n",
       "  </tbody>\n",
       "</table>\n",
       "</div>"
      ],
      "text/plain": [
       "          0         1         2\n",
       "0 -0.254390 -0.082757  0.776434\n",
       "1  1.030985  2.309641  1.700989\n",
       "2  0.277460 -0.577714 -0.950954\n",
       "3 -0.923041  0.047021 -0.360664\n",
       "4  0.255349 -1.191603 -0.711503\n",
       "5  0.060263  0.393012  0.000000\n",
       "6  0.006922  1.300511  0.000000"
      ]
     },
     "execution_count": 7,
     "metadata": {},
     "output_type": "execute_result"
    }
   ],
   "source": [
    "df12"
   ]
  },
  {
   "cell_type": "markdown",
   "id": "75266ce2",
   "metadata": {},
   "source": [
    "## Arithmetische Methoden\n",
    "\n",
    "Methode | Beschreibung\n",
    ":------ | :-----------\n",
    "`add`, `radd` | Methoden für Addition (`+`)\n",
    "`sub`, `rsub` | Methoden für die Subtraktion (`-`)\n",
    "`div`, `rdiv` | Methoden für die Division (`/`)\n",
    "`floordiv`, `rfloordiv` | Methoden für die Abrundungsfunktion (engl.: floor divison) (`//`)\n",
    "`mul`, `rmul` | Methoden für die Multiplikation (`*`)\n",
    "`pow`, `rpow` | Methoden zur Potenzierung (`**`)\n",
    "\n",
    "`r` (engl.: _reverse_) kehrt die Methode um."
   ]
  },
  {
   "cell_type": "markdown",
   "id": "72c03854",
   "metadata": {},
   "source": [
    "## Operationen zwischen DataFrame und Series\n",
    "\n",
    "Wie bei NumPy-Arrays verschiedener Dimensionen ist auch die Arithmetik zwischen DataFrame und Series definiert."
   ]
  },
  {
   "cell_type": "code",
   "execution_count": 8,
   "id": "8d7b47b5",
   "metadata": {},
   "outputs": [
    {
     "data": {
      "text/html": [
       "<div>\n",
       "<style scoped>\n",
       "    .dataframe tbody tr th:only-of-type {\n",
       "        vertical-align: middle;\n",
       "    }\n",
       "\n",
       "    .dataframe tbody tr th {\n",
       "        vertical-align: top;\n",
       "    }\n",
       "\n",
       "    .dataframe thead th {\n",
       "        text-align: right;\n",
       "    }\n",
       "</style>\n",
       "<table border=\"1\" class=\"dataframe\">\n",
       "  <thead>\n",
       "    <tr style=\"text-align: right;\">\n",
       "      <th></th>\n",
       "      <th>0</th>\n",
       "      <th>1</th>\n",
       "      <th>2</th>\n",
       "      <th>3</th>\n",
       "      <th>4</th>\n",
       "    </tr>\n",
       "  </thead>\n",
       "  <tbody>\n",
       "    <tr>\n",
       "      <th>0</th>\n",
       "      <td>-0.884340</td>\n",
       "      <td>-2.598045</td>\n",
       "      <td>0.216800</td>\n",
       "      <td>NaN</td>\n",
       "      <td>NaN</td>\n",
       "    </tr>\n",
       "    <tr>\n",
       "      <th>1</th>\n",
       "      <td>0.401035</td>\n",
       "      <td>-0.205646</td>\n",
       "      <td>1.141356</td>\n",
       "      <td>NaN</td>\n",
       "      <td>NaN</td>\n",
       "    </tr>\n",
       "    <tr>\n",
       "      <th>2</th>\n",
       "      <td>-0.352489</td>\n",
       "      <td>-3.093002</td>\n",
       "      <td>-1.510588</td>\n",
       "      <td>NaN</td>\n",
       "      <td>NaN</td>\n",
       "    </tr>\n",
       "    <tr>\n",
       "      <th>3</th>\n",
       "      <td>-1.552991</td>\n",
       "      <td>-2.468266</td>\n",
       "      <td>-0.920298</td>\n",
       "      <td>NaN</td>\n",
       "      <td>NaN</td>\n",
       "    </tr>\n",
       "    <tr>\n",
       "      <th>4</th>\n",
       "      <td>-0.374600</td>\n",
       "      <td>-3.706890</td>\n",
       "      <td>-1.271137</td>\n",
       "      <td>NaN</td>\n",
       "      <td>NaN</td>\n",
       "    </tr>\n",
       "    <tr>\n",
       "      <th>5</th>\n",
       "      <td>-0.569687</td>\n",
       "      <td>-2.122275</td>\n",
       "      <td>-0.559633</td>\n",
       "      <td>NaN</td>\n",
       "      <td>NaN</td>\n",
       "    </tr>\n",
       "    <tr>\n",
       "      <th>6</th>\n",
       "      <td>-0.623028</td>\n",
       "      <td>-1.214776</td>\n",
       "      <td>-0.559633</td>\n",
       "      <td>NaN</td>\n",
       "      <td>NaN</td>\n",
       "    </tr>\n",
       "  </tbody>\n",
       "</table>\n",
       "</div>"
      ],
      "text/plain": [
       "          0         1         2   3   4\n",
       "0 -0.884340 -2.598045  0.216800 NaN NaN\n",
       "1  0.401035 -0.205646  1.141356 NaN NaN\n",
       "2 -0.352489 -3.093002 -1.510588 NaN NaN\n",
       "3 -1.552991 -2.468266 -0.920298 NaN NaN\n",
       "4 -0.374600 -3.706890 -1.271137 NaN NaN\n",
       "5 -0.569687 -2.122275 -0.559633 NaN NaN\n",
       "6 -0.623028 -1.214776 -0.559633 NaN NaN"
      ]
     },
     "execution_count": 8,
     "metadata": {},
     "output_type": "execute_result"
    }
   ],
   "source": [
    "s1 + df12"
   ]
  },
  {
   "cell_type": "markdown",
   "id": "3048aa55",
   "metadata": {},
   "source": [
    "Wenn wir `s1` mit `df12` addieren, wird die Additon für jede Zeile einmal durchgeführt. Dies wird als _Broadcasting_ bezeichnet. Standardmäßig entspricht die Arithmetik zwischen DataFrame und Serie dem Index der Serie in den Spalten des DataFrame, wobei die Zeilen nach unten übertragen werden."
   ]
  },
  {
   "cell_type": "markdown",
   "id": "3d69cc0e",
   "metadata": {},
   "source": [
    "Wenn ein Indexwert weder in den Spalten des DataFrame noch im Index der Serie gefunden wird, werden die Objekte neu indiziert, um die Vereinigung zu bilden:"
   ]
  },
  {
   "cell_type": "markdown",
   "id": "c252358c",
   "metadata": {},
   "source": [
    "Wenn ihr stattdessen die Spalten übertragen und die Zeilen abgleichen wollt, müsst ihr eine der arithmetischen Methoden verwenden, z.B.:"
   ]
  },
  {
   "cell_type": "code",
   "execution_count": 9,
   "id": "b5499888",
   "metadata": {},
   "outputs": [
    {
     "data": {
      "text/html": [
       "<div>\n",
       "<style scoped>\n",
       "    .dataframe tbody tr th:only-of-type {\n",
       "        vertical-align: middle;\n",
       "    }\n",
       "\n",
       "    .dataframe tbody tr th {\n",
       "        vertical-align: top;\n",
       "    }\n",
       "\n",
       "    .dataframe thead th {\n",
       "        text-align: right;\n",
       "    }\n",
       "</style>\n",
       "<table border=\"1\" class=\"dataframe\">\n",
       "  <thead>\n",
       "    <tr style=\"text-align: right;\">\n",
       "      <th></th>\n",
       "      <th>0</th>\n",
       "      <th>1</th>\n",
       "      <th>2</th>\n",
       "    </tr>\n",
       "  </thead>\n",
       "  <tbody>\n",
       "    <tr>\n",
       "      <th>0</th>\n",
       "      <td>0.130318</td>\n",
       "      <td>0.301951</td>\n",
       "      <td>1.161141</td>\n",
       "    </tr>\n",
       "    <tr>\n",
       "      <th>1</th>\n",
       "      <td>-0.298163</td>\n",
       "      <td>0.980494</td>\n",
       "      <td>0.371842</td>\n",
       "    </tr>\n",
       "    <tr>\n",
       "      <th>2</th>\n",
       "      <td>0.369581</td>\n",
       "      <td>-0.485593</td>\n",
       "      <td>-0.858833</td>\n",
       "    </tr>\n",
       "    <tr>\n",
       "      <th>3</th>\n",
       "      <td>0.643568</td>\n",
       "      <td>1.613630</td>\n",
       "      <td>1.205945</td>\n",
       "    </tr>\n",
       "    <tr>\n",
       "      <th>4</th>\n",
       "      <td>2.346520</td>\n",
       "      <td>0.899568</td>\n",
       "      <td>1.379667</td>\n",
       "    </tr>\n",
       "    <tr>\n",
       "      <th>5</th>\n",
       "      <td>0.006770</td>\n",
       "      <td>0.339519</td>\n",
       "      <td>-0.053493</td>\n",
       "    </tr>\n",
       "    <tr>\n",
       "      <th>6</th>\n",
       "      <td>0.679892</td>\n",
       "      <td>1.973482</td>\n",
       "      <td>0.672971</td>\n",
       "    </tr>\n",
       "  </tbody>\n",
       "</table>\n",
       "</div>"
      ],
      "text/plain": [
       "          0         1         2\n",
       "0  0.130318  0.301951  1.161141\n",
       "1 -0.298163  0.980494  0.371842\n",
       "2  0.369581 -0.485593 -0.858833\n",
       "3  0.643568  1.613630  1.205945\n",
       "4  2.346520  0.899568  1.379667\n",
       "5  0.006770  0.339519 -0.053493\n",
       "6  0.679892  1.973482  0.672971"
      ]
     },
     "execution_count": 9,
     "metadata": {},
     "output_type": "execute_result"
    }
   ],
   "source": [
    "df12.add(s2, axis='index')"
   ]
  },
  {
   "cell_type": "markdown",
   "id": "f4dabeca",
   "metadata": {},
   "source": [
    "Die Achsennummer, die ihr übergebt, ist die Achse, auf die abgeglichen werden soll. In diesem Fall soll der Zeilenindex des DataFrame (`axis='index'` oder `axis=0`) abgeglichen und übertragen werden."
   ]
  },
  {
   "cell_type": "markdown",
   "id": "f04a8ce0",
   "metadata": {},
   "source": [
    "## Funktionsanwendung und Mapping\n",
    "\n",
    "`numpy.ufunc` (elementweise Array-Methoden) funktionieren auch mit Pandas-Objekten:"
   ]
  },
  {
   "cell_type": "code",
   "execution_count": 10,
   "id": "6703726d",
   "metadata": {},
   "outputs": [
    {
     "data": {
      "text/html": [
       "<div>\n",
       "<style scoped>\n",
       "    .dataframe tbody tr th:only-of-type {\n",
       "        vertical-align: middle;\n",
       "    }\n",
       "\n",
       "    .dataframe tbody tr th {\n",
       "        vertical-align: top;\n",
       "    }\n",
       "\n",
       "    .dataframe thead th {\n",
       "        text-align: right;\n",
       "    }\n",
       "</style>\n",
       "<table border=\"1\" class=\"dataframe\">\n",
       "  <thead>\n",
       "    <tr style=\"text-align: right;\">\n",
       "      <th></th>\n",
       "      <th>0</th>\n",
       "      <th>1</th>\n",
       "      <th>2</th>\n",
       "    </tr>\n",
       "  </thead>\n",
       "  <tbody>\n",
       "    <tr>\n",
       "      <th>0</th>\n",
       "      <td>0.254390</td>\n",
       "      <td>0.082757</td>\n",
       "      <td>0.776434</td>\n",
       "    </tr>\n",
       "    <tr>\n",
       "      <th>1</th>\n",
       "      <td>1.030985</td>\n",
       "      <td>2.309641</td>\n",
       "      <td>1.700989</td>\n",
       "    </tr>\n",
       "    <tr>\n",
       "      <th>2</th>\n",
       "      <td>0.277460</td>\n",
       "      <td>0.577714</td>\n",
       "      <td>0.950954</td>\n",
       "    </tr>\n",
       "    <tr>\n",
       "      <th>3</th>\n",
       "      <td>0.923041</td>\n",
       "      <td>0.047021</td>\n",
       "      <td>0.360664</td>\n",
       "    </tr>\n",
       "    <tr>\n",
       "      <th>4</th>\n",
       "      <td>0.255349</td>\n",
       "      <td>1.191603</td>\n",
       "      <td>0.711503</td>\n",
       "    </tr>\n",
       "    <tr>\n",
       "      <th>5</th>\n",
       "      <td>0.060263</td>\n",
       "      <td>0.393012</td>\n",
       "      <td>0.000000</td>\n",
       "    </tr>\n",
       "    <tr>\n",
       "      <th>6</th>\n",
       "      <td>0.006922</td>\n",
       "      <td>1.300511</td>\n",
       "      <td>0.000000</td>\n",
       "    </tr>\n",
       "  </tbody>\n",
       "</table>\n",
       "</div>"
      ],
      "text/plain": [
       "          0         1         2\n",
       "0  0.254390  0.082757  0.776434\n",
       "1  1.030985  2.309641  1.700989\n",
       "2  0.277460  0.577714  0.950954\n",
       "3  0.923041  0.047021  0.360664\n",
       "4  0.255349  1.191603  0.711503\n",
       "5  0.060263  0.393012  0.000000\n",
       "6  0.006922  1.300511  0.000000"
      ]
     },
     "execution_count": 10,
     "metadata": {},
     "output_type": "execute_result"
    }
   ],
   "source": [
    "np.abs(df12)"
   ]
  },
  {
   "cell_type": "markdown",
   "id": "e6cb5cbe",
   "metadata": {},
   "source": [
    "Eine weitere häufige Operation ist die Anwendung einer Funktion auf eindimensionale Arrays auf jede Spalte oder Zeile. Die [pandas.DataFrame.apply](https://pandas.pydata.org/docs/reference/api/pandas.DataFrame.apply.html)-Methode tut genau dies:"
   ]
  },
  {
   "cell_type": "code",
   "execution_count": 11,
   "id": "fba73255",
   "metadata": {},
   "outputs": [
    {
     "data": {
      "text/html": [
       "<div>\n",
       "<style scoped>\n",
       "    .dataframe tbody tr th:only-of-type {\n",
       "        vertical-align: middle;\n",
       "    }\n",
       "\n",
       "    .dataframe tbody tr th {\n",
       "        vertical-align: top;\n",
       "    }\n",
       "\n",
       "    .dataframe thead th {\n",
       "        text-align: right;\n",
       "    }\n",
       "</style>\n",
       "<table border=\"1\" class=\"dataframe\">\n",
       "  <thead>\n",
       "    <tr style=\"text-align: right;\">\n",
       "      <th></th>\n",
       "      <th>0</th>\n",
       "      <th>1</th>\n",
       "      <th>2</th>\n",
       "    </tr>\n",
       "  </thead>\n",
       "  <tbody>\n",
       "    <tr>\n",
       "      <th>0</th>\n",
       "      <td>-0.254390</td>\n",
       "      <td>-0.082757</td>\n",
       "      <td>0.776434</td>\n",
       "    </tr>\n",
       "    <tr>\n",
       "      <th>1</th>\n",
       "      <td>1.030985</td>\n",
       "      <td>2.309641</td>\n",
       "      <td>1.700989</td>\n",
       "    </tr>\n",
       "    <tr>\n",
       "      <th>2</th>\n",
       "      <td>0.277460</td>\n",
       "      <td>-0.577714</td>\n",
       "      <td>-0.950954</td>\n",
       "    </tr>\n",
       "    <tr>\n",
       "      <th>3</th>\n",
       "      <td>-0.923041</td>\n",
       "      <td>0.047021</td>\n",
       "      <td>-0.360664</td>\n",
       "    </tr>\n",
       "    <tr>\n",
       "      <th>4</th>\n",
       "      <td>0.255349</td>\n",
       "      <td>-1.191603</td>\n",
       "      <td>-0.711503</td>\n",
       "    </tr>\n",
       "    <tr>\n",
       "      <th>5</th>\n",
       "      <td>0.060263</td>\n",
       "      <td>0.393012</td>\n",
       "      <td>0.000000</td>\n",
       "    </tr>\n",
       "    <tr>\n",
       "      <th>6</th>\n",
       "      <td>0.006922</td>\n",
       "      <td>1.300511</td>\n",
       "      <td>0.000000</td>\n",
       "    </tr>\n",
       "  </tbody>\n",
       "</table>\n",
       "</div>"
      ],
      "text/plain": [
       "          0         1         2\n",
       "0 -0.254390 -0.082757  0.776434\n",
       "1  1.030985  2.309641  1.700989\n",
       "2  0.277460 -0.577714 -0.950954\n",
       "3 -0.923041  0.047021 -0.360664\n",
       "4  0.255349 -1.191603 -0.711503\n",
       "5  0.060263  0.393012  0.000000\n",
       "6  0.006922  1.300511  0.000000"
      ]
     },
     "execution_count": 11,
     "metadata": {},
     "output_type": "execute_result"
    }
   ],
   "source": [
    "df12"
   ]
  },
  {
   "cell_type": "code",
   "execution_count": 12,
   "id": "e7589502",
   "metadata": {},
   "outputs": [
    {
     "data": {
      "text/plain": [
       "0    1.954026\n",
       "1    3.501244\n",
       "2    2.651944\n",
       "dtype: float64"
      ]
     },
     "execution_count": 12,
     "metadata": {},
     "output_type": "execute_result"
    }
   ],
   "source": [
    "f = lambda x: x.max() - x.min()\n",
    "\n",
    "df12.apply(f)"
   ]
  },
  {
   "cell_type": "markdown",
   "id": "5c730fc0",
   "metadata": {},
   "source": [
    "Hier wird die Funktion `f`, die die Differenz zwischen dem Maximum und dem Minimum einer Reihe berechnet, einmal für jede Spalte des Rahmens aufgerufen. Das Ergebnis ist eine Reihe mit den Spalten des Rahmens als Index."
   ]
  },
  {
   "cell_type": "markdown",
   "id": "cd3d8cef",
   "metadata": {},
   "source": [
    "Wenn ihr `axis='columns'` an `apply` übergebt, wird die Funktion stattdessen einmal pro Zeile aufgerufen:"
   ]
  },
  {
   "cell_type": "code",
   "execution_count": 13,
   "id": "8db58697",
   "metadata": {},
   "outputs": [
    {
     "data": {
      "text/plain": [
       "0    1.030823\n",
       "1    1.278656\n",
       "2    1.228415\n",
       "3    0.970062\n",
       "4    1.446952\n",
       "5    0.393012\n",
       "6    1.300511\n",
       "dtype: float64"
      ]
     },
     "execution_count": 13,
     "metadata": {},
     "output_type": "execute_result"
    }
   ],
   "source": [
    "df12.apply(f, axis='columns')"
   ]
  },
  {
   "cell_type": "markdown",
   "id": "1dfebb36",
   "metadata": {},
   "source": [
    "Viele der gebräuchlichsten Array-Statistiken (wie `sum` und `mean`) sind DataFrame-Methoden, so dass die Verwendung von `apply` nicht notwendig ist."
   ]
  },
  {
   "cell_type": "markdown",
   "id": "429fb65c",
   "metadata": {},
   "source": [
    "Die an apply übergebene Funktion muss keinen Einzelwert zurückgeben; sie kann auch eine Reihe mit mehreren Werten zurückgeben:"
   ]
  },
  {
   "cell_type": "code",
   "execution_count": 14,
   "id": "758ab932",
   "metadata": {},
   "outputs": [
    {
     "data": {
      "text/html": [
       "<div>\n",
       "<style scoped>\n",
       "    .dataframe tbody tr th:only-of-type {\n",
       "        vertical-align: middle;\n",
       "    }\n",
       "\n",
       "    .dataframe tbody tr th {\n",
       "        vertical-align: top;\n",
       "    }\n",
       "\n",
       "    .dataframe thead th {\n",
       "        text-align: right;\n",
       "    }\n",
       "</style>\n",
       "<table border=\"1\" class=\"dataframe\">\n",
       "  <thead>\n",
       "    <tr style=\"text-align: right;\">\n",
       "      <th></th>\n",
       "      <th>0</th>\n",
       "      <th>1</th>\n",
       "      <th>2</th>\n",
       "    </tr>\n",
       "  </thead>\n",
       "  <tbody>\n",
       "    <tr>\n",
       "      <th>min</th>\n",
       "      <td>-0.923041</td>\n",
       "      <td>-1.191603</td>\n",
       "      <td>-0.950954</td>\n",
       "    </tr>\n",
       "    <tr>\n",
       "      <th>max</th>\n",
       "      <td>1.030985</td>\n",
       "      <td>2.309641</td>\n",
       "      <td>1.700989</td>\n",
       "    </tr>\n",
       "  </tbody>\n",
       "</table>\n",
       "</div>"
      ],
      "text/plain": [
       "            0         1         2\n",
       "min -0.923041 -1.191603 -0.950954\n",
       "max  1.030985  2.309641  1.700989"
      ]
     },
     "execution_count": 14,
     "metadata": {},
     "output_type": "execute_result"
    }
   ],
   "source": [
    "def f(x):\n",
    "    return pd.Series([x.min(), x.max()], index=['min', 'max'])\n",
    "\n",
    "df12.apply(f)"
   ]
  },
  {
   "cell_type": "markdown",
   "id": "5b6f33bc",
   "metadata": {},
   "source": [
    "Es können auch elementweise Python-Funktionen verwendet werden. Angenommen, ihr möchtet jeden Fließkommawert in `df12` auf zwei Nachkommastellen runden, dann könnt ihr dies mit [pandas.DataFrame.applymap](https://pandas.pydata.org/docs/reference/api/pandas.DataFrame.applymap.html) erreichen:"
   ]
  },
  {
   "cell_type": "code",
   "execution_count": 15,
   "id": "ba3f9ec6",
   "metadata": {},
   "outputs": [
    {
     "data": {
      "text/html": [
       "<div>\n",
       "<style scoped>\n",
       "    .dataframe tbody tr th:only-of-type {\n",
       "        vertical-align: middle;\n",
       "    }\n",
       "\n",
       "    .dataframe tbody tr th {\n",
       "        vertical-align: top;\n",
       "    }\n",
       "\n",
       "    .dataframe thead th {\n",
       "        text-align: right;\n",
       "    }\n",
       "</style>\n",
       "<table border=\"1\" class=\"dataframe\">\n",
       "  <thead>\n",
       "    <tr style=\"text-align: right;\">\n",
       "      <th></th>\n",
       "      <th>0</th>\n",
       "      <th>1</th>\n",
       "      <th>2</th>\n",
       "    </tr>\n",
       "  </thead>\n",
       "  <tbody>\n",
       "    <tr>\n",
       "      <th>0</th>\n",
       "      <td>-0.25</td>\n",
       "      <td>-0.08</td>\n",
       "      <td>0.78</td>\n",
       "    </tr>\n",
       "    <tr>\n",
       "      <th>1</th>\n",
       "      <td>1.03</td>\n",
       "      <td>2.31</td>\n",
       "      <td>1.70</td>\n",
       "    </tr>\n",
       "    <tr>\n",
       "      <th>2</th>\n",
       "      <td>0.28</td>\n",
       "      <td>-0.58</td>\n",
       "      <td>-0.95</td>\n",
       "    </tr>\n",
       "    <tr>\n",
       "      <th>3</th>\n",
       "      <td>-0.92</td>\n",
       "      <td>0.05</td>\n",
       "      <td>-0.36</td>\n",
       "    </tr>\n",
       "    <tr>\n",
       "      <th>4</th>\n",
       "      <td>0.26</td>\n",
       "      <td>-1.19</td>\n",
       "      <td>-0.71</td>\n",
       "    </tr>\n",
       "    <tr>\n",
       "      <th>5</th>\n",
       "      <td>0.06</td>\n",
       "      <td>0.39</td>\n",
       "      <td>0.00</td>\n",
       "    </tr>\n",
       "    <tr>\n",
       "      <th>6</th>\n",
       "      <td>0.01</td>\n",
       "      <td>1.30</td>\n",
       "      <td>0.00</td>\n",
       "    </tr>\n",
       "  </tbody>\n",
       "</table>\n",
       "</div>"
      ],
      "text/plain": [
       "      0     1     2\n",
       "0 -0.25 -0.08  0.78\n",
       "1  1.03  2.31  1.70\n",
       "2  0.28 -0.58 -0.95\n",
       "3 -0.92  0.05 -0.36\n",
       "4  0.26 -1.19 -0.71\n",
       "5  0.06  0.39  0.00\n",
       "6  0.01  1.30  0.00"
      ]
     },
     "execution_count": 15,
     "metadata": {},
     "output_type": "execute_result"
    }
   ],
   "source": [
    "f = lambda x: round(x, 2)\n",
    "\n",
    "df12.applymap(f)"
   ]
  },
  {
   "cell_type": "markdown",
   "id": "cda74d52",
   "metadata": {},
   "source": [
    "Der Grund für den Namen `applymap` ist, dass Series über eine `map`-Methode zur Anwendung einer elementweisen Funktion verfügt:"
   ]
  },
  {
   "cell_type": "code",
   "execution_count": 16,
   "id": "df04727d",
   "metadata": {},
   "outputs": [
    {
     "data": {
      "text/plain": [
       "0    0.78\n",
       "1    1.70\n",
       "2   -0.95\n",
       "3   -0.36\n",
       "4   -0.71\n",
       "5    0.00\n",
       "6    0.00\n",
       "Name: 2, dtype: float64"
      ]
     },
     "execution_count": 16,
     "metadata": {},
     "output_type": "execute_result"
    }
   ],
   "source": [
    "df12[2].map(f)"
   ]
  }
 ],
 "metadata": {
  "kernelspec": {
   "display_name": "Python 3.8",
   "language": "python",
   "name": "python-38"
  },
  "language_info": {
   "codemirror_mode": {
    "name": "ipython",
    "version": 3
   },
   "file_extension": ".py",
   "mimetype": "text/x-python",
   "name": "python",
   "nbconvert_exporter": "python",
   "pygments_lexer": "ipython3",
   "version": "3.8.12"
  }
 },
 "nbformat": 4,
 "nbformat_minor": 5
}
