{
 "cells": [
  {
   "cell_type": "markdown",
   "id": "0dbc3a65",
   "metadata": {},
   "source": [
    "# Arithmetik\n",
    "\n",
    "Eine wichtige Funktion von pandas ist das arithmetische Verhalten bei Objekten mit unterschiedlichen Indizes. Wenn beim Addieren von Objekten die Indexpaare nicht gleich sind, wird der entsprechende Index im Ergebnis die Vereinigung der Indexpaare sein. Für Benutzer mit Datenbankerfahrung ist dies vergleichbar mit einem automatischen [OUTER JOIN](https://de.wikipedia.org/wiki/Join_(SQL)#%C3%84u%C3%9Ferer_Verbund_(OUTER_JOIN)) auf den Indexbezeichnungen. Schauen wir uns ein Beispiel an:"
   ]
  },
  {
   "cell_type": "code",
   "execution_count": 1,
   "id": "038a78e2",
   "metadata": {},
   "outputs": [],
   "source": [
    "import numpy as np\n",
    "import pandas as pd\n",
    "\n",
    "\n",
    "rng = np.random.default_rng()\n",
    "s1 = pd.Series(rng.normal(size=5))\n",
    "s2 = pd.Series(rng.normal(size=7))"
   ]
  },
  {
   "cell_type": "markdown",
   "id": "f1d528d5",
   "metadata": {},
   "source": [
    "Addiert man diese Werte, erhält man:"
   ]
  },
  {
   "cell_type": "code",
   "execution_count": 2,
   "id": "db460398",
   "metadata": {},
   "outputs": [
    {
     "data": {
      "text/plain": [
       "0    0.544607\n",
       "1    0.736780\n",
       "2    1.263293\n",
       "3    1.126592\n",
       "4    1.869919\n",
       "5         NaN\n",
       "6         NaN\n",
       "dtype: float64"
      ]
     },
     "execution_count": 2,
     "metadata": {},
     "output_type": "execute_result"
    }
   ],
   "source": [
    "s1 + s2"
   ]
  },
  {
   "cell_type": "markdown",
   "id": "64ffdaac",
   "metadata": {},
   "source": [
    "Der interne Datenabgleich führt zu fehlenden Werten an den Stellen der Labels, die sich nicht überschneiden. Fehlende Werte werden dann bei weiteren arithmetischen Berechnungen weitergegeben."
   ]
  },
  {
   "cell_type": "markdown",
   "id": "ab12822c",
   "metadata": {},
   "source": [
    "Bei DataFrames wird die Ausrichtung sowohl für die Zeilen als auch für die Spalten durchgeführt:"
   ]
  },
  {
   "cell_type": "code",
   "execution_count": 3,
   "id": "ccecb8db",
   "metadata": {},
   "outputs": [],
   "source": [
    "df1 = pd.DataFrame(rng.normal(size=(5,3)))\n",
    "df2 = pd.DataFrame(rng.normal(size=(7,2)))"
   ]
  },
  {
   "cell_type": "markdown",
   "id": "a9e5132a",
   "metadata": {},
   "source": [
    "Wenn die beiden DataFrames addiert werden, ergibt sich ein DataFrame, dessen Index und Spalten die Vereinigungen derjenigen in jedem der obigen DataFrames sind:"
   ]
  },
  {
   "cell_type": "code",
   "execution_count": 4,
   "id": "1eaa576c",
   "metadata": {},
   "outputs": [
    {
     "data": {
      "text/html": [
       "<div>\n",
       "<style scoped>\n",
       "    .dataframe tbody tr th:only-of-type {\n",
       "        vertical-align: middle;\n",
       "    }\n",
       "\n",
       "    .dataframe tbody tr th {\n",
       "        vertical-align: top;\n",
       "    }\n",
       "\n",
       "    .dataframe thead th {\n",
       "        text-align: right;\n",
       "    }\n",
       "</style>\n",
       "<table border=\"1\" class=\"dataframe\">\n",
       "  <thead>\n",
       "    <tr style=\"text-align: right;\">\n",
       "      <th></th>\n",
       "      <th>0</th>\n",
       "      <th>1</th>\n",
       "      <th>2</th>\n",
       "    </tr>\n",
       "  </thead>\n",
       "  <tbody>\n",
       "    <tr>\n",
       "      <th>0</th>\n",
       "      <td>0.747042</td>\n",
       "      <td>0.422536</td>\n",
       "      <td>NaN</td>\n",
       "    </tr>\n",
       "    <tr>\n",
       "      <th>1</th>\n",
       "      <td>0.129950</td>\n",
       "      <td>2.830772</td>\n",
       "      <td>NaN</td>\n",
       "    </tr>\n",
       "    <tr>\n",
       "      <th>2</th>\n",
       "      <td>2.900847</td>\n",
       "      <td>-2.108385</td>\n",
       "      <td>NaN</td>\n",
       "    </tr>\n",
       "    <tr>\n",
       "      <th>3</th>\n",
       "      <td>4.163107</td>\n",
       "      <td>0.842881</td>\n",
       "      <td>NaN</td>\n",
       "    </tr>\n",
       "    <tr>\n",
       "      <th>4</th>\n",
       "      <td>0.133227</td>\n",
       "      <td>-0.234049</td>\n",
       "      <td>NaN</td>\n",
       "    </tr>\n",
       "    <tr>\n",
       "      <th>5</th>\n",
       "      <td>NaN</td>\n",
       "      <td>NaN</td>\n",
       "      <td>NaN</td>\n",
       "    </tr>\n",
       "    <tr>\n",
       "      <th>6</th>\n",
       "      <td>NaN</td>\n",
       "      <td>NaN</td>\n",
       "      <td>NaN</td>\n",
       "    </tr>\n",
       "  </tbody>\n",
       "</table>\n",
       "</div>"
      ],
      "text/plain": [
       "          0         1   2\n",
       "0  0.747042  0.422536 NaN\n",
       "1  0.129950  2.830772 NaN\n",
       "2  2.900847 -2.108385 NaN\n",
       "3  4.163107  0.842881 NaN\n",
       "4  0.133227 -0.234049 NaN\n",
       "5       NaN       NaN NaN\n",
       "6       NaN       NaN NaN"
      ]
     },
     "execution_count": 4,
     "metadata": {},
     "output_type": "execute_result"
    }
   ],
   "source": [
    "df1 + df2"
   ]
  },
  {
   "cell_type": "markdown",
   "id": "fc70d4bf",
   "metadata": {},
   "source": [
    "Da die Spalte 2 nicht in beiden DataFrame-Objekten vorkommen, erscheinen sie im Ergebnis als fehlend. Das Gleiche gilt für die Zeilen, deren Bezeichnungen nicht in beiden Objekten vorkommen."
   ]
  },
  {
   "cell_type": "markdown",
   "id": "9e3d012b",
   "metadata": {},
   "source": [
    "## Arithmetische Methoden mit Füllwerten\n",
    "\n",
    "Bei arithmetischen Operationen zwischen unterschiedlich indizierten Objekten kann es sinnvoll sein, einen speziellen Wert (z. B. `0`) zu verwenden, wenn eine Achsenbeschriftung in einem Objekt gefunden wird, im anderen aber nicht.  Mit der `add`-Methode kann das Argument `fill_value` übergeben werden:"
   ]
  },
  {
   "cell_type": "code",
   "execution_count": 5,
   "id": "21ef8029",
   "metadata": {},
   "outputs": [
    {
     "data": {
      "text/html": [
       "<div>\n",
       "<style scoped>\n",
       "    .dataframe tbody tr th:only-of-type {\n",
       "        vertical-align: middle;\n",
       "    }\n",
       "\n",
       "    .dataframe tbody tr th {\n",
       "        vertical-align: top;\n",
       "    }\n",
       "\n",
       "    .dataframe thead th {\n",
       "        text-align: right;\n",
       "    }\n",
       "</style>\n",
       "<table border=\"1\" class=\"dataframe\">\n",
       "  <thead>\n",
       "    <tr style=\"text-align: right;\">\n",
       "      <th></th>\n",
       "      <th>0</th>\n",
       "      <th>1</th>\n",
       "      <th>2</th>\n",
       "    </tr>\n",
       "  </thead>\n",
       "  <tbody>\n",
       "    <tr>\n",
       "      <th>0</th>\n",
       "      <td>0.747042</td>\n",
       "      <td>0.422536</td>\n",
       "      <td>-2.642356</td>\n",
       "    </tr>\n",
       "    <tr>\n",
       "      <th>1</th>\n",
       "      <td>0.129950</td>\n",
       "      <td>2.830772</td>\n",
       "      <td>-0.795261</td>\n",
       "    </tr>\n",
       "    <tr>\n",
       "      <th>2</th>\n",
       "      <td>2.900847</td>\n",
       "      <td>-2.108385</td>\n",
       "      <td>1.689601</td>\n",
       "    </tr>\n",
       "    <tr>\n",
       "      <th>3</th>\n",
       "      <td>4.163107</td>\n",
       "      <td>0.842881</td>\n",
       "      <td>-0.235145</td>\n",
       "    </tr>\n",
       "    <tr>\n",
       "      <th>4</th>\n",
       "      <td>0.133227</td>\n",
       "      <td>-0.234049</td>\n",
       "      <td>-0.969567</td>\n",
       "    </tr>\n",
       "    <tr>\n",
       "      <th>5</th>\n",
       "      <td>0.678867</td>\n",
       "      <td>0.579447</td>\n",
       "      <td>NaN</td>\n",
       "    </tr>\n",
       "    <tr>\n",
       "      <th>6</th>\n",
       "      <td>-0.220217</td>\n",
       "      <td>-2.023013</td>\n",
       "      <td>NaN</td>\n",
       "    </tr>\n",
       "  </tbody>\n",
       "</table>\n",
       "</div>"
      ],
      "text/plain": [
       "          0         1         2\n",
       "0  0.747042  0.422536 -2.642356\n",
       "1  0.129950  2.830772 -0.795261\n",
       "2  2.900847 -2.108385  1.689601\n",
       "3  4.163107  0.842881 -0.235145\n",
       "4  0.133227 -0.234049 -0.969567\n",
       "5  0.678867  0.579447       NaN\n",
       "6 -0.220217 -2.023013       NaN"
      ]
     },
     "execution_count": 5,
     "metadata": {},
     "output_type": "execute_result"
    }
   ],
   "source": [
    "df12 = df1.add(df2, fill_value=0)\n",
    "\n",
    "df12"
   ]
  },
  {
   "cell_type": "markdown",
   "id": "7e9b5637",
   "metadata": {},
   "source": [
    "Im folgenden Beispiel setzen wir die beiden verbleibenden `NaN`-Werte auf `0`:"
   ]
  },
  {
   "cell_type": "code",
   "execution_count": 6,
   "id": "f93e0f46",
   "metadata": {},
   "outputs": [],
   "source": [
    "df12.iloc[[5,6], [2]] = 0"
   ]
  },
  {
   "cell_type": "code",
   "execution_count": 7,
   "id": "74fcaa71",
   "metadata": {},
   "outputs": [
    {
     "data": {
      "text/html": [
       "<div>\n",
       "<style scoped>\n",
       "    .dataframe tbody tr th:only-of-type {\n",
       "        vertical-align: middle;\n",
       "    }\n",
       "\n",
       "    .dataframe tbody tr th {\n",
       "        vertical-align: top;\n",
       "    }\n",
       "\n",
       "    .dataframe thead th {\n",
       "        text-align: right;\n",
       "    }\n",
       "</style>\n",
       "<table border=\"1\" class=\"dataframe\">\n",
       "  <thead>\n",
       "    <tr style=\"text-align: right;\">\n",
       "      <th></th>\n",
       "      <th>0</th>\n",
       "      <th>1</th>\n",
       "      <th>2</th>\n",
       "    </tr>\n",
       "  </thead>\n",
       "  <tbody>\n",
       "    <tr>\n",
       "      <th>0</th>\n",
       "      <td>0.747042</td>\n",
       "      <td>0.422536</td>\n",
       "      <td>-2.642356</td>\n",
       "    </tr>\n",
       "    <tr>\n",
       "      <th>1</th>\n",
       "      <td>0.129950</td>\n",
       "      <td>2.830772</td>\n",
       "      <td>-0.795261</td>\n",
       "    </tr>\n",
       "    <tr>\n",
       "      <th>2</th>\n",
       "      <td>2.900847</td>\n",
       "      <td>-2.108385</td>\n",
       "      <td>1.689601</td>\n",
       "    </tr>\n",
       "    <tr>\n",
       "      <th>3</th>\n",
       "      <td>4.163107</td>\n",
       "      <td>0.842881</td>\n",
       "      <td>-0.235145</td>\n",
       "    </tr>\n",
       "    <tr>\n",
       "      <th>4</th>\n",
       "      <td>0.133227</td>\n",
       "      <td>-0.234049</td>\n",
       "      <td>-0.969567</td>\n",
       "    </tr>\n",
       "    <tr>\n",
       "      <th>5</th>\n",
       "      <td>0.678867</td>\n",
       "      <td>0.579447</td>\n",
       "      <td>0.000000</td>\n",
       "    </tr>\n",
       "    <tr>\n",
       "      <th>6</th>\n",
       "      <td>-0.220217</td>\n",
       "      <td>-2.023013</td>\n",
       "      <td>0.000000</td>\n",
       "    </tr>\n",
       "  </tbody>\n",
       "</table>\n",
       "</div>"
      ],
      "text/plain": [
       "          0         1         2\n",
       "0  0.747042  0.422536 -2.642356\n",
       "1  0.129950  2.830772 -0.795261\n",
       "2  2.900847 -2.108385  1.689601\n",
       "3  4.163107  0.842881 -0.235145\n",
       "4  0.133227 -0.234049 -0.969567\n",
       "5  0.678867  0.579447  0.000000\n",
       "6 -0.220217 -2.023013  0.000000"
      ]
     },
     "execution_count": 7,
     "metadata": {},
     "output_type": "execute_result"
    }
   ],
   "source": [
    "df12"
   ]
  },
  {
   "cell_type": "markdown",
   "id": "506f4583",
   "metadata": {},
   "source": [
    "## Arithmetische Methoden\n",
    "\n",
    "Methode | Beschreibung\n",
    ":------ | :-----------\n",
    "`add`, `radd` | Methoden für Addition (`+`)\n",
    "`sub`, `rsub` | Methoden für die Subtraktion (`-`)\n",
    "`div`, `rdiv` | Methoden für die Division (`/`)\n",
    "`floordiv`, `rfloordiv` | Methoden für die Abrundungsfunktion (engl.: floor divison) (`//`)\n",
    "`mul`, `rmul` | Methoden für die Multiplikation (`*`)\n",
    "`pow`, `rpow` | Methoden zur Potenzierung (`**`)\n",
    "\n",
    "`r` (engl.: _reverse_) kehrt die Methode um."
   ]
  },
  {
   "cell_type": "markdown",
   "id": "6885d4bd",
   "metadata": {},
   "source": [
    "## Operationen zwischen DataFrame und Series\n",
    "\n",
    "Wie bei NumPy-Arrays verschiedener Dimensionen ist auch die Arithmetik zwischen DataFrame und Series definiert."
   ]
  },
  {
   "cell_type": "code",
   "execution_count": 8,
   "id": "e6b2ab97",
   "metadata": {},
   "outputs": [
    {
     "data": {
      "text/html": [
       "<div>\n",
       "<style scoped>\n",
       "    .dataframe tbody tr th:only-of-type {\n",
       "        vertical-align: middle;\n",
       "    }\n",
       "\n",
       "    .dataframe tbody tr th {\n",
       "        vertical-align: top;\n",
       "    }\n",
       "\n",
       "    .dataframe thead th {\n",
       "        text-align: right;\n",
       "    }\n",
       "</style>\n",
       "<table border=\"1\" class=\"dataframe\">\n",
       "  <thead>\n",
       "    <tr style=\"text-align: right;\">\n",
       "      <th></th>\n",
       "      <th>0</th>\n",
       "      <th>1</th>\n",
       "      <th>2</th>\n",
       "      <th>3</th>\n",
       "      <th>4</th>\n",
       "    </tr>\n",
       "  </thead>\n",
       "  <tbody>\n",
       "    <tr>\n",
       "      <th>0</th>\n",
       "      <td>0.692009</td>\n",
       "      <td>0.116961</td>\n",
       "      <td>-1.090685</td>\n",
       "      <td>NaN</td>\n",
       "      <td>NaN</td>\n",
       "    </tr>\n",
       "    <tr>\n",
       "      <th>1</th>\n",
       "      <td>0.074917</td>\n",
       "      <td>2.525197</td>\n",
       "      <td>0.756409</td>\n",
       "      <td>NaN</td>\n",
       "      <td>NaN</td>\n",
       "    </tr>\n",
       "    <tr>\n",
       "      <th>2</th>\n",
       "      <td>2.845814</td>\n",
       "      <td>-2.413960</td>\n",
       "      <td>3.241272</td>\n",
       "      <td>NaN</td>\n",
       "      <td>NaN</td>\n",
       "    </tr>\n",
       "    <tr>\n",
       "      <th>3</th>\n",
       "      <td>4.108074</td>\n",
       "      <td>0.537307</td>\n",
       "      <td>1.316525</td>\n",
       "      <td>NaN</td>\n",
       "      <td>NaN</td>\n",
       "    </tr>\n",
       "    <tr>\n",
       "      <th>4</th>\n",
       "      <td>0.078194</td>\n",
       "      <td>-0.539624</td>\n",
       "      <td>0.582104</td>\n",
       "      <td>NaN</td>\n",
       "      <td>NaN</td>\n",
       "    </tr>\n",
       "    <tr>\n",
       "      <th>5</th>\n",
       "      <td>0.623834</td>\n",
       "      <td>0.273872</td>\n",
       "      <td>1.551671</td>\n",
       "      <td>NaN</td>\n",
       "      <td>NaN</td>\n",
       "    </tr>\n",
       "    <tr>\n",
       "      <th>6</th>\n",
       "      <td>-0.275250</td>\n",
       "      <td>-2.328588</td>\n",
       "      <td>1.551671</td>\n",
       "      <td>NaN</td>\n",
       "      <td>NaN</td>\n",
       "    </tr>\n",
       "  </tbody>\n",
       "</table>\n",
       "</div>"
      ],
      "text/plain": [
       "          0         1         2   3   4\n",
       "0  0.692009  0.116961 -1.090685 NaN NaN\n",
       "1  0.074917  2.525197  0.756409 NaN NaN\n",
       "2  2.845814 -2.413960  3.241272 NaN NaN\n",
       "3  4.108074  0.537307  1.316525 NaN NaN\n",
       "4  0.078194 -0.539624  0.582104 NaN NaN\n",
       "5  0.623834  0.273872  1.551671 NaN NaN\n",
       "6 -0.275250 -2.328588  1.551671 NaN NaN"
      ]
     },
     "execution_count": 8,
     "metadata": {},
     "output_type": "execute_result"
    }
   ],
   "source": [
    "s1 + df12"
   ]
  },
  {
   "cell_type": "markdown",
   "id": "d82d250c",
   "metadata": {},
   "source": [
    "Wenn wir `s1` mit `df12` addieren, wird die Additon für jede Zeile einmal durchgeführt. Dies wird als _Broadcasting_ bezeichnet. Standardmäßig entspricht die Arithmetik zwischen DataFrame und Serie dem Index der Serie in den Spalten des DataFrame, wobei die Zeilen nach unten übertragen werden."
   ]
  },
  {
   "cell_type": "markdown",
   "id": "52d75fc6",
   "metadata": {},
   "source": [
    "Wenn ein Indexwert weder in den Spalten des DataFrame noch im Index der Serie gefunden wird, werden die Objekte neu indiziert, um die Vereinigung zu bilden:"
   ]
  },
  {
   "cell_type": "markdown",
   "id": "ff085fda",
   "metadata": {},
   "source": [
    "Wenn ihr stattdessen die Spalten übertragen und die Zeilen abgleichen wollt, müsst ihr eine der arithmetischen Methoden verwenden, z.B.:"
   ]
  },
  {
   "cell_type": "code",
   "execution_count": 9,
   "id": "9e429414",
   "metadata": {},
   "outputs": [
    {
     "data": {
      "text/html": [
       "<div>\n",
       "<style scoped>\n",
       "    .dataframe tbody tr th:only-of-type {\n",
       "        vertical-align: middle;\n",
       "    }\n",
       "\n",
       "    .dataframe tbody tr th {\n",
       "        vertical-align: top;\n",
       "    }\n",
       "\n",
       "    .dataframe thead th {\n",
       "        text-align: right;\n",
       "    }\n",
       "</style>\n",
       "<table border=\"1\" class=\"dataframe\">\n",
       "  <thead>\n",
       "    <tr style=\"text-align: right;\">\n",
       "      <th></th>\n",
       "      <th>0</th>\n",
       "      <th>1</th>\n",
       "      <th>2</th>\n",
       "    </tr>\n",
       "  </thead>\n",
       "  <tbody>\n",
       "    <tr>\n",
       "      <th>0</th>\n",
       "      <td>1.346683</td>\n",
       "      <td>1.022177</td>\n",
       "      <td>-2.042716</td>\n",
       "    </tr>\n",
       "    <tr>\n",
       "      <th>1</th>\n",
       "      <td>1.172305</td>\n",
       "      <td>3.873127</td>\n",
       "      <td>0.247094</td>\n",
       "    </tr>\n",
       "    <tr>\n",
       "      <th>2</th>\n",
       "      <td>2.612469</td>\n",
       "      <td>-2.396763</td>\n",
       "      <td>1.401223</td>\n",
       "    </tr>\n",
       "    <tr>\n",
       "      <th>3</th>\n",
       "      <td>5.827087</td>\n",
       "      <td>2.506862</td>\n",
       "      <td>1.428835</td>\n",
       "    </tr>\n",
       "    <tr>\n",
       "      <th>4</th>\n",
       "      <td>1.926516</td>\n",
       "      <td>1.559240</td>\n",
       "      <td>0.823722</td>\n",
       "    </tr>\n",
       "    <tr>\n",
       "      <th>5</th>\n",
       "      <td>-0.946801</td>\n",
       "      <td>-1.046222</td>\n",
       "      <td>-1.625668</td>\n",
       "    </tr>\n",
       "    <tr>\n",
       "      <th>6</th>\n",
       "      <td>-2.305034</td>\n",
       "      <td>-4.107830</td>\n",
       "      <td>-2.084817</td>\n",
       "    </tr>\n",
       "  </tbody>\n",
       "</table>\n",
       "</div>"
      ],
      "text/plain": [
       "          0         1         2\n",
       "0  1.346683  1.022177 -2.042716\n",
       "1  1.172305  3.873127  0.247094\n",
       "2  2.612469 -2.396763  1.401223\n",
       "3  5.827087  2.506862  1.428835\n",
       "4  1.926516  1.559240  0.823722\n",
       "5 -0.946801 -1.046222 -1.625668\n",
       "6 -2.305034 -4.107830 -2.084817"
      ]
     },
     "execution_count": 9,
     "metadata": {},
     "output_type": "execute_result"
    }
   ],
   "source": [
    "df12.add(s2, axis='index')"
   ]
  },
  {
   "cell_type": "markdown",
   "id": "49a0f69e",
   "metadata": {},
   "source": [
    "Die Achsennummer, die ihr übergebt, ist die Achse, auf die abgeglichen werden soll. In diesem Fall soll der Zeilenindex des DataFrame (`axis='index'` oder `axis=0`) abgeglichen und übertragen werden."
   ]
  },
  {
   "cell_type": "markdown",
   "id": "fa902a65",
   "metadata": {},
   "source": [
    "## Funktionsanwendung und Mapping\n",
    "\n",
    "`numpy.ufunc` (elementweise Array-Methoden) funktionieren auch mit Pandas-Objekten:"
   ]
  },
  {
   "cell_type": "code",
   "execution_count": 10,
   "id": "04ed4ac0",
   "metadata": {},
   "outputs": [
    {
     "data": {
      "text/html": [
       "<div>\n",
       "<style scoped>\n",
       "    .dataframe tbody tr th:only-of-type {\n",
       "        vertical-align: middle;\n",
       "    }\n",
       "\n",
       "    .dataframe tbody tr th {\n",
       "        vertical-align: top;\n",
       "    }\n",
       "\n",
       "    .dataframe thead th {\n",
       "        text-align: right;\n",
       "    }\n",
       "</style>\n",
       "<table border=\"1\" class=\"dataframe\">\n",
       "  <thead>\n",
       "    <tr style=\"text-align: right;\">\n",
       "      <th></th>\n",
       "      <th>0</th>\n",
       "      <th>1</th>\n",
       "      <th>2</th>\n",
       "    </tr>\n",
       "  </thead>\n",
       "  <tbody>\n",
       "    <tr>\n",
       "      <th>0</th>\n",
       "      <td>0.747042</td>\n",
       "      <td>0.422536</td>\n",
       "      <td>2.642356</td>\n",
       "    </tr>\n",
       "    <tr>\n",
       "      <th>1</th>\n",
       "      <td>0.129950</td>\n",
       "      <td>2.830772</td>\n",
       "      <td>0.795261</td>\n",
       "    </tr>\n",
       "    <tr>\n",
       "      <th>2</th>\n",
       "      <td>2.900847</td>\n",
       "      <td>2.108385</td>\n",
       "      <td>1.689601</td>\n",
       "    </tr>\n",
       "    <tr>\n",
       "      <th>3</th>\n",
       "      <td>4.163107</td>\n",
       "      <td>0.842881</td>\n",
       "      <td>0.235145</td>\n",
       "    </tr>\n",
       "    <tr>\n",
       "      <th>4</th>\n",
       "      <td>0.133227</td>\n",
       "      <td>0.234049</td>\n",
       "      <td>0.969567</td>\n",
       "    </tr>\n",
       "    <tr>\n",
       "      <th>5</th>\n",
       "      <td>0.678867</td>\n",
       "      <td>0.579447</td>\n",
       "      <td>0.000000</td>\n",
       "    </tr>\n",
       "    <tr>\n",
       "      <th>6</th>\n",
       "      <td>0.220217</td>\n",
       "      <td>2.023013</td>\n",
       "      <td>0.000000</td>\n",
       "    </tr>\n",
       "  </tbody>\n",
       "</table>\n",
       "</div>"
      ],
      "text/plain": [
       "          0         1         2\n",
       "0  0.747042  0.422536  2.642356\n",
       "1  0.129950  2.830772  0.795261\n",
       "2  2.900847  2.108385  1.689601\n",
       "3  4.163107  0.842881  0.235145\n",
       "4  0.133227  0.234049  0.969567\n",
       "5  0.678867  0.579447  0.000000\n",
       "6  0.220217  2.023013  0.000000"
      ]
     },
     "execution_count": 10,
     "metadata": {},
     "output_type": "execute_result"
    }
   ],
   "source": [
    "np.abs(df12)"
   ]
  },
  {
   "cell_type": "markdown",
   "id": "c1a6153e",
   "metadata": {},
   "source": [
    "Eine weitere häufige Operation ist die Anwendung einer Funktion auf eindimensionale Arrays auf jede Spalte oder Zeile. Die [pandas.DataFrame.apply](https://pandas.pydata.org/docs/reference/api/pandas.DataFrame.apply.html)-Methode tut genau dies:"
   ]
  },
  {
   "cell_type": "code",
   "execution_count": 11,
   "id": "25821a91",
   "metadata": {},
   "outputs": [
    {
     "data": {
      "text/html": [
       "<div>\n",
       "<style scoped>\n",
       "    .dataframe tbody tr th:only-of-type {\n",
       "        vertical-align: middle;\n",
       "    }\n",
       "\n",
       "    .dataframe tbody tr th {\n",
       "        vertical-align: top;\n",
       "    }\n",
       "\n",
       "    .dataframe thead th {\n",
       "        text-align: right;\n",
       "    }\n",
       "</style>\n",
       "<table border=\"1\" class=\"dataframe\">\n",
       "  <thead>\n",
       "    <tr style=\"text-align: right;\">\n",
       "      <th></th>\n",
       "      <th>0</th>\n",
       "      <th>1</th>\n",
       "      <th>2</th>\n",
       "    </tr>\n",
       "  </thead>\n",
       "  <tbody>\n",
       "    <tr>\n",
       "      <th>0</th>\n",
       "      <td>0.747042</td>\n",
       "      <td>0.422536</td>\n",
       "      <td>-2.642356</td>\n",
       "    </tr>\n",
       "    <tr>\n",
       "      <th>1</th>\n",
       "      <td>0.129950</td>\n",
       "      <td>2.830772</td>\n",
       "      <td>-0.795261</td>\n",
       "    </tr>\n",
       "    <tr>\n",
       "      <th>2</th>\n",
       "      <td>2.900847</td>\n",
       "      <td>-2.108385</td>\n",
       "      <td>1.689601</td>\n",
       "    </tr>\n",
       "    <tr>\n",
       "      <th>3</th>\n",
       "      <td>4.163107</td>\n",
       "      <td>0.842881</td>\n",
       "      <td>-0.235145</td>\n",
       "    </tr>\n",
       "    <tr>\n",
       "      <th>4</th>\n",
       "      <td>0.133227</td>\n",
       "      <td>-0.234049</td>\n",
       "      <td>-0.969567</td>\n",
       "    </tr>\n",
       "    <tr>\n",
       "      <th>5</th>\n",
       "      <td>0.678867</td>\n",
       "      <td>0.579447</td>\n",
       "      <td>0.000000</td>\n",
       "    </tr>\n",
       "    <tr>\n",
       "      <th>6</th>\n",
       "      <td>-0.220217</td>\n",
       "      <td>-2.023013</td>\n",
       "      <td>0.000000</td>\n",
       "    </tr>\n",
       "  </tbody>\n",
       "</table>\n",
       "</div>"
      ],
      "text/plain": [
       "          0         1         2\n",
       "0  0.747042  0.422536 -2.642356\n",
       "1  0.129950  2.830772 -0.795261\n",
       "2  2.900847 -2.108385  1.689601\n",
       "3  4.163107  0.842881 -0.235145\n",
       "4  0.133227 -0.234049 -0.969567\n",
       "5  0.678867  0.579447  0.000000\n",
       "6 -0.220217 -2.023013  0.000000"
      ]
     },
     "execution_count": 11,
     "metadata": {},
     "output_type": "execute_result"
    }
   ],
   "source": [
    "df12"
   ]
  },
  {
   "cell_type": "code",
   "execution_count": 12,
   "id": "99c38e73",
   "metadata": {},
   "outputs": [
    {
     "data": {
      "text/plain": [
       "0    4.383323\n",
       "1    4.939157\n",
       "2    4.331957\n",
       "dtype: float64"
      ]
     },
     "execution_count": 12,
     "metadata": {},
     "output_type": "execute_result"
    }
   ],
   "source": [
    "f = lambda x: x.max() - x.min()\n",
    "\n",
    "df12.apply(f)"
   ]
  },
  {
   "cell_type": "markdown",
   "id": "3349123b",
   "metadata": {},
   "source": [
    "Hier wird die Funktion `f`, die die Differenz zwischen dem Maximum und dem Minimum einer Reihe berechnet, einmal für jede Spalte des Rahmens aufgerufen. Das Ergebnis ist eine Reihe mit den Spalten des Rahmens als Index."
   ]
  },
  {
   "cell_type": "markdown",
   "id": "daac2edc",
   "metadata": {},
   "source": [
    "Wenn ihr `axis='columns'` an `apply` übergebt, wird die Funktion stattdessen einmal pro Zeile aufgerufen:"
   ]
  },
  {
   "cell_type": "code",
   "execution_count": 13,
   "id": "efa241ad",
   "metadata": {},
   "outputs": [
    {
     "data": {
      "text/plain": [
       "0    3.389398\n",
       "1    3.626034\n",
       "2    5.009232\n",
       "3    4.398252\n",
       "4    1.102794\n",
       "5    0.678867\n",
       "6    2.023013\n",
       "dtype: float64"
      ]
     },
     "execution_count": 13,
     "metadata": {},
     "output_type": "execute_result"
    }
   ],
   "source": [
    "df12.apply(f, axis='columns')"
   ]
  },
  {
   "cell_type": "markdown",
   "id": "ca128c76",
   "metadata": {},
   "source": [
    "Viele der gebräuchlichsten Array-Statistiken (wie `sum` und `mean`) sind DataFrame-Methoden, so dass die Verwendung von `apply` nicht notwendig ist."
   ]
  },
  {
   "cell_type": "markdown",
   "id": "eeb84696",
   "metadata": {},
   "source": [
    "Die an `apply` übergebene Funktion muss keinen Einzelwert zurückgeben; sie kann auch eine Reihe mit mehreren Werten zurückgeben:"
   ]
  },
  {
   "cell_type": "code",
   "execution_count": 14,
   "id": "7311d7b2",
   "metadata": {},
   "outputs": [
    {
     "data": {
      "text/html": [
       "<div>\n",
       "<style scoped>\n",
       "    .dataframe tbody tr th:only-of-type {\n",
       "        vertical-align: middle;\n",
       "    }\n",
       "\n",
       "    .dataframe tbody tr th {\n",
       "        vertical-align: top;\n",
       "    }\n",
       "\n",
       "    .dataframe thead th {\n",
       "        text-align: right;\n",
       "    }\n",
       "</style>\n",
       "<table border=\"1\" class=\"dataframe\">\n",
       "  <thead>\n",
       "    <tr style=\"text-align: right;\">\n",
       "      <th></th>\n",
       "      <th>0</th>\n",
       "      <th>1</th>\n",
       "      <th>2</th>\n",
       "    </tr>\n",
       "  </thead>\n",
       "  <tbody>\n",
       "    <tr>\n",
       "      <th>min</th>\n",
       "      <td>-0.220217</td>\n",
       "      <td>-2.108385</td>\n",
       "      <td>-2.642356</td>\n",
       "    </tr>\n",
       "    <tr>\n",
       "      <th>max</th>\n",
       "      <td>4.163107</td>\n",
       "      <td>2.830772</td>\n",
       "      <td>1.689601</td>\n",
       "    </tr>\n",
       "  </tbody>\n",
       "</table>\n",
       "</div>"
      ],
      "text/plain": [
       "            0         1         2\n",
       "min -0.220217 -2.108385 -2.642356\n",
       "max  4.163107  2.830772  1.689601"
      ]
     },
     "execution_count": 14,
     "metadata": {},
     "output_type": "execute_result"
    }
   ],
   "source": [
    "def f(x):\n",
    "    return pd.Series([x.min(), x.max()], index=['min', 'max'])\n",
    "\n",
    "df12.apply(f)"
   ]
  },
  {
   "cell_type": "markdown",
   "id": "e05577a7",
   "metadata": {},
   "source": [
    "Es können auch elementweise Python-Funktionen verwendet werden. Angenommen, ihr möchtet jeden Fließkommawert in `df12` auf zwei Nachkommastellen runden, dann könnt ihr dies mit [pandas.DataFrame.applymap](https://pandas.pydata.org/docs/reference/api/pandas.DataFrame.applymap.html) erreichen:"
   ]
  },
  {
   "cell_type": "code",
   "execution_count": 15,
   "id": "0fd59f18",
   "metadata": {},
   "outputs": [
    {
     "data": {
      "text/html": [
       "<div>\n",
       "<style scoped>\n",
       "    .dataframe tbody tr th:only-of-type {\n",
       "        vertical-align: middle;\n",
       "    }\n",
       "\n",
       "    .dataframe tbody tr th {\n",
       "        vertical-align: top;\n",
       "    }\n",
       "\n",
       "    .dataframe thead th {\n",
       "        text-align: right;\n",
       "    }\n",
       "</style>\n",
       "<table border=\"1\" class=\"dataframe\">\n",
       "  <thead>\n",
       "    <tr style=\"text-align: right;\">\n",
       "      <th></th>\n",
       "      <th>0</th>\n",
       "      <th>1</th>\n",
       "      <th>2</th>\n",
       "    </tr>\n",
       "  </thead>\n",
       "  <tbody>\n",
       "    <tr>\n",
       "      <th>0</th>\n",
       "      <td>0.75</td>\n",
       "      <td>0.42</td>\n",
       "      <td>-2.64</td>\n",
       "    </tr>\n",
       "    <tr>\n",
       "      <th>1</th>\n",
       "      <td>0.13</td>\n",
       "      <td>2.83</td>\n",
       "      <td>-0.80</td>\n",
       "    </tr>\n",
       "    <tr>\n",
       "      <th>2</th>\n",
       "      <td>2.90</td>\n",
       "      <td>-2.11</td>\n",
       "      <td>1.69</td>\n",
       "    </tr>\n",
       "    <tr>\n",
       "      <th>3</th>\n",
       "      <td>4.16</td>\n",
       "      <td>0.84</td>\n",
       "      <td>-0.24</td>\n",
       "    </tr>\n",
       "    <tr>\n",
       "      <th>4</th>\n",
       "      <td>0.13</td>\n",
       "      <td>-0.23</td>\n",
       "      <td>-0.97</td>\n",
       "    </tr>\n",
       "    <tr>\n",
       "      <th>5</th>\n",
       "      <td>0.68</td>\n",
       "      <td>0.58</td>\n",
       "      <td>0.00</td>\n",
       "    </tr>\n",
       "    <tr>\n",
       "      <th>6</th>\n",
       "      <td>-0.22</td>\n",
       "      <td>-2.02</td>\n",
       "      <td>0.00</td>\n",
       "    </tr>\n",
       "  </tbody>\n",
       "</table>\n",
       "</div>"
      ],
      "text/plain": [
       "      0     1     2\n",
       "0  0.75  0.42 -2.64\n",
       "1  0.13  2.83 -0.80\n",
       "2  2.90 -2.11  1.69\n",
       "3  4.16  0.84 -0.24\n",
       "4  0.13 -0.23 -0.97\n",
       "5  0.68  0.58  0.00\n",
       "6 -0.22 -2.02  0.00"
      ]
     },
     "execution_count": 15,
     "metadata": {},
     "output_type": "execute_result"
    }
   ],
   "source": [
    "f = lambda x: round(x, 2)\n",
    "\n",
    "df12.applymap(f)"
   ]
  },
  {
   "cell_type": "markdown",
   "id": "031151a1",
   "metadata": {},
   "source": [
    "Der Grund für den Namen `applymap` ist, dass Series über eine `map`-Methode zur Anwendung einer elementweisen Funktion verfügt:"
   ]
  },
  {
   "cell_type": "code",
   "execution_count": 16,
   "id": "0e26e846",
   "metadata": {},
   "outputs": [
    {
     "data": {
      "text/plain": [
       "0   -2.64\n",
       "1   -0.80\n",
       "2    1.69\n",
       "3   -0.24\n",
       "4   -0.97\n",
       "5    0.00\n",
       "6    0.00\n",
       "Name: 2, dtype: float64"
      ]
     },
     "execution_count": 16,
     "metadata": {},
     "output_type": "execute_result"
    }
   ],
   "source": [
    "df12[2].map(f)"
   ]
  }
 ],
 "metadata": {
  "kernelspec": {
   "display_name": "Python 3.8",
   "language": "python",
   "name": "python-38"
  },
  "language_info": {
   "codemirror_mode": {
    "name": "ipython",
    "version": 3
   },
   "file_extension": ".py",
   "mimetype": "text/x-python",
   "name": "python",
   "nbconvert_exporter": "python",
   "pygments_lexer": "ipython3",
   "version": "3.8.12"
  }
 },
 "nbformat": 4,
 "nbformat_minor": 5
}
