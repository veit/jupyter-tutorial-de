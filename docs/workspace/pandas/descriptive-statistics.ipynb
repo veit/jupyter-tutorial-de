{
 "cells": [
  {
   "cell_type": "markdown",
   "id": "2b921b1a",
   "metadata": {},
   "source": [
    "# Deskriptive Statistik\n",
    "\n",
    "pandas-Objekte sind mit einer Reihe von gängigen mathematischen und statistischen Methoden ausgestattet. Die meisten von ihnen fallen in die Kategorie der Reduktionen oder zusammenfassenden Statistiken, Methoden, die einen einzelnen Wert (wie die Summe oder den Mittelwert) aus einer Serie oder einer Reihe von Werten aus den Zeilen oder Spalten eines DataFrame extrahieren. Im Vergleich zu ähnlichen Methoden, die sich bei NumPy-Arrays finden, behandeln sie auch fehlende Daten."
   ]
  },
  {
   "cell_type": "code",
   "execution_count": 1,
   "id": "7960bb44",
   "metadata": {},
   "outputs": [
    {
     "data": {
      "text/html": [
       "<div>\n",
       "<style scoped>\n",
       "    .dataframe tbody tr th:only-of-type {\n",
       "        vertical-align: middle;\n",
       "    }\n",
       "\n",
       "    .dataframe tbody tr th {\n",
       "        vertical-align: top;\n",
       "    }\n",
       "\n",
       "    .dataframe thead th {\n",
       "        text-align: right;\n",
       "    }\n",
       "</style>\n",
       "<table border=\"1\" class=\"dataframe\">\n",
       "  <thead>\n",
       "    <tr style=\"text-align: right;\">\n",
       "      <th></th>\n",
       "      <th>0</th>\n",
       "      <th>1</th>\n",
       "      <th>2</th>\n",
       "    </tr>\n",
       "  </thead>\n",
       "  <tbody>\n",
       "    <tr>\n",
       "      <th>2022-02-03</th>\n",
       "      <td>1.701297</td>\n",
       "      <td>-0.348622</td>\n",
       "      <td>-0.376042</td>\n",
       "    </tr>\n",
       "    <tr>\n",
       "      <th>2022-02-04</th>\n",
       "      <td>-2.121899</td>\n",
       "      <td>0.681520</td>\n",
       "      <td>-1.235787</td>\n",
       "    </tr>\n",
       "    <tr>\n",
       "      <th>2022-02-05</th>\n",
       "      <td>-0.953940</td>\n",
       "      <td>0.160349</td>\n",
       "      <td>-0.846359</td>\n",
       "    </tr>\n",
       "    <tr>\n",
       "      <th>2022-02-06</th>\n",
       "      <td>-0.156326</td>\n",
       "      <td>1.713213</td>\n",
       "      <td>-1.630941</td>\n",
       "    </tr>\n",
       "    <tr>\n",
       "      <th>2022-02-07</th>\n",
       "      <td>0.029310</td>\n",
       "      <td>-0.719600</td>\n",
       "      <td>-2.236900</td>\n",
       "    </tr>\n",
       "    <tr>\n",
       "      <th>2022-02-08</th>\n",
       "      <td>-0.072610</td>\n",
       "      <td>0.197271</td>\n",
       "      <td>1.871354</td>\n",
       "    </tr>\n",
       "    <tr>\n",
       "      <th>2022-02-09</th>\n",
       "      <td>NaN</td>\n",
       "      <td>NaN</td>\n",
       "      <td>NaN</td>\n",
       "    </tr>\n",
       "  </tbody>\n",
       "</table>\n",
       "</div>"
      ],
      "text/plain": [
       "                   0         1         2\n",
       "2022-02-03  1.701297 -0.348622 -0.376042\n",
       "2022-02-04 -2.121899  0.681520 -1.235787\n",
       "2022-02-05 -0.953940  0.160349 -0.846359\n",
       "2022-02-06 -0.156326  1.713213 -1.630941\n",
       "2022-02-07  0.029310 -0.719600 -2.236900\n",
       "2022-02-08 -0.072610  0.197271  1.871354\n",
       "2022-02-09       NaN       NaN       NaN"
      ]
     },
     "execution_count": 1,
     "metadata": {},
     "output_type": "execute_result"
    }
   ],
   "source": [
    "import pandas as pd\n",
    "import numpy as np\n",
    "\n",
    "rng = np.random.default_rng()\n",
    "df = pd.DataFrame(rng.normal(size=(7, 3)), index=pd.date_range(\"2022-02-02\", periods=7))\n",
    "new_index = pd.date_range(\"2022-02-03\", periods=7)\n",
    "df2 = df.reindex(new_index)\n",
    "\n",
    "df2"
   ]
  },
  {
   "cell_type": "markdown",
   "id": "7a384ce7",
   "metadata": {},
   "source": [
    "Der Aufruf der `pandas.DataFrame.sum`-Methode gibt eine Serie zurück, die Spaltensummen enthält:"
   ]
  },
  {
   "cell_type": "code",
   "execution_count": 2,
   "id": "030c3489",
   "metadata": {},
   "outputs": [
    {
     "data": {
      "text/plain": [
       "0   -1.574168\n",
       "1    1.684131\n",
       "2   -4.454675\n",
       "dtype: float64"
      ]
     },
     "execution_count": 2,
     "metadata": {},
     "output_type": "execute_result"
    }
   ],
   "source": [
    "df2.sum()"
   ]
  },
  {
   "cell_type": "markdown",
   "id": "5a7324f6",
   "metadata": {},
   "source": [
    "Die Übergabe von `axis='columns'` oder `axis=1` summiert stattdessen über die Spalten:"
   ]
  },
  {
   "cell_type": "code",
   "execution_count": 3,
   "id": "e13e0884",
   "metadata": {},
   "outputs": [
    {
     "data": {
      "text/plain": [
       "2022-02-03    0.976634\n",
       "2022-02-04   -2.676167\n",
       "2022-02-05   -1.639950\n",
       "2022-02-06   -0.074054\n",
       "2022-02-07   -2.927190\n",
       "2022-02-08    1.996015\n",
       "2022-02-09    0.000000\n",
       "Freq: D, dtype: float64"
      ]
     },
     "execution_count": 3,
     "metadata": {},
     "output_type": "execute_result"
    }
   ],
   "source": [
    "df2.sum(axis='columns')"
   ]
  },
  {
   "cell_type": "markdown",
   "id": "1c030965",
   "metadata": {},
   "source": [
    "Wenn eine ganze Zeile oder Spalte alle NA-Werte enthält, ist die Summe `0`. Dies kann mit der Option `skipna` deaktiviert werden:"
   ]
  },
  {
   "cell_type": "code",
   "execution_count": 4,
   "id": "2f350cb9",
   "metadata": {},
   "outputs": [
    {
     "data": {
      "text/plain": [
       "2022-02-03    0.976634\n",
       "2022-02-04   -2.676167\n",
       "2022-02-05   -1.639950\n",
       "2022-02-06   -0.074054\n",
       "2022-02-07   -2.927190\n",
       "2022-02-08    1.996015\n",
       "2022-02-09         NaN\n",
       "Freq: D, dtype: float64"
      ]
     },
     "execution_count": 4,
     "metadata": {},
     "output_type": "execute_result"
    }
   ],
   "source": [
    "df2.sum(axis='columns', skipna=False)"
   ]
  },
  {
   "cell_type": "markdown",
   "id": "390e754f",
   "metadata": {},
   "source": [
    "Einige Aggregationen, wie z.B. `mean`, erfordern mindestens einen Nicht-`NaN`-Wert, um ein wertvolles Ergebnis zu erhalten:"
   ]
  },
  {
   "cell_type": "code",
   "execution_count": 5,
   "id": "e256c088",
   "metadata": {},
   "outputs": [
    {
     "data": {
      "text/plain": [
       "2022-02-03    0.325545\n",
       "2022-02-04   -0.892056\n",
       "2022-02-05   -0.546650\n",
       "2022-02-06   -0.024685\n",
       "2022-02-07   -0.975730\n",
       "2022-02-08    0.665338\n",
       "2022-02-09         NaN\n",
       "Freq: D, dtype: float64"
      ]
     },
     "execution_count": 5,
     "metadata": {},
     "output_type": "execute_result"
    }
   ],
   "source": [
    "df2.mean(axis='columns')"
   ]
  },
  {
   "cell_type": "markdown",
   "id": "38429d46",
   "metadata": {},
   "source": [
    "## Optionen für Reduktionsmethoden\n",
    "\n",
    "Methode | Beschreibung\n",
    ":------ | :-----------\n",
    "`axis` | die Achse der zu reduzierenden Werte: `0` für die Zeilen des DataFrame und `1` für die Spalten\n",
    "`skipna` | fehlende Werte ausschließen; standardmäßig `True`\n",
    "`level` | nach Ebene gruppiert reduzieren, wenn die Achse hierarchisch indiziert ist (MultiIndex)\n",
    "\n",
    "Einige Methoden, wie `idxmin` und `idxmax`, liefern indirekte Statistiken wie den Indexwert, bei dem der Mindest- oder Höchstwert erreicht wird:"
   ]
  },
  {
   "cell_type": "code",
   "execution_count": 6,
   "id": "f85a0765",
   "metadata": {},
   "outputs": [
    {
     "data": {
      "text/plain": [
       "0   2022-02-03\n",
       "1   2022-02-06\n",
       "2   2022-02-08\n",
       "dtype: datetime64[ns]"
      ]
     },
     "execution_count": 6,
     "metadata": {},
     "output_type": "execute_result"
    }
   ],
   "source": [
    "df2.idxmax()"
   ]
  },
  {
   "cell_type": "markdown",
   "id": "2b6ac218",
   "metadata": {},
   "source": [
    "Andere Methoden sind Akkumulationen:"
   ]
  },
  {
   "cell_type": "code",
   "execution_count": 7,
   "id": "64d2fbe1",
   "metadata": {},
   "outputs": [
    {
     "data": {
      "text/html": [
       "<div>\n",
       "<style scoped>\n",
       "    .dataframe tbody tr th:only-of-type {\n",
       "        vertical-align: middle;\n",
       "    }\n",
       "\n",
       "    .dataframe tbody tr th {\n",
       "        vertical-align: top;\n",
       "    }\n",
       "\n",
       "    .dataframe thead th {\n",
       "        text-align: right;\n",
       "    }\n",
       "</style>\n",
       "<table border=\"1\" class=\"dataframe\">\n",
       "  <thead>\n",
       "    <tr style=\"text-align: right;\">\n",
       "      <th></th>\n",
       "      <th>0</th>\n",
       "      <th>1</th>\n",
       "      <th>2</th>\n",
       "    </tr>\n",
       "  </thead>\n",
       "  <tbody>\n",
       "    <tr>\n",
       "      <th>2022-02-03</th>\n",
       "      <td>1.701297</td>\n",
       "      <td>-0.348622</td>\n",
       "      <td>-0.376042</td>\n",
       "    </tr>\n",
       "    <tr>\n",
       "      <th>2022-02-04</th>\n",
       "      <td>-0.420602</td>\n",
       "      <td>0.332898</td>\n",
       "      <td>-1.611829</td>\n",
       "    </tr>\n",
       "    <tr>\n",
       "      <th>2022-02-05</th>\n",
       "      <td>-1.374542</td>\n",
       "      <td>0.493247</td>\n",
       "      <td>-2.458188</td>\n",
       "    </tr>\n",
       "    <tr>\n",
       "      <th>2022-02-06</th>\n",
       "      <td>-1.530868</td>\n",
       "      <td>2.206461</td>\n",
       "      <td>-4.089129</td>\n",
       "    </tr>\n",
       "    <tr>\n",
       "      <th>2022-02-07</th>\n",
       "      <td>-1.501557</td>\n",
       "      <td>1.486860</td>\n",
       "      <td>-6.326029</td>\n",
       "    </tr>\n",
       "    <tr>\n",
       "      <th>2022-02-08</th>\n",
       "      <td>-1.574168</td>\n",
       "      <td>1.684131</td>\n",
       "      <td>-4.454675</td>\n",
       "    </tr>\n",
       "    <tr>\n",
       "      <th>2022-02-09</th>\n",
       "      <td>NaN</td>\n",
       "      <td>NaN</td>\n",
       "      <td>NaN</td>\n",
       "    </tr>\n",
       "  </tbody>\n",
       "</table>\n",
       "</div>"
      ],
      "text/plain": [
       "                   0         1         2\n",
       "2022-02-03  1.701297 -0.348622 -0.376042\n",
       "2022-02-04 -0.420602  0.332898 -1.611829\n",
       "2022-02-05 -1.374542  0.493247 -2.458188\n",
       "2022-02-06 -1.530868  2.206461 -4.089129\n",
       "2022-02-07 -1.501557  1.486860 -6.326029\n",
       "2022-02-08 -1.574168  1.684131 -4.454675\n",
       "2022-02-09       NaN       NaN       NaN"
      ]
     },
     "execution_count": 7,
     "metadata": {},
     "output_type": "execute_result"
    }
   ],
   "source": [
    "df2.cumsum()"
   ]
  },
  {
   "cell_type": "markdown",
   "id": "feefa7a6",
   "metadata": {},
   "source": [
    "Eine andere Art von Methoden sind weder Reduktionen noch Akkumulationen. `describe` ist ein solches Beispiel, das mehrere zusammenfassende Statistiken auf einen Schlag erstellt:"
   ]
  },
  {
   "cell_type": "code",
   "execution_count": 8,
   "id": "75cf0e17",
   "metadata": {},
   "outputs": [
    {
     "data": {
      "text/html": [
       "<div>\n",
       "<style scoped>\n",
       "    .dataframe tbody tr th:only-of-type {\n",
       "        vertical-align: middle;\n",
       "    }\n",
       "\n",
       "    .dataframe tbody tr th {\n",
       "        vertical-align: top;\n",
       "    }\n",
       "\n",
       "    .dataframe thead th {\n",
       "        text-align: right;\n",
       "    }\n",
       "</style>\n",
       "<table border=\"1\" class=\"dataframe\">\n",
       "  <thead>\n",
       "    <tr style=\"text-align: right;\">\n",
       "      <th></th>\n",
       "      <th>0</th>\n",
       "      <th>1</th>\n",
       "      <th>2</th>\n",
       "    </tr>\n",
       "  </thead>\n",
       "  <tbody>\n",
       "    <tr>\n",
       "      <th>count</th>\n",
       "      <td>6.000000</td>\n",
       "      <td>6.000000</td>\n",
       "      <td>6.000000</td>\n",
       "    </tr>\n",
       "    <tr>\n",
       "      <th>mean</th>\n",
       "      <td>-0.262361</td>\n",
       "      <td>0.280689</td>\n",
       "      <td>-0.742446</td>\n",
       "    </tr>\n",
       "    <tr>\n",
       "      <th>std</th>\n",
       "      <td>1.258923</td>\n",
       "      <td>0.852155</td>\n",
       "      <td>1.431307</td>\n",
       "    </tr>\n",
       "    <tr>\n",
       "      <th>min</th>\n",
       "      <td>-2.121899</td>\n",
       "      <td>-0.719600</td>\n",
       "      <td>-2.236900</td>\n",
       "    </tr>\n",
       "    <tr>\n",
       "      <th>25%</th>\n",
       "      <td>-0.754536</td>\n",
       "      <td>-0.221379</td>\n",
       "      <td>-1.532153</td>\n",
       "    </tr>\n",
       "    <tr>\n",
       "      <th>50%</th>\n",
       "      <td>-0.114468</td>\n",
       "      <td>0.178810</td>\n",
       "      <td>-1.041073</td>\n",
       "    </tr>\n",
       "    <tr>\n",
       "      <th>75%</th>\n",
       "      <td>0.003830</td>\n",
       "      <td>0.560458</td>\n",
       "      <td>-0.493621</td>\n",
       "    </tr>\n",
       "    <tr>\n",
       "      <th>max</th>\n",
       "      <td>1.701297</td>\n",
       "      <td>1.713213</td>\n",
       "      <td>1.871354</td>\n",
       "    </tr>\n",
       "  </tbody>\n",
       "</table>\n",
       "</div>"
      ],
      "text/plain": [
       "              0         1         2\n",
       "count  6.000000  6.000000  6.000000\n",
       "mean  -0.262361  0.280689 -0.742446\n",
       "std    1.258923  0.852155  1.431307\n",
       "min   -2.121899 -0.719600 -2.236900\n",
       "25%   -0.754536 -0.221379 -1.532153\n",
       "50%   -0.114468  0.178810 -1.041073\n",
       "75%    0.003830  0.560458 -0.493621\n",
       "max    1.701297  1.713213  1.871354"
      ]
     },
     "execution_count": 8,
     "metadata": {},
     "output_type": "execute_result"
    }
   ],
   "source": [
    "df2.describe()"
   ]
  },
  {
   "cell_type": "markdown",
   "id": "a581b398",
   "metadata": {},
   "source": [
    "Bei nicht-numerischen Daten erzeugt `describe` alternative zusammenfassende Statistiken:"
   ]
  },
  {
   "cell_type": "code",
   "execution_count": 9,
   "id": "03fc6d51",
   "metadata": {},
   "outputs": [
    {
     "data": {
      "text/html": [
       "<div>\n",
       "<style scoped>\n",
       "    .dataframe tbody tr th:only-of-type {\n",
       "        vertical-align: middle;\n",
       "    }\n",
       "\n",
       "    .dataframe tbody tr th {\n",
       "        vertical-align: top;\n",
       "    }\n",
       "\n",
       "    .dataframe thead th {\n",
       "        text-align: right;\n",
       "    }\n",
       "</style>\n",
       "<table border=\"1\" class=\"dataframe\">\n",
       "  <thead>\n",
       "    <tr style=\"text-align: right;\">\n",
       "      <th></th>\n",
       "      <th>Code</th>\n",
       "      <th>Octal</th>\n",
       "    </tr>\n",
       "  </thead>\n",
       "  <tbody>\n",
       "    <tr>\n",
       "      <th>count</th>\n",
       "      <td>6</td>\n",
       "      <td>6</td>\n",
       "    </tr>\n",
       "    <tr>\n",
       "      <th>unique</th>\n",
       "      <td>6</td>\n",
       "      <td>5</td>\n",
       "    </tr>\n",
       "    <tr>\n",
       "      <th>top</th>\n",
       "      <td>U+0000</td>\n",
       "      <td>004</td>\n",
       "    </tr>\n",
       "    <tr>\n",
       "      <th>freq</th>\n",
       "      <td>1</td>\n",
       "      <td>2</td>\n",
       "    </tr>\n",
       "  </tbody>\n",
       "</table>\n",
       "</div>"
      ],
      "text/plain": [
       "          Code Octal\n",
       "count        6     6\n",
       "unique       6     5\n",
       "top     U+0000   004\n",
       "freq         1     2"
      ]
     },
     "execution_count": 9,
     "metadata": {},
     "output_type": "execute_result"
    }
   ],
   "source": [
    "data = {'Code': ['U+0000', 'U+0001', 'U+0002', 'U+0003', 'U+0004', 'U+0005'],\n",
    "        'Octal': ['001', '002', '003', '004', '004', '005']}\n",
    "df3 = pd.DataFrame(data)\n",
    "\n",
    "df3.describe()"
   ]
  },
  {
   "cell_type": "markdown",
   "id": "9b10fd60",
   "metadata": {},
   "source": [
    "Deskriptive und zusammenfassende Statistiken:\n",
    "\n",
    "Methode | Beschreibung\n",
    ":------ | :-----------\n",
    "`count` | Anzahl der Nicht-NA-Werte\n",
    "`describe` | Berechnung einer Reihe von zusammenfassenden Statistiken für Serien oder jede DataFrame-Spalte\n",
    "`min`, `max` | Berechnung der Mindest- und Höchstwerte\n",
    "`argmin`, `argmax` | Berechnung der Indexstellen (ganze Zahlen), an denen der Mindest- bzw. Höchstwert erreicht wurde\n",
    "`idxmin`, `idxmax` | Berechnung der Indexbeschriftungen, an denen der Mindest- bzw. Höchstwert erreicht wurde\n",
    "`quantile` | Berechnung des Stichprobenquantils im Bereich von 0 bis 1\n",
    "`sum` | Summe der Werte\n",
    "`mean` | Arithmetisches Mittel der Werte\n",
    "`median` | Arithmetischer Median (50%-Quantil) der Werte\n",
    "`mad` | Mittlere absolute Abweichung vom Mittelwert\n",
    "`prod` | Produkt aller Werte\n",
    "`var` | Stichprobenvarianz der Werte\n",
    "`std` | Stichprobenstandardabweichung der Werte\n",
    "`skew` | Stichprobenschiefe (drittes Moment) der Werte\n",
    "`kurt` | Stichprobenwölbung (viertes Moment) der Werte\n",
    "`cumsum` | Kumulierte Summe der Werte\n",
    "`cummin`, `cummax` | Kumuliertes Minimum bzw. Maximum der Werte\n",
    "`cumprod` | Kumuliertes Produkt der Werte\n",
    "`diff` | Berechnung der ersten arithmetischen Differenz (nützlich für Zeitreihen)\n",
    "`pct_change` | Berechnung der prozentualen Veränderungen"
   ]
  }
 ],
 "metadata": {
  "kernelspec": {
   "display_name": "Python 3.8",
   "language": "python",
   "name": "python-38"
  },
  "language_info": {
   "codemirror_mode": {
    "name": "ipython",
    "version": 3
   },
   "file_extension": ".py",
   "mimetype": "text/x-python",
   "name": "python",
   "nbconvert_exporter": "python",
   "pygments_lexer": "ipython3",
   "version": "3.8.12"
  }
 },
 "nbformat": 4,
 "nbformat_minor": 5
}
