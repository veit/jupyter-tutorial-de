{
 "cells": [
  {
   "cell_type": "markdown",
   "id": "70ed19c2",
   "metadata": {},
   "source": [
    "# Hinzufügen, Ändern und Löschen von Daten\n",
    "\n",
    "Bei vielen Datensätzen möchtet ihr vielleicht eine Transformation basierend auf den Werten in einem Array, einer Serie oder einer Spalte in einem DataFrame durchführen. Hierfür betrachten wir die ersten Unicode-Zeichen:"
   ]
  },
  {
   "cell_type": "code",
   "execution_count": 1,
   "id": "2e869406",
   "metadata": {},
   "outputs": [],
   "source": [
    "import numpy as np\n",
    "import pandas as pd"
   ]
  },
  {
   "cell_type": "code",
   "execution_count": 2,
   "id": "3af7803a",
   "metadata": {},
   "outputs": [
    {
     "data": {
      "text/html": [
       "<div>\n",
       "<style scoped>\n",
       "    .dataframe tbody tr th:only-of-type {\n",
       "        vertical-align: middle;\n",
       "    }\n",
       "\n",
       "    .dataframe tbody tr th {\n",
       "        vertical-align: top;\n",
       "    }\n",
       "\n",
       "    .dataframe thead th {\n",
       "        text-align: right;\n",
       "    }\n",
       "</style>\n",
       "<table border=\"1\" class=\"dataframe\">\n",
       "  <thead>\n",
       "    <tr style=\"text-align: right;\">\n",
       "      <th></th>\n",
       "      <th>Code</th>\n",
       "      <th>Decimal</th>\n",
       "      <th>Octal</th>\n",
       "      <th>Key</th>\n",
       "    </tr>\n",
       "  </thead>\n",
       "  <tbody>\n",
       "    <tr>\n",
       "      <th>0</th>\n",
       "      <td>U+0000</td>\n",
       "      <td>0</td>\n",
       "      <td>001</td>\n",
       "      <td>NUL</td>\n",
       "    </tr>\n",
       "    <tr>\n",
       "      <th>1</th>\n",
       "      <td>U+0001</td>\n",
       "      <td>1</td>\n",
       "      <td>002</td>\n",
       "      <td>Ctrl-A</td>\n",
       "    </tr>\n",
       "    <tr>\n",
       "      <th>2</th>\n",
       "      <td>U+0002</td>\n",
       "      <td>2</td>\n",
       "      <td>003</td>\n",
       "      <td>Ctrl-B</td>\n",
       "    </tr>\n",
       "    <tr>\n",
       "      <th>3</th>\n",
       "      <td>U+0003</td>\n",
       "      <td>3</td>\n",
       "      <td>004</td>\n",
       "      <td>Ctrl-C</td>\n",
       "    </tr>\n",
       "    <tr>\n",
       "      <th>4</th>\n",
       "      <td>U+0004</td>\n",
       "      <td>4</td>\n",
       "      <td>004</td>\n",
       "      <td>Ctrl-D</td>\n",
       "    </tr>\n",
       "    <tr>\n",
       "      <th>5</th>\n",
       "      <td>U+0005</td>\n",
       "      <td>5</td>\n",
       "      <td>005</td>\n",
       "      <td>Ctrl-E</td>\n",
       "    </tr>\n",
       "  </tbody>\n",
       "</table>\n",
       "</div>"
      ],
      "text/plain": [
       "     Code  Decimal Octal     Key\n",
       "0  U+0000        0   001     NUL\n",
       "1  U+0001        1   002  Ctrl-A\n",
       "2  U+0002        2   003  Ctrl-B\n",
       "3  U+0003        3   004  Ctrl-C\n",
       "4  U+0004        4   004  Ctrl-D\n",
       "5  U+0005        5   005  Ctrl-E"
      ]
     },
     "execution_count": 2,
     "metadata": {},
     "output_type": "execute_result"
    }
   ],
   "source": [
    "df = pd.DataFrame({'Code': ['U+0000', 'U+0001', 'U+0002', 'U+0003', 'U+0004', 'U+0005'],\n",
    "        'Decimal': [0, 1, 2, 3, 4, 5],\n",
    "        'Octal': ['001', '002', '003', '004', '004', '005'],\n",
    "        'Key': ['NUL', 'Ctrl-A', 'Ctrl-B', 'Ctrl-C', 'Ctrl-D', 'Ctrl-E']})\n",
    "\n",
    "df"
   ]
  },
  {
   "cell_type": "markdown",
   "id": "23f35b1f",
   "metadata": {},
   "source": [
    "## Daten hinzufügen\n",
    "\n",
    "Angenommen, ihr möchtet eine Spalte hinzufügen, in der die Zeichen dem `C0`- oder `C1`-Steuercode zugewiesen werden:"
   ]
  },
  {
   "cell_type": "code",
   "execution_count": 3,
   "id": "9f24e77f",
   "metadata": {},
   "outputs": [],
   "source": [
    "control_code = {\n",
    "  'u+0000': 'C0',\n",
    "  'u+0001': 'C0',\n",
    "  'u+0002': 'C0',\n",
    "  'u+0003': 'C0',\n",
    "  'u+0004': 'C0',\n",
    "  'u+0005': 'C0'\n",
    "}"
   ]
  },
  {
   "cell_type": "markdown",
   "id": "7df08acc",
   "metadata": {},
   "source": [
    "Die `map`-Methode für eine Serie akzeptiert eine Funktion oder ein diktatähnliches Objekt, das eine Zuordnung enthält, aber hier haben wir ein kleines Problem, da einige die Codes in `control_code` kleingeschrieben sind, nicht jedoch in unserem DataFrame. Daher müssen wir jeden Wert mit der Methode `str.lower` in Kleinbuchstaben umwandeln:"
   ]
  },
  {
   "cell_type": "code",
   "execution_count": 4,
   "id": "e4503d8b",
   "metadata": {},
   "outputs": [
    {
     "data": {
      "text/plain": [
       "0    u+0000\n",
       "1    u+0001\n",
       "2    u+0002\n",
       "3    u+0003\n",
       "4    u+0004\n",
       "5    u+0005\n",
       "Name: Code, dtype: object"
      ]
     },
     "execution_count": 4,
     "metadata": {},
     "output_type": "execute_result"
    }
   ],
   "source": [
    "lowercased = df['Code'].str.lower()\n",
    "\n",
    "lowercased"
   ]
  },
  {
   "cell_type": "code",
   "execution_count": 5,
   "id": "29122aee",
   "metadata": {},
   "outputs": [
    {
     "data": {
      "text/html": [
       "<div>\n",
       "<style scoped>\n",
       "    .dataframe tbody tr th:only-of-type {\n",
       "        vertical-align: middle;\n",
       "    }\n",
       "\n",
       "    .dataframe tbody tr th {\n",
       "        vertical-align: top;\n",
       "    }\n",
       "\n",
       "    .dataframe thead th {\n",
       "        text-align: right;\n",
       "    }\n",
       "</style>\n",
       "<table border=\"1\" class=\"dataframe\">\n",
       "  <thead>\n",
       "    <tr style=\"text-align: right;\">\n",
       "      <th></th>\n",
       "      <th>Code</th>\n",
       "      <th>Decimal</th>\n",
       "      <th>Octal</th>\n",
       "      <th>Key</th>\n",
       "      <th>Control code</th>\n",
       "    </tr>\n",
       "  </thead>\n",
       "  <tbody>\n",
       "    <tr>\n",
       "      <th>0</th>\n",
       "      <td>U+0000</td>\n",
       "      <td>0</td>\n",
       "      <td>001</td>\n",
       "      <td>NUL</td>\n",
       "      <td>C0</td>\n",
       "    </tr>\n",
       "    <tr>\n",
       "      <th>1</th>\n",
       "      <td>U+0001</td>\n",
       "      <td>1</td>\n",
       "      <td>002</td>\n",
       "      <td>Ctrl-A</td>\n",
       "      <td>C0</td>\n",
       "    </tr>\n",
       "    <tr>\n",
       "      <th>2</th>\n",
       "      <td>U+0002</td>\n",
       "      <td>2</td>\n",
       "      <td>003</td>\n",
       "      <td>Ctrl-B</td>\n",
       "      <td>C0</td>\n",
       "    </tr>\n",
       "    <tr>\n",
       "      <th>3</th>\n",
       "      <td>U+0003</td>\n",
       "      <td>3</td>\n",
       "      <td>004</td>\n",
       "      <td>Ctrl-C</td>\n",
       "      <td>C0</td>\n",
       "    </tr>\n",
       "    <tr>\n",
       "      <th>4</th>\n",
       "      <td>U+0004</td>\n",
       "      <td>4</td>\n",
       "      <td>004</td>\n",
       "      <td>Ctrl-D</td>\n",
       "      <td>C0</td>\n",
       "    </tr>\n",
       "    <tr>\n",
       "      <th>5</th>\n",
       "      <td>U+0005</td>\n",
       "      <td>5</td>\n",
       "      <td>005</td>\n",
       "      <td>Ctrl-E</td>\n",
       "      <td>C0</td>\n",
       "    </tr>\n",
       "  </tbody>\n",
       "</table>\n",
       "</div>"
      ],
      "text/plain": [
       "     Code  Decimal Octal     Key Control code\n",
       "0  U+0000        0   001     NUL           C0\n",
       "1  U+0001        1   002  Ctrl-A           C0\n",
       "2  U+0002        2   003  Ctrl-B           C0\n",
       "3  U+0003        3   004  Ctrl-C           C0\n",
       "4  U+0004        4   004  Ctrl-D           C0\n",
       "5  U+0005        5   005  Ctrl-E           C0"
      ]
     },
     "execution_count": 5,
     "metadata": {},
     "output_type": "execute_result"
    }
   ],
   "source": [
    "df['Control code'] = lowercased.map(control_code)\n",
    "\n",
    "df"
   ]
  },
  {
   "cell_type": "markdown",
   "id": "6f0ab298",
   "metadata": {},
   "source": [
    "Wir hätten auch eine Funktion übergeben können, die die ganze Arbeit erledigt:"
   ]
  },
  {
   "cell_type": "code",
   "execution_count": 6,
   "id": "58a2ff2b",
   "metadata": {},
   "outputs": [
    {
     "data": {
      "text/plain": [
       "0    C0\n",
       "1    C0\n",
       "2    C0\n",
       "3    C0\n",
       "4    C0\n",
       "5    C0\n",
       "Name: Code, dtype: object"
      ]
     },
     "execution_count": 6,
     "metadata": {},
     "output_type": "execute_result"
    }
   ],
   "source": [
    "df['Code'].map(lambda x: control_code[x.lower()])"
   ]
  },
  {
   "cell_type": "markdown",
   "id": "d00ad4af",
   "metadata": {},
   "source": [
    "Die Verwendung von `map` ist ein bequemer Weg, um elementweise Transformationen und andere Datenbereinigungsoperationen durchzuführen."
   ]
  },
  {
   "cell_type": "markdown",
   "id": "3a5c13ac",
   "metadata": {},
   "source": [
    "## Daten ändern"
   ]
  },
  {
   "cell_type": "markdown",
   "id": "188d2a38",
   "metadata": {},
   "source": [
    "<div class=\"alert alert-block alert-info\">\n",
    "\n",
    "**Hinweis:**\n",
    "\n",
    "Das Ersetzen fehlender Werte wird in [Verwalten fehlender Daten mit pandas](../../clean-prep/nulls.ipynb) beschrieben.\n",
    "</div>"
   ]
  },
  {
   "cell_type": "code",
   "execution_count": 7,
   "id": "c0aaa6b4",
   "metadata": {},
   "outputs": [
    {
     "data": {
      "text/plain": [
       "0    Personalpower\n",
       "1         man-made\n",
       "dtype: object"
      ]
     },
     "execution_count": 7,
     "metadata": {},
     "output_type": "execute_result"
    }
   ],
   "source": [
    "pd.Series(['Manpower', 'man-made']).str.replace('Man', 'Personal', regex=False)"
   ]
  },
  {
   "cell_type": "code",
   "execution_count": 8,
   "id": "e2a25c53",
   "metadata": {},
   "outputs": [
    {
     "data": {
      "text/plain": [
       "0    Personal-Power\n",
       "1     Personal-made\n",
       "dtype: object"
      ]
     },
     "execution_count": 8,
     "metadata": {},
     "output_type": "execute_result"
    }
   ],
   "source": [
    "pd.Series(['Man-Power', 'man-made']).str.replace('[Mm]an', 'Personal', regex=True)"
   ]
  },
  {
   "cell_type": "markdown",
   "id": "bd9839f7",
   "metadata": {},
   "source": [
    "<div class=\"alert alert-block alert-info\">\n",
    "\n",
    "**Hinweis:**\n",
    "\n",
    "Die Methode `replace` unterscheidet sich von `str.replace`, dadurch, dass diese elementweise Zeichenketten ersetzt.\n",
    "</div>"
   ]
  },
  {
   "cell_type": "markdown",
   "id": "430cabf3",
   "metadata": {},
   "source": [
    "## Daten löschen"
   ]
  },
  {
   "cell_type": "markdown",
   "id": "da05ba70",
   "metadata": {},
   "source": [
    "Einen oder mehrere Einträge aus einer Achse zu löschen ist einfach, wenn ihr bereits ein Index-Array oder eine Liste ohne diese Einträge habt.\n",
    "\n",
    "Zum Löschen von Duplikaten siehe [Daten deduplizieren](../../clean-prep/deduplicate.ipynb)."
   ]
  },
  {
   "cell_type": "markdown",
   "id": "de5669d7",
   "metadata": {},
   "source": [
    "Da dies ein wenig Mengenlehre erfordern kann, geben wir die Drop-Methode als neues Objekt ohne den oder die gelöschten Werten zurück:"
   ]
  },
  {
   "cell_type": "code",
   "execution_count": 9,
   "id": "01802fca",
   "metadata": {},
   "outputs": [
    {
     "data": {
      "text/plain": [
       "0   -1.015453\n",
       "1   -0.060386\n",
       "2    0.160050\n",
       "3   -0.719240\n",
       "4   -0.968030\n",
       "5    0.718969\n",
       "6   -0.363767\n",
       "dtype: float64"
      ]
     },
     "execution_count": 9,
     "metadata": {},
     "output_type": "execute_result"
    }
   ],
   "source": [
    "rng = np.random.default_rng()\n",
    "s = pd.Series(rng.normal(size=7))\n",
    "\n",
    "s"
   ]
  },
  {
   "cell_type": "code",
   "execution_count": 10,
   "id": "898c2117",
   "metadata": {},
   "outputs": [
    {
     "data": {
      "text/plain": [
       "0   -1.015453\n",
       "1   -0.060386\n",
       "3   -0.719240\n",
       "4   -0.968030\n",
       "5    0.718969\n",
       "6   -0.363767\n",
       "dtype: float64"
      ]
     },
     "execution_count": 10,
     "metadata": {},
     "output_type": "execute_result"
    }
   ],
   "source": [
    "new = s.drop(2)\n",
    "\n",
    "new"
   ]
  },
  {
   "cell_type": "code",
   "execution_count": 11,
   "id": "dcc6148b",
   "metadata": {},
   "outputs": [
    {
     "data": {
      "text/plain": [
       "0   -1.015453\n",
       "1   -0.060386\n",
       "4   -0.968030\n",
       "5    0.718969\n",
       "6   -0.363767\n",
       "dtype: float64"
      ]
     },
     "execution_count": 11,
     "metadata": {},
     "output_type": "execute_result"
    }
   ],
   "source": [
    "new = s.drop([2, 3])\n",
    "\n",
    "new"
   ]
  },
  {
   "cell_type": "markdown",
   "id": "102cedf9",
   "metadata": {},
   "source": [
    "Bei DataFrames können Indexwerte auf beiden Achsen gelöscht werden. Um dies zu veranschaulichen, erstellen wir zunächst einen Beispiel-DataFrame:"
   ]
  },
  {
   "cell_type": "code",
   "execution_count": 12,
   "id": "06b96e21",
   "metadata": {},
   "outputs": [
    {
     "data": {
      "text/html": [
       "<div>\n",
       "<style scoped>\n",
       "    .dataframe tbody tr th:only-of-type {\n",
       "        vertical-align: middle;\n",
       "    }\n",
       "\n",
       "    .dataframe tbody tr th {\n",
       "        vertical-align: top;\n",
       "    }\n",
       "\n",
       "    .dataframe thead th {\n",
       "        text-align: right;\n",
       "    }\n",
       "</style>\n",
       "<table border=\"1\" class=\"dataframe\">\n",
       "  <thead>\n",
       "    <tr style=\"text-align: right;\">\n",
       "      <th></th>\n",
       "      <th>Code</th>\n",
       "      <th>Decimal</th>\n",
       "      <th>Octal</th>\n",
       "      <th>Key</th>\n",
       "    </tr>\n",
       "  </thead>\n",
       "  <tbody>\n",
       "    <tr>\n",
       "      <th>0</th>\n",
       "      <td>U+0000</td>\n",
       "      <td>0</td>\n",
       "      <td>001</td>\n",
       "      <td>NUL</td>\n",
       "    </tr>\n",
       "    <tr>\n",
       "      <th>1</th>\n",
       "      <td>U+0001</td>\n",
       "      <td>1</td>\n",
       "      <td>002</td>\n",
       "      <td>Ctrl-A</td>\n",
       "    </tr>\n",
       "    <tr>\n",
       "      <th>2</th>\n",
       "      <td>U+0002</td>\n",
       "      <td>2</td>\n",
       "      <td>003</td>\n",
       "      <td>Ctrl-B</td>\n",
       "    </tr>\n",
       "    <tr>\n",
       "      <th>3</th>\n",
       "      <td>U+0003</td>\n",
       "      <td>3</td>\n",
       "      <td>004</td>\n",
       "      <td>Ctrl-C</td>\n",
       "    </tr>\n",
       "    <tr>\n",
       "      <th>4</th>\n",
       "      <td>U+0004</td>\n",
       "      <td>4</td>\n",
       "      <td>004</td>\n",
       "      <td>Ctrl-D</td>\n",
       "    </tr>\n",
       "    <tr>\n",
       "      <th>5</th>\n",
       "      <td>U+0005</td>\n",
       "      <td>5</td>\n",
       "      <td>005</td>\n",
       "      <td>Ctrl-E</td>\n",
       "    </tr>\n",
       "  </tbody>\n",
       "</table>\n",
       "</div>"
      ],
      "text/plain": [
       "     Code  Decimal Octal     Key\n",
       "0  U+0000        0   001     NUL\n",
       "1  U+0001        1   002  Ctrl-A\n",
       "2  U+0002        2   003  Ctrl-B\n",
       "3  U+0003        3   004  Ctrl-C\n",
       "4  U+0004        4   004  Ctrl-D\n",
       "5  U+0005        5   005  Ctrl-E"
      ]
     },
     "execution_count": 12,
     "metadata": {},
     "output_type": "execute_result"
    }
   ],
   "source": [
    "data = {'Code': ['U+0000', 'U+0001', 'U+0002', 'U+0003', 'U+0004', 'U+0005'],\n",
    "        'Decimal': [0, 1, 2, 3, 4, 5],\n",
    "        'Octal': ['001', '002', '003', '004', '004', '005'],\n",
    "        'Key': ['NUL', 'Ctrl-A', 'Ctrl-B', 'Ctrl-C', 'Ctrl-D', 'Ctrl-E']}\n",
    "\n",
    "df = pd.DataFrame(data)\n",
    "\n",
    "df"
   ]
  },
  {
   "cell_type": "code",
   "execution_count": 13,
   "id": "a28fc7bc",
   "metadata": {},
   "outputs": [
    {
     "data": {
      "text/html": [
       "<div>\n",
       "<style scoped>\n",
       "    .dataframe tbody tr th:only-of-type {\n",
       "        vertical-align: middle;\n",
       "    }\n",
       "\n",
       "    .dataframe tbody tr th {\n",
       "        vertical-align: top;\n",
       "    }\n",
       "\n",
       "    .dataframe thead th {\n",
       "        text-align: right;\n",
       "    }\n",
       "</style>\n",
       "<table border=\"1\" class=\"dataframe\">\n",
       "  <thead>\n",
       "    <tr style=\"text-align: right;\">\n",
       "      <th></th>\n",
       "      <th>Code</th>\n",
       "      <th>Decimal</th>\n",
       "      <th>Octal</th>\n",
       "      <th>Key</th>\n",
       "    </tr>\n",
       "  </thead>\n",
       "  <tbody>\n",
       "    <tr>\n",
       "      <th>2</th>\n",
       "      <td>U+0002</td>\n",
       "      <td>2</td>\n",
       "      <td>003</td>\n",
       "      <td>Ctrl-B</td>\n",
       "    </tr>\n",
       "    <tr>\n",
       "      <th>3</th>\n",
       "      <td>U+0003</td>\n",
       "      <td>3</td>\n",
       "      <td>004</td>\n",
       "      <td>Ctrl-C</td>\n",
       "    </tr>\n",
       "    <tr>\n",
       "      <th>4</th>\n",
       "      <td>U+0004</td>\n",
       "      <td>4</td>\n",
       "      <td>004</td>\n",
       "      <td>Ctrl-D</td>\n",
       "    </tr>\n",
       "    <tr>\n",
       "      <th>5</th>\n",
       "      <td>U+0005</td>\n",
       "      <td>5</td>\n",
       "      <td>005</td>\n",
       "      <td>Ctrl-E</td>\n",
       "    </tr>\n",
       "  </tbody>\n",
       "</table>\n",
       "</div>"
      ],
      "text/plain": [
       "     Code  Decimal Octal     Key\n",
       "2  U+0002        2   003  Ctrl-B\n",
       "3  U+0003        3   004  Ctrl-C\n",
       "4  U+0004        4   004  Ctrl-D\n",
       "5  U+0005        5   005  Ctrl-E"
      ]
     },
     "execution_count": 13,
     "metadata": {},
     "output_type": "execute_result"
    }
   ],
   "source": [
    "df.drop([0, 1])"
   ]
  },
  {
   "cell_type": "markdown",
   "id": "aa043e2b",
   "metadata": {},
   "source": [
    "Ihr könnt auch Werte aus den Spalten entfernen, indem ihr `axis=1` oder `axis='columns'` übergebt:"
   ]
  },
  {
   "cell_type": "code",
   "execution_count": 14,
   "id": "b2ab82c6",
   "metadata": {},
   "outputs": [
    {
     "data": {
      "text/html": [
       "<div>\n",
       "<style scoped>\n",
       "    .dataframe tbody tr th:only-of-type {\n",
       "        vertical-align: middle;\n",
       "    }\n",
       "\n",
       "    .dataframe tbody tr th {\n",
       "        vertical-align: top;\n",
       "    }\n",
       "\n",
       "    .dataframe thead th {\n",
       "        text-align: right;\n",
       "    }\n",
       "</style>\n",
       "<table border=\"1\" class=\"dataframe\">\n",
       "  <thead>\n",
       "    <tr style=\"text-align: right;\">\n",
       "      <th></th>\n",
       "      <th>Code</th>\n",
       "      <th>Octal</th>\n",
       "      <th>Key</th>\n",
       "    </tr>\n",
       "  </thead>\n",
       "  <tbody>\n",
       "    <tr>\n",
       "      <th>0</th>\n",
       "      <td>U+0000</td>\n",
       "      <td>001</td>\n",
       "      <td>NUL</td>\n",
       "    </tr>\n",
       "    <tr>\n",
       "      <th>1</th>\n",
       "      <td>U+0001</td>\n",
       "      <td>002</td>\n",
       "      <td>Ctrl-A</td>\n",
       "    </tr>\n",
       "    <tr>\n",
       "      <th>2</th>\n",
       "      <td>U+0002</td>\n",
       "      <td>003</td>\n",
       "      <td>Ctrl-B</td>\n",
       "    </tr>\n",
       "    <tr>\n",
       "      <th>3</th>\n",
       "      <td>U+0003</td>\n",
       "      <td>004</td>\n",
       "      <td>Ctrl-C</td>\n",
       "    </tr>\n",
       "    <tr>\n",
       "      <th>4</th>\n",
       "      <td>U+0004</td>\n",
       "      <td>004</td>\n",
       "      <td>Ctrl-D</td>\n",
       "    </tr>\n",
       "    <tr>\n",
       "      <th>5</th>\n",
       "      <td>U+0005</td>\n",
       "      <td>005</td>\n",
       "      <td>Ctrl-E</td>\n",
       "    </tr>\n",
       "  </tbody>\n",
       "</table>\n",
       "</div>"
      ],
      "text/plain": [
       "     Code Octal     Key\n",
       "0  U+0000   001     NUL\n",
       "1  U+0001   002  Ctrl-A\n",
       "2  U+0002   003  Ctrl-B\n",
       "3  U+0003   004  Ctrl-C\n",
       "4  U+0004   004  Ctrl-D\n",
       "5  U+0005   005  Ctrl-E"
      ]
     },
     "execution_count": 14,
     "metadata": {},
     "output_type": "execute_result"
    }
   ],
   "source": [
    "df.drop('Decimal', axis=1)"
   ]
  },
  {
   "cell_type": "markdown",
   "id": "4083d717",
   "metadata": {},
   "source": [
    "Viele Funktionen wie `drop`, die die Größe oder Form einer Reihe oder eines DataFrame ändern, können ein Objekt an Ort und Stelle manipulieren, ohne ein neues Objekt zurückzugeben:"
   ]
  },
  {
   "cell_type": "code",
   "execution_count": 15,
   "id": "8692c3ca",
   "metadata": {},
   "outputs": [
    {
     "data": {
      "text/html": [
       "<div>\n",
       "<style scoped>\n",
       "    .dataframe tbody tr th:only-of-type {\n",
       "        vertical-align: middle;\n",
       "    }\n",
       "\n",
       "    .dataframe tbody tr th {\n",
       "        vertical-align: top;\n",
       "    }\n",
       "\n",
       "    .dataframe thead th {\n",
       "        text-align: right;\n",
       "    }\n",
       "</style>\n",
       "<table border=\"1\" class=\"dataframe\">\n",
       "  <thead>\n",
       "    <tr style=\"text-align: right;\">\n",
       "      <th></th>\n",
       "      <th>Code</th>\n",
       "      <th>Decimal</th>\n",
       "      <th>Octal</th>\n",
       "      <th>Key</th>\n",
       "    </tr>\n",
       "  </thead>\n",
       "  <tbody>\n",
       "    <tr>\n",
       "      <th>1</th>\n",
       "      <td>U+0001</td>\n",
       "      <td>1</td>\n",
       "      <td>002</td>\n",
       "      <td>Ctrl-A</td>\n",
       "    </tr>\n",
       "    <tr>\n",
       "      <th>2</th>\n",
       "      <td>U+0002</td>\n",
       "      <td>2</td>\n",
       "      <td>003</td>\n",
       "      <td>Ctrl-B</td>\n",
       "    </tr>\n",
       "    <tr>\n",
       "      <th>3</th>\n",
       "      <td>U+0003</td>\n",
       "      <td>3</td>\n",
       "      <td>004</td>\n",
       "      <td>Ctrl-C</td>\n",
       "    </tr>\n",
       "    <tr>\n",
       "      <th>4</th>\n",
       "      <td>U+0004</td>\n",
       "      <td>4</td>\n",
       "      <td>004</td>\n",
       "      <td>Ctrl-D</td>\n",
       "    </tr>\n",
       "    <tr>\n",
       "      <th>5</th>\n",
       "      <td>U+0005</td>\n",
       "      <td>5</td>\n",
       "      <td>005</td>\n",
       "      <td>Ctrl-E</td>\n",
       "    </tr>\n",
       "  </tbody>\n",
       "</table>\n",
       "</div>"
      ],
      "text/plain": [
       "     Code  Decimal Octal     Key\n",
       "1  U+0001        1   002  Ctrl-A\n",
       "2  U+0002        2   003  Ctrl-B\n",
       "3  U+0003        3   004  Ctrl-C\n",
       "4  U+0004        4   004  Ctrl-D\n",
       "5  U+0005        5   005  Ctrl-E"
      ]
     },
     "execution_count": 15,
     "metadata": {},
     "output_type": "execute_result"
    }
   ],
   "source": [
    "df.drop(0, inplace=True)\n",
    "\n",
    "df"
   ]
  },
  {
   "cell_type": "markdown",
   "id": "81a9e941",
   "metadata": {},
   "source": [
    "<div class=\"alert alert-block alert-warning\">\n",
    "\n",
    "**Warnung:**\n",
    "\n",
    "Seid  vorsichtig mit der `inplace`-Funktion, da die Daten unwiderbringlich gelöscht werden."
   ]
  }
 ],
 "metadata": {
  "kernelspec": {
   "display_name": "Python 3.8",
   "language": "python",
   "name": "python-38"
  },
  "language_info": {
   "codemirror_mode": {
    "name": "ipython",
    "version": 3
   },
   "file_extension": ".py",
   "mimetype": "text/x-python",
   "name": "python",
   "nbconvert_exporter": "python",
   "pygments_lexer": "ipython3",
   "version": "3.8.12"
  }
 },
 "nbformat": 4,
 "nbformat_minor": 5
}
