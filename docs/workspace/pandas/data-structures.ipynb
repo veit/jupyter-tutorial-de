{
 "cells": [
  {
   "cell_type": "markdown",
   "id": "643b52a4",
   "metadata": {},
   "source": [
    "# Einführung in die Datenstrukturen von pandas\n",
    "\n",
    "Um mit pandas zu beginnen, solltet ihr euch zunächst mit den beiden wichtigsten Datenstrukturen vertraut machen: [Series](#Series) und [DataFrame](#DataFrame)."
   ]
  },
  {
   "cell_type": "markdown",
   "id": "26d5a0cd",
   "metadata": {},
   "source": [
    "## Series\n",
    "\n",
    "Eine Serie ist ein eindimensionales Array-ähnliches Objekt, das eine Folge von Werten (von ähnlichen Typen wie die NumPy-Typen) und ein zugehöriges Array von Datenbeschriftungen, genannt Index, enthält. Die einfachste Serie wird nur aus einem Array von Daten gebildet:"
   ]
  },
  {
   "cell_type": "code",
   "execution_count": 1,
   "id": "8b11d331",
   "metadata": {},
   "outputs": [],
   "source": [
    "import numpy as np\n",
    "import pandas as pd"
   ]
  },
  {
   "cell_type": "code",
   "execution_count": 2,
   "id": "91e7b5be",
   "metadata": {},
   "outputs": [
    {
     "data": {
      "text/plain": [
       "0    1.551651\n",
       "1    1.486286\n",
       "2    1.584239\n",
       "3   -1.857488\n",
       "4    0.192042\n",
       "5   -1.034613\n",
       "6    2.073058\n",
       "dtype: float64"
      ]
     },
     "execution_count": 2,
     "metadata": {},
     "output_type": "execute_result"
    }
   ],
   "source": [
    "rng = np.random.default_rng()\n",
    "s = pd.Series(rng.normal(size=7))\n",
    "s"
   ]
  },
  {
   "cell_type": "markdown",
   "id": "6a99309a",
   "metadata": {},
   "source": [
    "Die Zeichenkettendarstellung einer interaktiv angezeigten Reihe zeigt den Index auf der linken Seite und die Werte auf der rechten Seite. Da wir keinen Index für die Daten angegeben haben, wird ein Standardindex erstellt, der aus den ganzen Zahlen `0` bis `N - 1` besteht (wobei `N` die Anzahl (_Length_) der Daten ist). Ihr könnt die Array-Darstellung und das Index-Objekt der Reihe über ihre [pandas.Series.array](https://pandas.pydata.org/docs/reference/api/pandas.Series.array.html)- bzw. [pandas.Series.index](https://pandas.pydata.org/docs/reference/api/pandas.Series.index.html)-Attribute erhalten:"
   ]
  },
  {
   "cell_type": "code",
   "execution_count": 3,
   "id": "f7bfa801",
   "metadata": {},
   "outputs": [
    {
     "data": {
      "text/plain": [
       "<PandasArray>\n",
       "[1.5516512936791294, 1.4862856434254474, 1.5842391926660127,\n",
       " -1.857488328854359,  0.192042475775028, -1.034612831554109,\n",
       " 2.0730578744003854]\n",
       "Length: 7, dtype: float64"
      ]
     },
     "execution_count": 3,
     "metadata": {},
     "output_type": "execute_result"
    }
   ],
   "source": [
    "s.array"
   ]
  },
  {
   "cell_type": "code",
   "execution_count": 4,
   "id": "f80d3ce8",
   "metadata": {},
   "outputs": [
    {
     "data": {
      "text/plain": [
       "RangeIndex(start=0, stop=7, step=1)"
      ]
     },
     "execution_count": 4,
     "metadata": {},
     "output_type": "execute_result"
    }
   ],
   "source": [
    "s.index"
   ]
  },
  {
   "cell_type": "markdown",
   "id": "f4f3b1a4",
   "metadata": {},
   "source": [
    "Oft werdet ihr einen Index erstellen wollen, der jeden Datenpunkt mit einer Bezeichnung kennzeichnet:"
   ]
  },
  {
   "cell_type": "code",
   "execution_count": 5,
   "id": "14eea31c",
   "metadata": {},
   "outputs": [],
   "source": [
    "idx = pd.date_range(\"2022-01-31\", periods=7)\n",
    "s2 = pd.Series(rng.normal(size=7), index=idx)"
   ]
  },
  {
   "cell_type": "code",
   "execution_count": 6,
   "id": "c400c075",
   "metadata": {},
   "outputs": [
    {
     "data": {
      "text/plain": [
       "2022-01-31   -0.474620\n",
       "2022-02-01   -0.503797\n",
       "2022-02-02    0.386392\n",
       "2022-02-03   -0.703141\n",
       "2022-02-04    0.351618\n",
       "2022-02-05    0.900999\n",
       "2022-02-06   -1.983392\n",
       "Freq: D, dtype: float64"
      ]
     },
     "execution_count": 6,
     "metadata": {},
     "output_type": "execute_result"
    }
   ],
   "source": [
    "s2"
   ]
  },
  {
   "cell_type": "markdown",
   "id": "ff14f0ac",
   "metadata": {},
   "source": [
    "<div class=\"alert alert-block alert-info\">\n",
    "\n",
    "**Siehe auch:**\n",
    "\n",
    "* [Time series / date functionality](https://pandas.pydata.org/pandas-docs/stable/user_guide/timeseries.html)\n",
    "</div>"
   ]
  },
  {
   "cell_type": "markdown",
   "id": "69bbe97c",
   "metadata": {},
   "source": [
    "Im Vergleich zu NumPy-Arrays könnt ihr Label im Index verwenden, wenn ihr einzelne Werte oder eine Gruppe von Werten auswählen wollt:"
   ]
  },
  {
   "cell_type": "code",
   "execution_count": 7,
   "id": "2768ea00",
   "metadata": {},
   "outputs": [
    {
     "data": {
      "text/plain": [
       "0.3863921262958336"
      ]
     },
     "execution_count": 7,
     "metadata": {},
     "output_type": "execute_result"
    }
   ],
   "source": [
    "s2['2022-02-02']"
   ]
  },
  {
   "cell_type": "code",
   "execution_count": 8,
   "id": "2b17ca82",
   "metadata": {},
   "outputs": [
    {
     "data": {
      "text/plain": [
       "2022-02-02    0.386392\n",
       "2022-02-03   -0.703141\n",
       "2022-02-04    0.351618\n",
       "dtype: float64"
      ]
     },
     "execution_count": 8,
     "metadata": {},
     "output_type": "execute_result"
    }
   ],
   "source": [
    "s2[['2022-02-02', '2022-02-03', '2022-02-04']]"
   ]
  },
  {
   "cell_type": "markdown",
   "id": "a5bfa848",
   "metadata": {},
   "source": [
    "Hier wird `['2022-02-02', '2022-02-03', '2022-02-04']` als eine Liste von Indizes interpretiert, auch wenn sie Strings anstelle von ganzen Zahlen enthält."
   ]
  },
  {
   "cell_type": "markdown",
   "id": "b23bab88",
   "metadata": {},
   "source": [
    "Bei der Verwendung von NumPy-Funktionen oder NumPy-ähnlichen Operationen, wie z. B. dem Filtern mit einem booleschen Array, der skalaren Multiplikation oder der Anwendung mathematischer Funktionen, bleibt die Verknüpfung zwischen Index und Wert erhalten:"
   ]
  },
  {
   "cell_type": "code",
   "execution_count": 9,
   "id": "b5290533",
   "metadata": {},
   "outputs": [
    {
     "data": {
      "text/plain": [
       "2022-02-02    0.386392\n",
       "2022-02-04    0.351618\n",
       "2022-02-05    0.900999\n",
       "dtype: float64"
      ]
     },
     "execution_count": 9,
     "metadata": {},
     "output_type": "execute_result"
    }
   ],
   "source": [
    "s2[s2 > 0]"
   ]
  },
  {
   "cell_type": "code",
   "execution_count": 10,
   "id": "1a745b82",
   "metadata": {},
   "outputs": [
    {
     "data": {
      "text/plain": [
       "2022-01-31    0.225264\n",
       "2022-02-01    0.253811\n",
       "2022-02-02    0.149299\n",
       "2022-02-03    0.494407\n",
       "2022-02-04    0.123635\n",
       "2022-02-05    0.811800\n",
       "2022-02-06    3.933845\n",
       "Freq: D, dtype: float64"
      ]
     },
     "execution_count": 10,
     "metadata": {},
     "output_type": "execute_result"
    }
   ],
   "source": [
    "s2 ** 2"
   ]
  },
  {
   "cell_type": "code",
   "execution_count": 11,
   "id": "21f94be9",
   "metadata": {},
   "outputs": [
    {
     "data": {
      "text/plain": [
       "2022-01-31    0.622122\n",
       "2022-02-01    0.604232\n",
       "2022-02-02    1.471662\n",
       "2022-02-03    0.495028\n",
       "2022-02-04    1.421365\n",
       "2022-02-05    2.462062\n",
       "2022-02-06    0.137602\n",
       "Freq: D, dtype: float64"
      ]
     },
     "execution_count": 11,
     "metadata": {},
     "output_type": "execute_result"
    }
   ],
   "source": [
    "np.exp(s2)"
   ]
  },
  {
   "cell_type": "markdown",
   "id": "5041e749",
   "metadata": {},
   "source": [
    "Ihr könnt euch eine Serie auch als ein _ordered dict_ mit fester Länge vorstellen, da sie eine Zuordnung von Indexwerten zu Datenwerten darstellt. Sie kann in vielen Kontexten verwendet werden, in denen man ein _dict_ verwenden könnte:"
   ]
  },
  {
   "cell_type": "code",
   "execution_count": 12,
   "id": "503dd45e",
   "metadata": {},
   "outputs": [
    {
     "data": {
      "text/plain": [
       "True"
      ]
     },
     "execution_count": 12,
     "metadata": {},
     "output_type": "execute_result"
    }
   ],
   "source": [
    "'2022-02-02' in s2"
   ]
  },
  {
   "cell_type": "code",
   "execution_count": 13,
   "id": "ef78cd4e",
   "metadata": {},
   "outputs": [
    {
     "data": {
      "text/plain": [
       "False"
      ]
     },
     "execution_count": 13,
     "metadata": {},
     "output_type": "execute_result"
    }
   ],
   "source": [
    "'2022-02-09' in s2"
   ]
  },
  {
   "cell_type": "markdown",
   "id": "5e9cd099",
   "metadata": {},
   "source": [
    "### Fehlende Daten\n",
    "\n",
    "`NA` und `null` werde ich synonym verwenden, um auf fehlende Daten hinzuweisen. Die Funktionen `isna` und `notna` in pandas sollten verwendet werden, um fehlende Daten zu erkennen:"
   ]
  },
  {
   "cell_type": "code",
   "execution_count": 14,
   "id": "a06d65fc",
   "metadata": {},
   "outputs": [
    {
     "data": {
      "text/plain": [
       "2022-01-31    False\n",
       "2022-02-01    False\n",
       "2022-02-02    False\n",
       "2022-02-03    False\n",
       "2022-02-04    False\n",
       "2022-02-05    False\n",
       "2022-02-06    False\n",
       "Freq: D, dtype: bool"
      ]
     },
     "execution_count": 14,
     "metadata": {},
     "output_type": "execute_result"
    }
   ],
   "source": [
    "pd.isna(s2)"
   ]
  },
  {
   "cell_type": "code",
   "execution_count": 15,
   "id": "c52ad3eb",
   "metadata": {},
   "outputs": [
    {
     "data": {
      "text/plain": [
       "2022-01-31    True\n",
       "2022-02-01    True\n",
       "2022-02-02    True\n",
       "2022-02-03    True\n",
       "2022-02-04    True\n",
       "2022-02-05    True\n",
       "2022-02-06    True\n",
       "Freq: D, dtype: bool"
      ]
     },
     "execution_count": 15,
     "metadata": {},
     "output_type": "execute_result"
    }
   ],
   "source": [
    "pd.notna(s2)"
   ]
  },
  {
   "cell_type": "markdown",
   "id": "876795f5",
   "metadata": {},
   "source": [
    "Series hat diese auch als Instanzmethoden:"
   ]
  },
  {
   "cell_type": "code",
   "execution_count": 16,
   "id": "fd75953a",
   "metadata": {},
   "outputs": [
    {
     "data": {
      "text/plain": [
       "2022-01-31    False\n",
       "2022-02-01    False\n",
       "2022-02-02    False\n",
       "2022-02-03    False\n",
       "2022-02-04    False\n",
       "2022-02-05    False\n",
       "2022-02-06    False\n",
       "Freq: D, dtype: bool"
      ]
     },
     "execution_count": 16,
     "metadata": {},
     "output_type": "execute_result"
    }
   ],
   "source": [
    "s2.isna()"
   ]
  },
  {
   "cell_type": "markdown",
   "id": "cd06953d",
   "metadata": {},
   "source": [
    "Der Umgang mit fehlenden Daten wird im Abschnitt [Verwalten fehlender Daten mit pandas](../../clean-prep/nulls.ipynb) ausführlicher behandelt."
   ]
  },
  {
   "cell_type": "markdown",
   "id": "1f175327",
   "metadata": {},
   "source": [
    "Eine für viele Anwendungen nützliche Funktion von Series ist die automatische Ausrichtung nach Indexbezeichnungen bei arithmetischen Operationen:"
   ]
  },
  {
   "cell_type": "code",
   "execution_count": 17,
   "id": "8967afe0",
   "metadata": {},
   "outputs": [],
   "source": [
    "idx = pd.date_range(\"2022-02-07\", periods=7)\n",
    "\n",
    "s3 = pd.Series(rng.normal(size=7), index=idx)"
   ]
  },
  {
   "cell_type": "code",
   "execution_count": 18,
   "id": "53ba39e9",
   "metadata": {},
   "outputs": [
    {
     "data": {
      "text/plain": [
       "(2022-01-31   -0.474620\n",
       " 2022-02-01   -0.503797\n",
       " 2022-02-02    0.386392\n",
       " 2022-02-03   -0.703141\n",
       " 2022-02-04    0.351618\n",
       " 2022-02-05    0.900999\n",
       " 2022-02-06   -1.983392\n",
       " Freq: D, dtype: float64,\n",
       " 2022-02-07    0.424062\n",
       " 2022-02-08   -1.215605\n",
       " 2022-02-09    0.967020\n",
       " 2022-02-10    1.410620\n",
       " 2022-02-11   -0.247191\n",
       " 2022-02-12   -1.168213\n",
       " 2022-02-13    0.562487\n",
       " Freq: D, dtype: float64)"
      ]
     },
     "execution_count": 18,
     "metadata": {},
     "output_type": "execute_result"
    }
   ],
   "source": [
    "s2, s3"
   ]
  },
  {
   "cell_type": "code",
   "execution_count": 19,
   "id": "19ff1f06",
   "metadata": {},
   "outputs": [
    {
     "data": {
      "text/plain": [
       "2022-01-31   NaN\n",
       "2022-02-01   NaN\n",
       "2022-02-02   NaN\n",
       "2022-02-03   NaN\n",
       "2022-02-04   NaN\n",
       "2022-02-05   NaN\n",
       "2022-02-06   NaN\n",
       "2022-02-07   NaN\n",
       "2022-02-08   NaN\n",
       "2022-02-09   NaN\n",
       "2022-02-10   NaN\n",
       "2022-02-11   NaN\n",
       "2022-02-12   NaN\n",
       "2022-02-13   NaN\n",
       "Freq: D, dtype: float64"
      ]
     },
     "execution_count": 19,
     "metadata": {},
     "output_type": "execute_result"
    }
   ],
   "source": [
    "s2 + s3"
   ]
  },
  {
   "cell_type": "markdown",
   "id": "731e2f4d",
   "metadata": {},
   "source": [
    "Wenn ihr Erfahrung mit SQL habt, ähnelt dies einem [JOIN](https://de.wikipedia.org/wiki/Join_(SQL))-Vorgang."
   ]
  },
  {
   "cell_type": "markdown",
   "id": "5351003c",
   "metadata": {},
   "source": [
    "Sowohl das Series-Objekt selbst als auch sein Index haben ein `name`-Attribut, das sich in andere Bereiche der pandas-Funktionalität integrieren lässt:"
   ]
  },
  {
   "cell_type": "code",
   "execution_count": 20,
   "id": "95ae52dc",
   "metadata": {},
   "outputs": [
    {
     "data": {
      "text/plain": [
       "date\n",
       "2022-02-07    0.424062\n",
       "2022-02-08   -1.215605\n",
       "2022-02-09    0.967020\n",
       "2022-02-10    1.410620\n",
       "2022-02-11   -0.247191\n",
       "2022-02-12   -1.168213\n",
       "2022-02-13    0.562487\n",
       "Freq: D, Name: floats, dtype: float64"
      ]
     },
     "execution_count": 20,
     "metadata": {},
     "output_type": "execute_result"
    }
   ],
   "source": [
    "s3.name = 'floats'\n",
    "s3.index.name = 'date'\n",
    "\n",
    "s3"
   ]
  },
  {
   "cell_type": "markdown",
   "id": "3f370f5c",
   "metadata": {},
   "source": [
    "## DataFrame\n",
    "\n",
    "Ein DataFrame stellt eine rechteckige Datentabelle dar und enthält eine geordnete, benannte Sammlung von Spalten, von denen jede einen anderen Werttyp haben kann. Der DataFrame hat sowohl einen Zeilen- als auch einen Spaltenindex.\n",
    "\n",
    "<div class=\"alert alert-block alert-info\">\n",
    "\n",
    "**Bemerkung:**\n",
    "\n",
    "Ein DataFrame ist zwar zweidimensional, ihr könnt ihn aber auch verwenden, um mit [join](https://pandas.pydata.org/docs/reference/api/pandas.DataFrame.join.html), [combine](https://pandas.pydata.org/docs/reference/api/pandas.DataFrame.combine.html) und [Reshaping](https://pandas.pydata.org/pandas-docs/stable/user_guide/reshaping.html) höherdimensionale Daten in einem Tabellenformat mit hierarchischer Indizierung darzustellen.\n",
    "</div>"
   ]
  },
  {
   "cell_type": "code",
   "execution_count": 21,
   "id": "fed74b40",
   "metadata": {},
   "outputs": [
    {
     "data": {
      "text/html": [
       "<div>\n",
       "<style scoped>\n",
       "    .dataframe tbody tr th:only-of-type {\n",
       "        vertical-align: middle;\n",
       "    }\n",
       "\n",
       "    .dataframe tbody tr th {\n",
       "        vertical-align: top;\n",
       "    }\n",
       "\n",
       "    .dataframe thead th {\n",
       "        text-align: right;\n",
       "    }\n",
       "</style>\n",
       "<table border=\"1\" class=\"dataframe\">\n",
       "  <thead>\n",
       "    <tr style=\"text-align: right;\">\n",
       "      <th></th>\n",
       "      <th>Code</th>\n",
       "      <th>Decimal</th>\n",
       "      <th>Octal</th>\n",
       "      <th>Key</th>\n",
       "    </tr>\n",
       "  </thead>\n",
       "  <tbody>\n",
       "    <tr>\n",
       "      <th>0</th>\n",
       "      <td>U+0000</td>\n",
       "      <td>0</td>\n",
       "      <td>001</td>\n",
       "      <td>NUL</td>\n",
       "    </tr>\n",
       "    <tr>\n",
       "      <th>1</th>\n",
       "      <td>U+0001</td>\n",
       "      <td>1</td>\n",
       "      <td>002</td>\n",
       "      <td>Ctrl-A</td>\n",
       "    </tr>\n",
       "    <tr>\n",
       "      <th>2</th>\n",
       "      <td>U+0002</td>\n",
       "      <td>2</td>\n",
       "      <td>003</td>\n",
       "      <td>Ctrl-B</td>\n",
       "    </tr>\n",
       "    <tr>\n",
       "      <th>3</th>\n",
       "      <td>U+0003</td>\n",
       "      <td>3</td>\n",
       "      <td>004</td>\n",
       "      <td>Ctrl-C</td>\n",
       "    </tr>\n",
       "    <tr>\n",
       "      <th>4</th>\n",
       "      <td>U+0004</td>\n",
       "      <td>4</td>\n",
       "      <td>004</td>\n",
       "      <td>Ctrl-D</td>\n",
       "    </tr>\n",
       "    <tr>\n",
       "      <th>5</th>\n",
       "      <td>U+0005</td>\n",
       "      <td>5</td>\n",
       "      <td>005</td>\n",
       "      <td>Ctrl-E</td>\n",
       "    </tr>\n",
       "  </tbody>\n",
       "</table>\n",
       "</div>"
      ],
      "text/plain": [
       "     Code  Decimal Octal     Key\n",
       "0  U+0000        0   001     NUL\n",
       "1  U+0001        1   002  Ctrl-A\n",
       "2  U+0002        2   003  Ctrl-B\n",
       "3  U+0003        3   004  Ctrl-C\n",
       "4  U+0004        4   004  Ctrl-D\n",
       "5  U+0005        5   005  Ctrl-E"
      ]
     },
     "execution_count": 21,
     "metadata": {},
     "output_type": "execute_result"
    }
   ],
   "source": [
    "data = {'Code': ['U+0000', 'U+0001', 'U+0002', 'U+0003', 'U+0004', 'U+0005'],\n",
    "        'Decimal': [0, 1, 2, 3, 4, 5],\n",
    "        'Octal': ['001', '002', '003', '004', '004', '005'],\n",
    "        'Key': ['NUL', 'Ctrl-A', 'Ctrl-B', 'Ctrl-C', 'Ctrl-D', 'Ctrl-E']}\n",
    "\n",
    "df = pd.DataFrame(data)\n",
    "\n",
    "df"
   ]
  },
  {
   "cell_type": "markdown",
   "id": "551a22a4",
   "metadata": {},
   "source": [
    "Bei großen DataFrames wählt die `head`-Methode nur die ersten fünf Zeilen aus:"
   ]
  },
  {
   "cell_type": "code",
   "execution_count": 22,
   "id": "88819e8e",
   "metadata": {},
   "outputs": [
    {
     "data": {
      "text/html": [
       "<div>\n",
       "<style scoped>\n",
       "    .dataframe tbody tr th:only-of-type {\n",
       "        vertical-align: middle;\n",
       "    }\n",
       "\n",
       "    .dataframe tbody tr th {\n",
       "        vertical-align: top;\n",
       "    }\n",
       "\n",
       "    .dataframe thead th {\n",
       "        text-align: right;\n",
       "    }\n",
       "</style>\n",
       "<table border=\"1\" class=\"dataframe\">\n",
       "  <thead>\n",
       "    <tr style=\"text-align: right;\">\n",
       "      <th></th>\n",
       "      <th>Code</th>\n",
       "      <th>Decimal</th>\n",
       "      <th>Octal</th>\n",
       "      <th>Key</th>\n",
       "    </tr>\n",
       "  </thead>\n",
       "  <tbody>\n",
       "    <tr>\n",
       "      <th>0</th>\n",
       "      <td>U+0000</td>\n",
       "      <td>0</td>\n",
       "      <td>001</td>\n",
       "      <td>NUL</td>\n",
       "    </tr>\n",
       "    <tr>\n",
       "      <th>1</th>\n",
       "      <td>U+0001</td>\n",
       "      <td>1</td>\n",
       "      <td>002</td>\n",
       "      <td>Ctrl-A</td>\n",
       "    </tr>\n",
       "    <tr>\n",
       "      <th>2</th>\n",
       "      <td>U+0002</td>\n",
       "      <td>2</td>\n",
       "      <td>003</td>\n",
       "      <td>Ctrl-B</td>\n",
       "    </tr>\n",
       "    <tr>\n",
       "      <th>3</th>\n",
       "      <td>U+0003</td>\n",
       "      <td>3</td>\n",
       "      <td>004</td>\n",
       "      <td>Ctrl-C</td>\n",
       "    </tr>\n",
       "    <tr>\n",
       "      <th>4</th>\n",
       "      <td>U+0004</td>\n",
       "      <td>4</td>\n",
       "      <td>004</td>\n",
       "      <td>Ctrl-D</td>\n",
       "    </tr>\n",
       "  </tbody>\n",
       "</table>\n",
       "</div>"
      ],
      "text/plain": [
       "     Code  Decimal Octal     Key\n",
       "0  U+0000        0   001     NUL\n",
       "1  U+0001        1   002  Ctrl-A\n",
       "2  U+0002        2   003  Ctrl-B\n",
       "3  U+0003        3   004  Ctrl-C\n",
       "4  U+0004        4   004  Ctrl-D"
      ]
     },
     "execution_count": 22,
     "metadata": {},
     "output_type": "execute_result"
    }
   ],
   "source": [
    "df.head()"
   ]
  },
  {
   "cell_type": "markdown",
   "id": "f214f4a8",
   "metadata": {},
   "source": [
    "Ihr könnt auch die Reihenfolge der Spalten angeben:"
   ]
  },
  {
   "cell_type": "code",
   "execution_count": 23,
   "id": "31439f21",
   "metadata": {},
   "outputs": [
    {
     "data": {
      "text/html": [
       "<div>\n",
       "<style scoped>\n",
       "    .dataframe tbody tr th:only-of-type {\n",
       "        vertical-align: middle;\n",
       "    }\n",
       "\n",
       "    .dataframe tbody tr th {\n",
       "        vertical-align: top;\n",
       "    }\n",
       "\n",
       "    .dataframe thead th {\n",
       "        text-align: right;\n",
       "    }\n",
       "</style>\n",
       "<table border=\"1\" class=\"dataframe\">\n",
       "  <thead>\n",
       "    <tr style=\"text-align: right;\">\n",
       "      <th></th>\n",
       "      <th>Code</th>\n",
       "      <th>Key</th>\n",
       "    </tr>\n",
       "  </thead>\n",
       "  <tbody>\n",
       "    <tr>\n",
       "      <th>0</th>\n",
       "      <td>U+0000</td>\n",
       "      <td>NUL</td>\n",
       "    </tr>\n",
       "    <tr>\n",
       "      <th>1</th>\n",
       "      <td>U+0001</td>\n",
       "      <td>Ctrl-A</td>\n",
       "    </tr>\n",
       "    <tr>\n",
       "      <th>2</th>\n",
       "      <td>U+0002</td>\n",
       "      <td>Ctrl-B</td>\n",
       "    </tr>\n",
       "    <tr>\n",
       "      <th>3</th>\n",
       "      <td>U+0003</td>\n",
       "      <td>Ctrl-C</td>\n",
       "    </tr>\n",
       "    <tr>\n",
       "      <th>4</th>\n",
       "      <td>U+0004</td>\n",
       "      <td>Ctrl-D</td>\n",
       "    </tr>\n",
       "    <tr>\n",
       "      <th>5</th>\n",
       "      <td>U+0005</td>\n",
       "      <td>Ctrl-E</td>\n",
       "    </tr>\n",
       "  </tbody>\n",
       "</table>\n",
       "</div>"
      ],
      "text/plain": [
       "     Code     Key\n",
       "0  U+0000     NUL\n",
       "1  U+0001  Ctrl-A\n",
       "2  U+0002  Ctrl-B\n",
       "3  U+0003  Ctrl-C\n",
       "4  U+0004  Ctrl-D\n",
       "5  U+0005  Ctrl-E"
      ]
     },
     "execution_count": 23,
     "metadata": {},
     "output_type": "execute_result"
    }
   ],
   "source": [
    "pd.DataFrame(data, columns=['Code', 'Key'])"
   ]
  },
  {
   "cell_type": "markdown",
   "id": "475af337",
   "metadata": {},
   "source": [
    "Wenn ihr eine Spalte übergeben wollt, die nicht im Dict enthalten ist, wird sie ohne Werte im Ergebnis erscheinen:"
   ]
  },
  {
   "cell_type": "code",
   "execution_count": 24,
   "id": "ce0ba656",
   "metadata": {},
   "outputs": [
    {
     "data": {
      "text/html": [
       "<div>\n",
       "<style scoped>\n",
       "    .dataframe tbody tr th:only-of-type {\n",
       "        vertical-align: middle;\n",
       "    }\n",
       "\n",
       "    .dataframe tbody tr th {\n",
       "        vertical-align: top;\n",
       "    }\n",
       "\n",
       "    .dataframe thead th {\n",
       "        text-align: right;\n",
       "    }\n",
       "</style>\n",
       "<table border=\"1\" class=\"dataframe\">\n",
       "  <thead>\n",
       "    <tr style=\"text-align: right;\">\n",
       "      <th></th>\n",
       "      <th>Code</th>\n",
       "      <th>Decimal</th>\n",
       "      <th>Octal</th>\n",
       "      <th>Description</th>\n",
       "      <th>Key</th>\n",
       "    </tr>\n",
       "  </thead>\n",
       "  <tbody>\n",
       "    <tr>\n",
       "      <th>0</th>\n",
       "      <td>U+0000</td>\n",
       "      <td>0</td>\n",
       "      <td>001</td>\n",
       "      <td>NaN</td>\n",
       "      <td>NUL</td>\n",
       "    </tr>\n",
       "    <tr>\n",
       "      <th>1</th>\n",
       "      <td>U+0001</td>\n",
       "      <td>1</td>\n",
       "      <td>002</td>\n",
       "      <td>NaN</td>\n",
       "      <td>Ctrl-A</td>\n",
       "    </tr>\n",
       "    <tr>\n",
       "      <th>2</th>\n",
       "      <td>U+0002</td>\n",
       "      <td>2</td>\n",
       "      <td>003</td>\n",
       "      <td>NaN</td>\n",
       "      <td>Ctrl-B</td>\n",
       "    </tr>\n",
       "    <tr>\n",
       "      <th>3</th>\n",
       "      <td>U+0003</td>\n",
       "      <td>3</td>\n",
       "      <td>004</td>\n",
       "      <td>NaN</td>\n",
       "      <td>Ctrl-C</td>\n",
       "    </tr>\n",
       "    <tr>\n",
       "      <th>4</th>\n",
       "      <td>U+0004</td>\n",
       "      <td>4</td>\n",
       "      <td>004</td>\n",
       "      <td>NaN</td>\n",
       "      <td>Ctrl-D</td>\n",
       "    </tr>\n",
       "    <tr>\n",
       "      <th>5</th>\n",
       "      <td>U+0005</td>\n",
       "      <td>5</td>\n",
       "      <td>005</td>\n",
       "      <td>NaN</td>\n",
       "      <td>Ctrl-E</td>\n",
       "    </tr>\n",
       "  </tbody>\n",
       "</table>\n",
       "</div>"
      ],
      "text/plain": [
       "     Code  Decimal Octal Description     Key\n",
       "0  U+0000        0   001         NaN     NUL\n",
       "1  U+0001        1   002         NaN  Ctrl-A\n",
       "2  U+0002        2   003         NaN  Ctrl-B\n",
       "3  U+0003        3   004         NaN  Ctrl-C\n",
       "4  U+0004        4   004         NaN  Ctrl-D\n",
       "5  U+0005        5   005         NaN  Ctrl-E"
      ]
     },
     "execution_count": 24,
     "metadata": {},
     "output_type": "execute_result"
    }
   ],
   "source": [
    "df2 = pd.DataFrame(data, columns=['Code', 'Decimal', 'Octal', 'Description', 'Key'])\n",
    "\n",
    "df2"
   ]
  },
  {
   "cell_type": "markdown",
   "id": "77568466",
   "metadata": {},
   "source": [
    "Ihr könnt eine Spalte in einem DataFrame mit einer Dict-ähnlichen Notation abrufen:"
   ]
  },
  {
   "cell_type": "code",
   "execution_count": 25,
   "id": "dc51c4e7",
   "metadata": {},
   "outputs": [
    {
     "data": {
      "text/plain": [
       "0    U+0000\n",
       "1    U+0001\n",
       "2    U+0002\n",
       "3    U+0003\n",
       "4    U+0004\n",
       "5    U+0005\n",
       "Name: Code, dtype: object"
      ]
     },
     "execution_count": 25,
     "metadata": {},
     "output_type": "execute_result"
    }
   ],
   "source": [
    "df['Code']"
   ]
  },
  {
   "cell_type": "markdown",
   "id": "221bf552",
   "metadata": {},
   "source": [
    "So könnt ihr auch eine Spalte zum Index machen:"
   ]
  },
  {
   "cell_type": "code",
   "execution_count": 26,
   "id": "66148cc8",
   "metadata": {
    "scrolled": true
   },
   "outputs": [
    {
     "data": {
      "text/html": [
       "<div>\n",
       "<style scoped>\n",
       "    .dataframe tbody tr th:only-of-type {\n",
       "        vertical-align: middle;\n",
       "    }\n",
       "\n",
       "    .dataframe tbody tr th {\n",
       "        vertical-align: top;\n",
       "    }\n",
       "\n",
       "    .dataframe thead th {\n",
       "        text-align: right;\n",
       "    }\n",
       "</style>\n",
       "<table border=\"1\" class=\"dataframe\">\n",
       "  <thead>\n",
       "    <tr style=\"text-align: right;\">\n",
       "      <th></th>\n",
       "      <th>Decimal</th>\n",
       "      <th>Octal</th>\n",
       "      <th>Description</th>\n",
       "      <th>Key</th>\n",
       "    </tr>\n",
       "    <tr>\n",
       "      <th>Code</th>\n",
       "      <th></th>\n",
       "      <th></th>\n",
       "      <th></th>\n",
       "      <th></th>\n",
       "    </tr>\n",
       "  </thead>\n",
       "  <tbody>\n",
       "    <tr>\n",
       "      <th>U+0000</th>\n",
       "      <td>0</td>\n",
       "      <td>001</td>\n",
       "      <td>NaN</td>\n",
       "      <td>NUL</td>\n",
       "    </tr>\n",
       "    <tr>\n",
       "      <th>U+0001</th>\n",
       "      <td>1</td>\n",
       "      <td>002</td>\n",
       "      <td>NaN</td>\n",
       "      <td>Ctrl-A</td>\n",
       "    </tr>\n",
       "    <tr>\n",
       "      <th>U+0002</th>\n",
       "      <td>2</td>\n",
       "      <td>003</td>\n",
       "      <td>NaN</td>\n",
       "      <td>Ctrl-B</td>\n",
       "    </tr>\n",
       "    <tr>\n",
       "      <th>U+0003</th>\n",
       "      <td>3</td>\n",
       "      <td>004</td>\n",
       "      <td>NaN</td>\n",
       "      <td>Ctrl-C</td>\n",
       "    </tr>\n",
       "    <tr>\n",
       "      <th>U+0004</th>\n",
       "      <td>4</td>\n",
       "      <td>004</td>\n",
       "      <td>NaN</td>\n",
       "      <td>Ctrl-D</td>\n",
       "    </tr>\n",
       "    <tr>\n",
       "      <th>U+0005</th>\n",
       "      <td>5</td>\n",
       "      <td>005</td>\n",
       "      <td>NaN</td>\n",
       "      <td>Ctrl-E</td>\n",
       "    </tr>\n",
       "  </tbody>\n",
       "</table>\n",
       "</div>"
      ],
      "text/plain": [
       "        Decimal Octal Description     Key\n",
       "Code                                     \n",
       "U+0000        0   001         NaN     NUL\n",
       "U+0001        1   002         NaN  Ctrl-A\n",
       "U+0002        2   003         NaN  Ctrl-B\n",
       "U+0003        3   004         NaN  Ctrl-C\n",
       "U+0004        4   004         NaN  Ctrl-D\n",
       "U+0005        5   005         NaN  Ctrl-E"
      ]
     },
     "execution_count": 26,
     "metadata": {},
     "output_type": "execute_result"
    }
   ],
   "source": [
    "df2 = pd.DataFrame(data,\n",
    "                   columns=['Decimal', 'Octal', 'Description', 'Key'],\n",
    "                   index=df['Code'])\n",
    "\n",
    "df2"
   ]
  },
  {
   "cell_type": "markdown",
   "id": "8c73f154",
   "metadata": {},
   "source": [
    "Zeilen können nach Position oder Name mit dem [pandas.DataFrame.loc](https://pandas.pydata.org/docs/reference/api/pandas.DataFrame.loc.html)-Attribut abgerufen werden:"
   ]
  },
  {
   "cell_type": "code",
   "execution_count": 27,
   "id": "2521ed65",
   "metadata": {},
   "outputs": [
    {
     "data": {
      "text/plain": [
       "Decimal             1\n",
       "Octal             002\n",
       "Description       NaN\n",
       "Key            Ctrl-A\n",
       "Name: U+0001, dtype: object"
      ]
     },
     "execution_count": 27,
     "metadata": {},
     "output_type": "execute_result"
    }
   ],
   "source": [
    "df2.loc['U+0001']"
   ]
  },
  {
   "cell_type": "markdown",
   "id": "99562628",
   "metadata": {},
   "source": [
    "Spaltenwerte können durch Zuweisung geändert werden. Zum Beispiel könnte der leeren Spalte _Description_ ein Einzelwert oder ein Array von Werten zugewiesen werden:"
   ]
  },
  {
   "cell_type": "code",
   "execution_count": 28,
   "id": "acfe8cfd",
   "metadata": {},
   "outputs": [
    {
     "data": {
      "text/html": [
       "<div>\n",
       "<style scoped>\n",
       "    .dataframe tbody tr th:only-of-type {\n",
       "        vertical-align: middle;\n",
       "    }\n",
       "\n",
       "    .dataframe tbody tr th {\n",
       "        vertical-align: top;\n",
       "    }\n",
       "\n",
       "    .dataframe thead th {\n",
       "        text-align: right;\n",
       "    }\n",
       "</style>\n",
       "<table border=\"1\" class=\"dataframe\">\n",
       "  <thead>\n",
       "    <tr style=\"text-align: right;\">\n",
       "      <th></th>\n",
       "      <th>Decimal</th>\n",
       "      <th>Octal</th>\n",
       "      <th>Description</th>\n",
       "      <th>Key</th>\n",
       "    </tr>\n",
       "    <tr>\n",
       "      <th>Code</th>\n",
       "      <th></th>\n",
       "      <th></th>\n",
       "      <th></th>\n",
       "      <th></th>\n",
       "    </tr>\n",
       "  </thead>\n",
       "  <tbody>\n",
       "    <tr>\n",
       "      <th>U+0000</th>\n",
       "      <td>0</td>\n",
       "      <td>001</td>\n",
       "      <td>Null character</td>\n",
       "      <td>NUL</td>\n",
       "    </tr>\n",
       "    <tr>\n",
       "      <th>U+0001</th>\n",
       "      <td>1</td>\n",
       "      <td>002</td>\n",
       "      <td>Start of Heading</td>\n",
       "      <td>Ctrl-A</td>\n",
       "    </tr>\n",
       "    <tr>\n",
       "      <th>U+0002</th>\n",
       "      <td>2</td>\n",
       "      <td>003</td>\n",
       "      <td>Start of Text</td>\n",
       "      <td>Ctrl-B</td>\n",
       "    </tr>\n",
       "    <tr>\n",
       "      <th>U+0003</th>\n",
       "      <td>3</td>\n",
       "      <td>004</td>\n",
       "      <td>End-of-text character</td>\n",
       "      <td>Ctrl-C</td>\n",
       "    </tr>\n",
       "    <tr>\n",
       "      <th>U+0004</th>\n",
       "      <td>4</td>\n",
       "      <td>004</td>\n",
       "      <td>End-of-transmission character</td>\n",
       "      <td>Ctrl-D</td>\n",
       "    </tr>\n",
       "    <tr>\n",
       "      <th>U+0005</th>\n",
       "      <td>5</td>\n",
       "      <td>005</td>\n",
       "      <td>Enquiry character</td>\n",
       "      <td>Ctrl-E</td>\n",
       "    </tr>\n",
       "  </tbody>\n",
       "</table>\n",
       "</div>"
      ],
      "text/plain": [
       "        Decimal Octal                    Description     Key\n",
       "Code                                                        \n",
       "U+0000        0   001                 Null character     NUL\n",
       "U+0001        1   002               Start of Heading  Ctrl-A\n",
       "U+0002        2   003                  Start of Text  Ctrl-B\n",
       "U+0003        3   004          End-of-text character  Ctrl-C\n",
       "U+0004        4   004  End-of-transmission character  Ctrl-D\n",
       "U+0005        5   005              Enquiry character  Ctrl-E"
      ]
     },
     "execution_count": 28,
     "metadata": {},
     "output_type": "execute_result"
    }
   ],
   "source": [
    "df2['Description'] = [\n",
    "    'Null character',\n",
    "    'Start of Heading',\n",
    "    'Start of Text',\n",
    "    'End-of-text character',\n",
    "    'End-of-transmission character',\n",
    "    'Enquiry character'\n",
    "    ]\n",
    "\n",
    "df2"
   ]
  },
  {
   "cell_type": "markdown",
   "id": "abb361b6",
   "metadata": {},
   "source": [
    "Das Zuweisen einer nicht existierenden Spalte erzeugt eine neue Spalte."
   ]
  },
  {
   "cell_type": "markdown",
   "id": "607cdbd1",
   "metadata": {},
   "source": [
    "Mit [pandas.DataFrame.drop](https://pandas.pydata.org/docs/reference/api/pandas.DataFrame.drop.html) können Spalten  entfernt und mit `pandas.DataFrame.columns` angezeigt werden:"
   ]
  },
  {
   "cell_type": "code",
   "execution_count": 29,
   "id": "422360fb",
   "metadata": {},
   "outputs": [],
   "source": [
    "df3 = df2.drop(columns=['Decimal', 'Octal'])"
   ]
  },
  {
   "cell_type": "code",
   "execution_count": 30,
   "id": "44c74d91",
   "metadata": {},
   "outputs": [
    {
     "data": {
      "text/plain": [
       "Index(['Decimal', 'Octal', 'Description', 'Key'], dtype='object')"
      ]
     },
     "execution_count": 30,
     "metadata": {},
     "output_type": "execute_result"
    }
   ],
   "source": [
    "df2.columns"
   ]
  },
  {
   "cell_type": "code",
   "execution_count": 31,
   "id": "919c73d8",
   "metadata": {},
   "outputs": [
    {
     "data": {
      "text/plain": [
       "Index(['Description', 'Key'], dtype='object')"
      ]
     },
     "execution_count": 31,
     "metadata": {},
     "output_type": "execute_result"
    }
   ],
   "source": [
    "df3.columns"
   ]
  },
  {
   "cell_type": "markdown",
   "id": "c0cea626",
   "metadata": {},
   "source": [
    "Eine weitere gängige Form von Daten sind verschachtelte Dict von Dicts:"
   ]
  },
  {
   "cell_type": "code",
   "execution_count": 32,
   "id": "6eb90f38",
   "metadata": {},
   "outputs": [
    {
     "data": {
      "text/html": [
       "<div>\n",
       "<style scoped>\n",
       "    .dataframe tbody tr th:only-of-type {\n",
       "        vertical-align: middle;\n",
       "    }\n",
       "\n",
       "    .dataframe tbody tr th {\n",
       "        vertical-align: top;\n",
       "    }\n",
       "\n",
       "    .dataframe thead th {\n",
       "        text-align: right;\n",
       "    }\n",
       "</style>\n",
       "<table border=\"1\" class=\"dataframe\">\n",
       "  <thead>\n",
       "    <tr style=\"text-align: right;\">\n",
       "      <th></th>\n",
       "      <th>U+0006</th>\n",
       "      <th>U+0007</th>\n",
       "    </tr>\n",
       "  </thead>\n",
       "  <tbody>\n",
       "    <tr>\n",
       "      <th>Decimal</th>\n",
       "      <td>6</td>\n",
       "      <td>7</td>\n",
       "    </tr>\n",
       "    <tr>\n",
       "      <th>Octal</th>\n",
       "      <td>006</td>\n",
       "      <td>007</td>\n",
       "    </tr>\n",
       "    <tr>\n",
       "      <th>Description</th>\n",
       "      <td>Acknowledge character</td>\n",
       "      <td>Bell character</td>\n",
       "    </tr>\n",
       "    <tr>\n",
       "      <th>Key</th>\n",
       "      <td>Ctrl-F</td>\n",
       "      <td>Ctrl-G</td>\n",
       "    </tr>\n",
       "  </tbody>\n",
       "</table>\n",
       "</div>"
      ],
      "text/plain": [
       "                            U+0006          U+0007\n",
       "Decimal                          6               7\n",
       "Octal                          006             007\n",
       "Description  Acknowledge character  Bell character\n",
       "Key                         Ctrl-F          Ctrl-G"
      ]
     },
     "execution_count": 32,
     "metadata": {},
     "output_type": "execute_result"
    }
   ],
   "source": [
    "u = {\n",
    "    'U+0006': {'Decimal': '6', 'Octal': '006', 'Description': 'Acknowledge character', 'Key': 'Ctrl-F'},\n",
    "    'U+0007': {'Decimal': '7', 'Octal': '007', 'Description': 'Bell character', 'Key': 'Ctrl-G'},\n",
    "    }\n",
    "\n",
    "df4 = pd.DataFrame(u)\n",
    "\n",
    "df4"
   ]
  },
  {
   "cell_type": "markdown",
   "id": "cc7081cf",
   "metadata": {},
   "source": [
    "Ihr könnt den DataFrame transponieren, d.h. die Zeilen und Spalten vertauschen, mit einer ähnlichen Syntax wie bei einem NumPy-Array:"
   ]
  },
  {
   "cell_type": "code",
   "execution_count": 33,
   "id": "4c8afb37",
   "metadata": {},
   "outputs": [
    {
     "data": {
      "text/html": [
       "<div>\n",
       "<style scoped>\n",
       "    .dataframe tbody tr th:only-of-type {\n",
       "        vertical-align: middle;\n",
       "    }\n",
       "\n",
       "    .dataframe tbody tr th {\n",
       "        vertical-align: top;\n",
       "    }\n",
       "\n",
       "    .dataframe thead th {\n",
       "        text-align: right;\n",
       "    }\n",
       "</style>\n",
       "<table border=\"1\" class=\"dataframe\">\n",
       "  <thead>\n",
       "    <tr style=\"text-align: right;\">\n",
       "      <th></th>\n",
       "      <th>Decimal</th>\n",
       "      <th>Octal</th>\n",
       "      <th>Description</th>\n",
       "      <th>Key</th>\n",
       "    </tr>\n",
       "  </thead>\n",
       "  <tbody>\n",
       "    <tr>\n",
       "      <th>U+0006</th>\n",
       "      <td>6</td>\n",
       "      <td>006</td>\n",
       "      <td>Acknowledge character</td>\n",
       "      <td>Ctrl-F</td>\n",
       "    </tr>\n",
       "    <tr>\n",
       "      <th>U+0007</th>\n",
       "      <td>7</td>\n",
       "      <td>007</td>\n",
       "      <td>Bell character</td>\n",
       "      <td>Ctrl-G</td>\n",
       "    </tr>\n",
       "  </tbody>\n",
       "</table>\n",
       "</div>"
      ],
      "text/plain": [
       "       Decimal Octal            Description     Key\n",
       "U+0006       6   006  Acknowledge character  Ctrl-F\n",
       "U+0007       7   007         Bell character  Ctrl-G"
      ]
     },
     "execution_count": 33,
     "metadata": {},
     "output_type": "execute_result"
    }
   ],
   "source": [
    "df4.T"
   ]
  },
  {
   "cell_type": "markdown",
   "id": "9ea9ec7f",
   "metadata": {},
   "source": [
    "<div class=\"alert alert-block alert-warning\">\n",
    "\n",
    "**Warnung:**\n",
    "\n",
    "Beachtet, dass beim Transponieren die Datentypen der Spalten verworfen werden, wenn die Spalten nicht alle denselben Datentyp haben, so dass beim Transponieren und anschließenden Zurücktransponieren die vorherigen Typinformationen verloren gehen können. Die Spalten werden in diesem Fall zu Arrays aus reinen Python-Objekten.\n",
    "</div>"
   ]
  },
  {
   "cell_type": "markdown",
   "id": "3d4d7586",
   "metadata": {},
   "source": [
    "Die Schlüssel in den inneren Dicts werden kombiniert, um den Index im Ergebnis zu bilden. Dies ist nicht der Fall, wenn ein expliziter Index angegeben wird:"
   ]
  },
  {
   "cell_type": "code",
   "execution_count": 34,
   "id": "2b5d2cf1",
   "metadata": {},
   "outputs": [
    {
     "data": {
      "text/html": [
       "<div>\n",
       "<style scoped>\n",
       "    .dataframe tbody tr th:only-of-type {\n",
       "        vertical-align: middle;\n",
       "    }\n",
       "\n",
       "    .dataframe tbody tr th {\n",
       "        vertical-align: top;\n",
       "    }\n",
       "\n",
       "    .dataframe thead th {\n",
       "        text-align: right;\n",
       "    }\n",
       "</style>\n",
       "<table border=\"1\" class=\"dataframe\">\n",
       "  <thead>\n",
       "    <tr style=\"text-align: right;\">\n",
       "      <th></th>\n",
       "      <th>U+0006</th>\n",
       "      <th>U+0007</th>\n",
       "    </tr>\n",
       "  </thead>\n",
       "  <tbody>\n",
       "    <tr>\n",
       "      <th>Decimal</th>\n",
       "      <td>6</td>\n",
       "      <td>7</td>\n",
       "    </tr>\n",
       "    <tr>\n",
       "      <th>Octal</th>\n",
       "      <td>006</td>\n",
       "      <td>007</td>\n",
       "    </tr>\n",
       "    <tr>\n",
       "      <th>Key</th>\n",
       "      <td>Ctrl-F</td>\n",
       "      <td>Ctrl-G</td>\n",
       "    </tr>\n",
       "  </tbody>\n",
       "</table>\n",
       "</div>"
      ],
      "text/plain": [
       "         U+0006  U+0007\n",
       "Decimal       6       7\n",
       "Octal       006     007\n",
       "Key      Ctrl-F  Ctrl-G"
      ]
     },
     "execution_count": 34,
     "metadata": {},
     "output_type": "execute_result"
    }
   ],
   "source": [
    "df5 = pd.DataFrame(u, index=['Decimal', 'Octal', 'Key'])\n",
    "df5"
   ]
  }
 ],
 "metadata": {
  "kernelspec": {
   "display_name": "Python 3.8",
   "language": "python",
   "name": "python-38"
  },
  "language_info": {
   "codemirror_mode": {
    "name": "ipython",
    "version": 3
   },
   "file_extension": ".py",
   "mimetype": "text/x-python",
   "name": "python",
   "nbconvert_exporter": "python",
   "pygments_lexer": "ipython3",
   "version": "3.8.12"
  }
 },
 "nbformat": 4,
 "nbformat_minor": 5
}
